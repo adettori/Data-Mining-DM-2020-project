{
 "cells": [
  {
   "cell_type": "code",
   "execution_count": 1,
   "id": "261bfa5d",
   "metadata": {},
   "outputs": [],
   "source": [
    "import numpy as np\n",
    "import pandas as pd\n",
    "import matplotlib.pyplot as plt\n",
    "import seaborn as sn\n",
    "\n",
    "from fim import apriori as fim_apriori\n",
    "from gsp import apriori as gsp_apriori"
   ]
  },
  {
   "cell_type": "markdown",
   "id": "181f61fa",
   "metadata": {},
   "source": [
    "# Task 4: Frequent Pattern mining and Association Rule Mining"
   ]
  },
  {
   "cell_type": "code",
   "execution_count": 2,
   "id": "e33445a5",
   "metadata": {
    "scrolled": true
   },
   "outputs": [
    {
     "name": "stderr",
     "output_type": "stream",
     "text": [
      "/home/avenger/.local/lib/python3.9/site-packages/numpy/lib/arraysetops.py:583: FutureWarning: elementwise comparison failed; returning scalar instead, but in the future will perform elementwise comparison\n",
      "  mask |= (ar1 == a)\n"
     ]
    }
   ],
   "source": [
    "df_geo = pd.read_csv('../geography.csv', sep=',', index_col=0)\n",
    "df_ram = pd.read_csv('../ram.csv', sep=',', index_col=0)\n",
    "\n",
    "# Processed dataset split for VCS purposes\n",
    "df_sales_part1 = pd.read_csv('../DM_14_TASK1/task1-df_sales-part1.csv', sep=',', index_col=0) #The dataset doesn't have a column name. This causes the error.\n",
    "df_sales_part2 = pd.read_csv('../DM_14_TASK1/task1-df_sales-part2.csv', sep=',', index_col=0)\n",
    "df_sales = df_sales_part1.append(df_sales_part2)\n",
    "\n",
    "df_time = pd.read_csv('../time.csv', sep=',', index_col=0)\n",
    "df_vendor = pd.read_csv('../vendor.csv', sep=',', index_col=0)"
   ]
  },
  {
   "cell_type": "code",
   "execution_count": 3,
   "id": "f901cde0",
   "metadata": {},
   "outputs": [],
   "source": [
    "#Merge data into a single dataframe\n",
    "df_sales_merged = df_sales[[\"Id\", \"ram_code\"]].join(df_ram, on=\"ram_code\", rsuffix=\"_ram\")\n",
    "df_sales_merged[\"time_code\"] = df_sales[\"time_code\"]\n",
    "df_sales_merged = df_sales_merged.join(df_time.set_index(\"time_code\"), on=\"time_code\")\n",
    "df_sales_merged[\"geo_code\"] = df_sales[\"geo_code\"]\n",
    "df_sales_merged = df_sales_merged.join(df_geo.set_index(\"geo_code\"), on=\"geo_code\")\n",
    "df_sales_merged[\"vendor_code\"] = df_sales[\"vendor_code\"]\n",
    "df_sales_merged = df_sales_merged.join(df_vendor.set_index(\"vendor_code\"), on=\"vendor_code\", rsuffix=\"_vendor\")\n",
    "df_sales_merged = df_sales_merged.join(df_sales[[\"sales_uds\", \"sales_currency\"]])\n",
    "\n",
    "#Make the ram_code feature a string in order to use it with gsp\n",
    "df_sales_merged.loc[:, \"ram_code\"] = df_sales_merged.loc[:, \"ram_code\"].astype(int).apply(str)"
   ]
  },
  {
   "cell_type": "code",
   "execution_count": 4,
   "id": "1370e40f",
   "metadata": {
    "scrolled": false
   },
   "outputs": [
    {
     "data": {
      "text/html": [
       "<div>\n",
       "<style scoped>\n",
       "    .dataframe tbody tr th:only-of-type {\n",
       "        vertical-align: middle;\n",
       "    }\n",
       "\n",
       "    .dataframe tbody tr th {\n",
       "        vertical-align: top;\n",
       "    }\n",
       "\n",
       "    .dataframe thead th {\n",
       "        text-align: right;\n",
       "    }\n",
       "</style>\n",
       "<table border=\"1\" class=\"dataframe\">\n",
       "  <thead>\n",
       "    <tr style=\"text-align: right;\">\n",
       "      <th></th>\n",
       "      <th>Id</th>\n",
       "      <th>ram_code</th>\n",
       "      <th>brand</th>\n",
       "      <th>name</th>\n",
       "      <th>memory</th>\n",
       "      <th>memory_type</th>\n",
       "      <th>clock</th>\n",
       "      <th>time_code</th>\n",
       "      <th>year</th>\n",
       "      <th>month</th>\n",
       "      <th>...</th>\n",
       "      <th>week</th>\n",
       "      <th>geo_code</th>\n",
       "      <th>continent</th>\n",
       "      <th>country</th>\n",
       "      <th>region</th>\n",
       "      <th>currency</th>\n",
       "      <th>vendor_code</th>\n",
       "      <th>name_vendor</th>\n",
       "      <th>sales_uds</th>\n",
       "      <th>sales_currency</th>\n",
       "    </tr>\n",
       "  </thead>\n",
       "  <tbody>\n",
       "    <tr>\n",
       "      <th>2602347</th>\n",
       "      <td>3719</td>\n",
       "      <td>1</td>\n",
       "      <td>ADATA</td>\n",
       "      <td>Adata</td>\n",
       "      <td>0.5</td>\n",
       "      <td>DDR</td>\n",
       "      <td>400</td>\n",
       "      <td>20130322</td>\n",
       "      <td>2013</td>\n",
       "      <td>3</td>\n",
       "      <td>...</td>\n",
       "      <td>12</td>\n",
       "      <td>25</td>\n",
       "      <td>Europe</td>\n",
       "      <td>Germany</td>\n",
       "      <td>north rhine-westphalla</td>\n",
       "      <td>EUR</td>\n",
       "      <td>32</td>\n",
       "      <td>geizhals_unknown</td>\n",
       "      <td>13.749032</td>\n",
       "      <td>10.65</td>\n",
       "    </tr>\n",
       "    <tr>\n",
       "      <th>2602348</th>\n",
       "      <td>3719</td>\n",
       "      <td>1</td>\n",
       "      <td>ADATA</td>\n",
       "      <td>Adata</td>\n",
       "      <td>0.5</td>\n",
       "      <td>DDR</td>\n",
       "      <td>400</td>\n",
       "      <td>20130323</td>\n",
       "      <td>2013</td>\n",
       "      <td>3</td>\n",
       "      <td>...</td>\n",
       "      <td>12</td>\n",
       "      <td>18</td>\n",
       "      <td>Europe</td>\n",
       "      <td>Germany</td>\n",
       "      <td>berlin</td>\n",
       "      <td>EUR</td>\n",
       "      <td>32</td>\n",
       "      <td>geizhals_unknown</td>\n",
       "      <td>13.828708</td>\n",
       "      <td>10.65</td>\n",
       "    </tr>\n",
       "    <tr>\n",
       "      <th>2602349</th>\n",
       "      <td>3719</td>\n",
       "      <td>1</td>\n",
       "      <td>ADATA</td>\n",
       "      <td>Adata</td>\n",
       "      <td>0.5</td>\n",
       "      <td>DDR</td>\n",
       "      <td>400</td>\n",
       "      <td>20130326</td>\n",
       "      <td>2013</td>\n",
       "      <td>3</td>\n",
       "      <td>...</td>\n",
       "      <td>13</td>\n",
       "      <td>28</td>\n",
       "      <td>Europe</td>\n",
       "      <td>Germany</td>\n",
       "      <td>saxony</td>\n",
       "      <td>EUR</td>\n",
       "      <td>32</td>\n",
       "      <td>geizhals_unknown</td>\n",
       "      <td>13.694297</td>\n",
       "      <td>10.65</td>\n",
       "    </tr>\n",
       "    <tr>\n",
       "      <th>2602350</th>\n",
       "      <td>3719</td>\n",
       "      <td>1</td>\n",
       "      <td>ADATA</td>\n",
       "      <td>Adata</td>\n",
       "      <td>0.5</td>\n",
       "      <td>DDR</td>\n",
       "      <td>400</td>\n",
       "      <td>20130327</td>\n",
       "      <td>2013</td>\n",
       "      <td>3</td>\n",
       "      <td>...</td>\n",
       "      <td>13</td>\n",
       "      <td>25</td>\n",
       "      <td>Europe</td>\n",
       "      <td>Germany</td>\n",
       "      <td>north rhine-westphalla</td>\n",
       "      <td>EUR</td>\n",
       "      <td>32</td>\n",
       "      <td>geizhals_unknown</td>\n",
       "      <td>13.690530</td>\n",
       "      <td>10.65</td>\n",
       "    </tr>\n",
       "    <tr>\n",
       "      <th>2602351</th>\n",
       "      <td>3719</td>\n",
       "      <td>1</td>\n",
       "      <td>ADATA</td>\n",
       "      <td>Adata</td>\n",
       "      <td>0.5</td>\n",
       "      <td>DDR</td>\n",
       "      <td>400</td>\n",
       "      <td>20130328</td>\n",
       "      <td>2013</td>\n",
       "      <td>3</td>\n",
       "      <td>...</td>\n",
       "      <td>13</td>\n",
       "      <td>27</td>\n",
       "      <td>Europe</td>\n",
       "      <td>Germany</td>\n",
       "      <td>saarland</td>\n",
       "      <td>EUR</td>\n",
       "      <td>32</td>\n",
       "      <td>geizhals_unknown</td>\n",
       "      <td>13.605216</td>\n",
       "      <td>10.65</td>\n",
       "    </tr>\n",
       "  </tbody>\n",
       "</table>\n",
       "<p>5 rows × 21 columns</p>\n",
       "</div>"
      ],
      "text/plain": [
       "           Id ram_code  brand   name  memory memory_type  clock  time_code  \\\n",
       "2602347  3719        1  ADATA  Adata     0.5         DDR    400   20130322   \n",
       "2602348  3719        1  ADATA  Adata     0.5         DDR    400   20130323   \n",
       "2602349  3719        1  ADATA  Adata     0.5         DDR    400   20130326   \n",
       "2602350  3719        1  ADATA  Adata     0.5         DDR    400   20130327   \n",
       "2602351  3719        1  ADATA  Adata     0.5         DDR    400   20130328   \n",
       "\n",
       "         year  month  ...  week  geo_code  continent  country  \\\n",
       "2602347  2013      3  ...    12        25     Europe  Germany   \n",
       "2602348  2013      3  ...    12        18     Europe  Germany   \n",
       "2602349  2013      3  ...    13        28     Europe  Germany   \n",
       "2602350  2013      3  ...    13        25     Europe  Germany   \n",
       "2602351  2013      3  ...    13        27     Europe  Germany   \n",
       "\n",
       "                         region currency vendor_code       name_vendor  \\\n",
       "2602347  north rhine-westphalla      EUR          32  geizhals_unknown   \n",
       "2602348                  berlin      EUR          32  geizhals_unknown   \n",
       "2602349                  saxony      EUR          32  geizhals_unknown   \n",
       "2602350  north rhine-westphalla      EUR          32  geizhals_unknown   \n",
       "2602351                saarland      EUR          32  geizhals_unknown   \n",
       "\n",
       "         sales_uds  sales_currency  \n",
       "2602347  13.749032           10.65  \n",
       "2602348  13.828708           10.65  \n",
       "2602349  13.694297           10.65  \n",
       "2602350  13.690530           10.65  \n",
       "2602351  13.605216           10.65  \n",
       "\n",
       "[5 rows x 21 columns]"
      ]
     },
     "execution_count": 4,
     "metadata": {},
     "output_type": "execute_result"
    }
   ],
   "source": [
    "df_sales_merged.head()"
   ]
  },
  {
   "cell_type": "markdown",
   "id": "09d75c75",
   "metadata": {},
   "source": [
    "## Dataframe pre-processing  \n",
    "Here we are interested in making the sales dataframe more suitable for our analyses."
   ]
  },
  {
   "cell_type": "markdown",
   "id": "d205ff4c",
   "metadata": {},
   "source": [
    "### Feature removal"
   ]
  },
  {
   "cell_type": "code",
   "execution_count": 5,
   "id": "0bdbbce9",
   "metadata": {},
   "outputs": [
    {
     "data": {
      "text/html": [
       "<div>\n",
       "<style scoped>\n",
       "    .dataframe tbody tr th:only-of-type {\n",
       "        vertical-align: middle;\n",
       "    }\n",
       "\n",
       "    .dataframe tbody tr th {\n",
       "        vertical-align: top;\n",
       "    }\n",
       "\n",
       "    .dataframe thead th {\n",
       "        text-align: right;\n",
       "    }\n",
       "</style>\n",
       "<table border=\"1\" class=\"dataframe\">\n",
       "  <thead>\n",
       "    <tr style=\"text-align: right;\">\n",
       "      <th></th>\n",
       "      <th>ram_code</th>\n",
       "      <th>brand</th>\n",
       "      <th>name</th>\n",
       "      <th>memory</th>\n",
       "      <th>memory_type</th>\n",
       "      <th>clock</th>\n",
       "      <th>year</th>\n",
       "      <th>month</th>\n",
       "      <th>day</th>\n",
       "      <th>week</th>\n",
       "      <th>continent</th>\n",
       "      <th>country</th>\n",
       "      <th>region</th>\n",
       "      <th>currency</th>\n",
       "      <th>name_vendor</th>\n",
       "      <th>sales_uds</th>\n",
       "    </tr>\n",
       "  </thead>\n",
       "  <tbody>\n",
       "    <tr>\n",
       "      <th>2602347</th>\n",
       "      <td>1</td>\n",
       "      <td>ADATA</td>\n",
       "      <td>Adata</td>\n",
       "      <td>0.5</td>\n",
       "      <td>DDR</td>\n",
       "      <td>400</td>\n",
       "      <td>2013</td>\n",
       "      <td>3</td>\n",
       "      <td>22</td>\n",
       "      <td>12</td>\n",
       "      <td>Europe</td>\n",
       "      <td>Germany</td>\n",
       "      <td>north rhine-westphalla</td>\n",
       "      <td>EUR</td>\n",
       "      <td>geizhals_unknown</td>\n",
       "      <td>13.749032</td>\n",
       "    </tr>\n",
       "    <tr>\n",
       "      <th>2602348</th>\n",
       "      <td>1</td>\n",
       "      <td>ADATA</td>\n",
       "      <td>Adata</td>\n",
       "      <td>0.5</td>\n",
       "      <td>DDR</td>\n",
       "      <td>400</td>\n",
       "      <td>2013</td>\n",
       "      <td>3</td>\n",
       "      <td>23</td>\n",
       "      <td>12</td>\n",
       "      <td>Europe</td>\n",
       "      <td>Germany</td>\n",
       "      <td>berlin</td>\n",
       "      <td>EUR</td>\n",
       "      <td>geizhals_unknown</td>\n",
       "      <td>13.828708</td>\n",
       "    </tr>\n",
       "    <tr>\n",
       "      <th>2602349</th>\n",
       "      <td>1</td>\n",
       "      <td>ADATA</td>\n",
       "      <td>Adata</td>\n",
       "      <td>0.5</td>\n",
       "      <td>DDR</td>\n",
       "      <td>400</td>\n",
       "      <td>2013</td>\n",
       "      <td>3</td>\n",
       "      <td>26</td>\n",
       "      <td>13</td>\n",
       "      <td>Europe</td>\n",
       "      <td>Germany</td>\n",
       "      <td>saxony</td>\n",
       "      <td>EUR</td>\n",
       "      <td>geizhals_unknown</td>\n",
       "      <td>13.694297</td>\n",
       "    </tr>\n",
       "    <tr>\n",
       "      <th>2602350</th>\n",
       "      <td>1</td>\n",
       "      <td>ADATA</td>\n",
       "      <td>Adata</td>\n",
       "      <td>0.5</td>\n",
       "      <td>DDR</td>\n",
       "      <td>400</td>\n",
       "      <td>2013</td>\n",
       "      <td>3</td>\n",
       "      <td>27</td>\n",
       "      <td>13</td>\n",
       "      <td>Europe</td>\n",
       "      <td>Germany</td>\n",
       "      <td>north rhine-westphalla</td>\n",
       "      <td>EUR</td>\n",
       "      <td>geizhals_unknown</td>\n",
       "      <td>13.690530</td>\n",
       "    </tr>\n",
       "    <tr>\n",
       "      <th>2602351</th>\n",
       "      <td>1</td>\n",
       "      <td>ADATA</td>\n",
       "      <td>Adata</td>\n",
       "      <td>0.5</td>\n",
       "      <td>DDR</td>\n",
       "      <td>400</td>\n",
       "      <td>2013</td>\n",
       "      <td>3</td>\n",
       "      <td>28</td>\n",
       "      <td>13</td>\n",
       "      <td>Europe</td>\n",
       "      <td>Germany</td>\n",
       "      <td>saarland</td>\n",
       "      <td>EUR</td>\n",
       "      <td>geizhals_unknown</td>\n",
       "      <td>13.605216</td>\n",
       "    </tr>\n",
       "  </tbody>\n",
       "</table>\n",
       "</div>"
      ],
      "text/plain": [
       "        ram_code  brand   name  memory memory_type  clock  year  month  day  \\\n",
       "2602347        1  ADATA  Adata     0.5         DDR    400  2013      3   22   \n",
       "2602348        1  ADATA  Adata     0.5         DDR    400  2013      3   23   \n",
       "2602349        1  ADATA  Adata     0.5         DDR    400  2013      3   26   \n",
       "2602350        1  ADATA  Adata     0.5         DDR    400  2013      3   27   \n",
       "2602351        1  ADATA  Adata     0.5         DDR    400  2013      3   28   \n",
       "\n",
       "         week continent  country                  region currency  \\\n",
       "2602347    12    Europe  Germany  north rhine-westphalla      EUR   \n",
       "2602348    12    Europe  Germany                  berlin      EUR   \n",
       "2602349    13    Europe  Germany                  saxony      EUR   \n",
       "2602350    13    Europe  Germany  north rhine-westphalla      EUR   \n",
       "2602351    13    Europe  Germany                saarland      EUR   \n",
       "\n",
       "              name_vendor  sales_uds  \n",
       "2602347  geizhals_unknown  13.749032  \n",
       "2602348  geizhals_unknown  13.828708  \n",
       "2602349  geizhals_unknown  13.694297  \n",
       "2602350  geizhals_unknown  13.690530  \n",
       "2602351  geizhals_unknown  13.605216  "
      ]
     },
     "execution_count": 5,
     "metadata": {},
     "output_type": "execute_result"
    }
   ],
   "source": [
    "feat_to_drop = [\"Id\", \"time_code\", \"geo_code\", \"vendor_code\", \"sales_currency\"]\n",
    "\n",
    "df_sales_proc = df_sales_merged.drop(feat_to_drop, axis=1)\n",
    "df_sales_proc.head()"
   ]
  },
  {
   "cell_type": "markdown",
   "id": "c6735140",
   "metadata": {},
   "source": [
    "Here we removed some features that are either redundant or do not carry useful information for this task."
   ]
  },
  {
   "cell_type": "markdown",
   "id": "a7a93746",
   "metadata": {},
   "source": [
    "### Feature discretisation\n",
    "We are interested in discretising memory, clock and the sales value using equal-width binning."
   ]
  },
  {
   "cell_type": "markdown",
   "id": "3e53c163",
   "metadata": {},
   "source": [
    "#### Memory"
   ]
  },
  {
   "cell_type": "code",
   "execution_count": 6,
   "id": "c54e6ae5",
   "metadata": {},
   "outputs": [
    {
     "data": {
      "image/png": "[encoded data removed]",
      "text/plain": [
       "<Figure size 1080x360 with 1 Axes>"
      ]
     },
     "metadata": {
      "needs_background": "light"
     },
     "output_type": "display_data"
    }
   ],
   "source": [
    "plt.figure(figsize=(15,5))\n",
    "plt.title(\"Distribution of the memory feature\")\n",
    "df_sales_proc.groupby(\"memory\").size().plot(kind=\"bar\")\n",
    "plt.show()"
   ]
  },
  {
   "cell_type": "markdown",
   "id": "a9c74b4b",
   "metadata": {},
   "source": [
    "The distribution of memory has an almost symmetric distribution, we can use this to define different bins.  \n",
    "We will consider the ranges [0,4], [6,8], [12,16], [24,32] and [48,256].  \n",
    "\n",
    "This choice is in part due to the distribution above and in part based on our knowledge of sizes of ram found in the commercial products.  \n",
    "In low cost/power/old products usually the amount of ram doesn't exceed 4 GB, mid-range can go up to 8 GB and so on.  \n",
    "Regarding the last range it reflects the fact that amount of memory is usually used for servers/high-end workstations, therefore they belong to a class of their own."
   ]
  },
  {
   "cell_type": "code",
   "execution_count": 7,
   "id": "354f1f6f",
   "metadata": {},
   "outputs": [],
   "source": [
    "bins = pd.IntervalIndex.from_tuples([(0, 4), (6, 8), (12, 16), (24, 32), (48, 256)], closed=\"both\")\n",
    "\n",
    "df_sales_proc.loc[:, \"memory\"] = pd.cut(df_sales_proc['memory'].astype(int), bins, right=False)\n",
    "df_sales_proc.loc[:, \"memory\"] = df_sales_proc[\"memory\"].astype(str) + '_mem'"
   ]
  },
  {
   "cell_type": "markdown",
   "id": "9b314372",
   "metadata": {},
   "source": [
    "#### Clock"
   ]
  },
  {
   "cell_type": "code",
   "execution_count": 8,
   "id": "0e4db838",
   "metadata": {},
   "outputs": [
    {
     "data": {
      "image/png": "[encoded data removed]",
      "text/plain": [
       "<Figure size 1080x360 with 1 Axes>"
      ]
     },
     "metadata": {
      "needs_background": "light"
     },
     "output_type": "display_data"
    }
   ],
   "source": [
    "plt.figure(figsize=(15,5))\n",
    "plt.title(\"Distribution of clock\")\n",
    "df_sales_proc.groupby([\"clock\"]).size().plot(kind=\"bar\")\n",
    "plt.show()"
   ]
  },
  {
   "cell_type": "code",
   "execution_count": 9,
   "id": "bdfe467a",
   "metadata": {},
   "outputs": [],
   "source": [
    "bins = pd.IntervalIndex.from_tuples([(100, 1333), (1600, 1800), (1866, 2250), (2400, 3200), (3300, 4600)], closed=\"both\")\n",
    "\n",
    "df_sales_proc.loc[:, \"clock\"] = pd.cut(df_sales_proc['clock'].astype(int), bins, right=False)\n",
    "df_sales_proc.loc[:, \"clock\"] = df_sales_proc[\"clock\"].astype(str) + '_clock'"
   ]
  },
  {
   "cell_type": "code",
   "execution_count": 10,
   "id": "e3542d38",
   "metadata": {},
   "outputs": [
    {
     "data": {
      "image/png": "[encoded data removed]",
      "text/plain": [
       "<Figure size 1080x360 with 1 Axes>"
      ]
     },
     "metadata": {
      "needs_background": "light"
     },
     "output_type": "display_data"
    }
   ],
   "source": [
    "plt.figure(figsize=(15,5))\n",
    "plt.title(\"Distribution of (clock,memory_type)\")\n",
    "df_sales_proc.groupby([\"memory_type\", \"clock\"]).size().plot(kind=\"bar\")\n",
    "plt.show()"
   ]
  },
  {
   "cell_type": "markdown",
   "id": "5ecbe502",
   "metadata": {},
   "source": [
    "Again we defined interval roughly based on a equal-frequency binning approach and what can be considered a low-end/high-end product.  \n",
    "Note that this is only a rough approximation, for the purpouse of discretising we are ignoring the memory_type even though the distribution of the clock is not uniform across the DDR types."
   ]
  },
  {
   "cell_type": "markdown",
   "id": "30766b2e",
   "metadata": {},
   "source": [
    "#### Sales"
   ]
  },
  {
   "cell_type": "code",
   "execution_count": 11,
   "id": "e568d19b",
   "metadata": {},
   "outputs": [
    {
     "data": {
      "image/png": "[encoded data removed]",
      "text/plain": [
       "<Figure size 1440x360 with 1 Axes>"
      ]
     },
     "metadata": {
      "needs_background": "light"
     },
     "output_type": "display_data"
    }
   ],
   "source": [
    "bins = range(0, 1000, 10)\n",
    "\n",
    "plt.figure(figsize=(20,5))\n",
    "sn.histplot(df_sales_proc[\"sales_uds\"], bins=bins)\n",
    "plt.xticks(bins, rotation=90)\n",
    "plt.show()"
   ]
  },
  {
   "cell_type": "markdown",
   "id": "71158d66",
   "metadata": {},
   "source": [
    "In this case we will split the data based on the frequency of the entries using quantiles."
   ]
  },
  {
   "cell_type": "code",
   "execution_count": 12,
   "id": "da519fe8",
   "metadata": {},
   "outputs": [
    {
     "data": {
      "text/plain": [
       "[(0.999, 27.0], (27.0, 41.0], (41.0, 57.0], (57.0, 78.0], (78.0, 99.0], (99.0, 134.0], (134.0, 177.0], (177.0, 246.0], (246.0, 395.0], (395.0, 10630.0]]\n",
       "Categories (10, interval[float64]): [(0.999, 27.0] < (27.0, 41.0] < (41.0, 57.0] < (57.0, 78.0] ... (134.0, 177.0] < (177.0, 246.0] < (246.0, 395.0] < (395.0, 10630.0]]"
      ]
     },
     "execution_count": 12,
     "metadata": {},
     "output_type": "execute_result"
    }
   ],
   "source": [
    "pd.qcut(df_sales_proc[\"sales_uds\"].astype(int), 10).unique()"
   ]
  },
  {
   "cell_type": "code",
   "execution_count": 13,
   "id": "3f80e55f",
   "metadata": {},
   "outputs": [],
   "source": [
    "df_sales_proc.loc[:, \"sales_uds\"] = pd.qcut(df_sales_proc[\"sales_uds\"].astype(int), 10)\n",
    "\n",
    "df_sales_proc.loc[:, \"sales_uds\"] = df_sales_proc[\"sales_uds\"].astype(str) + '_sales_uds'"
   ]
  },
  {
   "cell_type": "markdown",
   "id": "45fac2ba",
   "metadata": {},
   "source": [
    "#### Results"
   ]
  },
  {
   "cell_type": "code",
   "execution_count": 14,
   "id": "b9f7858c",
   "metadata": {},
   "outputs": [
    {
     "data": {
      "text/html": [
       "<div>\n",
       "<style scoped>\n",
       "    .dataframe tbody tr th:only-of-type {\n",
       "        vertical-align: middle;\n",
       "    }\n",
       "\n",
       "    .dataframe tbody tr th {\n",
       "        vertical-align: top;\n",
       "    }\n",
       "\n",
       "    .dataframe thead th {\n",
       "        text-align: right;\n",
       "    }\n",
       "</style>\n",
       "<table border=\"1\" class=\"dataframe\">\n",
       "  <thead>\n",
       "    <tr style=\"text-align: right;\">\n",
       "      <th></th>\n",
       "      <th>ram_code</th>\n",
       "      <th>brand</th>\n",
       "      <th>name</th>\n",
       "      <th>memory</th>\n",
       "      <th>memory_type</th>\n",
       "      <th>clock</th>\n",
       "      <th>year</th>\n",
       "      <th>month</th>\n",
       "      <th>day</th>\n",
       "      <th>week</th>\n",
       "      <th>continent</th>\n",
       "      <th>country</th>\n",
       "      <th>region</th>\n",
       "      <th>currency</th>\n",
       "      <th>name_vendor</th>\n",
       "      <th>sales_uds</th>\n",
       "    </tr>\n",
       "  </thead>\n",
       "  <tbody>\n",
       "    <tr>\n",
       "      <th>2602347</th>\n",
       "      <td>1</td>\n",
       "      <td>ADATA</td>\n",
       "      <td>Adata</td>\n",
       "      <td>[0, 4]_mem</td>\n",
       "      <td>DDR</td>\n",
       "      <td>[100, 1333]_clock</td>\n",
       "      <td>2013</td>\n",
       "      <td>3</td>\n",
       "      <td>22</td>\n",
       "      <td>12</td>\n",
       "      <td>Europe</td>\n",
       "      <td>Germany</td>\n",
       "      <td>north rhine-westphalla</td>\n",
       "      <td>EUR</td>\n",
       "      <td>geizhals_unknown</td>\n",
       "      <td>(0.999, 27.0]_sales_uds</td>\n",
       "    </tr>\n",
       "    <tr>\n",
       "      <th>2602348</th>\n",
       "      <td>1</td>\n",
       "      <td>ADATA</td>\n",
       "      <td>Adata</td>\n",
       "      <td>[0, 4]_mem</td>\n",
       "      <td>DDR</td>\n",
       "      <td>[100, 1333]_clock</td>\n",
       "      <td>2013</td>\n",
       "      <td>3</td>\n",
       "      <td>23</td>\n",
       "      <td>12</td>\n",
       "      <td>Europe</td>\n",
       "      <td>Germany</td>\n",
       "      <td>berlin</td>\n",
       "      <td>EUR</td>\n",
       "      <td>geizhals_unknown</td>\n",
       "      <td>(0.999, 27.0]_sales_uds</td>\n",
       "    </tr>\n",
       "    <tr>\n",
       "      <th>2602349</th>\n",
       "      <td>1</td>\n",
       "      <td>ADATA</td>\n",
       "      <td>Adata</td>\n",
       "      <td>[0, 4]_mem</td>\n",
       "      <td>DDR</td>\n",
       "      <td>[100, 1333]_clock</td>\n",
       "      <td>2013</td>\n",
       "      <td>3</td>\n",
       "      <td>26</td>\n",
       "      <td>13</td>\n",
       "      <td>Europe</td>\n",
       "      <td>Germany</td>\n",
       "      <td>saxony</td>\n",
       "      <td>EUR</td>\n",
       "      <td>geizhals_unknown</td>\n",
       "      <td>(0.999, 27.0]_sales_uds</td>\n",
       "    </tr>\n",
       "    <tr>\n",
       "      <th>2602350</th>\n",
       "      <td>1</td>\n",
       "      <td>ADATA</td>\n",
       "      <td>Adata</td>\n",
       "      <td>[0, 4]_mem</td>\n",
       "      <td>DDR</td>\n",
       "      <td>[100, 1333]_clock</td>\n",
       "      <td>2013</td>\n",
       "      <td>3</td>\n",
       "      <td>27</td>\n",
       "      <td>13</td>\n",
       "      <td>Europe</td>\n",
       "      <td>Germany</td>\n",
       "      <td>north rhine-westphalla</td>\n",
       "      <td>EUR</td>\n",
       "      <td>geizhals_unknown</td>\n",
       "      <td>(0.999, 27.0]_sales_uds</td>\n",
       "    </tr>\n",
       "    <tr>\n",
       "      <th>2602351</th>\n",
       "      <td>1</td>\n",
       "      <td>ADATA</td>\n",
       "      <td>Adata</td>\n",
       "      <td>[0, 4]_mem</td>\n",
       "      <td>DDR</td>\n",
       "      <td>[100, 1333]_clock</td>\n",
       "      <td>2013</td>\n",
       "      <td>3</td>\n",
       "      <td>28</td>\n",
       "      <td>13</td>\n",
       "      <td>Europe</td>\n",
       "      <td>Germany</td>\n",
       "      <td>saarland</td>\n",
       "      <td>EUR</td>\n",
       "      <td>geizhals_unknown</td>\n",
       "      <td>(0.999, 27.0]_sales_uds</td>\n",
       "    </tr>\n",
       "  </tbody>\n",
       "</table>\n",
       "</div>"
      ],
      "text/plain": [
       "        ram_code  brand   name      memory memory_type              clock  \\\n",
       "2602347        1  ADATA  Adata  [0, 4]_mem         DDR  [100, 1333]_clock   \n",
       "2602348        1  ADATA  Adata  [0, 4]_mem         DDR  [100, 1333]_clock   \n",
       "2602349        1  ADATA  Adata  [0, 4]_mem         DDR  [100, 1333]_clock   \n",
       "2602350        1  ADATA  Adata  [0, 4]_mem         DDR  [100, 1333]_clock   \n",
       "2602351        1  ADATA  Adata  [0, 4]_mem         DDR  [100, 1333]_clock   \n",
       "\n",
       "         year  month  day  week continent  country                  region  \\\n",
       "2602347  2013      3   22    12    Europe  Germany  north rhine-westphalla   \n",
       "2602348  2013      3   23    12    Europe  Germany                  berlin   \n",
       "2602349  2013      3   26    13    Europe  Germany                  saxony   \n",
       "2602350  2013      3   27    13    Europe  Germany  north rhine-westphalla   \n",
       "2602351  2013      3   28    13    Europe  Germany                saarland   \n",
       "\n",
       "        currency       name_vendor                sales_uds  \n",
       "2602347      EUR  geizhals_unknown  (0.999, 27.0]_sales_uds  \n",
       "2602348      EUR  geizhals_unknown  (0.999, 27.0]_sales_uds  \n",
       "2602349      EUR  geizhals_unknown  (0.999, 27.0]_sales_uds  \n",
       "2602350      EUR  geizhals_unknown  (0.999, 27.0]_sales_uds  \n",
       "2602351      EUR  geizhals_unknown  (0.999, 27.0]_sales_uds  "
      ]
     },
     "execution_count": 14,
     "metadata": {},
     "output_type": "execute_result"
    }
   ],
   "source": [
    "df_sales_proc.head()"
   ]
  },
  {
   "cell_type": "markdown",
   "id": "2683bf1f",
   "metadata": {},
   "source": [
    "## Association rules"
   ]
  },
  {
   "cell_type": "markdown",
   "id": "78f1c4cb",
   "metadata": {},
   "source": [
    "### Vendor-level associations\n",
    "Due to memory constraints we are forced to apply a stratified (with respect to the vendor) random sampling to the sales dataset."
   ]
  },
  {
   "cell_type": "code",
   "execution_count": 15,
   "id": "de596178",
   "metadata": {},
   "outputs": [
    {
     "name": "stdout",
     "output_type": "stream",
     "text": [
      "Number of transactions sampled: 3341\n"
     ]
    },
    {
     "data": {
      "text/html": [
       "<div>\n",
       "<style scoped>\n",
       "    .dataframe tbody tr th:only-of-type {\n",
       "        vertical-align: middle;\n",
       "    }\n",
       "\n",
       "    .dataframe tbody tr th {\n",
       "        vertical-align: top;\n",
       "    }\n",
       "\n",
       "    .dataframe thead th {\n",
       "        text-align: right;\n",
       "    }\n",
       "</style>\n",
       "<table border=\"1\" class=\"dataframe\">\n",
       "  <thead>\n",
       "    <tr style=\"text-align: right;\">\n",
       "      <th></th>\n",
       "      <th>ram_code</th>\n",
       "      <th>brand</th>\n",
       "      <th>name</th>\n",
       "      <th>memory</th>\n",
       "      <th>memory_type</th>\n",
       "      <th>clock</th>\n",
       "      <th>year</th>\n",
       "      <th>month</th>\n",
       "      <th>day</th>\n",
       "      <th>week</th>\n",
       "      <th>continent</th>\n",
       "      <th>country</th>\n",
       "      <th>region</th>\n",
       "      <th>currency</th>\n",
       "      <th>name_vendor</th>\n",
       "      <th>sales_uds</th>\n",
       "    </tr>\n",
       "  </thead>\n",
       "  <tbody>\n",
       "    <tr>\n",
       "      <th>3528941</th>\n",
       "      <td>854</td>\n",
       "      <td>CRUCIAL</td>\n",
       "      <td>Crucial</td>\n",
       "      <td>[0, 4]_mem</td>\n",
       "      <td>DDR4</td>\n",
       "      <td>[1866, 2250]_clock</td>\n",
       "      <td>2017</td>\n",
       "      <td>10</td>\n",
       "      <td>22</td>\n",
       "      <td>43</td>\n",
       "      <td>Oceania</td>\n",
       "      <td>New Zeland</td>\n",
       "      <td>south island-southern</td>\n",
       "      <td>NZD</td>\n",
       "      <td>1stWave Technologies</td>\n",
       "      <td>(41.0, 57.0]_sales_uds</td>\n",
       "    </tr>\n",
       "    <tr>\n",
       "      <th>5089507</th>\n",
       "      <td>2201</td>\n",
       "      <td>KINGSTON</td>\n",
       "      <td>Kingston Hyperx Fury</td>\n",
       "      <td>[6, 8]_mem</td>\n",
       "      <td>DDR4</td>\n",
       "      <td>[2400, 3200]_clock</td>\n",
       "      <td>2017</td>\n",
       "      <td>8</td>\n",
       "      <td>5</td>\n",
       "      <td>32</td>\n",
       "      <td>Europe</td>\n",
       "      <td>Germany</td>\n",
       "      <td>mecklenburg-vorpommern</td>\n",
       "      <td>EUR</td>\n",
       "      <td>ARLT</td>\n",
       "      <td>(99.0, 134.0]_sales_uds</td>\n",
       "    </tr>\n",
       "    <tr>\n",
       "      <th>3538678</th>\n",
       "      <td>857</td>\n",
       "      <td>CRUCIAL</td>\n",
       "      <td>Crucial</td>\n",
       "      <td>[6, 8]_mem</td>\n",
       "      <td>DDR4</td>\n",
       "      <td>[1866, 2250]_clock</td>\n",
       "      <td>2017</td>\n",
       "      <td>10</td>\n",
       "      <td>4</td>\n",
       "      <td>41</td>\n",
       "      <td>America</td>\n",
       "      <td>United States of America</td>\n",
       "      <td>north-east usa</td>\n",
       "      <td>USD</td>\n",
       "      <td>Adorama</td>\n",
       "      <td>(99.0, 134.0]_sales_uds</td>\n",
       "    </tr>\n",
       "    <tr>\n",
       "      <th>3452453</th>\n",
       "      <td>804</td>\n",
       "      <td>CRUCIAL</td>\n",
       "      <td>Crucial</td>\n",
       "      <td>[6, 8]_mem</td>\n",
       "      <td>DDR3</td>\n",
       "      <td>[1600, 1800]_clock</td>\n",
       "      <td>2017</td>\n",
       "      <td>2</td>\n",
       "      <td>4</td>\n",
       "      <td>6</td>\n",
       "      <td>America</td>\n",
       "      <td>United States of America</td>\n",
       "      <td>north-east usa</td>\n",
       "      <td>USD</td>\n",
       "      <td>Adorama</td>\n",
       "      <td>(78.0, 99.0]_sales_uds</td>\n",
       "    </tr>\n",
       "    <tr>\n",
       "      <th>3556244</th>\n",
       "      <td>861</td>\n",
       "      <td>CRUCIAL</td>\n",
       "      <td>Crucial</td>\n",
       "      <td>[12, 16]_mem</td>\n",
       "      <td>DDR4</td>\n",
       "      <td>[2400, 3200]_clock</td>\n",
       "      <td>2017</td>\n",
       "      <td>10</td>\n",
       "      <td>10</td>\n",
       "      <td>42</td>\n",
       "      <td>America</td>\n",
       "      <td>United States of America</td>\n",
       "      <td>mid-atalntic</td>\n",
       "      <td>USD</td>\n",
       "      <td>Adorama</td>\n",
       "      <td>(134.0, 177.0]_sales_uds</td>\n",
       "    </tr>\n",
       "  </tbody>\n",
       "</table>\n",
       "</div>"
      ],
      "text/plain": [
       "        ram_code     brand                  name        memory memory_type  \\\n",
       "3528941      854   CRUCIAL               Crucial    [0, 4]_mem        DDR4   \n",
       "5089507     2201  KINGSTON  Kingston Hyperx Fury    [6, 8]_mem        DDR4   \n",
       "3538678      857   CRUCIAL               Crucial    [6, 8]_mem        DDR4   \n",
       "3452453      804   CRUCIAL               Crucial    [6, 8]_mem        DDR3   \n",
       "3556244      861   CRUCIAL               Crucial  [12, 16]_mem        DDR4   \n",
       "\n",
       "                      clock  year  month  day  week continent  \\\n",
       "3528941  [1866, 2250]_clock  2017     10   22    43   Oceania   \n",
       "5089507  [2400, 3200]_clock  2017      8    5    32    Europe   \n",
       "3538678  [1866, 2250]_clock  2017     10    4    41   America   \n",
       "3452453  [1600, 1800]_clock  2017      2    4     6   America   \n",
       "3556244  [2400, 3200]_clock  2017     10   10    42   America   \n",
       "\n",
       "                          country                  region currency  \\\n",
       "3528941                New Zeland   south island-southern      NZD   \n",
       "5089507                   Germany  mecklenburg-vorpommern      EUR   \n",
       "3538678  United States of America          north-east usa      USD   \n",
       "3452453  United States of America          north-east usa      USD   \n",
       "3556244  United States of America            mid-atalntic      USD   \n",
       "\n",
       "                  name_vendor                 sales_uds  \n",
       "3528941  1stWave Technologies    (41.0, 57.0]_sales_uds  \n",
       "5089507                  ARLT   (99.0, 134.0]_sales_uds  \n",
       "3538678               Adorama   (99.0, 134.0]_sales_uds  \n",
       "3452453               Adorama    (78.0, 99.0]_sales_uds  \n",
       "3556244               Adorama  (134.0, 177.0]_sales_uds  "
      ]
     },
     "execution_count": 15,
     "metadata": {},
     "output_type": "execute_result"
    }
   ],
   "source": [
    "df_assoc_sampled = df_sales_proc.groupby([\"name_vendor\"]).sample(frac=0.001, random_state=0)\n",
    "num_trans_assoc = df_assoc_sampled.shape[0]\n",
    "\n",
    "print(f\"Number of transactions sampled: {num_trans_assoc}\")\n",
    "df_assoc_sampled.head()"
   ]
  },
  {
   "cell_type": "code",
   "execution_count": 16,
   "id": "1552189d",
   "metadata": {},
   "outputs": [
    {
     "data": {
      "text/plain": [
       "name_vendor\n",
       "1stWave Technologies                                                [854]\n",
       "ARLT                                                               [2201]\n",
       "Adorama                                                   [857, 804, 861]\n",
       "Alternate                                               [1297, 1485, 440]\n",
       "Alza                    [679, 973, 2189, 3234, 2188, 2046, 857, 1601, ...\n",
       "Name: ram_code, dtype: object"
      ]
     },
     "execution_count": 16,
     "metadata": {},
     "output_type": "execute_result"
    }
   ],
   "source": [
    "trans_ram_code = df_assoc_sampled.groupby([\"name_vendor\"])[\"ram_code\"].apply(list)\n",
    "trans_ram_code.head()"
   ]
  },
  {
   "cell_type": "markdown",
   "id": "c4601832",
   "metadata": {},
   "source": [
    "We defined the transactions with respect to the vendor in order to find association rules that hold for multiple vendors.  "
   ]
  },
  {
   "cell_type": "code",
   "execution_count": 17,
   "id": "6b746339",
   "metadata": {},
   "outputs": [
    {
     "data": {
      "text/plain": [
       "65"
      ]
     },
     "execution_count": 17,
     "metadata": {},
     "output_type": "execute_result"
    }
   ],
   "source": [
    "baskets_ram = trans_ram_code.values\n",
    "num_bask_ram = baskets_ram.shape[0]\n",
    "num_bask_ram"
   ]
  },
  {
   "cell_type": "code",
   "execution_count": 18,
   "id": "66b10f5b",
   "metadata": {},
   "outputs": [
    {
     "name": "stdout",
     "output_type": "stream",
     "text": [
      "Number of rules: 5563\n"
     ]
    }
   ],
   "source": [
    "rules_ram = fim_apriori(baskets_ram, supp=5, zmin=2, target='r', conf=60, report='ascl')\n",
    "print('Number of rules:', len(rules_ram))"
   ]
  },
  {
   "cell_type": "code",
   "execution_count": 19,
   "id": "39c34a83",
   "metadata": {},
   "outputs": [],
   "source": [
    "report_cols = [\"Conseq.\", \"Prem.\", \"Support (abs)\", \"Support (frac)\", \"Confidence\", \"Lift\"]\n",
    "\n",
    "rules_ram_df = pd.DataFrame(rules_ram, columns=report_cols)"
   ]
  },
  {
   "cell_type": "code",
   "execution_count": 20,
   "id": "30a0503c",
   "metadata": {},
   "outputs": [
    {
     "data": {
      "text/html": [
       "<div>\n",
       "<style scoped>\n",
       "    .dataframe tbody tr th:only-of-type {\n",
       "        vertical-align: middle;\n",
       "    }\n",
       "\n",
       "    .dataframe tbody tr th {\n",
       "        vertical-align: top;\n",
       "    }\n",
       "\n",
       "    .dataframe thead th {\n",
       "        text-align: right;\n",
       "    }\n",
       "</style>\n",
       "<table border=\"1\" class=\"dataframe\">\n",
       "  <thead>\n",
       "    <tr style=\"text-align: right;\">\n",
       "      <th></th>\n",
       "      <th>Conseq.</th>\n",
       "      <th>Prem.</th>\n",
       "      <th>Support (abs)</th>\n",
       "      <th>Support (frac)</th>\n",
       "      <th>Confidence</th>\n",
       "      <th>Lift</th>\n",
       "    </tr>\n",
       "  </thead>\n",
       "  <tbody>\n",
       "    <tr>\n",
       "      <th>3373</th>\n",
       "      <td>1404</td>\n",
       "      <td>(1591,)</td>\n",
       "      <td>5</td>\n",
       "      <td>0.076923</td>\n",
       "      <td>0.833333</td>\n",
       "      <td>7.738095</td>\n",
       "    </tr>\n",
       "    <tr>\n",
       "      <th>3374</th>\n",
       "      <td>1591</td>\n",
       "      <td>(1404,)</td>\n",
       "      <td>5</td>\n",
       "      <td>0.076923</td>\n",
       "      <td>0.714286</td>\n",
       "      <td>7.738095</td>\n",
       "    </tr>\n",
       "    <tr>\n",
       "      <th>5553</th>\n",
       "      <td>1404</td>\n",
       "      <td>(955,)</td>\n",
       "      <td>5</td>\n",
       "      <td>0.076923</td>\n",
       "      <td>0.833333</td>\n",
       "      <td>7.738095</td>\n",
       "    </tr>\n",
       "    <tr>\n",
       "      <th>5554</th>\n",
       "      <td>955</td>\n",
       "      <td>(1404,)</td>\n",
       "      <td>5</td>\n",
       "      <td>0.076923</td>\n",
       "      <td>0.714286</td>\n",
       "      <td>7.738095</td>\n",
       "    </tr>\n",
       "    <tr>\n",
       "      <th>5561</th>\n",
       "      <td>1404</td>\n",
       "      <td>(698,)</td>\n",
       "      <td>5</td>\n",
       "      <td>0.076923</td>\n",
       "      <td>0.833333</td>\n",
       "      <td>7.738095</td>\n",
       "    </tr>\n",
       "    <tr>\n",
       "      <th>...</th>\n",
       "      <td>...</td>\n",
       "      <td>...</td>\n",
       "      <td>...</td>\n",
       "      <td>...</td>\n",
       "      <td>...</td>\n",
       "      <td>...</td>\n",
       "    </tr>\n",
       "    <tr>\n",
       "      <th>25</th>\n",
       "      <td>2186</td>\n",
       "      <td>(2055,)</td>\n",
       "      <td>3</td>\n",
       "      <td>0.046154</td>\n",
       "      <td>0.600000</td>\n",
       "      <td>3.900000</td>\n",
       "    </tr>\n",
       "    <tr>\n",
       "      <th>50</th>\n",
       "      <td>2186</td>\n",
       "      <td>(2315,)</td>\n",
       "      <td>3</td>\n",
       "      <td>0.046154</td>\n",
       "      <td>0.600000</td>\n",
       "      <td>3.900000</td>\n",
       "    </tr>\n",
       "    <tr>\n",
       "      <th>67</th>\n",
       "      <td>2186</td>\n",
       "      <td>(2037,)</td>\n",
       "      <td>3</td>\n",
       "      <td>0.046154</td>\n",
       "      <td>0.600000</td>\n",
       "      <td>3.900000</td>\n",
       "    </tr>\n",
       "    <tr>\n",
       "      <th>110</th>\n",
       "      <td>2186</td>\n",
       "      <td>(858,)</td>\n",
       "      <td>3</td>\n",
       "      <td>0.046154</td>\n",
       "      <td>0.600000</td>\n",
       "      <td>3.900000</td>\n",
       "    </tr>\n",
       "    <tr>\n",
       "      <th>114</th>\n",
       "      <td>2186</td>\n",
       "      <td>(860,)</td>\n",
       "      <td>3</td>\n",
       "      <td>0.046154</td>\n",
       "      <td>0.600000</td>\n",
       "      <td>3.900000</td>\n",
       "    </tr>\n",
       "  </tbody>\n",
       "</table>\n",
       "<p>5563 rows × 6 columns</p>\n",
       "</div>"
      ],
      "text/plain": [
       "     Conseq.    Prem.  Support (abs)  Support (frac)  Confidence      Lift\n",
       "3373    1404  (1591,)              5        0.076923    0.833333  7.738095\n",
       "3374    1591  (1404,)              5        0.076923    0.714286  7.738095\n",
       "5553    1404   (955,)              5        0.076923    0.833333  7.738095\n",
       "5554     955  (1404,)              5        0.076923    0.714286  7.738095\n",
       "5561    1404   (698,)              5        0.076923    0.833333  7.738095\n",
       "...      ...      ...            ...             ...         ...       ...\n",
       "25      2186  (2055,)              3        0.046154    0.600000  3.900000\n",
       "50      2186  (2315,)              3        0.046154    0.600000  3.900000\n",
       "67      2186  (2037,)              3        0.046154    0.600000  3.900000\n",
       "110     2186   (858,)              3        0.046154    0.600000  3.900000\n",
       "114     2186   (860,)              3        0.046154    0.600000  3.900000\n",
       "\n",
       "[5563 rows x 6 columns]"
      ]
     },
     "execution_count": 20,
     "metadata": {},
     "output_type": "execute_result"
    }
   ],
   "source": [
    "rules_ram_df.sort_values([\"Support (abs)\", \"Lift\"], ascending=False)"
   ]
  },
  {
   "cell_type": "markdown",
   "id": "98cfe48a",
   "metadata": {},
   "source": [
    "The support for these rules is very low, no rule goes above 7% support."
   ]
  },
  {
   "cell_type": "markdown",
   "id": "8f696e3e",
   "metadata": {},
   "source": [
    "#### Features\n",
    "In order to facilitate the analysis we will extract some features from both the premises and consequent."
   ]
  },
  {
   "cell_type": "code",
   "execution_count": 21,
   "id": "8e54fa1d",
   "metadata": {},
   "outputs": [],
   "source": [
    "def add_features_num(df):\n",
    "    \n",
    "    new_df = pd.DataFrame(index=df.index)\n",
    "    \n",
    "    for idx, row in df.iterrows():\n",
    "        \n",
    "        conseq_entry = df_ram.loc[int(row[\"Conseq.\"])]\n",
    "        \n",
    "        prem_list = [int(x) for x in row[\"Prem.\"]]\n",
    "        prem_df = df_ram.loc[prem_list]\n",
    "        \n",
    "        new_df.loc[idx, \"Conseq.\"] = row[\"Conseq.\"]\n",
    "        new_df.loc[idx, \"Num Prem.\"] = len(prem_list)\n",
    "        \n",
    "        new_df.loc[idx, \"C. mem\"] = int(conseq_entry[\"memory\"])\n",
    "        new_df.loc[idx, \"P. min mem\"] = int(prem_df[\"memory\"].min())\n",
    "        new_df.loc[idx, \"P. avg mem\"] = int(prem_df[\"memory\"].mean())\n",
    "        \n",
    "        new_df.loc[idx, \"C. brand\"] = conseq_entry[\"brand\"]\n",
    "        new_df.loc[idx, \"P. brand\"] = str(prem_df[\"brand\"].unique())\n",
    "        \n",
    "        new_df.loc[idx, \"C. mem type\"] = conseq_entry[\"memory_type\"]\n",
    "        new_df.loc[idx, \"P. mem type\"] = str(prem_df[\"memory_type\"].unique())\n",
    "        \n",
    "        new_df.loc[idx, \"C. clock\"] = int(conseq_entry[\"clock\"])\n",
    "        new_df.loc[idx, \"P. min clock\"] = int(prem_df[\"clock\"].min())\n",
    "        new_df.loc[idx, \"P. avg clock\"] = int(prem_df[\"clock\"].mean())\n",
    "    \n",
    "    new_df = new_df.join(df[[\"Support (abs)\", \"Confidence\", \"Lift\"]])\n",
    "    \n",
    "    return new_df\n",
    "\n",
    "ram_rules_feat = add_features_num(rules_ram_df)"
   ]
  },
  {
   "cell_type": "code",
   "execution_count": 22,
   "id": "20e7b9b7",
   "metadata": {},
   "outputs": [
    {
     "data": {
      "text/html": [
       "<div>\n",
       "<style scoped>\n",
       "    .dataframe tbody tr th:only-of-type {\n",
       "        vertical-align: middle;\n",
       "    }\n",
       "\n",
       "    .dataframe tbody tr th {\n",
       "        vertical-align: top;\n",
       "    }\n",
       "\n",
       "    .dataframe thead th {\n",
       "        text-align: right;\n",
       "    }\n",
       "</style>\n",
       "<table border=\"1\" class=\"dataframe\">\n",
       "  <thead>\n",
       "    <tr style=\"text-align: right;\">\n",
       "      <th></th>\n",
       "      <th>Conseq.</th>\n",
       "      <th>Num Prem.</th>\n",
       "      <th>C. mem</th>\n",
       "      <th>P. min mem</th>\n",
       "      <th>P. avg mem</th>\n",
       "      <th>C. brand</th>\n",
       "      <th>P. brand</th>\n",
       "      <th>C. mem type</th>\n",
       "      <th>P. mem type</th>\n",
       "      <th>C. clock</th>\n",
       "      <th>P. min clock</th>\n",
       "      <th>P. avg clock</th>\n",
       "      <th>Support (abs)</th>\n",
       "      <th>Confidence</th>\n",
       "      <th>Lift</th>\n",
       "    </tr>\n",
       "  </thead>\n",
       "  <tbody>\n",
       "    <tr>\n",
       "      <th>2410</th>\n",
       "      <td>510</td>\n",
       "      <td>3.0</td>\n",
       "      <td>16.0</td>\n",
       "      <td>16.0</td>\n",
       "      <td>37.0</td>\n",
       "      <td>CORSAIR</td>\n",
       "      <td>['G.SKILL' 'CORSAIR']</td>\n",
       "      <td>DDR4</td>\n",
       "      <td>['DDR4']</td>\n",
       "      <td>3200.0</td>\n",
       "      <td>3200.0</td>\n",
       "      <td>3200.0</td>\n",
       "      <td>4</td>\n",
       "      <td>1.0</td>\n",
       "      <td>16.25</td>\n",
       "    </tr>\n",
       "    <tr>\n",
       "      <th>2413</th>\n",
       "      <td>510</td>\n",
       "      <td>2.0</td>\n",
       "      <td>16.0</td>\n",
       "      <td>16.0</td>\n",
       "      <td>40.0</td>\n",
       "      <td>CORSAIR</td>\n",
       "      <td>['G.SKILL' 'CORSAIR']</td>\n",
       "      <td>DDR4</td>\n",
       "      <td>['DDR4']</td>\n",
       "      <td>3200.0</td>\n",
       "      <td>3200.0</td>\n",
       "      <td>3200.0</td>\n",
       "      <td>4</td>\n",
       "      <td>1.0</td>\n",
       "      <td>16.25</td>\n",
       "    </tr>\n",
       "    <tr>\n",
       "      <th>3093</th>\n",
       "      <td>1431</td>\n",
       "      <td>3.0</td>\n",
       "      <td>16.0</td>\n",
       "      <td>4.0</td>\n",
       "      <td>14.0</td>\n",
       "      <td>G.SKILL</td>\n",
       "      <td>['KINGSTON' 'CRUCIAL' 'G.SKILL']</td>\n",
       "      <td>DDR3</td>\n",
       "      <td>['DDR3' 'DDR4']</td>\n",
       "      <td>1866.0</td>\n",
       "      <td>1600.0</td>\n",
       "      <td>2133.0</td>\n",
       "      <td>4</td>\n",
       "      <td>1.0</td>\n",
       "      <td>16.25</td>\n",
       "    </tr>\n",
       "    <tr>\n",
       "      <th>3096</th>\n",
       "      <td>1431</td>\n",
       "      <td>2.0</td>\n",
       "      <td>16.0</td>\n",
       "      <td>4.0</td>\n",
       "      <td>6.0</td>\n",
       "      <td>G.SKILL</td>\n",
       "      <td>['KINGSTON' 'CRUCIAL']</td>\n",
       "      <td>DDR3</td>\n",
       "      <td>['DDR3']</td>\n",
       "      <td>1866.0</td>\n",
       "      <td>1600.0</td>\n",
       "      <td>1600.0</td>\n",
       "      <td>4</td>\n",
       "      <td>1.0</td>\n",
       "      <td>16.25</td>\n",
       "    </tr>\n",
       "    <tr>\n",
       "      <th>3103</th>\n",
       "      <td>1431</td>\n",
       "      <td>2.0</td>\n",
       "      <td>16.0</td>\n",
       "      <td>8.0</td>\n",
       "      <td>20.0</td>\n",
       "      <td>G.SKILL</td>\n",
       "      <td>['KINGSTON' 'G.SKILL']</td>\n",
       "      <td>DDR3</td>\n",
       "      <td>['DDR3' 'DDR4']</td>\n",
       "      <td>1866.0</td>\n",
       "      <td>1600.0</td>\n",
       "      <td>2400.0</td>\n",
       "      <td>4</td>\n",
       "      <td>1.0</td>\n",
       "      <td>16.25</td>\n",
       "    </tr>\n",
       "  </tbody>\n",
       "</table>\n",
       "</div>"
      ],
      "text/plain": [
       "     Conseq.  Num Prem.  C. mem  P. min mem  P. avg mem C. brand  \\\n",
       "2410     510        3.0    16.0        16.0        37.0  CORSAIR   \n",
       "2413     510        2.0    16.0        16.0        40.0  CORSAIR   \n",
       "3093    1431        3.0    16.0         4.0        14.0  G.SKILL   \n",
       "3096    1431        2.0    16.0         4.0         6.0  G.SKILL   \n",
       "3103    1431        2.0    16.0         8.0        20.0  G.SKILL   \n",
       "\n",
       "                              P. brand C. mem type      P. mem type  C. clock  \\\n",
       "2410             ['G.SKILL' 'CORSAIR']        DDR4         ['DDR4']    3200.0   \n",
       "2413             ['G.SKILL' 'CORSAIR']        DDR4         ['DDR4']    3200.0   \n",
       "3093  ['KINGSTON' 'CRUCIAL' 'G.SKILL']        DDR3  ['DDR3' 'DDR4']    1866.0   \n",
       "3096            ['KINGSTON' 'CRUCIAL']        DDR3         ['DDR3']    1866.0   \n",
       "3103            ['KINGSTON' 'G.SKILL']        DDR3  ['DDR3' 'DDR4']    1866.0   \n",
       "\n",
       "      P. min clock  P. avg clock  Support (abs)  Confidence   Lift  \n",
       "2410        3200.0        3200.0              4         1.0  16.25  \n",
       "2413        3200.0        3200.0              4         1.0  16.25  \n",
       "3093        1600.0        2133.0              4         1.0  16.25  \n",
       "3096        1600.0        1600.0              4         1.0  16.25  \n",
       "3103        1600.0        2400.0              4         1.0  16.25  "
      ]
     },
     "execution_count": 22,
     "metadata": {},
     "output_type": "execute_result"
    }
   ],
   "source": [
    "ram_rules_feat.sort_values([\"Lift\", \"Support (abs)\"], ascending=False).head()"
   ]
  },
  {
   "cell_type": "code",
   "execution_count": 23,
   "id": "1514f1b6",
   "metadata": {},
   "outputs": [
    {
     "data": {
      "image/png": "[encoded data removed]",
      "text/plain": [
       "<Figure size 720x648 with 2 Axes>"
      ]
     },
     "metadata": {
      "needs_background": "light"
     },
     "output_type": "display_data"
    }
   ],
   "source": [
    "plt.figure(figsize=(10,9))\n",
    "corr_df = ram_rules_feat.sort_values([\"Lift\", \"Support (abs)\"]).drop([\"Support (abs)\", \"Confidence\", \"Lift\"], axis=1).head(50)\n",
    "sn.heatmap(corr_df.corr(), annot=True)\n",
    "plt.show()"
   ]
  },
  {
   "cell_type": "markdown",
   "id": "a6a6a1e5",
   "metadata": {},
   "source": [
    "No correlation, this level of analysis doesn't seem fruitful."
   ]
  },
  {
   "cell_type": "markdown",
   "id": "0575e147",
   "metadata": {},
   "source": [
    "#### Conclusions\n",
    "There are no apparent relationships between the consequent and the premises of the ram modules sold.  "
   ]
  },
  {
   "cell_type": "markdown",
   "id": "eefdd8ce",
   "metadata": {},
   "source": [
    "### Dataframe-level associations\n",
    "Here we apply to the whole dataframe taking each row as its own transaction."
   ]
  },
  {
   "cell_type": "code",
   "execution_count": 24,
   "id": "495d82c8",
   "metadata": {},
   "outputs": [],
   "source": [
    "report_cols = [\"Conseq.\", \"Prem.\", \"Support (abs)\", \"Support (frac)\", \"Confidence\", \"Lift\"]"
   ]
  },
  {
   "cell_type": "code",
   "execution_count": 25,
   "id": "649e8746",
   "metadata": {},
   "outputs": [],
   "source": [
    "def filter_rules(rule_df, filter_func_list):\n",
    "    \n",
    "    for idx, row in rule_df.iterrows():\n",
    "        \n",
    "        prems = row.loc[\"Prem.\"]\n",
    "        conseqs = row.loc[\"Conseq.\"]\n",
    "        \n",
    "        for filter_func in filter_func_list:\n",
    "            if filter_func(prems, conseqs):\n",
    "                \n",
    "                rule_df = rule_df.drop(row.name)\n",
    "                break #Already deleted, no need for further filtering\n",
    "    \n",
    "    return rule_df\n",
    "                \n",
    "                \n",
    "def filter_country_continent_curr(prems, conseq):\n",
    "    #Filters all associations between currency, country and continent\n",
    "    \n",
    "    curr_vals = df_geo[\"currency\"].unique()\n",
    "    country_vals = df_geo[\"country\"].unique()\n",
    "    contin_vals = df_geo[\"continent\"].unique()\n",
    "    \n",
    "    for prem in prems:\n",
    "        if prem in curr_vals:\n",
    "            \n",
    "            if conseq in country_vals or conseq in contin_vals:\n",
    "                return True\n",
    "            \n",
    "        if prem in country_vals or prem in contin_vals:\n",
    "            \n",
    "            if conseq in curr_vals:\n",
    "                return True\n",
    "            \n",
    "            if conseq in country_vals or conseq in contin_vals:\n",
    "                return True\n",
    "                    \n",
    "    return False\n",
    "\n",
    "\n",
    "def filter_brand_ram_name(prems, conseq):\n",
    "    #Filter associations between brand and brand's product name\n",
    "    \n",
    "    brand_vals = df_ram[\"brand\"].unique()\n",
    "    name_vals = df_ram[\"name\"].unique()\n",
    "    \n",
    "    for prem in prems:\n",
    "        if prem in brand_vals and conseq in name_vals:\n",
    "            return True\n",
    "        if prem in name_vals and conseq in brand_vals:\n",
    "            return True\n",
    "        \n",
    "    return False            "
   ]
  },
  {
   "cell_type": "markdown",
   "id": "57b3f5b1",
   "metadata": {},
   "source": [
    "A significant percentage of the rules discovered are \"obvious\" associations, such as \"the transactions in country x use the currency of that country\".  \n",
    "In order to filter them out we create some ad-hoc filter rules."
   ]
  },
  {
   "cell_type": "code",
   "execution_count": 26,
   "id": "6e5197db",
   "metadata": {},
   "outputs": [
    {
     "name": "stdout",
     "output_type": "stream",
     "text": [
      "Number of rules: 25\n"
     ]
    }
   ],
   "source": [
    "filters = [filter_country_continent_curr, filter_brand_ram_name]\n",
    "\n",
    "baskets_whole_df = df_sales_proc.drop([\"year\", \"month\", \"week\", \"day\"], axis=1) #Remove time-related features\n",
    "baskets_whole = baskets_whole_df.values.tolist()\n",
    "\n",
    "#Keep only entries with Lift >=2\n",
    "rules_whole = fim_apriori(baskets_whole, supp=5, zmin=2, target='r', conf=60, report='ascl', eval=\"l\", thresh=200, prune=1)\n",
    "\n",
    "rules_whole_df = pd.DataFrame(rules_whole, columns=report_cols).sort_values([\"Lift\", \"Support (abs)\"], ascending=False)\n",
    "rules_whole_df_filtered = filter_rules(rules_whole_df, filters)\n",
    "\n",
    "print('Number of rules:', rules_whole_df_filtered.shape[0])"
   ]
  },
  {
   "cell_type": "markdown",
   "id": "d48b3338",
   "metadata": {},
   "source": [
    "In order to sift through the rules more easily we used the pruning functionality of the apriori implementation."
   ]
  },
  {
   "cell_type": "code",
   "execution_count": 27,
   "id": "e2d233d4",
   "metadata": {},
   "outputs": [
    {
     "data": {
      "image/png": "[encoded data removed]",
      "text/plain": [
       "<Figure size 432x288 with 1 Axes>"
      ]
     },
     "metadata": {
      "needs_background": "light"
     },
     "output_type": "display_data"
    }
   ],
   "source": [
    "rules_whole_df_filtered.groupby(\"Conseq.\").size().plot(kind=\"bar\")\n",
    "plt.show()"
   ]
  },
  {
   "cell_type": "markdown",
   "id": "c9ad0704",
   "metadata": {},
   "source": [
    "We will take a brief look at each consequent in order to see if there is any new information to be had."
   ]
  },
  {
   "cell_type": "code",
   "execution_count": 28,
   "id": "75a23817",
   "metadata": {},
   "outputs": [
    {
     "data": {
      "text/html": [
       "<div>\n",
       "<style scoped>\n",
       "    .dataframe tbody tr th:only-of-type {\n",
       "        vertical-align: middle;\n",
       "    }\n",
       "\n",
       "    .dataframe tbody tr th {\n",
       "        vertical-align: top;\n",
       "    }\n",
       "\n",
       "    .dataframe thead th {\n",
       "        text-align: right;\n",
       "    }\n",
       "</style>\n",
       "<table border=\"1\" class=\"dataframe\">\n",
       "  <thead>\n",
       "    <tr style=\"text-align: right;\">\n",
       "      <th></th>\n",
       "      <th>Conseq.</th>\n",
       "      <th>Prem.</th>\n",
       "      <th>Support (abs)</th>\n",
       "      <th>Support (frac)</th>\n",
       "      <th>Confidence</th>\n",
       "      <th>Lift</th>\n",
       "    </tr>\n",
       "  </thead>\n",
       "  <tbody>\n",
       "    <tr>\n",
       "      <th>12</th>\n",
       "      <td>(395.0, 10630.0]_sales_uds</td>\n",
       "      <td>([48, 256]_mem,)</td>\n",
       "      <td>194924</td>\n",
       "      <td>0.058313</td>\n",
       "      <td>0.883769</td>\n",
       "      <td>8.864869</td>\n",
       "    </tr>\n",
       "  </tbody>\n",
       "</table>\n",
       "</div>"
      ],
      "text/plain": [
       "                       Conseq.             Prem.  Support (abs)  \\\n",
       "12  (395.0, 10630.0]_sales_uds  ([48, 256]_mem,)         194924   \n",
       "\n",
       "    Support (frac)  Confidence      Lift  \n",
       "12        0.058313    0.883769  8.864869  "
      ]
     },
     "execution_count": 28,
     "metadata": {},
     "output_type": "execute_result"
    }
   ],
   "source": [
    "rules_whole_df_filtered.loc[rules_whole_df_filtered[\"Conseq.\"] == '(395.0, 10630.0]_sales_uds'].head()"
   ]
  },
  {
   "cell_type": "markdown",
   "id": "e291ef43",
   "metadata": {},
   "source": [
    "Intuitively the ram modules that have a lot of memory cost a lot."
   ]
  },
  {
   "cell_type": "code",
   "execution_count": 29,
   "id": "b9ec4cfc",
   "metadata": {},
   "outputs": [
    {
     "data": {
      "text/html": [
       "<div>\n",
       "<style scoped>\n",
       "    .dataframe tbody tr th:only-of-type {\n",
       "        vertical-align: middle;\n",
       "    }\n",
       "\n",
       "    .dataframe tbody tr th {\n",
       "        vertical-align: top;\n",
       "    }\n",
       "\n",
       "    .dataframe thead th {\n",
       "        text-align: right;\n",
       "    }\n",
       "</style>\n",
       "<table border=\"1\" class=\"dataframe\">\n",
       "  <thead>\n",
       "    <tr style=\"text-align: right;\">\n",
       "      <th></th>\n",
       "      <th>Conseq.</th>\n",
       "      <th>Prem.</th>\n",
       "      <th>Support (abs)</th>\n",
       "      <th>Support (frac)</th>\n",
       "      <th>Confidence</th>\n",
       "      <th>Lift</th>\n",
       "    </tr>\n",
       "  </thead>\n",
       "  <tbody>\n",
       "    <tr>\n",
       "      <th>0</th>\n",
       "      <td>DDR4</td>\n",
       "      <td>([3300, 4600]_clock,)</td>\n",
       "      <td>167989</td>\n",
       "      <td>0.050255</td>\n",
       "      <td>1.000000</td>\n",
       "      <td>2.836010</td>\n",
       "    </tr>\n",
       "    <tr>\n",
       "      <th>35</th>\n",
       "      <td>DDR4</td>\n",
       "      <td>([2400, 3200]_clock,)</td>\n",
       "      <td>739904</td>\n",
       "      <td>0.221349</td>\n",
       "      <td>0.837388</td>\n",
       "      <td>2.374840</td>\n",
       "    </tr>\n",
       "    <tr>\n",
       "      <th>10</th>\n",
       "      <td>DDR4</td>\n",
       "      <td>([48, 256]_mem, (395.0, 10630.0]_sales_uds)</td>\n",
       "      <td>145080</td>\n",
       "      <td>0.043402</td>\n",
       "      <td>0.744290</td>\n",
       "      <td>2.110814</td>\n",
       "    </tr>\n",
       "    <tr>\n",
       "      <th>13</th>\n",
       "      <td>DDR4</td>\n",
       "      <td>([48, 256]_mem,)</td>\n",
       "      <td>159804</td>\n",
       "      <td>0.047807</td>\n",
       "      <td>0.724538</td>\n",
       "      <td>2.054796</td>\n",
       "    </tr>\n",
       "    <tr>\n",
       "      <th>22</th>\n",
       "      <td>DDR4</td>\n",
       "      <td>((395.0, 10630.0]_sales_uds,)</td>\n",
       "      <td>238866</td>\n",
       "      <td>0.071459</td>\n",
       "      <td>0.716788</td>\n",
       "      <td>2.032818</td>\n",
       "    </tr>\n",
       "  </tbody>\n",
       "</table>\n",
       "</div>"
      ],
      "text/plain": [
       "   Conseq.                                        Prem.  Support (abs)  \\\n",
       "0     DDR4                        ([3300, 4600]_clock,)         167989   \n",
       "35    DDR4                        ([2400, 3200]_clock,)         739904   \n",
       "10    DDR4  ([48, 256]_mem, (395.0, 10630.0]_sales_uds)         145080   \n",
       "13    DDR4                             ([48, 256]_mem,)         159804   \n",
       "22    DDR4                ((395.0, 10630.0]_sales_uds,)         238866   \n",
       "\n",
       "    Support (frac)  Confidence      Lift  \n",
       "0         0.050255    1.000000  2.836010  \n",
       "35        0.221349    0.837388  2.374840  \n",
       "10        0.043402    0.744290  2.110814  \n",
       "13        0.047807    0.724538  2.054796  \n",
       "22        0.071459    0.716788  2.032818  "
      ]
     },
     "execution_count": 29,
     "metadata": {},
     "output_type": "execute_result"
    }
   ],
   "source": [
    "rules_whole_df_filtered.loc[rules_whole_df_filtered[\"Conseq.\"] == 'DDR4'].head(10)"
   ]
  },
  {
   "cell_type": "markdown",
   "id": "47099998",
   "metadata": {},
   "source": [
    "Here the rules roughly point out which are the clock rates, price and memory size associated with DDR4."
   ]
  },
  {
   "cell_type": "code",
   "execution_count": 30,
   "id": "c2c2b143",
   "metadata": {},
   "outputs": [
    {
     "data": {
      "text/html": [
       "<div>\n",
       "<style scoped>\n",
       "    .dataframe tbody tr th:only-of-type {\n",
       "        vertical-align: middle;\n",
       "    }\n",
       "\n",
       "    .dataframe tbody tr th {\n",
       "        vertical-align: top;\n",
       "    }\n",
       "\n",
       "    .dataframe thead th {\n",
       "        text-align: right;\n",
       "    }\n",
       "</style>\n",
       "<table border=\"1\" class=\"dataframe\">\n",
       "  <thead>\n",
       "    <tr style=\"text-align: right;\">\n",
       "      <th></th>\n",
       "      <th>Conseq.</th>\n",
       "      <th>Prem.</th>\n",
       "      <th>Support (abs)</th>\n",
       "      <th>Support (frac)</th>\n",
       "      <th>Confidence</th>\n",
       "      <th>Lift</th>\n",
       "    </tr>\n",
       "  </thead>\n",
       "  <tbody>\n",
       "    <tr>\n",
       "      <th>17</th>\n",
       "      <td>United Kingdom</td>\n",
       "      <td>(pricespy_unknown,)</td>\n",
       "      <td>289464</td>\n",
       "      <td>0.086596</td>\n",
       "      <td>0.908576</td>\n",
       "      <td>5.940088</td>\n",
       "    </tr>\n",
       "    <tr>\n",
       "      <th>18</th>\n",
       "      <td>GBP</td>\n",
       "      <td>(pricespy_unknown,)</td>\n",
       "      <td>289464</td>\n",
       "      <td>0.086596</td>\n",
       "      <td>0.908576</td>\n",
       "      <td>5.940088</td>\n",
       "    </tr>\n",
       "  </tbody>\n",
       "</table>\n",
       "</div>"
      ],
      "text/plain": [
       "           Conseq.                Prem.  Support (abs)  Support (frac)  \\\n",
       "17  United Kingdom  (pricespy_unknown,)         289464        0.086596   \n",
       "18             GBP  (pricespy_unknown,)         289464        0.086596   \n",
       "\n",
       "    Confidence      Lift  \n",
       "17    0.908576  5.940088  \n",
       "18    0.908576  5.940088  "
      ]
     },
     "execution_count": 30,
     "metadata": {},
     "output_type": "execute_result"
    }
   ],
   "source": [
    "rules_whole_df_filtered.loc[rules_whole_df_filtered[\"Conseq.\"].isin(['United Kingdom', 'GBP'])].head(10)"
   ]
  },
  {
   "cell_type": "markdown",
   "id": "334463b8",
   "metadata": {},
   "source": [
    "As we pointed out in task 1, pricespy_unknown is a UK-based price search engine so no surprises here."
   ]
  },
  {
   "cell_type": "code",
   "execution_count": 31,
   "id": "c429b249",
   "metadata": {},
   "outputs": [
    {
     "data": {
      "text/html": [
       "<div>\n",
       "<style scoped>\n",
       "    .dataframe tbody tr th:only-of-type {\n",
       "        vertical-align: middle;\n",
       "    }\n",
       "\n",
       "    .dataframe tbody tr th {\n",
       "        vertical-align: top;\n",
       "    }\n",
       "\n",
       "    .dataframe thead th {\n",
       "        text-align: right;\n",
       "    }\n",
       "</style>\n",
       "<table border=\"1\" class=\"dataframe\">\n",
       "  <thead>\n",
       "    <tr style=\"text-align: right;\">\n",
       "      <th></th>\n",
       "      <th>Conseq.</th>\n",
       "      <th>Prem.</th>\n",
       "      <th>Support (abs)</th>\n",
       "      <th>Support (frac)</th>\n",
       "      <th>Confidence</th>\n",
       "      <th>Lift</th>\n",
       "    </tr>\n",
       "  </thead>\n",
       "  <tbody>\n",
       "    <tr>\n",
       "      <th>11</th>\n",
       "      <td>[48, 256]_mem</td>\n",
       "      <td>((395.0, 10630.0]_sales_uds, DDR4)</td>\n",
       "      <td>145080</td>\n",
       "      <td>0.043402</td>\n",
       "      <td>0.607370</td>\n",
       "      <td>9.205001</td>\n",
       "    </tr>\n",
       "    <tr>\n",
       "      <th>23</th>\n",
       "      <td>[24, 32]_mem</td>\n",
       "      <td>((246.0, 395.0]_sales_uds,)</td>\n",
       "      <td>212409</td>\n",
       "      <td>0.063544</td>\n",
       "      <td>0.635930</td>\n",
       "      <td>4.545196</td>\n",
       "    </tr>\n",
       "    <tr>\n",
       "      <th>24</th>\n",
       "      <td>[0, 4]_mem</td>\n",
       "      <td>((0.999, 27.0]_sales_uds, [100, 1333]_clock)</td>\n",
       "      <td>265411</td>\n",
       "      <td>0.079400</td>\n",
       "      <td>0.997463</td>\n",
       "      <td>3.420766</td>\n",
       "    </tr>\n",
       "    <tr>\n",
       "      <th>27</th>\n",
       "      <td>[0, 4]_mem</td>\n",
       "      <td>((0.999, 27.0]_sales_uds,)</td>\n",
       "      <td>340528</td>\n",
       "      <td>0.101872</td>\n",
       "      <td>0.996264</td>\n",
       "      <td>3.416653</td>\n",
       "    </tr>\n",
       "    <tr>\n",
       "      <th>29</th>\n",
       "      <td>[0, 4]_mem</td>\n",
       "      <td>(DDR2, [100, 1333]_clock)</td>\n",
       "      <td>313826</td>\n",
       "      <td>0.093884</td>\n",
       "      <td>0.889179</td>\n",
       "      <td>3.049409</td>\n",
       "    </tr>\n",
       "    <tr>\n",
       "      <th>32</th>\n",
       "      <td>[0, 4]_mem</td>\n",
       "      <td>(DDR2,)</td>\n",
       "      <td>313826</td>\n",
       "      <td>0.093884</td>\n",
       "      <td>0.889179</td>\n",
       "      <td>3.049409</td>\n",
       "    </tr>\n",
       "    <tr>\n",
       "      <th>20</th>\n",
       "      <td>[0, 4]_mem</td>\n",
       "      <td>((27.0, 41.0]_sales_uds,)</td>\n",
       "      <td>287597</td>\n",
       "      <td>0.086037</td>\n",
       "      <td>0.864496</td>\n",
       "      <td>2.964758</td>\n",
       "    </tr>\n",
       "    <tr>\n",
       "      <th>21</th>\n",
       "      <td>[12, 16]_mem</td>\n",
       "      <td>((134.0, 177.0]_sales_uds,)</td>\n",
       "      <td>240845</td>\n",
       "      <td>0.072051</td>\n",
       "      <td>0.723595</td>\n",
       "      <td>2.876512</td>\n",
       "    </tr>\n",
       "    <tr>\n",
       "      <th>28</th>\n",
       "      <td>[6, 8]_mem</td>\n",
       "      <td>((57.0, 78.0]_sales_uds,)</td>\n",
       "      <td>225192</td>\n",
       "      <td>0.067368</td>\n",
       "      <td>0.648568</td>\n",
       "      <td>2.584337</td>\n",
       "    </tr>\n",
       "    <tr>\n",
       "      <th>19</th>\n",
       "      <td>[6, 8]_mem</td>\n",
       "      <td>((78.0, 99.0]_sales_uds,)</td>\n",
       "      <td>204856</td>\n",
       "      <td>0.061285</td>\n",
       "      <td>0.628549</td>\n",
       "      <td>2.504566</td>\n",
       "    </tr>\n",
       "    <tr>\n",
       "      <th>37</th>\n",
       "      <td>[0, 4]_mem</td>\n",
       "      <td>([100, 1333]_clock,)</td>\n",
       "      <td>640626</td>\n",
       "      <td>0.191649</td>\n",
       "      <td>0.672841</td>\n",
       "      <td>2.307485</td>\n",
       "    </tr>\n",
       "  </tbody>\n",
       "</table>\n",
       "</div>"
      ],
      "text/plain": [
       "          Conseq.                                         Prem.  \\\n",
       "11  [48, 256]_mem            ((395.0, 10630.0]_sales_uds, DDR4)   \n",
       "23   [24, 32]_mem                   ((246.0, 395.0]_sales_uds,)   \n",
       "24     [0, 4]_mem  ((0.999, 27.0]_sales_uds, [100, 1333]_clock)   \n",
       "27     [0, 4]_mem                    ((0.999, 27.0]_sales_uds,)   \n",
       "29     [0, 4]_mem                     (DDR2, [100, 1333]_clock)   \n",
       "32     [0, 4]_mem                                       (DDR2,)   \n",
       "20     [0, 4]_mem                     ((27.0, 41.0]_sales_uds,)   \n",
       "21   [12, 16]_mem                   ((134.0, 177.0]_sales_uds,)   \n",
       "28     [6, 8]_mem                     ((57.0, 78.0]_sales_uds,)   \n",
       "19     [6, 8]_mem                     ((78.0, 99.0]_sales_uds,)   \n",
       "37     [0, 4]_mem                          ([100, 1333]_clock,)   \n",
       "\n",
       "    Support (abs)  Support (frac)  Confidence      Lift  \n",
       "11         145080        0.043402    0.607370  9.205001  \n",
       "23         212409        0.063544    0.635930  4.545196  \n",
       "24         265411        0.079400    0.997463  3.420766  \n",
       "27         340528        0.101872    0.996264  3.416653  \n",
       "29         313826        0.093884    0.889179  3.049409  \n",
       "32         313826        0.093884    0.889179  3.049409  \n",
       "20         287597        0.086037    0.864496  2.964758  \n",
       "21         240845        0.072051    0.723595  2.876512  \n",
       "28         225192        0.067368    0.648568  2.584337  \n",
       "19         204856        0.061285    0.628549  2.504566  \n",
       "37         640626        0.191649    0.672841  2.307485  "
      ]
     },
     "execution_count": 31,
     "metadata": {},
     "output_type": "execute_result"
    }
   ],
   "source": [
    "rules_whole_df_filtered.loc[rules_whole_df_filtered[\"Conseq.\"]\\\n",
    "                            .isin(['[0, 4]_mem', '[6, 8]_mem', '[12, 16]_mem', '[24, 32]_mem', '[48, 256]_mem'])].head(20)"
   ]
  },
  {
   "cell_type": "markdown",
   "id": "609c27a2",
   "metadata": {},
   "source": [
    "Here we can see the association rules between the memory size and the price/clock/memory type.  \n",
    "These rules allow us (with good confidence) to estimate the amount of ram in module given its price.  \n",
    "It also points out that DDR2 sales consist mostly of small memory modules."
   ]
  },
  {
   "cell_type": "code",
   "execution_count": 32,
   "id": "531524d1",
   "metadata": {},
   "outputs": [
    {
     "data": {
      "text/html": [
       "<div>\n",
       "<style scoped>\n",
       "    .dataframe tbody tr th:only-of-type {\n",
       "        vertical-align: middle;\n",
       "    }\n",
       "\n",
       "    .dataframe tbody tr th {\n",
       "        vertical-align: top;\n",
       "    }\n",
       "\n",
       "    .dataframe thead th {\n",
       "        text-align: right;\n",
       "    }\n",
       "</style>\n",
       "<table border=\"1\" class=\"dataframe\">\n",
       "  <thead>\n",
       "    <tr style=\"text-align: right;\">\n",
       "      <th></th>\n",
       "      <th>Conseq.</th>\n",
       "      <th>Prem.</th>\n",
       "      <th>Support (abs)</th>\n",
       "      <th>Support (frac)</th>\n",
       "      <th>Confidence</th>\n",
       "      <th>Lift</th>\n",
       "    </tr>\n",
       "  </thead>\n",
       "  <tbody>\n",
       "    <tr>\n",
       "      <th>31</th>\n",
       "      <td>[100, 1333]_clock</td>\n",
       "      <td>(DDR2,)</td>\n",
       "      <td>352939</td>\n",
       "      <td>0.105585</td>\n",
       "      <td>1.000000</td>\n",
       "      <td>3.510793</td>\n",
       "    </tr>\n",
       "    <tr>\n",
       "      <th>30</th>\n",
       "      <td>[100, 1333]_clock</td>\n",
       "      <td>(DDR2, [0, 4]_mem)</td>\n",
       "      <td>313826</td>\n",
       "      <td>0.093884</td>\n",
       "      <td>1.000000</td>\n",
       "      <td>3.510793</td>\n",
       "    </tr>\n",
       "    <tr>\n",
       "      <th>25</th>\n",
       "      <td>[100, 1333]_clock</td>\n",
       "      <td>((0.999, 27.0]_sales_uds, [0, 4]_mem)</td>\n",
       "      <td>265411</td>\n",
       "      <td>0.079400</td>\n",
       "      <td>0.779410</td>\n",
       "      <td>2.736348</td>\n",
       "    </tr>\n",
       "    <tr>\n",
       "      <th>26</th>\n",
       "      <td>[100, 1333]_clock</td>\n",
       "      <td>((0.999, 27.0]_sales_uds,)</td>\n",
       "      <td>266086</td>\n",
       "      <td>0.079602</td>\n",
       "      <td>0.778473</td>\n",
       "      <td>2.733058</td>\n",
       "    </tr>\n",
       "    <tr>\n",
       "      <th>36</th>\n",
       "      <td>[2400, 3200]_clock</td>\n",
       "      <td>(DDR4,)</td>\n",
       "      <td>739904</td>\n",
       "      <td>0.221349</td>\n",
       "      <td>0.627749</td>\n",
       "      <td>2.374840</td>\n",
       "    </tr>\n",
       "    <tr>\n",
       "      <th>38</th>\n",
       "      <td>[100, 1333]_clock</td>\n",
       "      <td>([0, 4]_mem,)</td>\n",
       "      <td>640626</td>\n",
       "      <td>0.191649</td>\n",
       "      <td>0.657255</td>\n",
       "      <td>2.307485</td>\n",
       "    </tr>\n",
       "  </tbody>\n",
       "</table>\n",
       "</div>"
      ],
      "text/plain": [
       "               Conseq.                                  Prem.  Support (abs)  \\\n",
       "31   [100, 1333]_clock                                (DDR2,)         352939   \n",
       "30   [100, 1333]_clock                     (DDR2, [0, 4]_mem)         313826   \n",
       "25   [100, 1333]_clock  ((0.999, 27.0]_sales_uds, [0, 4]_mem)         265411   \n",
       "26   [100, 1333]_clock             ((0.999, 27.0]_sales_uds,)         266086   \n",
       "36  [2400, 3200]_clock                                (DDR4,)         739904   \n",
       "38   [100, 1333]_clock                          ([0, 4]_mem,)         640626   \n",
       "\n",
       "    Support (frac)  Confidence      Lift  \n",
       "31        0.105585    1.000000  3.510793  \n",
       "30        0.093884    1.000000  3.510793  \n",
       "25        0.079400    0.779410  2.736348  \n",
       "26        0.079602    0.778473  2.733058  \n",
       "36        0.221349    0.627749  2.374840  \n",
       "38        0.191649    0.657255  2.307485  "
      ]
     },
     "execution_count": 32,
     "metadata": {},
     "output_type": "execute_result"
    }
   ],
   "source": [
    "rules_whole_df_filtered.loc[rules_whole_df_filtered[\"Conseq.\"].isin(['[100, 1333]_clock', '[2400, 3200]_clock'])].head(10)"
   ]
  },
  {
   "cell_type": "markdown",
   "id": "103d0e25",
   "metadata": {},
   "source": [
    "These are the associations between the clock and the other features.  \n",
    "We can see that, as we pointed out in the pre-processing step, the lowest clock range is very strongly associated with low-end ram (low memory/cost)."
   ]
  },
  {
   "cell_type": "markdown",
   "id": "d8836372",
   "metadata": {},
   "source": [
    "## Frequent sequences\n",
    "Here we will try to find interesting information regarding the ram sales mining frequent sequences from a database built using time/location features and containing the sales as elements."
   ]
  },
  {
   "cell_type": "markdown",
   "id": "a66321ef",
   "metadata": {},
   "source": [
    "### Time-based baskets"
   ]
  },
  {
   "cell_type": "markdown",
   "id": "95671959",
   "metadata": {},
   "source": [
    "#### Week"
   ]
  },
  {
   "cell_type": "code",
   "execution_count": 40,
   "id": "11520e95",
   "metadata": {},
   "outputs": [
    {
     "name": "stdout",
     "output_type": "stream",
     "text": [
      "Entries sampled: 6685\n"
     ]
    }
   ],
   "source": [
    "baskets_sampled_week = df_sales_proc.reset_index().sample(frac=0.002, random_state=0)\n",
    "print(f\"Entries sampled: {baskets_sampled_week.shape[0]}\")"
   ]
  },
  {
   "cell_type": "code",
   "execution_count": 41,
   "id": "33c569d8",
   "metadata": {},
   "outputs": [
    {
     "data": {
      "text/plain": [
       "year  week\n",
       "2013  12                                               [[2432]]\n",
       "      13       [[1683], [2618], [2982], [2434], [1568], [2483]]\n",
       "      14       [[2778], [2131], [1644], [1486], [1470], [2772]]\n",
       "      15      [[780], [1678], [2383], [2809], [1491], [2414]...\n",
       "      16      [[1907], [1532], [425], [1936], [1537], [2773]...\n",
       "                                    ...                        \n",
       "2018  11      [[1836], [2299], [711], [1223], [975], [772], ...\n",
       "      12      [[2236], [2285], [2446], [509], [2217], [1153]...\n",
       "      13      [[694], [618], [843], [3581], [1340], [2045], ...\n",
       "      14      [[2527], [2033], [441], [95], [1058], [797], [...\n",
       "      15      [[2443], [859], [1390], [1404], [2276], [3613]...\n",
       "Name: ram_code, Length: 269, dtype: object"
      ]
     },
     "execution_count": 41,
     "metadata": {},
     "output_type": "execute_result"
    }
   ],
   "source": [
    "baskets_week = baskets_sampled_week.groupby([\"year\", \"week\"])[\"ram_code\"].apply(lambda x: [[y] for y in x])\n",
    "\"\"\"chosen_feat = [\"ram_code\", \"brand\", \"country\", \"memory\", \"memory_type\", \"clock\", \"continent\", \"country\", \\\n",
    "               \"region\", \"currency\", \"name_vendor\", \"sales_uds\"]\n",
    "\n",
    "for i in range(baskets_week.shape[0]):\n",
    "    row = baskets_week.iloc[i]\n",
    "    \n",
    "    for j in range(len(row)):\n",
    "        baskets_week.iloc[i][j] = df_sales_proc.loc[df_sales_proc.index==row[j], \"ram_code\"].values\n",
    "\"\"\"\n",
    "baskets_week"
   ]
  },
  {
   "cell_type": "code",
   "execution_count": 162,
   "id": "30ab2fd9",
   "metadata": {},
   "outputs": [],
   "source": [
    "format_baskets = []\n",
    "for row in baskets_week.values:\n",
    "    format_baskets.append(row)\n",
    "\n",
    "ap_result = gsp_apriori(format_baskets, baskets_week.shape[0]*5//100, verbose=False)"
   ]
  },
  {
   "cell_type": "markdown",
   "id": "86c922de",
   "metadata": {},
   "source": [
    "For computational reasons we limited the search for support >= 5%."
   ]
  },
  {
   "cell_type": "code",
   "execution_count": 177,
   "id": "7a4cbae4",
   "metadata": {},
   "outputs": [
    {
     "data": {
      "text/html": [
       "<div>\n",
       "<style scoped>\n",
       "    .dataframe tbody tr th:only-of-type {\n",
       "        vertical-align: middle;\n",
       "    }\n",
       "\n",
       "    .dataframe tbody tr th {\n",
       "        vertical-align: top;\n",
       "    }\n",
       "\n",
       "    .dataframe thead th {\n",
       "        text-align: right;\n",
       "    }\n",
       "</style>\n",
       "<table border=\"1\" class=\"dataframe\">\n",
       "  <thead>\n",
       "    <tr style=\"text-align: right;\">\n",
       "      <th></th>\n",
       "      <th>Seq.</th>\n",
       "      <th>Supp. (abs)</th>\n",
       "      <th>Supp. (frac)</th>\n",
       "      <th>Seq. len</th>\n",
       "    </tr>\n",
       "  </thead>\n",
       "  <tbody>\n",
       "    <tr>\n",
       "      <th>2</th>\n",
       "      <td>[[2185]]</td>\n",
       "      <td>20</td>\n",
       "      <td>0.074349</td>\n",
       "      <td>1</td>\n",
       "    </tr>\n",
       "    <tr>\n",
       "      <th>15</th>\n",
       "      <td>[[656]]</td>\n",
       "      <td>19</td>\n",
       "      <td>0.070632</td>\n",
       "      <td>1</td>\n",
       "    </tr>\n",
       "    <tr>\n",
       "      <th>20</th>\n",
       "      <td>[[804]]</td>\n",
       "      <td>18</td>\n",
       "      <td>0.066914</td>\n",
       "      <td>1</td>\n",
       "    </tr>\n",
       "    <tr>\n",
       "      <th>22</th>\n",
       "      <td>[[977]]</td>\n",
       "      <td>18</td>\n",
       "      <td>0.066914</td>\n",
       "      <td>1</td>\n",
       "    </tr>\n",
       "    <tr>\n",
       "      <th>4</th>\n",
       "      <td>[[2188]]</td>\n",
       "      <td>17</td>\n",
       "      <td>0.063197</td>\n",
       "      <td>1</td>\n",
       "    </tr>\n",
       "    <tr>\n",
       "      <th>5</th>\n",
       "      <td>[[2189]]</td>\n",
       "      <td>17</td>\n",
       "      <td>0.063197</td>\n",
       "      <td>1</td>\n",
       "    </tr>\n",
       "    <tr>\n",
       "      <th>14</th>\n",
       "      <td>[[655]]</td>\n",
       "      <td>17</td>\n",
       "      <td>0.063197</td>\n",
       "      <td>1</td>\n",
       "    </tr>\n",
       "    <tr>\n",
       "      <th>3</th>\n",
       "      <td>[[2186]]</td>\n",
       "      <td>16</td>\n",
       "      <td>0.059480</td>\n",
       "      <td>1</td>\n",
       "    </tr>\n",
       "    <tr>\n",
       "      <th>9</th>\n",
       "      <td>[[2440]]</td>\n",
       "      <td>16</td>\n",
       "      <td>0.059480</td>\n",
       "      <td>1</td>\n",
       "    </tr>\n",
       "    <tr>\n",
       "      <th>17</th>\n",
       "      <td>[[659]]</td>\n",
       "      <td>16</td>\n",
       "      <td>0.059480</td>\n",
       "      <td>1</td>\n",
       "    </tr>\n",
       "    <tr>\n",
       "      <th>21</th>\n",
       "      <td>[[975]]</td>\n",
       "      <td>16</td>\n",
       "      <td>0.059480</td>\n",
       "      <td>1</td>\n",
       "    </tr>\n",
       "    <tr>\n",
       "      <th>11</th>\n",
       "      <td>[[2445]]</td>\n",
       "      <td>15</td>\n",
       "      <td>0.055762</td>\n",
       "      <td>1</td>\n",
       "    </tr>\n",
       "    <tr>\n",
       "      <th>16</th>\n",
       "      <td>[[657]]</td>\n",
       "      <td>15</td>\n",
       "      <td>0.055762</td>\n",
       "      <td>1</td>\n",
       "    </tr>\n",
       "    <tr>\n",
       "      <th>6</th>\n",
       "      <td>[[2277]]</td>\n",
       "      <td>14</td>\n",
       "      <td>0.052045</td>\n",
       "      <td>1</td>\n",
       "    </tr>\n",
       "    <tr>\n",
       "      <th>8</th>\n",
       "      <td>[[2298]]</td>\n",
       "      <td>14</td>\n",
       "      <td>0.052045</td>\n",
       "      <td>1</td>\n",
       "    </tr>\n",
       "    <tr>\n",
       "      <th>18</th>\n",
       "      <td>[[660]]</td>\n",
       "      <td>14</td>\n",
       "      <td>0.052045</td>\n",
       "      <td>1</td>\n",
       "    </tr>\n",
       "    <tr>\n",
       "      <th>0</th>\n",
       "      <td>[[1404]]</td>\n",
       "      <td>13</td>\n",
       "      <td>0.048327</td>\n",
       "      <td>1</td>\n",
       "    </tr>\n",
       "    <tr>\n",
       "      <th>1</th>\n",
       "      <td>[[1591]]</td>\n",
       "      <td>13</td>\n",
       "      <td>0.048327</td>\n",
       "      <td>1</td>\n",
       "    </tr>\n",
       "    <tr>\n",
       "      <th>7</th>\n",
       "      <td>[[2294]]</td>\n",
       "      <td>13</td>\n",
       "      <td>0.048327</td>\n",
       "      <td>1</td>\n",
       "    </tr>\n",
       "    <tr>\n",
       "      <th>10</th>\n",
       "      <td>[[2442]]</td>\n",
       "      <td>13</td>\n",
       "      <td>0.048327</td>\n",
       "      <td>1</td>\n",
       "    </tr>\n",
       "    <tr>\n",
       "      <th>12</th>\n",
       "      <td>[[602]]</td>\n",
       "      <td>13</td>\n",
       "      <td>0.048327</td>\n",
       "      <td>1</td>\n",
       "    </tr>\n",
       "    <tr>\n",
       "      <th>13</th>\n",
       "      <td>[[642]]</td>\n",
       "      <td>13</td>\n",
       "      <td>0.048327</td>\n",
       "      <td>1</td>\n",
       "    </tr>\n",
       "    <tr>\n",
       "      <th>19</th>\n",
       "      <td>[[749]]</td>\n",
       "      <td>13</td>\n",
       "      <td>0.048327</td>\n",
       "      <td>1</td>\n",
       "    </tr>\n",
       "  </tbody>\n",
       "</table>\n",
       "</div>"
      ],
      "text/plain": [
       "        Seq.  Supp. (abs)  Supp. (frac)  Seq. len\n",
       "2   [[2185]]           20      0.074349         1\n",
       "15   [[656]]           19      0.070632         1\n",
       "20   [[804]]           18      0.066914         1\n",
       "22   [[977]]           18      0.066914         1\n",
       "4   [[2188]]           17      0.063197         1\n",
       "5   [[2189]]           17      0.063197         1\n",
       "14   [[655]]           17      0.063197         1\n",
       "3   [[2186]]           16      0.059480         1\n",
       "9   [[2440]]           16      0.059480         1\n",
       "17   [[659]]           16      0.059480         1\n",
       "21   [[975]]           16      0.059480         1\n",
       "11  [[2445]]           15      0.055762         1\n",
       "16   [[657]]           15      0.055762         1\n",
       "6   [[2277]]           14      0.052045         1\n",
       "8   [[2298]]           14      0.052045         1\n",
       "18   [[660]]           14      0.052045         1\n",
       "0   [[1404]]           13      0.048327         1\n",
       "1   [[1591]]           13      0.048327         1\n",
       "7   [[2294]]           13      0.048327         1\n",
       "10  [[2442]]           13      0.048327         1\n",
       "12   [[602]]           13      0.048327         1\n",
       "13   [[642]]           13      0.048327         1\n",
       "19   [[749]]           13      0.048327         1"
      ]
     },
     "execution_count": 177,
     "metadata": {},
     "output_type": "execute_result"
    }
   ],
   "source": [
    "result_week_df = pd.DataFrame(ap_result, columns=[\"Seq.\", \"Supp. (abs)\"])\n",
    "\n",
    "result_week_df[\"Supp. (frac)\"] = result_week_df[\"Supp. (abs)\"]/baskets_week.shape[0]\n",
    "result_week_df[\"Seq. len\"] = result_week_df[\"Seq.\"].apply(lambda x: len(x[0]))\n",
    "\n",
    "result_week_df.sort_values([\"Supp. (abs)\", \"Seq. len\"], ascending=False)"
   ]
  },
  {
   "cell_type": "markdown",
   "id": "ec2a91aa",
   "metadata": {},
   "source": [
    "We only found sequences of length one, meaning that this can be reduced to a contest of \"popularity\" of ram in the market on a week by week basis."
   ]
  },
  {
   "cell_type": "code",
   "execution_count": 218,
   "id": "9f309f3f",
   "metadata": {},
   "outputs": [
    {
     "data": {
      "text/plain": [
       "count      23.000000\n",
       "mean     6219.347826\n",
       "std      1728.462496\n",
       "min      2733.000000\n",
       "25%      5018.000000\n",
       "50%      6734.000000\n",
       "75%      7827.000000\n",
       "max      8664.000000\n",
       "dtype: float64"
      ]
     },
     "execution_count": 218,
     "metadata": {},
     "output_type": "execute_result"
    }
   ],
   "source": [
    "list_idx = []\n",
    "\n",
    "for idx, row in result_week_df.iterrows():\n",
    "    list_idx.append((row[\"Seq.\"][0][0]))\n",
    "    \n",
    "\n",
    "df_sales_proc.loc[df_sales_proc[\"ram_code\"].isin(list_idx)].groupby(\"ram_code\").size().describe()"
   ]
  },
  {
   "cell_type": "code",
   "execution_count": 219,
   "id": "1a8b209c",
   "metadata": {},
   "outputs": [
    {
     "data": {
      "text/plain": [
       "count    3111.000000\n",
       "mean     1074.477660\n",
       "std      1226.876352\n",
       "min         1.000000\n",
       "25%       104.000000\n",
       "50%       620.000000\n",
       "75%      1814.000000\n",
       "max      8664.000000\n",
       "dtype: float64"
      ]
     },
     "execution_count": 219,
     "metadata": {},
     "output_type": "execute_result"
    }
   ],
   "source": [
    "df_sales_proc.groupby(\"ram_code\").size().describe()"
   ]
  },
  {
   "cell_type": "markdown",
   "id": "a1eea4c8",
   "metadata": {},
   "source": [
    "We can see that the number of sales for the least sold ram module in the sequences is greater than the 75% quantile value of all the other modules not included."
   ]
  },
  {
   "cell_type": "markdown",
   "id": "346a287c",
   "metadata": {},
   "source": [
    "#### Month"
   ]
  },
  {
   "cell_type": "code",
   "execution_count": 61,
   "id": "641bca49",
   "metadata": {},
   "outputs": [
    {
     "name": "stdout",
     "output_type": "stream",
     "text": [
      "Entries sampled: 3343\n"
     ]
    }
   ],
   "source": [
    "baskets_sampled_month = df_sales_proc.reset_index().sample(frac=0.001, random_state=0)\n",
    "print(f\"Entries sampled: {baskets_sampled_month.shape[0]}\")"
   ]
  },
  {
   "cell_type": "code",
   "execution_count": 62,
   "id": "ff9819ef",
   "metadata": {},
   "outputs": [
    {
     "data": {
      "text/plain": [
       "year  month\n",
       "2013  3                         [[1683], [2618], [2982], [2434]]\n",
       "      4        [[780], [2778], [1907], [1678], [2383], [2131]...\n",
       "      5        [[2149], [969], [2787], [1498], [1524], [2436]...\n",
       "      6        [[1571], [1704], [1043], [1423], [2455], [1912...\n",
       "      7        [[1248], [1222], [581], [766], [1303], [2795],...\n",
       "                                     ...                        \n",
       "2017  12       [[660], [143], [442], [2239], [421], [2067], [...\n",
       "2018  1        [[1333], [2384], [1163], [930], [1941], [113],...\n",
       "      2        [[3425], [177], [857], [3], [182], [2218], [10...\n",
       "      3        [[2236], [975], [1836], [533], [1458], [1640],...\n",
       "      4        [[2527], [2033], [441], [2443], [618], [95], [...\n",
       "Name: ram_code, Length: 62, dtype: object"
      ]
     },
     "execution_count": 62,
     "metadata": {},
     "output_type": "execute_result"
    }
   ],
   "source": [
    "baskets_month = baskets_sampled_month.groupby([\"year\", \"month\"])[\"ram_code\"].apply(lambda x: [[y] for y in x])\n",
    "baskets_month"
   ]
  },
  {
   "cell_type": "code",
   "execution_count": 78,
   "id": "19933ac7",
   "metadata": {},
   "outputs": [],
   "source": [
    "format_baskets = []\n",
    "for row in baskets_month.values:\n",
    "    format_baskets.append(row)\n",
    "\n",
    "ap_result = gsp_apriori(format_baskets, baskets_month.shape[0]*10//100, verbose=False)\n",
    "\n",
    "result_month_df = pd.DataFrame(ap_result, columns=[\"Seq.\", \"Supp. (abs)\"])\n",
    "result_month_df[\"Supp. (frac)\"] = result_month_df[\"Supp. (abs)\"]/baskets_month.shape[0]\n",
    "result_month_df[\"Seq. len\"] = result_month_df[\"Seq.\"].apply(lambda x: len(x))"
   ]
  },
  {
   "cell_type": "markdown",
   "id": "1d27a25b",
   "metadata": {},
   "source": [
    "Always for computational reasons, in this case we analyse only rules with support >= 10%."
   ]
  },
  {
   "cell_type": "code",
   "execution_count": 80,
   "id": "d075e610",
   "metadata": {},
   "outputs": [
    {
     "data": {
      "text/html": [
       "<div>\n",
       "<style scoped>\n",
       "    .dataframe tbody tr th:only-of-type {\n",
       "        vertical-align: middle;\n",
       "    }\n",
       "\n",
       "    .dataframe tbody tr th {\n",
       "        vertical-align: top;\n",
       "    }\n",
       "\n",
       "    .dataframe thead th {\n",
       "        text-align: right;\n",
       "    }\n",
       "</style>\n",
       "<table border=\"1\" class=\"dataframe\">\n",
       "  <thead>\n",
       "    <tr style=\"text-align: right;\">\n",
       "      <th></th>\n",
       "      <th>Seq.</th>\n",
       "      <th>Supp. (abs)</th>\n",
       "      <th>Supp. (frac)</th>\n",
       "      <th>Seq. len</th>\n",
       "    </tr>\n",
       "  </thead>\n",
       "  <tbody>\n",
       "    <tr>\n",
       "      <th>71</th>\n",
       "      <td>[[804], [656]]</td>\n",
       "      <td>6</td>\n",
       "      <td>0.096774</td>\n",
       "      <td>2</td>\n",
       "    </tr>\n",
       "    <tr>\n",
       "      <th>56</th>\n",
       "      <td>[[656]]</td>\n",
       "      <td>14</td>\n",
       "      <td>0.225806</td>\n",
       "      <td>1</td>\n",
       "    </tr>\n",
       "    <tr>\n",
       "      <th>66</th>\n",
       "      <td>[[804]]</td>\n",
       "      <td>13</td>\n",
       "      <td>0.209677</td>\n",
       "      <td>1</td>\n",
       "    </tr>\n",
       "    <tr>\n",
       "      <th>58</th>\n",
       "      <td>[[659]]</td>\n",
       "      <td>11</td>\n",
       "      <td>0.177419</td>\n",
       "      <td>1</td>\n",
       "    </tr>\n",
       "    <tr>\n",
       "      <th>28</th>\n",
       "      <td>[[2185]]</td>\n",
       "      <td>10</td>\n",
       "      <td>0.161290</td>\n",
       "      <td>1</td>\n",
       "    </tr>\n",
       "    <tr>\n",
       "      <th>...</th>\n",
       "      <td>...</td>\n",
       "      <td>...</td>\n",
       "      <td>...</td>\n",
       "      <td>...</td>\n",
       "    </tr>\n",
       "    <tr>\n",
       "      <th>61</th>\n",
       "      <td>[[679]]</td>\n",
       "      <td>6</td>\n",
       "      <td>0.096774</td>\n",
       "      <td>1</td>\n",
       "    </tr>\n",
       "    <tr>\n",
       "      <th>62</th>\n",
       "      <td>[[698]]</td>\n",
       "      <td>6</td>\n",
       "      <td>0.096774</td>\n",
       "      <td>1</td>\n",
       "    </tr>\n",
       "    <tr>\n",
       "      <th>63</th>\n",
       "      <td>[[733]]</td>\n",
       "      <td>6</td>\n",
       "      <td>0.096774</td>\n",
       "      <td>1</td>\n",
       "    </tr>\n",
       "    <tr>\n",
       "      <th>64</th>\n",
       "      <td>[[749]]</td>\n",
       "      <td>6</td>\n",
       "      <td>0.096774</td>\n",
       "      <td>1</td>\n",
       "    </tr>\n",
       "    <tr>\n",
       "      <th>65</th>\n",
       "      <td>[[778]]</td>\n",
       "      <td>6</td>\n",
       "      <td>0.096774</td>\n",
       "      <td>1</td>\n",
       "    </tr>\n",
       "  </tbody>\n",
       "</table>\n",
       "<p>72 rows × 4 columns</p>\n",
       "</div>"
      ],
      "text/plain": [
       "              Seq.  Supp. (abs)  Supp. (frac)  Seq. len\n",
       "71  [[804], [656]]            6      0.096774         2\n",
       "56         [[656]]           14      0.225806         1\n",
       "66         [[804]]           13      0.209677         1\n",
       "58         [[659]]           11      0.177419         1\n",
       "28        [[2185]]           10      0.161290         1\n",
       "..             ...          ...           ...       ...\n",
       "61         [[679]]            6      0.096774         1\n",
       "62         [[698]]            6      0.096774         1\n",
       "63         [[733]]            6      0.096774         1\n",
       "64         [[749]]            6      0.096774         1\n",
       "65         [[778]]            6      0.096774         1\n",
       "\n",
       "[72 rows x 4 columns]"
      ]
     },
     "execution_count": 80,
     "metadata": {},
     "output_type": "execute_result"
    }
   ],
   "source": [
    "result_month_df.sort_values([\"Seq. len\", \"Supp. (abs)\"], ascending=False)"
   ]
  },
  {
   "cell_type": "markdown",
   "id": "e6486257",
   "metadata": {},
   "source": [
    "Here we also have a sequence of length 2."
   ]
  },
  {
   "cell_type": "code",
   "execution_count": 223,
   "id": "98f8f73a",
   "metadata": {},
   "outputs": [
    {
     "data": {
      "text/html": [
       "<div>\n",
       "<style scoped>\n",
       "    .dataframe tbody tr th:only-of-type {\n",
       "        vertical-align: middle;\n",
       "    }\n",
       "\n",
       "    .dataframe tbody tr th {\n",
       "        vertical-align: top;\n",
       "    }\n",
       "\n",
       "    .dataframe thead th {\n",
       "        text-align: right;\n",
       "    }\n",
       "</style>\n",
       "<table border=\"1\" class=\"dataframe\">\n",
       "  <thead>\n",
       "    <tr style=\"text-align: right;\">\n",
       "      <th></th>\n",
       "      <th>brand</th>\n",
       "      <th>name</th>\n",
       "      <th>memory</th>\n",
       "      <th>memory_type</th>\n",
       "      <th>clock</th>\n",
       "    </tr>\n",
       "    <tr>\n",
       "      <th>ram_code</th>\n",
       "      <th></th>\n",
       "      <th></th>\n",
       "      <th></th>\n",
       "      <th></th>\n",
       "      <th></th>\n",
       "    </tr>\n",
       "  </thead>\n",
       "  <tbody>\n",
       "    <tr>\n",
       "      <th>804</th>\n",
       "      <td>CRUCIAL</td>\n",
       "      <td>Crucial</td>\n",
       "      <td>8.0</td>\n",
       "      <td>DDR3</td>\n",
       "      <td>1600</td>\n",
       "    </tr>\n",
       "    <tr>\n",
       "      <th>656</th>\n",
       "      <td>CORSAIR</td>\n",
       "      <td>Corsair Vengeance</td>\n",
       "      <td>16.0</td>\n",
       "      <td>DDR4</td>\n",
       "      <td>2400</td>\n",
       "    </tr>\n",
       "  </tbody>\n",
       "</table>\n",
       "</div>"
      ],
      "text/plain": [
       "            brand               name  memory memory_type  clock\n",
       "ram_code                                                       \n",
       "804       CRUCIAL            Crucial     8.0        DDR3   1600\n",
       "656       CORSAIR  Corsair Vengeance    16.0        DDR4   2400"
      ]
     },
     "execution_count": 223,
     "metadata": {},
     "output_type": "execute_result"
    }
   ],
   "source": [
    "month_seq_2 = df_ram.loc[[804, 656]]\n",
    "month_seq_2"
   ]
  },
  {
   "cell_type": "markdown",
   "id": "8dbfa67d",
   "metadata": {},
   "source": [
    "The support for this rule is not particularly high in absolute terms so this could be a fluke.  \n",
    "However one possible explanation could be that these two ram modules are a particularly good deal price-wise for their respective features.  "
   ]
  },
  {
   "cell_type": "markdown",
   "id": "20884b08",
   "metadata": {},
   "source": [
    "##### Hp testing"
   ]
  },
  {
   "cell_type": "code",
   "execution_count": 259,
   "id": "e2a72e74",
   "metadata": {},
   "outputs": [
    {
     "data": {
      "image/png": "[encoded data removed]",
      "text/plain": [
       "<Figure size 1080x360 with 1 Axes>"
      ]
     },
     "metadata": {
      "needs_background": "light"
     },
     "output_type": "display_data"
    }
   ],
   "source": [
    "conditions_1 = ((df_sales_merged[\"memory\"] == 8) & (df_sales_merged[\"memory_type\"] == \"DDR3\") & (df_sales_merged[\"clock\"] == 1600))\n",
    "\n",
    "plt.figure(figsize=(15,5))\n",
    "plt.title(\"Average price of ram modules throughout months\")\n",
    "df_sales_merged.loc[conditions_1].groupby([\"year\", \"month\"])[\"sales_uds\"].mean().rename(\"Simil. 804\").plot(kind=\"bar\", alpha=0.5, )\n",
    "df_sales_merged.loc[df_sales_merged[\"ram_code\"] == \"804\"].groupby([\"year\", \"month\"])[\"sales_uds\"].mean().rename(\"804\")\\\n",
    "                    .plot(kind=\"bar\", color=\"red\", alpha=0.5)\n",
    "plt.legend()\n",
    "plt.show()"
   ]
  },
  {
   "cell_type": "code",
   "execution_count": 260,
   "id": "374e4f61",
   "metadata": {},
   "outputs": [
    {
     "data": {
      "image/png": "[encoded data removed]",
      "text/plain": [
       "<Figure size 1080x360 with 1 Axes>"
      ]
     },
     "metadata": {
      "needs_background": "light"
     },
     "output_type": "display_data"
    }
   ],
   "source": [
    "conditions_2 = ((df_sales_merged[\"memory\"] == 16) & (df_sales_merged[\"memory_type\"] == \"DDR4\") & (df_sales_merged[\"clock\"] == 2400))\n",
    "\n",
    "plt.figure(figsize=(15,5))\n",
    "plt.title(\"Average price of ram modules throughout months\")\n",
    "df_sales_merged.loc[conditions_2].groupby([\"year\", \"month\"])[\"sales_uds\"].mean().rename(\"Simil. 656\").plot(kind=\"bar\", alpha=0.5)\n",
    "df_sales_merged.loc[df_sales_merged[\"ram_code\"] == \"656\"].groupby([\"year\", \"month\"])[\"sales_uds\"].mean().rename(\"656\")\\\n",
    "                    .plot(kind=\"bar\", color=\"red\", alpha=0.5)\n",
    "plt.legend()\n",
    "plt.show()"
   ]
  },
  {
   "cell_type": "markdown",
   "id": "f08d8e36",
   "metadata": {},
   "source": [
    "Unfortunately the months in which the months in which the two modules are more appealing do not overlap, this invalidates the hypothesis."
   ]
  },
  {
   "cell_type": "markdown",
   "id": "8c98ecbb",
   "metadata": {},
   "source": [
    "#### Year"
   ]
  },
  {
   "cell_type": "code",
   "execution_count": 93,
   "id": "83d0263c",
   "metadata": {},
   "outputs": [
    {
     "name": "stdout",
     "output_type": "stream",
     "text": [
      "Entries sampled: 33427\n"
     ]
    }
   ],
   "source": [
    "baskets_sampled_year = df_sales_proc.reset_index().sample(frac=0.01, random_state=0)\n",
    "print(f\"Entries sampled: {baskets_sampled_year.shape[0]}\")"
   ]
  },
  {
   "cell_type": "code",
   "execution_count": 94,
   "id": "ad812ff2",
   "metadata": {},
   "outputs": [
    {
     "data": {
      "text/plain": [
       "year\n",
       "2013    [[986], [2526], [738], [1040], [1248], [1571],...\n",
       "2014    [[912], [2122], [997], [552], [3374], [1058], ...\n",
       "2015    [[1642], [1253], [966], [961], [2741], [1877],...\n",
       "2016    [[946], [515], [990], [1405], [3669], [588], [...\n",
       "2017    [[2427], [446], [1591], [1575], [2517], [2476]...\n",
       "2018    [[1333], [2236], [975], [1836], [3425], [533],...\n",
       "Name: ram_code, dtype: object"
      ]
     },
     "execution_count": 94,
     "metadata": {},
     "output_type": "execute_result"
    }
   ],
   "source": [
    "baskets_year = baskets_sampled_year.groupby([\"year\"])[\"ram_code\"].apply(lambda x: [[y] for y in x])\n",
    "baskets_year"
   ]
  },
  {
   "cell_type": "code",
   "execution_count": 99,
   "id": "d3b3d961",
   "metadata": {},
   "outputs": [],
   "source": [
    "format_baskets = []\n",
    "for row in baskets_year.values:\n",
    "    format_baskets.append(row)\n",
    "\n",
    "ap_result = gsp_apriori(format_baskets, baskets_sampled_year.shape[0]*5//100, verbose=False)\n",
    "\n",
    "result_year_df = pd.DataFrame(ap_result, columns=[\"Seq.\", \"Supp. (abs)\"])\n",
    "result_year_df[\"Supp. (frac)\"] = result_year_df[\"Supp. (abs)\"]/baskets_year.shape[0]\n",
    "result_year_df[\"Seq. len\"] = result_year_df[\"Seq.\"].apply(lambda x: len(x))"
   ]
  },
  {
   "cell_type": "code",
   "execution_count": 98,
   "id": "59139b67",
   "metadata": {},
   "outputs": [
    {
     "data": {
      "text/html": [
       "<div>\n",
       "<style scoped>\n",
       "    .dataframe tbody tr th:only-of-type {\n",
       "        vertical-align: middle;\n",
       "    }\n",
       "\n",
       "    .dataframe tbody tr th {\n",
       "        vertical-align: top;\n",
       "    }\n",
       "\n",
       "    .dataframe thead th {\n",
       "        text-align: right;\n",
       "    }\n",
       "</style>\n",
       "<table border=\"1\" class=\"dataframe\">\n",
       "  <thead>\n",
       "    <tr style=\"text-align: right;\">\n",
       "      <th></th>\n",
       "      <th>Seq.</th>\n",
       "      <th>Supp. (abs)</th>\n",
       "      <th>Supp. (frac)</th>\n",
       "      <th>Seq. len</th>\n",
       "    </tr>\n",
       "  </thead>\n",
       "  <tbody>\n",
       "  </tbody>\n",
       "</table>\n",
       "</div>"
      ],
      "text/plain": [
       "Empty DataFrame\n",
       "Columns: [Seq., Supp. (abs), Supp. (frac), Seq. len]\n",
       "Index: []"
      ]
     },
     "execution_count": 98,
     "metadata": {},
     "output_type": "execute_result"
    }
   ],
   "source": [
    "result_year_df.sort_values([\"Seq. len\", \"Supp. (abs)\"], ascending=False)"
   ]
  },
  {
   "cell_type": "markdown",
   "id": "2f4714a6",
   "metadata": {},
   "source": [
    "There are no rules with at least a 5% support."
   ]
  },
  {
   "cell_type": "markdown",
   "id": "865373be",
   "metadata": {},
   "source": [
    "### Location-based baskets"
   ]
  },
  {
   "cell_type": "markdown",
   "id": "7ae71d68",
   "metadata": {},
   "source": [
    "#### Region"
   ]
  },
  {
   "cell_type": "code",
   "execution_count": 155,
   "id": "4d88dd41",
   "metadata": {},
   "outputs": [
    {
     "name": "stdout",
     "output_type": "stream",
     "text": [
      "Entries sampled: 1671\n"
     ]
    }
   ],
   "source": [
    "baskets_sampled_region = df_sales_proc.reset_index().sample(frac=0.0005, random_state=0)\n",
    "print(f\"Entries sampled: {baskets_sampled_region.shape[0]}\")"
   ]
  },
  {
   "cell_type": "code",
   "execution_count": 156,
   "id": "0649d58f",
   "metadata": {},
   "outputs": [
    {
     "data": {
      "text/plain": [
       "region\n",
       "analucia              [[2517], [961], [2531], [1588], [1303], [678],...\n",
       "aragon                                                         [[1425]]\n",
       "atlantic provinces                                             [[1390]]\n",
       "baden-wuttemberg      [[1383], [2308], [2038], [2217], [1580], [2046...\n",
       "bavaria               [[1419], [1836], [1365], [2183], [1649], [1177...\n",
       "                                            ...                        \n",
       "wallonia                                                       [[1153]]\n",
       "west midlands         [[2384], [54], [1247], [642], [2185], [2445], ...\n",
       "west usa              [[482], [1397], [2033], [707], [2182], [622], ...\n",
       "western australia                                 [[444], [676], [626]]\n",
       "yorkshire             [[3543], [679], [1566], [2320], [2969], [2271]...\n",
       "Name: ram_code, Length: 69, dtype: object"
      ]
     },
     "execution_count": 156,
     "metadata": {},
     "output_type": "execute_result"
    }
   ],
   "source": [
    "baskets_region = baskets_sampled_region.groupby([\"region\"])[\"ram_code\"].apply(lambda x: [[y] for y in x])\n",
    "baskets_region"
   ]
  },
  {
   "cell_type": "code",
   "execution_count": 263,
   "id": "b9e01ca2",
   "metadata": {},
   "outputs": [],
   "source": [
    "format_baskets = []\n",
    "for row in baskets_region.values:\n",
    "    format_baskets.append(row)\n",
    "\n",
    "ap_result = gsp_apriori(format_baskets, baskets_region.shape[0]*5//100, verbose=False)\n",
    "\n",
    "result_region_df = pd.DataFrame(ap_result, columns=[\"Seq.\", \"Supp. (abs)\"])\n",
    "result_region_df[\"Supp. (frac)\"] = result_region_df[\"Supp. (abs)\"]/baskets_region.shape[0]\n",
    "result_region_df[\"Seq. len\"] = result_region_df[\"Seq.\"].apply(lambda x: len(x))"
   ]
  },
  {
   "cell_type": "markdown",
   "id": "349a7bfb",
   "metadata": {},
   "source": [
    "For computational reasons we limited the search for support >= 5%."
   ]
  },
  {
   "cell_type": "code",
   "execution_count": 265,
   "id": "d1ac79ee",
   "metadata": {},
   "outputs": [
    {
     "data": {
      "text/html": [
       "<div>\n",
       "<style scoped>\n",
       "    .dataframe tbody tr th:only-of-type {\n",
       "        vertical-align: middle;\n",
       "    }\n",
       "\n",
       "    .dataframe tbody tr th {\n",
       "        vertical-align: top;\n",
       "    }\n",
       "\n",
       "    .dataframe thead th {\n",
       "        text-align: right;\n",
       "    }\n",
       "</style>\n",
       "<table border=\"1\" class=\"dataframe\">\n",
       "  <thead>\n",
       "    <tr style=\"text-align: right;\">\n",
       "      <th></th>\n",
       "      <th>Seq.</th>\n",
       "      <th>Supp. (abs)</th>\n",
       "      <th>Supp. (frac)</th>\n",
       "      <th>Seq. len</th>\n",
       "    </tr>\n",
       "  </thead>\n",
       "  <tbody>\n",
       "    <tr>\n",
       "      <th>140</th>\n",
       "      <td>[[1360], [1232]]</td>\n",
       "      <td>3</td>\n",
       "      <td>0.043478</td>\n",
       "      <td>2</td>\n",
       "    </tr>\n",
       "    <tr>\n",
       "      <th>141</th>\n",
       "      <td>[[147], [1907]]</td>\n",
       "      <td>3</td>\n",
       "      <td>0.043478</td>\n",
       "      <td>2</td>\n",
       "    </tr>\n",
       "    <tr>\n",
       "      <th>142</th>\n",
       "      <td>[[1571], [1399]]</td>\n",
       "      <td>3</td>\n",
       "      <td>0.043478</td>\n",
       "      <td>2</td>\n",
       "    </tr>\n",
       "    <tr>\n",
       "      <th>143</th>\n",
       "      <td>[[1907], [2400]]</td>\n",
       "      <td>3</td>\n",
       "      <td>0.043478</td>\n",
       "      <td>2</td>\n",
       "    </tr>\n",
       "    <tr>\n",
       "      <th>144</th>\n",
       "      <td>[[2185], [147]]</td>\n",
       "      <td>3</td>\n",
       "      <td>0.043478</td>\n",
       "      <td>2</td>\n",
       "    </tr>\n",
       "    <tr>\n",
       "      <th>145</th>\n",
       "      <td>[[2440], [977]]</td>\n",
       "      <td>3</td>\n",
       "      <td>0.043478</td>\n",
       "      <td>2</td>\n",
       "    </tr>\n",
       "    <tr>\n",
       "      <th>146</th>\n",
       "      <td>[[552], [1907]]</td>\n",
       "      <td>3</td>\n",
       "      <td>0.043478</td>\n",
       "      <td>2</td>\n",
       "    </tr>\n",
       "    <tr>\n",
       "      <th>147</th>\n",
       "      <td>[[589], [1248]]</td>\n",
       "      <td>3</td>\n",
       "      <td>0.043478</td>\n",
       "      <td>2</td>\n",
       "    </tr>\n",
       "    <tr>\n",
       "      <th>148</th>\n",
       "      <td>[[973], [867]]</td>\n",
       "      <td>3</td>\n",
       "      <td>0.043478</td>\n",
       "      <td>2</td>\n",
       "    </tr>\n",
       "    <tr>\n",
       "      <th>60</th>\n",
       "      <td>[[2185]]</td>\n",
       "      <td>8</td>\n",
       "      <td>0.115942</td>\n",
       "      <td>1</td>\n",
       "    </tr>\n",
       "  </tbody>\n",
       "</table>\n",
       "</div>"
      ],
      "text/plain": [
       "                 Seq.  Supp. (abs)  Supp. (frac)  Seq. len\n",
       "140  [[1360], [1232]]            3      0.043478         2\n",
       "141   [[147], [1907]]            3      0.043478         2\n",
       "142  [[1571], [1399]]            3      0.043478         2\n",
       "143  [[1907], [2400]]            3      0.043478         2\n",
       "144   [[2185], [147]]            3      0.043478         2\n",
       "145   [[2440], [977]]            3      0.043478         2\n",
       "146   [[552], [1907]]            3      0.043478         2\n",
       "147   [[589], [1248]]            3      0.043478         2\n",
       "148    [[973], [867]]            3      0.043478         2\n",
       "60           [[2185]]            8      0.115942         1"
      ]
     },
     "execution_count": 265,
     "metadata": {},
     "output_type": "execute_result"
    }
   ],
   "source": [
    "result_region_df.sort_values([\"Seq. len\", \"Supp. (abs)\"], ascending=False).head(10)"
   ]
  },
  {
   "cell_type": "markdown",
   "id": "f980a96a",
   "metadata": {},
   "source": [
    "The support is very low for these length 2 sequences."
   ]
  },
  {
   "cell_type": "code",
   "execution_count": 301,
   "id": "a70a5ef0",
   "metadata": {},
   "outputs": [
    {
     "data": {
      "text/html": [
       "<div>\n",
       "<style scoped>\n",
       "    .dataframe tbody tr th:only-of-type {\n",
       "        vertical-align: middle;\n",
       "    }\n",
       "\n",
       "    .dataframe tbody tr th {\n",
       "        vertical-align: top;\n",
       "    }\n",
       "\n",
       "    .dataframe thead th {\n",
       "        text-align: right;\n",
       "    }\n",
       "</style>\n",
       "<table border=\"1\" class=\"dataframe\">\n",
       "  <thead>\n",
       "    <tr style=\"text-align: right;\">\n",
       "      <th></th>\n",
       "      <th>brand</th>\n",
       "      <th>name</th>\n",
       "      <th>memory</th>\n",
       "      <th>memory_type</th>\n",
       "      <th>clock</th>\n",
       "    </tr>\n",
       "  </thead>\n",
       "  <tbody>\n",
       "    <tr>\n",
       "      <th>1360</th>\n",
       "      <td>G.SKILL</td>\n",
       "      <td>G.Skill Ripjaws 4</td>\n",
       "      <td>16.0</td>\n",
       "      <td>DDR4</td>\n",
       "      <td>2666</td>\n",
       "    </tr>\n",
       "    <tr>\n",
       "      <th>1232</th>\n",
       "      <td>G.SKILL</td>\n",
       "      <td>G.Skill Ns</td>\n",
       "      <td>4.0</td>\n",
       "      <td>DDR3</td>\n",
       "      <td>1333</td>\n",
       "    </tr>\n",
       "    <tr>\n",
       "      <th>147</th>\n",
       "      <td>ADATA</td>\n",
       "      <td>Adata Xpg V1.0</td>\n",
       "      <td>16.0</td>\n",
       "      <td>DDR3</td>\n",
       "      <td>1866</td>\n",
       "    </tr>\n",
       "    <tr>\n",
       "      <th>1907</th>\n",
       "      <td>GOODRAM</td>\n",
       "      <td>Goodram</td>\n",
       "      <td>2.0</td>\n",
       "      <td>DDR3</td>\n",
       "      <td>1600</td>\n",
       "    </tr>\n",
       "    <tr>\n",
       "      <th>1571</th>\n",
       "      <td>G.SKILL</td>\n",
       "      <td>G.Skill Trident X</td>\n",
       "      <td>32.0</td>\n",
       "      <td>DDR3</td>\n",
       "      <td>2400</td>\n",
       "    </tr>\n",
       "    <tr>\n",
       "      <th>1399</th>\n",
       "      <td>G.SKILL</td>\n",
       "      <td>G.Skill Ripjaws V</td>\n",
       "      <td>32.0</td>\n",
       "      <td>DDR4</td>\n",
       "      <td>2133</td>\n",
       "    </tr>\n",
       "    <tr>\n",
       "      <th>1907</th>\n",
       "      <td>GOODRAM</td>\n",
       "      <td>Goodram</td>\n",
       "      <td>2.0</td>\n",
       "      <td>DDR3</td>\n",
       "      <td>1600</td>\n",
       "    </tr>\n",
       "    <tr>\n",
       "      <th>2400</th>\n",
       "      <td>KINGSTON</td>\n",
       "      <td>Kingston Valueram</td>\n",
       "      <td>6.0</td>\n",
       "      <td>DDR3</td>\n",
       "      <td>1333</td>\n",
       "    </tr>\n",
       "    <tr>\n",
       "      <th>2185</th>\n",
       "      <td>KINGSTON</td>\n",
       "      <td>Kingston Hyperx Fury</td>\n",
       "      <td>8.0</td>\n",
       "      <td>DDR3</td>\n",
       "      <td>1600</td>\n",
       "    </tr>\n",
       "    <tr>\n",
       "      <th>147</th>\n",
       "      <td>ADATA</td>\n",
       "      <td>Adata Xpg V1.0</td>\n",
       "      <td>16.0</td>\n",
       "      <td>DDR3</td>\n",
       "      <td>1866</td>\n",
       "    </tr>\n",
       "    <tr>\n",
       "      <th>2440</th>\n",
       "      <td>KINGSTON</td>\n",
       "      <td>Kingston Valueram</td>\n",
       "      <td>4.0</td>\n",
       "      <td>DDR4</td>\n",
       "      <td>2133</td>\n",
       "    </tr>\n",
       "    <tr>\n",
       "      <th>977</th>\n",
       "      <td>CRUCIAL</td>\n",
       "      <td>Crucial Ballistix Sport</td>\n",
       "      <td>16.0</td>\n",
       "      <td>DDR4</td>\n",
       "      <td>2400</td>\n",
       "    </tr>\n",
       "    <tr>\n",
       "      <th>552</th>\n",
       "      <td>CORSAIR</td>\n",
       "      <td>Corsair Mac Memory</td>\n",
       "      <td>16.0</td>\n",
       "      <td>DDR3</td>\n",
       "      <td>1333</td>\n",
       "    </tr>\n",
       "    <tr>\n",
       "      <th>1907</th>\n",
       "      <td>GOODRAM</td>\n",
       "      <td>Goodram</td>\n",
       "      <td>2.0</td>\n",
       "      <td>DDR3</td>\n",
       "      <td>1600</td>\n",
       "    </tr>\n",
       "    <tr>\n",
       "      <th>589</th>\n",
       "      <td>CORSAIR</td>\n",
       "      <td>Corsair Value Select</td>\n",
       "      <td>8.0</td>\n",
       "      <td>DDR3L</td>\n",
       "      <td>1333</td>\n",
       "    </tr>\n",
       "    <tr>\n",
       "      <th>1248</th>\n",
       "      <td>G.SKILL</td>\n",
       "      <td>G.Skill Nt</td>\n",
       "      <td>4.0</td>\n",
       "      <td>DDR2</td>\n",
       "      <td>800</td>\n",
       "    </tr>\n",
       "    <tr>\n",
       "      <th>973</th>\n",
       "      <td>CRUCIAL</td>\n",
       "      <td>Crucial Ballistix Sport</td>\n",
       "      <td>4.0</td>\n",
       "      <td>DDR4</td>\n",
       "      <td>2400</td>\n",
       "    </tr>\n",
       "    <tr>\n",
       "      <th>867</th>\n",
       "      <td>CRUCIAL</td>\n",
       "      <td>Crucial</td>\n",
       "      <td>64.0</td>\n",
       "      <td>DDR4</td>\n",
       "      <td>2133</td>\n",
       "    </tr>\n",
       "  </tbody>\n",
       "</table>\n",
       "</div>"
      ],
      "text/plain": [
       "         brand                     name  memory memory_type clock\n",
       "1360   G.SKILL        G.Skill Ripjaws 4    16.0        DDR4  2666\n",
       "1232   G.SKILL               G.Skill Ns     4.0        DDR3  1333\n",
       "147      ADATA           Adata Xpg V1.0    16.0        DDR3  1866\n",
       "1907   GOODRAM                  Goodram     2.0        DDR3  1600\n",
       "1571   G.SKILL        G.Skill Trident X    32.0        DDR3  2400\n",
       "1399   G.SKILL        G.Skill Ripjaws V    32.0        DDR4  2133\n",
       "1907   GOODRAM                  Goodram     2.0        DDR3  1600\n",
       "2400  KINGSTON        Kingston Valueram     6.0        DDR3  1333\n",
       "2185  KINGSTON     Kingston Hyperx Fury     8.0        DDR3  1600\n",
       "147      ADATA           Adata Xpg V1.0    16.0        DDR3  1866\n",
       "2440  KINGSTON        Kingston Valueram     4.0        DDR4  2133\n",
       "977    CRUCIAL  Crucial Ballistix Sport    16.0        DDR4  2400\n",
       "552    CORSAIR       Corsair Mac Memory    16.0        DDR3  1333\n",
       "1907   GOODRAM                  Goodram     2.0        DDR3  1600\n",
       "589    CORSAIR     Corsair Value Select     8.0       DDR3L  1333\n",
       "1248   G.SKILL               G.Skill Nt     4.0        DDR2   800\n",
       "973    CRUCIAL  Crucial Ballistix Sport     4.0        DDR4  2400\n",
       "867    CRUCIAL                  Crucial    64.0        DDR4  2133"
      ]
     },
     "execution_count": 301,
     "metadata": {},
     "output_type": "execute_result"
    }
   ],
   "source": [
    "region_seq_2 = pd.DataFrame(columns=df_ram.columns)\n",
    "\n",
    "for idx, row in result_region_df.loc[result_region_df[\"Seq. len\"] == 2].iterrows():\n",
    "    \n",
    "    list_idx = [int(x[0]) for x in row[\"Seq.\"]]\n",
    "    region_seq_2 = region_seq_2.append(df_ram.loc[list_idx])\n",
    "    \n",
    "region_seq_2"
   ]
  },
  {
   "cell_type": "markdown",
   "id": "58fe780e",
   "metadata": {},
   "source": [
    "There is no apparent explanation for these sequence values.  \n",
    "Interesting to note that some of these modules are duplicated:"
   ]
  },
  {
   "cell_type": "code",
   "execution_count": 303,
   "id": "b4b75286",
   "metadata": {},
   "outputs": [
    {
     "data": {
      "text/html": [
       "<div>\n",
       "<style scoped>\n",
       "    .dataframe tbody tr th:only-of-type {\n",
       "        vertical-align: middle;\n",
       "    }\n",
       "\n",
       "    .dataframe tbody tr th {\n",
       "        vertical-align: top;\n",
       "    }\n",
       "\n",
       "    .dataframe thead th {\n",
       "        text-align: right;\n",
       "    }\n",
       "</style>\n",
       "<table border=\"1\" class=\"dataframe\">\n",
       "  <thead>\n",
       "    <tr style=\"text-align: right;\">\n",
       "      <th></th>\n",
       "      <th>brand</th>\n",
       "      <th>name</th>\n",
       "      <th>memory</th>\n",
       "      <th>memory_type</th>\n",
       "      <th>clock</th>\n",
       "    </tr>\n",
       "  </thead>\n",
       "  <tbody>\n",
       "    <tr>\n",
       "      <th>1907</th>\n",
       "      <td>GOODRAM</td>\n",
       "      <td>Goodram</td>\n",
       "      <td>2.0</td>\n",
       "      <td>DDR3</td>\n",
       "      <td>1600</td>\n",
       "    </tr>\n",
       "    <tr>\n",
       "      <th>147</th>\n",
       "      <td>ADATA</td>\n",
       "      <td>Adata Xpg V1.0</td>\n",
       "      <td>16.0</td>\n",
       "      <td>DDR3</td>\n",
       "      <td>1866</td>\n",
       "    </tr>\n",
       "    <tr>\n",
       "      <th>1907</th>\n",
       "      <td>GOODRAM</td>\n",
       "      <td>Goodram</td>\n",
       "      <td>2.0</td>\n",
       "      <td>DDR3</td>\n",
       "      <td>1600</td>\n",
       "    </tr>\n",
       "  </tbody>\n",
       "</table>\n",
       "</div>"
      ],
      "text/plain": [
       "        brand            name  memory memory_type clock\n",
       "1907  GOODRAM         Goodram     2.0        DDR3  1600\n",
       "147     ADATA  Adata Xpg V1.0    16.0        DDR3  1866\n",
       "1907  GOODRAM         Goodram     2.0        DDR3  1600"
      ]
     },
     "execution_count": 303,
     "metadata": {},
     "output_type": "execute_result"
    }
   ],
   "source": [
    "region_seq_2.loc[region_seq_2.duplicated()]"
   ]
  },
  {
   "cell_type": "code",
   "execution_count": 317,
   "id": "8b920f04",
   "metadata": {},
   "outputs": [
    {
     "data": {
      "image/png": "[encoded data removed]",
      "text/plain": [
       "<Figure size 1080x360 with 1 Axes>"
      ]
     },
     "metadata": {
      "needs_background": "light"
     },
     "output_type": "display_data"
    }
   ],
   "source": [
    "region_seq_2_idx = [str(x) for x in region_seq_2.drop_duplicates().index]\n",
    "\n",
    "plt.figure(figsize=(15,5))\n",
    "plt.title(\"Average price of ram modules throughout regions\")\n",
    "df_sales_merged.groupby([\"region\"])[\"sales_uds\"].mean().rename(\"Global\").plot(kind=\"bar\", alpha=0.5)\n",
    "df_sales_merged.loc[df_sales_merged[\"ram_code\"].isin(region_seq_2_idx)].groupby([\"region\"])[\"sales_uds\"].mean().rename(\"Seq. 2 list\")\\\n",
    "                    .plot(kind=\"bar\", color=\"red\", alpha=0.5)\n",
    "plt.legend()\n",
    "plt.show()"
   ]
  },
  {
   "cell_type": "markdown",
   "id": "0a9e99ae",
   "metadata": {},
   "source": [
    "#### Country/Continent grouping\n",
    "We skipped this grouping due to the time required to execute the apriori algorithm on any decent sample size."
   ]
  },
  {
   "cell_type": "markdown",
   "id": "d042e57b",
   "metadata": {},
   "source": [
    "### Location/time baskets"
   ]
  }
 ],
 "metadata": {
  "kernelspec": {
   "display_name": "Python 3",
   "language": "python",
   "name": "python3"
  },
  "language_info": {
   "codemirror_mode": {
    "name": "ipython",
    "version": 3
   },
   "file_extension": ".py",
   "mimetype": "text/x-python",
   "name": "python",
   "nbconvert_exporter": "python",
   "pygments_lexer": "ipython3",
   "version": "3.9.6"
  }
 },
 "nbformat": 4,
 "nbformat_minor": 5
}

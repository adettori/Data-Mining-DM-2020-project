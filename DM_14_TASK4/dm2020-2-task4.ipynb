{
 "cells": [
  {
   "cell_type": "code",
   "execution_count": 1,
   "id": "261bfa5d",
   "metadata": {},
   "outputs": [],
   "source": [
    "import numpy as np\n",
    "import pandas as pd\n",
    "import matplotlib.pyplot as plt\n",
    "import seaborn as sn\n",
    "\n",
    "from fim import apriori as fim_apriori\n",
    "from gsp import apriori as gsp_apriori"
   ]
  },
  {
   "cell_type": "markdown",
   "id": "181f61fa",
   "metadata": {},
   "source": [
    "# Task 4: Frequent Pattern mining and Association Rule Mining"
   ]
  },
  {
   "cell_type": "code",
   "execution_count": 2,
   "id": "e33445a5",
   "metadata": {
    "scrolled": true
   },
   "outputs": [
    {
     "name": "stderr",
     "output_type": "stream",
     "text": [
      "/home/avenger/.local/lib/python3.9/site-packages/numpy/lib/arraysetops.py:583: FutureWarning: elementwise comparison failed; returning scalar instead, but in the future will perform elementwise comparison\n",
      "  mask |= (ar1 == a)\n"
     ]
    }
   ],
   "source": [
    "df_geo = pd.read_csv('../geography.csv', sep=',', index_col=0)\n",
    "df_ram = pd.read_csv('../ram.csv', sep=',', index_col=0)\n",
    "\n",
    "# Processed dataset split for VCS purposes\n",
    "df_sales_part1 = pd.read_csv('../DM_14_TASK1/task1-df_sales-part1.csv', sep=',', index_col=0) #The dataset doesn't have a column name. This causes the error.\n",
    "df_sales_part2 = pd.read_csv('../DM_14_TASK1/task1-df_sales-part2.csv', sep=',', index_col=0)\n",
    "df_sales = df_sales_part1.append(df_sales_part2)\n",
    "\n",
    "df_time = pd.read_csv('../time.csv', sep=',', index_col=0)\n",
    "df_vendor = pd.read_csv('../vendor.csv', sep=',', index_col=0)"
   ]
  },
  {
   "cell_type": "code",
   "execution_count": 3,
   "id": "f901cde0",
   "metadata": {},
   "outputs": [],
   "source": [
    "#Merge data into a single dataframe\n",
    "df_sales_merged = df_sales[[\"Id\", \"ram_code\"]].join(df_ram, on=\"ram_code\", rsuffix=\"_ram\")\n",
    "df_sales_merged[\"time_code\"] = df_sales[\"time_code\"]\n",
    "df_sales_merged = df_sales_merged.join(df_time.set_index(\"time_code\"), on=\"time_code\")\n",
    "df_sales_merged[\"geo_code\"] = df_sales[\"geo_code\"]\n",
    "df_sales_merged = df_sales_merged.join(df_geo.set_index(\"geo_code\"), on=\"geo_code\")\n",
    "df_sales_merged[\"vendor_code\"] = df_sales[\"vendor_code\"]\n",
    "df_sales_merged = df_sales_merged.join(df_vendor.set_index(\"vendor_code\"), on=\"vendor_code\", rsuffix=\"_vendor\")\n",
    "df_sales_merged = df_sales_merged.join(df_sales[[\"sales_uds\", \"sales_currency\"]])\n",
    "\n",
    "#Make the ram_code feature a string in order to use it with gsp\n",
    "df_sales_merged.loc[:, \"ram_code\"] = df_sales_merged.loc[:, \"ram_code\"].astype(int).apply(str)"
   ]
  },
  {
   "cell_type": "code",
   "execution_count": 4,
   "id": "1370e40f",
   "metadata": {
    "scrolled": false
   },
   "outputs": [
    {
     "data": {
      "text/html": [
       "<div>\n",
       "<style scoped>\n",
       "    .dataframe tbody tr th:only-of-type {\n",
       "        vertical-align: middle;\n",
       "    }\n",
       "\n",
       "    .dataframe tbody tr th {\n",
       "        vertical-align: top;\n",
       "    }\n",
       "\n",
       "    .dataframe thead th {\n",
       "        text-align: right;\n",
       "    }\n",
       "</style>\n",
       "<table border=\"1\" class=\"dataframe\">\n",
       "  <thead>\n",
       "    <tr style=\"text-align: right;\">\n",
       "      <th></th>\n",
       "      <th>Id</th>\n",
       "      <th>ram_code</th>\n",
       "      <th>brand</th>\n",
       "      <th>name</th>\n",
       "      <th>memory</th>\n",
       "      <th>memory_type</th>\n",
       "      <th>clock</th>\n",
       "      <th>time_code</th>\n",
       "      <th>year</th>\n",
       "      <th>month</th>\n",
       "      <th>...</th>\n",
       "      <th>week</th>\n",
       "      <th>geo_code</th>\n",
       "      <th>continent</th>\n",
       "      <th>country</th>\n",
       "      <th>region</th>\n",
       "      <th>currency</th>\n",
       "      <th>vendor_code</th>\n",
       "      <th>name_vendor</th>\n",
       "      <th>sales_uds</th>\n",
       "      <th>sales_currency</th>\n",
       "    </tr>\n",
       "  </thead>\n",
       "  <tbody>\n",
       "    <tr>\n",
       "      <th>2602347</th>\n",
       "      <td>3719</td>\n",
       "      <td>1</td>\n",
       "      <td>ADATA</td>\n",
       "      <td>Adata</td>\n",
       "      <td>0.5</td>\n",
       "      <td>DDR</td>\n",
       "      <td>400</td>\n",
       "      <td>20130322</td>\n",
       "      <td>2013</td>\n",
       "      <td>3</td>\n",
       "      <td>...</td>\n",
       "      <td>12</td>\n",
       "      <td>25</td>\n",
       "      <td>Europe</td>\n",
       "      <td>Germany</td>\n",
       "      <td>north rhine-westphalla</td>\n",
       "      <td>EUR</td>\n",
       "      <td>32</td>\n",
       "      <td>geizhals_unknown</td>\n",
       "      <td>13.749032</td>\n",
       "      <td>10.65</td>\n",
       "    </tr>\n",
       "    <tr>\n",
       "      <th>2602348</th>\n",
       "      <td>3719</td>\n",
       "      <td>1</td>\n",
       "      <td>ADATA</td>\n",
       "      <td>Adata</td>\n",
       "      <td>0.5</td>\n",
       "      <td>DDR</td>\n",
       "      <td>400</td>\n",
       "      <td>20130323</td>\n",
       "      <td>2013</td>\n",
       "      <td>3</td>\n",
       "      <td>...</td>\n",
       "      <td>12</td>\n",
       "      <td>18</td>\n",
       "      <td>Europe</td>\n",
       "      <td>Germany</td>\n",
       "      <td>berlin</td>\n",
       "      <td>EUR</td>\n",
       "      <td>32</td>\n",
       "      <td>geizhals_unknown</td>\n",
       "      <td>13.828708</td>\n",
       "      <td>10.65</td>\n",
       "    </tr>\n",
       "    <tr>\n",
       "      <th>2602349</th>\n",
       "      <td>3719</td>\n",
       "      <td>1</td>\n",
       "      <td>ADATA</td>\n",
       "      <td>Adata</td>\n",
       "      <td>0.5</td>\n",
       "      <td>DDR</td>\n",
       "      <td>400</td>\n",
       "      <td>20130326</td>\n",
       "      <td>2013</td>\n",
       "      <td>3</td>\n",
       "      <td>...</td>\n",
       "      <td>13</td>\n",
       "      <td>28</td>\n",
       "      <td>Europe</td>\n",
       "      <td>Germany</td>\n",
       "      <td>saxony</td>\n",
       "      <td>EUR</td>\n",
       "      <td>32</td>\n",
       "      <td>geizhals_unknown</td>\n",
       "      <td>13.694297</td>\n",
       "      <td>10.65</td>\n",
       "    </tr>\n",
       "    <tr>\n",
       "      <th>2602350</th>\n",
       "      <td>3719</td>\n",
       "      <td>1</td>\n",
       "      <td>ADATA</td>\n",
       "      <td>Adata</td>\n",
       "      <td>0.5</td>\n",
       "      <td>DDR</td>\n",
       "      <td>400</td>\n",
       "      <td>20130327</td>\n",
       "      <td>2013</td>\n",
       "      <td>3</td>\n",
       "      <td>...</td>\n",
       "      <td>13</td>\n",
       "      <td>25</td>\n",
       "      <td>Europe</td>\n",
       "      <td>Germany</td>\n",
       "      <td>north rhine-westphalla</td>\n",
       "      <td>EUR</td>\n",
       "      <td>32</td>\n",
       "      <td>geizhals_unknown</td>\n",
       "      <td>13.690530</td>\n",
       "      <td>10.65</td>\n",
       "    </tr>\n",
       "    <tr>\n",
       "      <th>2602351</th>\n",
       "      <td>3719</td>\n",
       "      <td>1</td>\n",
       "      <td>ADATA</td>\n",
       "      <td>Adata</td>\n",
       "      <td>0.5</td>\n",
       "      <td>DDR</td>\n",
       "      <td>400</td>\n",
       "      <td>20130328</td>\n",
       "      <td>2013</td>\n",
       "      <td>3</td>\n",
       "      <td>...</td>\n",
       "      <td>13</td>\n",
       "      <td>27</td>\n",
       "      <td>Europe</td>\n",
       "      <td>Germany</td>\n",
       "      <td>saarland</td>\n",
       "      <td>EUR</td>\n",
       "      <td>32</td>\n",
       "      <td>geizhals_unknown</td>\n",
       "      <td>13.605216</td>\n",
       "      <td>10.65</td>\n",
       "    </tr>\n",
       "  </tbody>\n",
       "</table>\n",
       "<p>5 rows × 21 columns</p>\n",
       "</div>"
      ],
      "text/plain": [
       "           Id ram_code  brand   name  memory memory_type  clock  time_code  \\\n",
       "2602347  3719        1  ADATA  Adata     0.5         DDR    400   20130322   \n",
       "2602348  3719        1  ADATA  Adata     0.5         DDR    400   20130323   \n",
       "2602349  3719        1  ADATA  Adata     0.5         DDR    400   20130326   \n",
       "2602350  3719        1  ADATA  Adata     0.5         DDR    400   20130327   \n",
       "2602351  3719        1  ADATA  Adata     0.5         DDR    400   20130328   \n",
       "\n",
       "         year  month  ...  week  geo_code  continent  country  \\\n",
       "2602347  2013      3  ...    12        25     Europe  Germany   \n",
       "2602348  2013      3  ...    12        18     Europe  Germany   \n",
       "2602349  2013      3  ...    13        28     Europe  Germany   \n",
       "2602350  2013      3  ...    13        25     Europe  Germany   \n",
       "2602351  2013      3  ...    13        27     Europe  Germany   \n",
       "\n",
       "                         region currency vendor_code       name_vendor  \\\n",
       "2602347  north rhine-westphalla      EUR          32  geizhals_unknown   \n",
       "2602348                  berlin      EUR          32  geizhals_unknown   \n",
       "2602349                  saxony      EUR          32  geizhals_unknown   \n",
       "2602350  north rhine-westphalla      EUR          32  geizhals_unknown   \n",
       "2602351                saarland      EUR          32  geizhals_unknown   \n",
       "\n",
       "         sales_uds  sales_currency  \n",
       "2602347  13.749032           10.65  \n",
       "2602348  13.828708           10.65  \n",
       "2602349  13.694297           10.65  \n",
       "2602350  13.690530           10.65  \n",
       "2602351  13.605216           10.65  \n",
       "\n",
       "[5 rows x 21 columns]"
      ]
     },
     "execution_count": 4,
     "metadata": {},
     "output_type": "execute_result"
    }
   ],
   "source": [
    "df_sales_merged.head()"
   ]
  },
  {
   "cell_type": "markdown",
   "id": "09d75c75",
   "metadata": {},
   "source": [
    "## Dataframe pre-processing  \n",
    "Here we are interested in making the sales dataframe more suitable for our analyses."
   ]
  },
  {
   "cell_type": "markdown",
   "id": "d205ff4c",
   "metadata": {},
   "source": [
    "### Feature removal"
   ]
  },
  {
   "cell_type": "code",
   "execution_count": 5,
   "id": "0bdbbce9",
   "metadata": {},
   "outputs": [
    {
     "data": {
      "text/html": [
       "<div>\n",
       "<style scoped>\n",
       "    .dataframe tbody tr th:only-of-type {\n",
       "        vertical-align: middle;\n",
       "    }\n",
       "\n",
       "    .dataframe tbody tr th {\n",
       "        vertical-align: top;\n",
       "    }\n",
       "\n",
       "    .dataframe thead th {\n",
       "        text-align: right;\n",
       "    }\n",
       "</style>\n",
       "<table border=\"1\" class=\"dataframe\">\n",
       "  <thead>\n",
       "    <tr style=\"text-align: right;\">\n",
       "      <th></th>\n",
       "      <th>ram_code</th>\n",
       "      <th>brand</th>\n",
       "      <th>name</th>\n",
       "      <th>memory</th>\n",
       "      <th>memory_type</th>\n",
       "      <th>clock</th>\n",
       "      <th>time_code</th>\n",
       "      <th>continent</th>\n",
       "      <th>country</th>\n",
       "      <th>region</th>\n",
       "      <th>currency</th>\n",
       "      <th>name_vendor</th>\n",
       "      <th>sales_uds</th>\n",
       "    </tr>\n",
       "  </thead>\n",
       "  <tbody>\n",
       "    <tr>\n",
       "      <th>2602347</th>\n",
       "      <td>1</td>\n",
       "      <td>ADATA</td>\n",
       "      <td>Adata</td>\n",
       "      <td>0.5</td>\n",
       "      <td>DDR</td>\n",
       "      <td>400</td>\n",
       "      <td>20130322</td>\n",
       "      <td>Europe</td>\n",
       "      <td>Germany</td>\n",
       "      <td>north rhine-westphalla</td>\n",
       "      <td>EUR</td>\n",
       "      <td>geizhals_unknown</td>\n",
       "      <td>13.749032</td>\n",
       "    </tr>\n",
       "    <tr>\n",
       "      <th>2602348</th>\n",
       "      <td>1</td>\n",
       "      <td>ADATA</td>\n",
       "      <td>Adata</td>\n",
       "      <td>0.5</td>\n",
       "      <td>DDR</td>\n",
       "      <td>400</td>\n",
       "      <td>20130323</td>\n",
       "      <td>Europe</td>\n",
       "      <td>Germany</td>\n",
       "      <td>berlin</td>\n",
       "      <td>EUR</td>\n",
       "      <td>geizhals_unknown</td>\n",
       "      <td>13.828708</td>\n",
       "    </tr>\n",
       "    <tr>\n",
       "      <th>2602349</th>\n",
       "      <td>1</td>\n",
       "      <td>ADATA</td>\n",
       "      <td>Adata</td>\n",
       "      <td>0.5</td>\n",
       "      <td>DDR</td>\n",
       "      <td>400</td>\n",
       "      <td>20130326</td>\n",
       "      <td>Europe</td>\n",
       "      <td>Germany</td>\n",
       "      <td>saxony</td>\n",
       "      <td>EUR</td>\n",
       "      <td>geizhals_unknown</td>\n",
       "      <td>13.694297</td>\n",
       "    </tr>\n",
       "    <tr>\n",
       "      <th>2602350</th>\n",
       "      <td>1</td>\n",
       "      <td>ADATA</td>\n",
       "      <td>Adata</td>\n",
       "      <td>0.5</td>\n",
       "      <td>DDR</td>\n",
       "      <td>400</td>\n",
       "      <td>20130327</td>\n",
       "      <td>Europe</td>\n",
       "      <td>Germany</td>\n",
       "      <td>north rhine-westphalla</td>\n",
       "      <td>EUR</td>\n",
       "      <td>geizhals_unknown</td>\n",
       "      <td>13.690530</td>\n",
       "    </tr>\n",
       "    <tr>\n",
       "      <th>2602351</th>\n",
       "      <td>1</td>\n",
       "      <td>ADATA</td>\n",
       "      <td>Adata</td>\n",
       "      <td>0.5</td>\n",
       "      <td>DDR</td>\n",
       "      <td>400</td>\n",
       "      <td>20130328</td>\n",
       "      <td>Europe</td>\n",
       "      <td>Germany</td>\n",
       "      <td>saarland</td>\n",
       "      <td>EUR</td>\n",
       "      <td>geizhals_unknown</td>\n",
       "      <td>13.605216</td>\n",
       "    </tr>\n",
       "  </tbody>\n",
       "</table>\n",
       "</div>"
      ],
      "text/plain": [
       "        ram_code  brand   name  memory memory_type  clock  time_code  \\\n",
       "2602347        1  ADATA  Adata     0.5         DDR    400   20130322   \n",
       "2602348        1  ADATA  Adata     0.5         DDR    400   20130323   \n",
       "2602349        1  ADATA  Adata     0.5         DDR    400   20130326   \n",
       "2602350        1  ADATA  Adata     0.5         DDR    400   20130327   \n",
       "2602351        1  ADATA  Adata     0.5         DDR    400   20130328   \n",
       "\n",
       "        continent  country                  region currency       name_vendor  \\\n",
       "2602347    Europe  Germany  north rhine-westphalla      EUR  geizhals_unknown   \n",
       "2602348    Europe  Germany                  berlin      EUR  geizhals_unknown   \n",
       "2602349    Europe  Germany                  saxony      EUR  geizhals_unknown   \n",
       "2602350    Europe  Germany  north rhine-westphalla      EUR  geizhals_unknown   \n",
       "2602351    Europe  Germany                saarland      EUR  geizhals_unknown   \n",
       "\n",
       "         sales_uds  \n",
       "2602347  13.749032  \n",
       "2602348  13.828708  \n",
       "2602349  13.694297  \n",
       "2602350  13.690530  \n",
       "2602351  13.605216  "
      ]
     },
     "execution_count": 5,
     "metadata": {},
     "output_type": "execute_result"
    }
   ],
   "source": [
    "feat_to_drop = [\"Id\", \"geo_code\", \"vendor_code\", \"sales_currency\", \"year\", \"month\", \"day\", \"week\"]\n",
    "\n",
    "df_sales_proc = df_sales_merged.drop(feat_to_drop, axis=1)\n",
    "df_sales_proc.head()"
   ]
  },
  {
   "cell_type": "markdown",
   "id": "c6735140",
   "metadata": {},
   "source": [
    "Here we removed some features that are either redundant or do not carry useful information for this task."
   ]
  },
  {
   "cell_type": "markdown",
   "id": "d0a3c146",
   "metadata": {},
   "source": [
    "### time_code type adjustment"
   ]
  },
  {
   "cell_type": "code",
   "execution_count": 6,
   "id": "ce5aea69",
   "metadata": {},
   "outputs": [
    {
     "data": {
      "text/plain": [
       "2602347   2013-03-22\n",
       "2602348   2013-03-23\n",
       "2602349   2013-03-26\n",
       "2602350   2013-03-27\n",
       "2602351   2013-03-28\n",
       "             ...    \n",
       "6014673   2017-03-10\n",
       "6014674   2017-05-05\n",
       "6014675   2017-05-10\n",
       "6014676   2017-05-11\n",
       "6014677   2017-06-08\n",
       "Name: time_code, Length: 3342700, dtype: datetime64[ns]"
      ]
     },
     "execution_count": 6,
     "metadata": {},
     "output_type": "execute_result"
    }
   ],
   "source": [
    "df_sales_proc[\"time_code\"] = pd.to_datetime(df_sales_proc[\"time_code\"], format=\"%Y%m%d\")\n",
    "df_sales_proc[\"time_code\"]"
   ]
  },
  {
   "cell_type": "markdown",
   "id": "a9417a94",
   "metadata": {},
   "source": [
    "We will use the timecodes to group the frequent sequences by smaller units of time compared to the ones available."
   ]
  },
  {
   "cell_type": "markdown",
   "id": "a7a93746",
   "metadata": {},
   "source": [
    "### Feature discretisation\n",
    "We are interested in discretising memory, clock and the sales value using equal-width binning."
   ]
  },
  {
   "cell_type": "markdown",
   "id": "3e53c163",
   "metadata": {},
   "source": [
    "#### Memory"
   ]
  },
  {
   "cell_type": "code",
   "execution_count": 7,
   "id": "c54e6ae5",
   "metadata": {},
   "outputs": [
    {
     "data": {
      "image/png": "[encoded data removed]",
      "text/plain": [
       "<Figure size 1080x360 with 1 Axes>"
      ]
     },
     "metadata": {
      "needs_background": "light"
     },
     "output_type": "display_data"
    }
   ],
   "source": [
    "plt.figure(figsize=(15,5))\n",
    "plt.title(\"Distribution of the memory feature\")\n",
    "df_sales_proc.groupby(\"memory\").size().plot(kind=\"bar\")\n",
    "plt.show()"
   ]
  },
  {
   "cell_type": "markdown",
   "id": "a9c74b4b",
   "metadata": {},
   "source": [
    "The distribution of memory has an almost symmetric distribution, we can use this to define different bins.  \n",
    "We will consider the ranges [0,4], [6,8], [12,16], [24,32] and [48,256].  \n",
    "\n",
    "This choice is in part due to the distribution above and in part based on our knowledge of sizes of ram found in the commercial products.  \n",
    "In low cost/power/old products usually the amount of ram doesn't exceed 4 GB, mid-range can go up to 8 GB and so on.  \n",
    "Regarding the last range it reflects the fact that amount of memory is usually used for servers/high-end workstations, therefore they belong to a class of their own."
   ]
  },
  {
   "cell_type": "code",
   "execution_count": 8,
   "id": "354f1f6f",
   "metadata": {},
   "outputs": [],
   "source": [
    "bins = pd.IntervalIndex.from_tuples([(0, 4), (6, 8), (12, 16), (24, 32), (48, 256)], closed=\"both\")\n",
    "\n",
    "df_sales_proc.loc[:, \"memory\"] = pd.cut(df_sales_proc['memory'].astype(int), bins, right=False)\n",
    "df_sales_proc.loc[:, \"memory\"] = df_sales_proc[\"memory\"].astype(str) + '_mem'"
   ]
  },
  {
   "cell_type": "markdown",
   "id": "9b314372",
   "metadata": {},
   "source": [
    "#### Clock"
   ]
  },
  {
   "cell_type": "code",
   "execution_count": 9,
   "id": "0e4db838",
   "metadata": {},
   "outputs": [
    {
     "data": {
      "image/png": "[encoded data removed]",
      "text/plain": [
       "<Figure size 1080x360 with 1 Axes>"
      ]
     },
     "metadata": {
      "needs_background": "light"
     },
     "output_type": "display_data"
    }
   ],
   "source": [
    "plt.figure(figsize=(15,5))\n",
    "plt.title(\"Distribution of clock\")\n",
    "df_sales_proc.groupby([\"clock\"]).size().plot(kind=\"bar\")\n",
    "plt.show()"
   ]
  },
  {
   "cell_type": "code",
   "execution_count": 10,
   "id": "bdfe467a",
   "metadata": {},
   "outputs": [],
   "source": [
    "bins = pd.IntervalIndex.from_tuples([(100, 1333), (1600, 1800), (1866, 2250), (2400, 3200), (3300, 4600)], closed=\"both\")\n",
    "\n",
    "df_sales_proc.loc[:, \"clock\"] = pd.cut(df_sales_proc['clock'].astype(int), bins, right=False)\n",
    "df_sales_proc.loc[:, \"clock\"] = df_sales_proc[\"clock\"].astype(str) + '_clock'"
   ]
  },
  {
   "cell_type": "code",
   "execution_count": 11,
   "id": "e3542d38",
   "metadata": {},
   "outputs": [
    {
     "data": {
      "image/png": "[encoded data removed]",
      "text/plain": [
       "<Figure size 1080x360 with 1 Axes>"
      ]
     },
     "metadata": {
      "needs_background": "light"
     },
     "output_type": "display_data"
    }
   ],
   "source": [
    "plt.figure(figsize=(15,5))\n",
    "plt.title(\"Distribution of (clock,memory_type)\")\n",
    "df_sales_proc.groupby([\"memory_type\", \"clock\"]).size().plot(kind=\"bar\")\n",
    "plt.show()"
   ]
  },
  {
   "cell_type": "markdown",
   "id": "5ecbe502",
   "metadata": {},
   "source": [
    "Again we defined interval roughly based on a equal-frequency binning approach and what can be considered a low-end/high-end product.  \n",
    "Note that this is only a rough approximation, for the purpouse of discretising we are ignoring the memory_type even though the distribution of the clock is not uniform across the DDR types."
   ]
  },
  {
   "cell_type": "markdown",
   "id": "30766b2e",
   "metadata": {},
   "source": [
    "#### Sales"
   ]
  },
  {
   "cell_type": "code",
   "execution_count": 12,
   "id": "e568d19b",
   "metadata": {},
   "outputs": [
    {
     "data": {
      "image/png": "[encoded data removed]",
      "text/plain": [
       "<Figure size 1440x360 with 1 Axes>"
      ]
     },
     "metadata": {
      "needs_background": "light"
     },
     "output_type": "display_data"
    }
   ],
   "source": [
    "bins = range(0, 1000, 10)\n",
    "\n",
    "plt.figure(figsize=(20,5))\n",
    "sn.histplot(df_sales_proc[\"sales_uds\"], bins=bins)\n",
    "plt.xticks(bins, rotation=90)\n",
    "plt.show()"
   ]
  },
  {
   "cell_type": "markdown",
   "id": "71158d66",
   "metadata": {},
   "source": [
    "In this case we will split the data based on the frequency of the entries using quantiles."
   ]
  },
  {
   "cell_type": "code",
   "execution_count": 13,
   "id": "da519fe8",
   "metadata": {},
   "outputs": [
    {
     "data": {
      "text/plain": [
       "[(0.999, 27.0], (27.0, 41.0], (41.0, 57.0], (57.0, 78.0], (78.0, 99.0], (99.0, 134.0], (134.0, 177.0], (177.0, 246.0], (246.0, 395.0], (395.0, 10630.0]]\n",
       "Categories (10, interval[float64]): [(0.999, 27.0] < (27.0, 41.0] < (41.0, 57.0] < (57.0, 78.0] ... (134.0, 177.0] < (177.0, 246.0] < (246.0, 395.0] < (395.0, 10630.0]]"
      ]
     },
     "execution_count": 13,
     "metadata": {},
     "output_type": "execute_result"
    }
   ],
   "source": [
    "pd.qcut(df_sales_proc[\"sales_uds\"].astype(int), 10).unique()"
   ]
  },
  {
   "cell_type": "code",
   "execution_count": 14,
   "id": "3f80e55f",
   "metadata": {},
   "outputs": [],
   "source": [
    "df_sales_proc.loc[:, \"sales_uds\"] = pd.qcut(df_sales_proc[\"sales_uds\"].astype(int), 10)\n",
    "\n",
    "df_sales_proc.loc[:, \"sales_uds\"] = df_sales_proc[\"sales_uds\"].astype(str) + '_sales_uds'"
   ]
  },
  {
   "cell_type": "markdown",
   "id": "45fac2ba",
   "metadata": {},
   "source": [
    "#### Results"
   ]
  },
  {
   "cell_type": "code",
   "execution_count": 15,
   "id": "b9f7858c",
   "metadata": {},
   "outputs": [
    {
     "data": {
      "text/html": [
       "<div>\n",
       "<style scoped>\n",
       "    .dataframe tbody tr th:only-of-type {\n",
       "        vertical-align: middle;\n",
       "    }\n",
       "\n",
       "    .dataframe tbody tr th {\n",
       "        vertical-align: top;\n",
       "    }\n",
       "\n",
       "    .dataframe thead th {\n",
       "        text-align: right;\n",
       "    }\n",
       "</style>\n",
       "<table border=\"1\" class=\"dataframe\">\n",
       "  <thead>\n",
       "    <tr style=\"text-align: right;\">\n",
       "      <th></th>\n",
       "      <th>ram_code</th>\n",
       "      <th>brand</th>\n",
       "      <th>name</th>\n",
       "      <th>memory</th>\n",
       "      <th>memory_type</th>\n",
       "      <th>clock</th>\n",
       "      <th>time_code</th>\n",
       "      <th>continent</th>\n",
       "      <th>country</th>\n",
       "      <th>region</th>\n",
       "      <th>currency</th>\n",
       "      <th>name_vendor</th>\n",
       "      <th>sales_uds</th>\n",
       "    </tr>\n",
       "  </thead>\n",
       "  <tbody>\n",
       "    <tr>\n",
       "      <th>2602347</th>\n",
       "      <td>1</td>\n",
       "      <td>ADATA</td>\n",
       "      <td>Adata</td>\n",
       "      <td>[0, 4]_mem</td>\n",
       "      <td>DDR</td>\n",
       "      <td>[100, 1333]_clock</td>\n",
       "      <td>2013-03-22</td>\n",
       "      <td>Europe</td>\n",
       "      <td>Germany</td>\n",
       "      <td>north rhine-westphalla</td>\n",
       "      <td>EUR</td>\n",
       "      <td>geizhals_unknown</td>\n",
       "      <td>(0.999, 27.0]_sales_uds</td>\n",
       "    </tr>\n",
       "    <tr>\n",
       "      <th>2602348</th>\n",
       "      <td>1</td>\n",
       "      <td>ADATA</td>\n",
       "      <td>Adata</td>\n",
       "      <td>[0, 4]_mem</td>\n",
       "      <td>DDR</td>\n",
       "      <td>[100, 1333]_clock</td>\n",
       "      <td>2013-03-23</td>\n",
       "      <td>Europe</td>\n",
       "      <td>Germany</td>\n",
       "      <td>berlin</td>\n",
       "      <td>EUR</td>\n",
       "      <td>geizhals_unknown</td>\n",
       "      <td>(0.999, 27.0]_sales_uds</td>\n",
       "    </tr>\n",
       "    <tr>\n",
       "      <th>2602349</th>\n",
       "      <td>1</td>\n",
       "      <td>ADATA</td>\n",
       "      <td>Adata</td>\n",
       "      <td>[0, 4]_mem</td>\n",
       "      <td>DDR</td>\n",
       "      <td>[100, 1333]_clock</td>\n",
       "      <td>2013-03-26</td>\n",
       "      <td>Europe</td>\n",
       "      <td>Germany</td>\n",
       "      <td>saxony</td>\n",
       "      <td>EUR</td>\n",
       "      <td>geizhals_unknown</td>\n",
       "      <td>(0.999, 27.0]_sales_uds</td>\n",
       "    </tr>\n",
       "    <tr>\n",
       "      <th>2602350</th>\n",
       "      <td>1</td>\n",
       "      <td>ADATA</td>\n",
       "      <td>Adata</td>\n",
       "      <td>[0, 4]_mem</td>\n",
       "      <td>DDR</td>\n",
       "      <td>[100, 1333]_clock</td>\n",
       "      <td>2013-03-27</td>\n",
       "      <td>Europe</td>\n",
       "      <td>Germany</td>\n",
       "      <td>north rhine-westphalla</td>\n",
       "      <td>EUR</td>\n",
       "      <td>geizhals_unknown</td>\n",
       "      <td>(0.999, 27.0]_sales_uds</td>\n",
       "    </tr>\n",
       "    <tr>\n",
       "      <th>2602351</th>\n",
       "      <td>1</td>\n",
       "      <td>ADATA</td>\n",
       "      <td>Adata</td>\n",
       "      <td>[0, 4]_mem</td>\n",
       "      <td>DDR</td>\n",
       "      <td>[100, 1333]_clock</td>\n",
       "      <td>2013-03-28</td>\n",
       "      <td>Europe</td>\n",
       "      <td>Germany</td>\n",
       "      <td>saarland</td>\n",
       "      <td>EUR</td>\n",
       "      <td>geizhals_unknown</td>\n",
       "      <td>(0.999, 27.0]_sales_uds</td>\n",
       "    </tr>\n",
       "  </tbody>\n",
       "</table>\n",
       "</div>"
      ],
      "text/plain": [
       "        ram_code  brand   name      memory memory_type              clock  \\\n",
       "2602347        1  ADATA  Adata  [0, 4]_mem         DDR  [100, 1333]_clock   \n",
       "2602348        1  ADATA  Adata  [0, 4]_mem         DDR  [100, 1333]_clock   \n",
       "2602349        1  ADATA  Adata  [0, 4]_mem         DDR  [100, 1333]_clock   \n",
       "2602350        1  ADATA  Adata  [0, 4]_mem         DDR  [100, 1333]_clock   \n",
       "2602351        1  ADATA  Adata  [0, 4]_mem         DDR  [100, 1333]_clock   \n",
       "\n",
       "         time_code continent  country                  region currency  \\\n",
       "2602347 2013-03-22    Europe  Germany  north rhine-westphalla      EUR   \n",
       "2602348 2013-03-23    Europe  Germany                  berlin      EUR   \n",
       "2602349 2013-03-26    Europe  Germany                  saxony      EUR   \n",
       "2602350 2013-03-27    Europe  Germany  north rhine-westphalla      EUR   \n",
       "2602351 2013-03-28    Europe  Germany                saarland      EUR   \n",
       "\n",
       "              name_vendor                sales_uds  \n",
       "2602347  geizhals_unknown  (0.999, 27.0]_sales_uds  \n",
       "2602348  geizhals_unknown  (0.999, 27.0]_sales_uds  \n",
       "2602349  geizhals_unknown  (0.999, 27.0]_sales_uds  \n",
       "2602350  geizhals_unknown  (0.999, 27.0]_sales_uds  \n",
       "2602351  geizhals_unknown  (0.999, 27.0]_sales_uds  "
      ]
     },
     "execution_count": 15,
     "metadata": {},
     "output_type": "execute_result"
    }
   ],
   "source": [
    "df_sales_proc.head()"
   ]
  },
  {
   "cell_type": "markdown",
   "id": "2683bf1f",
   "metadata": {},
   "source": [
    "## Association rules"
   ]
  },
  {
   "cell_type": "markdown",
   "id": "78f1c4cb",
   "metadata": {},
   "source": [
    "### Vendor-level associations\n",
    "Due to memory constraints we are forced to apply a stratified (with respect to the vendor) random sampling to the sales dataset."
   ]
  },
  {
   "cell_type": "code",
   "execution_count": 16,
   "id": "de596178",
   "metadata": {},
   "outputs": [
    {
     "name": "stdout",
     "output_type": "stream",
     "text": [
      "Number of transactions sampled: 3341\n"
     ]
    },
    {
     "data": {
      "text/html": [
       "<div>\n",
       "<style scoped>\n",
       "    .dataframe tbody tr th:only-of-type {\n",
       "        vertical-align: middle;\n",
       "    }\n",
       "\n",
       "    .dataframe tbody tr th {\n",
       "        vertical-align: top;\n",
       "    }\n",
       "\n",
       "    .dataframe thead th {\n",
       "        text-align: right;\n",
       "    }\n",
       "</style>\n",
       "<table border=\"1\" class=\"dataframe\">\n",
       "  <thead>\n",
       "    <tr style=\"text-align: right;\">\n",
       "      <th></th>\n",
       "      <th>ram_code</th>\n",
       "      <th>brand</th>\n",
       "      <th>name</th>\n",
       "      <th>memory</th>\n",
       "      <th>memory_type</th>\n",
       "      <th>clock</th>\n",
       "      <th>time_code</th>\n",
       "      <th>continent</th>\n",
       "      <th>country</th>\n",
       "      <th>region</th>\n",
       "      <th>currency</th>\n",
       "      <th>name_vendor</th>\n",
       "      <th>sales_uds</th>\n",
       "    </tr>\n",
       "  </thead>\n",
       "  <tbody>\n",
       "    <tr>\n",
       "      <th>3528941</th>\n",
       "      <td>854</td>\n",
       "      <td>CRUCIAL</td>\n",
       "      <td>Crucial</td>\n",
       "      <td>[0, 4]_mem</td>\n",
       "      <td>DDR4</td>\n",
       "      <td>[1866, 2250]_clock</td>\n",
       "      <td>2017-10-22</td>\n",
       "      <td>Oceania</td>\n",
       "      <td>New Zeland</td>\n",
       "      <td>south island-southern</td>\n",
       "      <td>NZD</td>\n",
       "      <td>1stWave Technologies</td>\n",
       "      <td>(41.0, 57.0]_sales_uds</td>\n",
       "    </tr>\n",
       "    <tr>\n",
       "      <th>5089507</th>\n",
       "      <td>2201</td>\n",
       "      <td>KINGSTON</td>\n",
       "      <td>Kingston Hyperx Fury</td>\n",
       "      <td>[6, 8]_mem</td>\n",
       "      <td>DDR4</td>\n",
       "      <td>[2400, 3200]_clock</td>\n",
       "      <td>2017-08-05</td>\n",
       "      <td>Europe</td>\n",
       "      <td>Germany</td>\n",
       "      <td>mecklenburg-vorpommern</td>\n",
       "      <td>EUR</td>\n",
       "      <td>ARLT</td>\n",
       "      <td>(99.0, 134.0]_sales_uds</td>\n",
       "    </tr>\n",
       "    <tr>\n",
       "      <th>3538678</th>\n",
       "      <td>857</td>\n",
       "      <td>CRUCIAL</td>\n",
       "      <td>Crucial</td>\n",
       "      <td>[6, 8]_mem</td>\n",
       "      <td>DDR4</td>\n",
       "      <td>[1866, 2250]_clock</td>\n",
       "      <td>2017-10-04</td>\n",
       "      <td>America</td>\n",
       "      <td>United States of America</td>\n",
       "      <td>north-east usa</td>\n",
       "      <td>USD</td>\n",
       "      <td>Adorama</td>\n",
       "      <td>(99.0, 134.0]_sales_uds</td>\n",
       "    </tr>\n",
       "    <tr>\n",
       "      <th>3452453</th>\n",
       "      <td>804</td>\n",
       "      <td>CRUCIAL</td>\n",
       "      <td>Crucial</td>\n",
       "      <td>[6, 8]_mem</td>\n",
       "      <td>DDR3</td>\n",
       "      <td>[1600, 1800]_clock</td>\n",
       "      <td>2017-02-04</td>\n",
       "      <td>America</td>\n",
       "      <td>United States of America</td>\n",
       "      <td>north-east usa</td>\n",
       "      <td>USD</td>\n",
       "      <td>Adorama</td>\n",
       "      <td>(78.0, 99.0]_sales_uds</td>\n",
       "    </tr>\n",
       "    <tr>\n",
       "      <th>3556244</th>\n",
       "      <td>861</td>\n",
       "      <td>CRUCIAL</td>\n",
       "      <td>Crucial</td>\n",
       "      <td>[12, 16]_mem</td>\n",
       "      <td>DDR4</td>\n",
       "      <td>[2400, 3200]_clock</td>\n",
       "      <td>2017-10-10</td>\n",
       "      <td>America</td>\n",
       "      <td>United States of America</td>\n",
       "      <td>mid-atalntic</td>\n",
       "      <td>USD</td>\n",
       "      <td>Adorama</td>\n",
       "      <td>(134.0, 177.0]_sales_uds</td>\n",
       "    </tr>\n",
       "  </tbody>\n",
       "</table>\n",
       "</div>"
      ],
      "text/plain": [
       "        ram_code     brand                  name        memory memory_type  \\\n",
       "3528941      854   CRUCIAL               Crucial    [0, 4]_mem        DDR4   \n",
       "5089507     2201  KINGSTON  Kingston Hyperx Fury    [6, 8]_mem        DDR4   \n",
       "3538678      857   CRUCIAL               Crucial    [6, 8]_mem        DDR4   \n",
       "3452453      804   CRUCIAL               Crucial    [6, 8]_mem        DDR3   \n",
       "3556244      861   CRUCIAL               Crucial  [12, 16]_mem        DDR4   \n",
       "\n",
       "                      clock  time_code continent                   country  \\\n",
       "3528941  [1866, 2250]_clock 2017-10-22   Oceania                New Zeland   \n",
       "5089507  [2400, 3200]_clock 2017-08-05    Europe                   Germany   \n",
       "3538678  [1866, 2250]_clock 2017-10-04   America  United States of America   \n",
       "3452453  [1600, 1800]_clock 2017-02-04   America  United States of America   \n",
       "3556244  [2400, 3200]_clock 2017-10-10   America  United States of America   \n",
       "\n",
       "                         region currency           name_vendor  \\\n",
       "3528941   south island-southern      NZD  1stWave Technologies   \n",
       "5089507  mecklenburg-vorpommern      EUR                  ARLT   \n",
       "3538678          north-east usa      USD               Adorama   \n",
       "3452453          north-east usa      USD               Adorama   \n",
       "3556244            mid-atalntic      USD               Adorama   \n",
       "\n",
       "                        sales_uds  \n",
       "3528941    (41.0, 57.0]_sales_uds  \n",
       "5089507   (99.0, 134.0]_sales_uds  \n",
       "3538678   (99.0, 134.0]_sales_uds  \n",
       "3452453    (78.0, 99.0]_sales_uds  \n",
       "3556244  (134.0, 177.0]_sales_uds  "
      ]
     },
     "execution_count": 16,
     "metadata": {},
     "output_type": "execute_result"
    }
   ],
   "source": [
    "df_assoc_sampled = df_sales_proc.groupby([\"name_vendor\"]).sample(frac=0.001, random_state=0)\n",
    "num_trans_assoc = df_assoc_sampled.shape[0]\n",
    "\n",
    "print(f\"Number of transactions sampled: {num_trans_assoc}\")\n",
    "df_assoc_sampled.head()"
   ]
  },
  {
   "cell_type": "code",
   "execution_count": 17,
   "id": "1552189d",
   "metadata": {},
   "outputs": [
    {
     "data": {
      "text/plain": [
       "name_vendor\n",
       "1stWave Technologies                                                [854]\n",
       "ARLT                                                               [2201]\n",
       "Adorama                                                   [857, 804, 861]\n",
       "Alternate                                               [1297, 1485, 440]\n",
       "Alza                    [679, 973, 2189, 3234, 2188, 2046, 857, 1601, ...\n",
       "Name: ram_code, dtype: object"
      ]
     },
     "execution_count": 17,
     "metadata": {},
     "output_type": "execute_result"
    }
   ],
   "source": [
    "trans_ram_code = df_assoc_sampled.groupby([\"name_vendor\"])[\"ram_code\"].apply(list)\n",
    "trans_ram_code.head()"
   ]
  },
  {
   "cell_type": "markdown",
   "id": "c4601832",
   "metadata": {},
   "source": [
    "We defined the transactions with respect to the vendor in order to find association rules that hold for multiple vendors.  "
   ]
  },
  {
   "cell_type": "code",
   "execution_count": 18,
   "id": "6b746339",
   "metadata": {},
   "outputs": [
    {
     "data": {
      "text/plain": [
       "65"
      ]
     },
     "execution_count": 18,
     "metadata": {},
     "output_type": "execute_result"
    }
   ],
   "source": [
    "baskets_ram = trans_ram_code.values\n",
    "num_bask_ram = baskets_ram.shape[0]\n",
    "num_bask_ram"
   ]
  },
  {
   "cell_type": "code",
   "execution_count": 19,
   "id": "66b10f5b",
   "metadata": {},
   "outputs": [
    {
     "name": "stdout",
     "output_type": "stream",
     "text": [
      "Number of rules: 5563\n"
     ]
    }
   ],
   "source": [
    "rules_ram = fim_apriori(baskets_ram, supp=5, zmin=2, target='r', conf=60, report='ascl')\n",
    "print('Number of rules:', len(rules_ram))"
   ]
  },
  {
   "cell_type": "code",
   "execution_count": 20,
   "id": "39c34a83",
   "metadata": {},
   "outputs": [],
   "source": [
    "report_cols = [\"Conseq.\", \"Prem.\", \"Support (abs)\", \"Support (frac)\", \"Confidence\", \"Lift\"]\n",
    "\n",
    "rules_ram_df = pd.DataFrame(rules_ram, columns=report_cols)"
   ]
  },
  {
   "cell_type": "code",
   "execution_count": 21,
   "id": "30a0503c",
   "metadata": {},
   "outputs": [
    {
     "data": {
      "text/html": [
       "<div>\n",
       "<style scoped>\n",
       "    .dataframe tbody tr th:only-of-type {\n",
       "        vertical-align: middle;\n",
       "    }\n",
       "\n",
       "    .dataframe tbody tr th {\n",
       "        vertical-align: top;\n",
       "    }\n",
       "\n",
       "    .dataframe thead th {\n",
       "        text-align: right;\n",
       "    }\n",
       "</style>\n",
       "<table border=\"1\" class=\"dataframe\">\n",
       "  <thead>\n",
       "    <tr style=\"text-align: right;\">\n",
       "      <th></th>\n",
       "      <th>Conseq.</th>\n",
       "      <th>Prem.</th>\n",
       "      <th>Support (abs)</th>\n",
       "      <th>Support (frac)</th>\n",
       "      <th>Confidence</th>\n",
       "      <th>Lift</th>\n",
       "    </tr>\n",
       "  </thead>\n",
       "  <tbody>\n",
       "    <tr>\n",
       "      <th>3373</th>\n",
       "      <td>1404</td>\n",
       "      <td>(1591,)</td>\n",
       "      <td>5</td>\n",
       "      <td>0.076923</td>\n",
       "      <td>0.833333</td>\n",
       "      <td>7.738095</td>\n",
       "    </tr>\n",
       "    <tr>\n",
       "      <th>3374</th>\n",
       "      <td>1591</td>\n",
       "      <td>(1404,)</td>\n",
       "      <td>5</td>\n",
       "      <td>0.076923</td>\n",
       "      <td>0.714286</td>\n",
       "      <td>7.738095</td>\n",
       "    </tr>\n",
       "    <tr>\n",
       "      <th>5553</th>\n",
       "      <td>1404</td>\n",
       "      <td>(955,)</td>\n",
       "      <td>5</td>\n",
       "      <td>0.076923</td>\n",
       "      <td>0.833333</td>\n",
       "      <td>7.738095</td>\n",
       "    </tr>\n",
       "    <tr>\n",
       "      <th>5554</th>\n",
       "      <td>955</td>\n",
       "      <td>(1404,)</td>\n",
       "      <td>5</td>\n",
       "      <td>0.076923</td>\n",
       "      <td>0.714286</td>\n",
       "      <td>7.738095</td>\n",
       "    </tr>\n",
       "    <tr>\n",
       "      <th>5561</th>\n",
       "      <td>1404</td>\n",
       "      <td>(698,)</td>\n",
       "      <td>5</td>\n",
       "      <td>0.076923</td>\n",
       "      <td>0.833333</td>\n",
       "      <td>7.738095</td>\n",
       "    </tr>\n",
       "    <tr>\n",
       "      <th>...</th>\n",
       "      <td>...</td>\n",
       "      <td>...</td>\n",
       "      <td>...</td>\n",
       "      <td>...</td>\n",
       "      <td>...</td>\n",
       "      <td>...</td>\n",
       "    </tr>\n",
       "    <tr>\n",
       "      <th>25</th>\n",
       "      <td>2186</td>\n",
       "      <td>(2055,)</td>\n",
       "      <td>3</td>\n",
       "      <td>0.046154</td>\n",
       "      <td>0.600000</td>\n",
       "      <td>3.900000</td>\n",
       "    </tr>\n",
       "    <tr>\n",
       "      <th>50</th>\n",
       "      <td>2186</td>\n",
       "      <td>(2315,)</td>\n",
       "      <td>3</td>\n",
       "      <td>0.046154</td>\n",
       "      <td>0.600000</td>\n",
       "      <td>3.900000</td>\n",
       "    </tr>\n",
       "    <tr>\n",
       "      <th>67</th>\n",
       "      <td>2186</td>\n",
       "      <td>(2037,)</td>\n",
       "      <td>3</td>\n",
       "      <td>0.046154</td>\n",
       "      <td>0.600000</td>\n",
       "      <td>3.900000</td>\n",
       "    </tr>\n",
       "    <tr>\n",
       "      <th>110</th>\n",
       "      <td>2186</td>\n",
       "      <td>(858,)</td>\n",
       "      <td>3</td>\n",
       "      <td>0.046154</td>\n",
       "      <td>0.600000</td>\n",
       "      <td>3.900000</td>\n",
       "    </tr>\n",
       "    <tr>\n",
       "      <th>114</th>\n",
       "      <td>2186</td>\n",
       "      <td>(860,)</td>\n",
       "      <td>3</td>\n",
       "      <td>0.046154</td>\n",
       "      <td>0.600000</td>\n",
       "      <td>3.900000</td>\n",
       "    </tr>\n",
       "  </tbody>\n",
       "</table>\n",
       "<p>5563 rows × 6 columns</p>\n",
       "</div>"
      ],
      "text/plain": [
       "     Conseq.    Prem.  Support (abs)  Support (frac)  Confidence      Lift\n",
       "3373    1404  (1591,)              5        0.076923    0.833333  7.738095\n",
       "3374    1591  (1404,)              5        0.076923    0.714286  7.738095\n",
       "5553    1404   (955,)              5        0.076923    0.833333  7.738095\n",
       "5554     955  (1404,)              5        0.076923    0.714286  7.738095\n",
       "5561    1404   (698,)              5        0.076923    0.833333  7.738095\n",
       "...      ...      ...            ...             ...         ...       ...\n",
       "25      2186  (2055,)              3        0.046154    0.600000  3.900000\n",
       "50      2186  (2315,)              3        0.046154    0.600000  3.900000\n",
       "67      2186  (2037,)              3        0.046154    0.600000  3.900000\n",
       "110     2186   (858,)              3        0.046154    0.600000  3.900000\n",
       "114     2186   (860,)              3        0.046154    0.600000  3.900000\n",
       "\n",
       "[5563 rows x 6 columns]"
      ]
     },
     "execution_count": 21,
     "metadata": {},
     "output_type": "execute_result"
    }
   ],
   "source": [
    "rules_ram_df.sort_values([\"Support (abs)\", \"Lift\"], ascending=False)"
   ]
  },
  {
   "cell_type": "markdown",
   "id": "98cfe48a",
   "metadata": {},
   "source": [
    "The support for these rules is very low, no rule goes above 7% support."
   ]
  },
  {
   "cell_type": "markdown",
   "id": "8f696e3e",
   "metadata": {},
   "source": [
    "#### Features\n",
    "In order to facilitate the analysis we will extract some features from both the premises and consequent."
   ]
  },
  {
   "cell_type": "code",
   "execution_count": 22,
   "id": "8e54fa1d",
   "metadata": {},
   "outputs": [],
   "source": [
    "def add_features_num(df):\n",
    "    \n",
    "    new_df = pd.DataFrame(index=df.index)\n",
    "    \n",
    "    for idx, row in df.iterrows():\n",
    "        \n",
    "        conseq_entry = df_ram.loc[int(row[\"Conseq.\"])]\n",
    "        \n",
    "        prem_list = [int(x) for x in row[\"Prem.\"]]\n",
    "        prem_df = df_ram.loc[prem_list]\n",
    "        \n",
    "        new_df.loc[idx, \"Conseq.\"] = row[\"Conseq.\"]\n",
    "        new_df.loc[idx, \"Num Prem.\"] = len(prem_list)\n",
    "        \n",
    "        new_df.loc[idx, \"C. mem\"] = int(conseq_entry[\"memory\"])\n",
    "        new_df.loc[idx, \"P. min mem\"] = int(prem_df[\"memory\"].min())\n",
    "        new_df.loc[idx, \"P. avg mem\"] = int(prem_df[\"memory\"].mean())\n",
    "        \n",
    "        new_df.loc[idx, \"C. brand\"] = conseq_entry[\"brand\"]\n",
    "        new_df.loc[idx, \"P. brand\"] = str(prem_df[\"brand\"].unique())\n",
    "        \n",
    "        new_df.loc[idx, \"C. mem type\"] = conseq_entry[\"memory_type\"]\n",
    "        new_df.loc[idx, \"P. mem type\"] = str(prem_df[\"memory_type\"].unique())\n",
    "        \n",
    "        new_df.loc[idx, \"C. clock\"] = int(conseq_entry[\"clock\"])\n",
    "        new_df.loc[idx, \"P. min clock\"] = int(prem_df[\"clock\"].min())\n",
    "        new_df.loc[idx, \"P. avg clock\"] = int(prem_df[\"clock\"].mean())\n",
    "    \n",
    "    new_df = new_df.join(df[[\"Support (abs)\", \"Confidence\", \"Lift\"]])\n",
    "    \n",
    "    return new_df\n",
    "\n",
    "ram_rules_feat = add_features_num(rules_ram_df)"
   ]
  },
  {
   "cell_type": "code",
   "execution_count": 23,
   "id": "20e7b9b7",
   "metadata": {},
   "outputs": [
    {
     "data": {
      "text/html": [
       "<div>\n",
       "<style scoped>\n",
       "    .dataframe tbody tr th:only-of-type {\n",
       "        vertical-align: middle;\n",
       "    }\n",
       "\n",
       "    .dataframe tbody tr th {\n",
       "        vertical-align: top;\n",
       "    }\n",
       "\n",
       "    .dataframe thead th {\n",
       "        text-align: right;\n",
       "    }\n",
       "</style>\n",
       "<table border=\"1\" class=\"dataframe\">\n",
       "  <thead>\n",
       "    <tr style=\"text-align: right;\">\n",
       "      <th></th>\n",
       "      <th>Conseq.</th>\n",
       "      <th>Num Prem.</th>\n",
       "      <th>C. mem</th>\n",
       "      <th>P. min mem</th>\n",
       "      <th>P. avg mem</th>\n",
       "      <th>C. brand</th>\n",
       "      <th>P. brand</th>\n",
       "      <th>C. mem type</th>\n",
       "      <th>P. mem type</th>\n",
       "      <th>C. clock</th>\n",
       "      <th>P. min clock</th>\n",
       "      <th>P. avg clock</th>\n",
       "      <th>Support (abs)</th>\n",
       "      <th>Confidence</th>\n",
       "      <th>Lift</th>\n",
       "    </tr>\n",
       "  </thead>\n",
       "  <tbody>\n",
       "    <tr>\n",
       "      <th>2410</th>\n",
       "      <td>510</td>\n",
       "      <td>3.0</td>\n",
       "      <td>16.0</td>\n",
       "      <td>16.0</td>\n",
       "      <td>37.0</td>\n",
       "      <td>CORSAIR</td>\n",
       "      <td>['G.SKILL' 'CORSAIR']</td>\n",
       "      <td>DDR4</td>\n",
       "      <td>['DDR4']</td>\n",
       "      <td>3200.0</td>\n",
       "      <td>3200.0</td>\n",
       "      <td>3200.0</td>\n",
       "      <td>4</td>\n",
       "      <td>1.0</td>\n",
       "      <td>16.25</td>\n",
       "    </tr>\n",
       "    <tr>\n",
       "      <th>2413</th>\n",
       "      <td>510</td>\n",
       "      <td>2.0</td>\n",
       "      <td>16.0</td>\n",
       "      <td>16.0</td>\n",
       "      <td>40.0</td>\n",
       "      <td>CORSAIR</td>\n",
       "      <td>['G.SKILL' 'CORSAIR']</td>\n",
       "      <td>DDR4</td>\n",
       "      <td>['DDR4']</td>\n",
       "      <td>3200.0</td>\n",
       "      <td>3200.0</td>\n",
       "      <td>3200.0</td>\n",
       "      <td>4</td>\n",
       "      <td>1.0</td>\n",
       "      <td>16.25</td>\n",
       "    </tr>\n",
       "    <tr>\n",
       "      <th>3093</th>\n",
       "      <td>1431</td>\n",
       "      <td>3.0</td>\n",
       "      <td>16.0</td>\n",
       "      <td>4.0</td>\n",
       "      <td>14.0</td>\n",
       "      <td>G.SKILL</td>\n",
       "      <td>['KINGSTON' 'CRUCIAL' 'G.SKILL']</td>\n",
       "      <td>DDR3</td>\n",
       "      <td>['DDR3' 'DDR4']</td>\n",
       "      <td>1866.0</td>\n",
       "      <td>1600.0</td>\n",
       "      <td>2133.0</td>\n",
       "      <td>4</td>\n",
       "      <td>1.0</td>\n",
       "      <td>16.25</td>\n",
       "    </tr>\n",
       "    <tr>\n",
       "      <th>3096</th>\n",
       "      <td>1431</td>\n",
       "      <td>2.0</td>\n",
       "      <td>16.0</td>\n",
       "      <td>4.0</td>\n",
       "      <td>6.0</td>\n",
       "      <td>G.SKILL</td>\n",
       "      <td>['KINGSTON' 'CRUCIAL']</td>\n",
       "      <td>DDR3</td>\n",
       "      <td>['DDR3']</td>\n",
       "      <td>1866.0</td>\n",
       "      <td>1600.0</td>\n",
       "      <td>1600.0</td>\n",
       "      <td>4</td>\n",
       "      <td>1.0</td>\n",
       "      <td>16.25</td>\n",
       "    </tr>\n",
       "    <tr>\n",
       "      <th>3103</th>\n",
       "      <td>1431</td>\n",
       "      <td>2.0</td>\n",
       "      <td>16.0</td>\n",
       "      <td>8.0</td>\n",
       "      <td>20.0</td>\n",
       "      <td>G.SKILL</td>\n",
       "      <td>['KINGSTON' 'G.SKILL']</td>\n",
       "      <td>DDR3</td>\n",
       "      <td>['DDR3' 'DDR4']</td>\n",
       "      <td>1866.0</td>\n",
       "      <td>1600.0</td>\n",
       "      <td>2400.0</td>\n",
       "      <td>4</td>\n",
       "      <td>1.0</td>\n",
       "      <td>16.25</td>\n",
       "    </tr>\n",
       "  </tbody>\n",
       "</table>\n",
       "</div>"
      ],
      "text/plain": [
       "     Conseq.  Num Prem.  C. mem  P. min mem  P. avg mem C. brand  \\\n",
       "2410     510        3.0    16.0        16.0        37.0  CORSAIR   \n",
       "2413     510        2.0    16.0        16.0        40.0  CORSAIR   \n",
       "3093    1431        3.0    16.0         4.0        14.0  G.SKILL   \n",
       "3096    1431        2.0    16.0         4.0         6.0  G.SKILL   \n",
       "3103    1431        2.0    16.0         8.0        20.0  G.SKILL   \n",
       "\n",
       "                              P. brand C. mem type      P. mem type  C. clock  \\\n",
       "2410             ['G.SKILL' 'CORSAIR']        DDR4         ['DDR4']    3200.0   \n",
       "2413             ['G.SKILL' 'CORSAIR']        DDR4         ['DDR4']    3200.0   \n",
       "3093  ['KINGSTON' 'CRUCIAL' 'G.SKILL']        DDR3  ['DDR3' 'DDR4']    1866.0   \n",
       "3096            ['KINGSTON' 'CRUCIAL']        DDR3         ['DDR3']    1866.0   \n",
       "3103            ['KINGSTON' 'G.SKILL']        DDR3  ['DDR3' 'DDR4']    1866.0   \n",
       "\n",
       "      P. min clock  P. avg clock  Support (abs)  Confidence   Lift  \n",
       "2410        3200.0        3200.0              4         1.0  16.25  \n",
       "2413        3200.0        3200.0              4         1.0  16.25  \n",
       "3093        1600.0        2133.0              4         1.0  16.25  \n",
       "3096        1600.0        1600.0              4         1.0  16.25  \n",
       "3103        1600.0        2400.0              4         1.0  16.25  "
      ]
     },
     "execution_count": 23,
     "metadata": {},
     "output_type": "execute_result"
    }
   ],
   "source": [
    "ram_rules_feat.sort_values([\"Lift\", \"Support (abs)\"], ascending=False).head()"
   ]
  },
  {
   "cell_type": "code",
   "execution_count": 24,
   "id": "1514f1b6",
   "metadata": {},
   "outputs": [
    {
     "data": {
      "image/png": "[encoded data removed]",
      "text/plain": [
       "<Figure size 720x648 with 2 Axes>"
      ]
     },
     "metadata": {
      "needs_background": "light"
     },
     "output_type": "display_data"
    }
   ],
   "source": [
    "plt.figure(figsize=(10,9))\n",
    "corr_df = ram_rules_feat.sort_values([\"Lift\", \"Support (abs)\"]).drop([\"Support (abs)\", \"Confidence\", \"Lift\"], axis=1).head(50)\n",
    "sn.heatmap(corr_df.corr(), annot=True)\n",
    "plt.show()"
   ]
  },
  {
   "cell_type": "markdown",
   "id": "a6a6a1e5",
   "metadata": {},
   "source": [
    "No correlation, this level of analysis doesn't seem fruitful."
   ]
  },
  {
   "cell_type": "markdown",
   "id": "0575e147",
   "metadata": {},
   "source": [
    "#### Conclusions\n",
    "There are no apparent relationships between the consequent and the premises of the ram modules sold.  "
   ]
  },
  {
   "cell_type": "markdown",
   "id": "eefdd8ce",
   "metadata": {},
   "source": [
    "### Dataframe-level associations\n",
    "Here we apply to the whole dataframe taking each row as its own transaction."
   ]
  },
  {
   "cell_type": "code",
   "execution_count": 25,
   "id": "495d82c8",
   "metadata": {},
   "outputs": [],
   "source": [
    "report_cols = [\"Conseq.\", \"Prem.\", \"Support (abs)\", \"Support (frac)\", \"Confidence\", \"Lift\"]"
   ]
  },
  {
   "cell_type": "code",
   "execution_count": 26,
   "id": "649e8746",
   "metadata": {},
   "outputs": [],
   "source": [
    "def filter_rules(rule_df, filter_func_list):\n",
    "    \n",
    "    for idx, row in rule_df.iterrows():\n",
    "        \n",
    "        prems = row.loc[\"Prem.\"]\n",
    "        conseqs = row.loc[\"Conseq.\"]\n",
    "        \n",
    "        for filter_func in filter_func_list:\n",
    "            if filter_func(prems, conseqs):\n",
    "                \n",
    "                rule_df = rule_df.drop(row.name)\n",
    "                break #Already deleted, no need for further filtering\n",
    "    \n",
    "    return rule_df\n",
    "                \n",
    "                \n",
    "def filter_country_continent_curr(prems, conseq):\n",
    "    #Filters all associations between currency, country and continent\n",
    "    \n",
    "    curr_vals = df_geo[\"currency\"].unique()\n",
    "    country_vals = df_geo[\"country\"].unique()\n",
    "    contin_vals = df_geo[\"continent\"].unique()\n",
    "    \n",
    "    for prem in prems:\n",
    "        if prem in curr_vals:\n",
    "            \n",
    "            if conseq in country_vals or conseq in contin_vals:\n",
    "                return True\n",
    "            \n",
    "        if prem in country_vals or prem in contin_vals:\n",
    "            \n",
    "            if conseq in curr_vals:\n",
    "                return True\n",
    "            \n",
    "            if conseq in country_vals or conseq in contin_vals:\n",
    "                return True\n",
    "                    \n",
    "    return False\n",
    "\n",
    "\n",
    "def filter_brand_ram_name(prems, conseq):\n",
    "    #Filter associations between brand and brand's product name\n",
    "    \n",
    "    brand_vals = df_ram[\"brand\"].unique()\n",
    "    name_vals = df_ram[\"name\"].unique()\n",
    "    \n",
    "    for prem in prems:\n",
    "        if prem in brand_vals and conseq in name_vals:\n",
    "            return True\n",
    "        if prem in name_vals and conseq in brand_vals:\n",
    "            return True\n",
    "        \n",
    "    return False            "
   ]
  },
  {
   "cell_type": "markdown",
   "id": "57b3f5b1",
   "metadata": {},
   "source": [
    "A significant percentage of the rules discovered are \"obvious\" associations, such as \"the transactions in country x use the currency of that country\".  \n",
    "In order to filter them out we create some ad-hoc filter rules."
   ]
  },
  {
   "cell_type": "code",
   "execution_count": 27,
   "id": "6e5197db",
   "metadata": {},
   "outputs": [
    {
     "name": "stdout",
     "output_type": "stream",
     "text": [
      "Number of rules: 25\n"
     ]
    }
   ],
   "source": [
    "filters = [filter_country_continent_curr, filter_brand_ram_name]\n",
    "\n",
    "baskets_whole_df = df_sales_proc.drop([\"time_code\"], axis=1) #Remove time-related features\n",
    "baskets_whole = baskets_whole_df.values.tolist()\n",
    "\n",
    "#Keep only entries with Lift >=2\n",
    "rules_whole = fim_apriori(baskets_whole, supp=5, zmin=2, target='r', conf=60, report='ascl', eval=\"l\", thresh=200, prune=1)\n",
    "\n",
    "rules_whole_df = pd.DataFrame(rules_whole, columns=report_cols).sort_values([\"Lift\", \"Support (abs)\"], ascending=False)\n",
    "rules_whole_df_filtered = filter_rules(rules_whole_df, filters)\n",
    "\n",
    "print('Number of rules:', rules_whole_df_filtered.shape[0])"
   ]
  },
  {
   "cell_type": "markdown",
   "id": "d48b3338",
   "metadata": {},
   "source": [
    "In order to sift through the rules more easily we used the pruning functionality of the apriori implementation."
   ]
  },
  {
   "cell_type": "code",
   "execution_count": 28,
   "id": "e2d233d4",
   "metadata": {},
   "outputs": [
    {
     "data": {
      "image/png": "[encoded data removed]",
      "text/plain": [
       "<Figure size 432x288 with 1 Axes>"
      ]
     },
     "metadata": {
      "needs_background": "light"
     },
     "output_type": "display_data"
    }
   ],
   "source": [
    "rules_whole_df_filtered.groupby(\"Conseq.\").size().plot(kind=\"bar\")\n",
    "plt.show()"
   ]
  },
  {
   "cell_type": "markdown",
   "id": "c9ad0704",
   "metadata": {},
   "source": [
    "We will take a brief look at each consequent in order to see if there is any new information to be had."
   ]
  },
  {
   "cell_type": "code",
   "execution_count": 29,
   "id": "75a23817",
   "metadata": {},
   "outputs": [
    {
     "data": {
      "text/html": [
       "<div>\n",
       "<style scoped>\n",
       "    .dataframe tbody tr th:only-of-type {\n",
       "        vertical-align: middle;\n",
       "    }\n",
       "\n",
       "    .dataframe tbody tr th {\n",
       "        vertical-align: top;\n",
       "    }\n",
       "\n",
       "    .dataframe thead th {\n",
       "        text-align: right;\n",
       "    }\n",
       "</style>\n",
       "<table border=\"1\" class=\"dataframe\">\n",
       "  <thead>\n",
       "    <tr style=\"text-align: right;\">\n",
       "      <th></th>\n",
       "      <th>Conseq.</th>\n",
       "      <th>Prem.</th>\n",
       "      <th>Support (abs)</th>\n",
       "      <th>Support (frac)</th>\n",
       "      <th>Confidence</th>\n",
       "      <th>Lift</th>\n",
       "    </tr>\n",
       "  </thead>\n",
       "  <tbody>\n",
       "    <tr>\n",
       "      <th>12</th>\n",
       "      <td>(395.0, 10630.0]_sales_uds</td>\n",
       "      <td>([48, 256]_mem,)</td>\n",
       "      <td>194924</td>\n",
       "      <td>0.058313</td>\n",
       "      <td>0.883769</td>\n",
       "      <td>8.864869</td>\n",
       "    </tr>\n",
       "  </tbody>\n",
       "</table>\n",
       "</div>"
      ],
      "text/plain": [
       "                       Conseq.             Prem.  Support (abs)  \\\n",
       "12  (395.0, 10630.0]_sales_uds  ([48, 256]_mem,)         194924   \n",
       "\n",
       "    Support (frac)  Confidence      Lift  \n",
       "12        0.058313    0.883769  8.864869  "
      ]
     },
     "execution_count": 29,
     "metadata": {},
     "output_type": "execute_result"
    }
   ],
   "source": [
    "rules_whole_df_filtered.loc[rules_whole_df_filtered[\"Conseq.\"] == '(395.0, 10630.0]_sales_uds'].head()"
   ]
  },
  {
   "cell_type": "markdown",
   "id": "e291ef43",
   "metadata": {},
   "source": [
    "The ram modules that have a lot of memory cost the most."
   ]
  },
  {
   "cell_type": "code",
   "execution_count": 30,
   "id": "b9ec4cfc",
   "metadata": {},
   "outputs": [
    {
     "data": {
      "text/html": [
       "<div>\n",
       "<style scoped>\n",
       "    .dataframe tbody tr th:only-of-type {\n",
       "        vertical-align: middle;\n",
       "    }\n",
       "\n",
       "    .dataframe tbody tr th {\n",
       "        vertical-align: top;\n",
       "    }\n",
       "\n",
       "    .dataframe thead th {\n",
       "        text-align: right;\n",
       "    }\n",
       "</style>\n",
       "<table border=\"1\" class=\"dataframe\">\n",
       "  <thead>\n",
       "    <tr style=\"text-align: right;\">\n",
       "      <th></th>\n",
       "      <th>Conseq.</th>\n",
       "      <th>Prem.</th>\n",
       "      <th>Support (abs)</th>\n",
       "      <th>Support (frac)</th>\n",
       "      <th>Confidence</th>\n",
       "      <th>Lift</th>\n",
       "    </tr>\n",
       "  </thead>\n",
       "  <tbody>\n",
       "    <tr>\n",
       "      <th>0</th>\n",
       "      <td>DDR4</td>\n",
       "      <td>([3300, 4600]_clock,)</td>\n",
       "      <td>167989</td>\n",
       "      <td>0.050255</td>\n",
       "      <td>1.000000</td>\n",
       "      <td>2.836010</td>\n",
       "    </tr>\n",
       "    <tr>\n",
       "      <th>35</th>\n",
       "      <td>DDR4</td>\n",
       "      <td>([2400, 3200]_clock,)</td>\n",
       "      <td>739904</td>\n",
       "      <td>0.221349</td>\n",
       "      <td>0.837388</td>\n",
       "      <td>2.374840</td>\n",
       "    </tr>\n",
       "    <tr>\n",
       "      <th>10</th>\n",
       "      <td>DDR4</td>\n",
       "      <td>([48, 256]_mem, (395.0, 10630.0]_sales_uds)</td>\n",
       "      <td>145080</td>\n",
       "      <td>0.043402</td>\n",
       "      <td>0.744290</td>\n",
       "      <td>2.110814</td>\n",
       "    </tr>\n",
       "    <tr>\n",
       "      <th>13</th>\n",
       "      <td>DDR4</td>\n",
       "      <td>([48, 256]_mem,)</td>\n",
       "      <td>159804</td>\n",
       "      <td>0.047807</td>\n",
       "      <td>0.724538</td>\n",
       "      <td>2.054796</td>\n",
       "    </tr>\n",
       "    <tr>\n",
       "      <th>22</th>\n",
       "      <td>DDR4</td>\n",
       "      <td>((395.0, 10630.0]_sales_uds,)</td>\n",
       "      <td>238866</td>\n",
       "      <td>0.071459</td>\n",
       "      <td>0.716788</td>\n",
       "      <td>2.032818</td>\n",
       "    </tr>\n",
       "  </tbody>\n",
       "</table>\n",
       "</div>"
      ],
      "text/plain": [
       "   Conseq.                                        Prem.  Support (abs)  \\\n",
       "0     DDR4                        ([3300, 4600]_clock,)         167989   \n",
       "35    DDR4                        ([2400, 3200]_clock,)         739904   \n",
       "10    DDR4  ([48, 256]_mem, (395.0, 10630.0]_sales_uds)         145080   \n",
       "13    DDR4                             ([48, 256]_mem,)         159804   \n",
       "22    DDR4                ((395.0, 10630.0]_sales_uds,)         238866   \n",
       "\n",
       "    Support (frac)  Confidence      Lift  \n",
       "0         0.050255    1.000000  2.836010  \n",
       "35        0.221349    0.837388  2.374840  \n",
       "10        0.043402    0.744290  2.110814  \n",
       "13        0.047807    0.724538  2.054796  \n",
       "22        0.071459    0.716788  2.032818  "
      ]
     },
     "execution_count": 30,
     "metadata": {},
     "output_type": "execute_result"
    }
   ],
   "source": [
    "rules_whole_df_filtered.loc[rules_whole_df_filtered[\"Conseq.\"] == 'DDR4'].head(10)"
   ]
  },
  {
   "cell_type": "markdown",
   "id": "47099998",
   "metadata": {},
   "source": [
    "Here the rules roughly point out which are the clock rates, price and memory size associated with DDR4."
   ]
  },
  {
   "cell_type": "code",
   "execution_count": 31,
   "id": "c2c2b143",
   "metadata": {},
   "outputs": [
    {
     "data": {
      "text/html": [
       "<div>\n",
       "<style scoped>\n",
       "    .dataframe tbody tr th:only-of-type {\n",
       "        vertical-align: middle;\n",
       "    }\n",
       "\n",
       "    .dataframe tbody tr th {\n",
       "        vertical-align: top;\n",
       "    }\n",
       "\n",
       "    .dataframe thead th {\n",
       "        text-align: right;\n",
       "    }\n",
       "</style>\n",
       "<table border=\"1\" class=\"dataframe\">\n",
       "  <thead>\n",
       "    <tr style=\"text-align: right;\">\n",
       "      <th></th>\n",
       "      <th>Conseq.</th>\n",
       "      <th>Prem.</th>\n",
       "      <th>Support (abs)</th>\n",
       "      <th>Support (frac)</th>\n",
       "      <th>Confidence</th>\n",
       "      <th>Lift</th>\n",
       "    </tr>\n",
       "  </thead>\n",
       "  <tbody>\n",
       "    <tr>\n",
       "      <th>17</th>\n",
       "      <td>United Kingdom</td>\n",
       "      <td>(pricespy_unknown,)</td>\n",
       "      <td>289464</td>\n",
       "      <td>0.086596</td>\n",
       "      <td>0.908576</td>\n",
       "      <td>5.940088</td>\n",
       "    </tr>\n",
       "    <tr>\n",
       "      <th>18</th>\n",
       "      <td>GBP</td>\n",
       "      <td>(pricespy_unknown,)</td>\n",
       "      <td>289464</td>\n",
       "      <td>0.086596</td>\n",
       "      <td>0.908576</td>\n",
       "      <td>5.940088</td>\n",
       "    </tr>\n",
       "  </tbody>\n",
       "</table>\n",
       "</div>"
      ],
      "text/plain": [
       "           Conseq.                Prem.  Support (abs)  Support (frac)  \\\n",
       "17  United Kingdom  (pricespy_unknown,)         289464        0.086596   \n",
       "18             GBP  (pricespy_unknown,)         289464        0.086596   \n",
       "\n",
       "    Confidence      Lift  \n",
       "17    0.908576  5.940088  \n",
       "18    0.908576  5.940088  "
      ]
     },
     "execution_count": 31,
     "metadata": {},
     "output_type": "execute_result"
    }
   ],
   "source": [
    "rules_whole_df_filtered.loc[rules_whole_df_filtered[\"Conseq.\"].isin(['United Kingdom', 'GBP'])].head(10)"
   ]
  },
  {
   "cell_type": "markdown",
   "id": "334463b8",
   "metadata": {},
   "source": [
    "As we pointed out in task 1, pricespy_unknown is a UK-based price search engine so no surprises here."
   ]
  },
  {
   "cell_type": "code",
   "execution_count": 32,
   "id": "c429b249",
   "metadata": {},
   "outputs": [
    {
     "data": {
      "text/html": [
       "<div>\n",
       "<style scoped>\n",
       "    .dataframe tbody tr th:only-of-type {\n",
       "        vertical-align: middle;\n",
       "    }\n",
       "\n",
       "    .dataframe tbody tr th {\n",
       "        vertical-align: top;\n",
       "    }\n",
       "\n",
       "    .dataframe thead th {\n",
       "        text-align: right;\n",
       "    }\n",
       "</style>\n",
       "<table border=\"1\" class=\"dataframe\">\n",
       "  <thead>\n",
       "    <tr style=\"text-align: right;\">\n",
       "      <th></th>\n",
       "      <th>Conseq.</th>\n",
       "      <th>Prem.</th>\n",
       "      <th>Support (abs)</th>\n",
       "      <th>Support (frac)</th>\n",
       "      <th>Confidence</th>\n",
       "      <th>Lift</th>\n",
       "    </tr>\n",
       "  </thead>\n",
       "  <tbody>\n",
       "    <tr>\n",
       "      <th>11</th>\n",
       "      <td>[48, 256]_mem</td>\n",
       "      <td>((395.0, 10630.0]_sales_uds, DDR4)</td>\n",
       "      <td>145080</td>\n",
       "      <td>0.043402</td>\n",
       "      <td>0.607370</td>\n",
       "      <td>9.205001</td>\n",
       "    </tr>\n",
       "    <tr>\n",
       "      <th>23</th>\n",
       "      <td>[24, 32]_mem</td>\n",
       "      <td>((246.0, 395.0]_sales_uds,)</td>\n",
       "      <td>212409</td>\n",
       "      <td>0.063544</td>\n",
       "      <td>0.635930</td>\n",
       "      <td>4.545196</td>\n",
       "    </tr>\n",
       "    <tr>\n",
       "      <th>24</th>\n",
       "      <td>[0, 4]_mem</td>\n",
       "      <td>((0.999, 27.0]_sales_uds, [100, 1333]_clock)</td>\n",
       "      <td>265411</td>\n",
       "      <td>0.079400</td>\n",
       "      <td>0.997463</td>\n",
       "      <td>3.420766</td>\n",
       "    </tr>\n",
       "    <tr>\n",
       "      <th>27</th>\n",
       "      <td>[0, 4]_mem</td>\n",
       "      <td>((0.999, 27.0]_sales_uds,)</td>\n",
       "      <td>340528</td>\n",
       "      <td>0.101872</td>\n",
       "      <td>0.996264</td>\n",
       "      <td>3.416653</td>\n",
       "    </tr>\n",
       "    <tr>\n",
       "      <th>29</th>\n",
       "      <td>[0, 4]_mem</td>\n",
       "      <td>(DDR2, [100, 1333]_clock)</td>\n",
       "      <td>313826</td>\n",
       "      <td>0.093884</td>\n",
       "      <td>0.889179</td>\n",
       "      <td>3.049409</td>\n",
       "    </tr>\n",
       "    <tr>\n",
       "      <th>32</th>\n",
       "      <td>[0, 4]_mem</td>\n",
       "      <td>(DDR2,)</td>\n",
       "      <td>313826</td>\n",
       "      <td>0.093884</td>\n",
       "      <td>0.889179</td>\n",
       "      <td>3.049409</td>\n",
       "    </tr>\n",
       "    <tr>\n",
       "      <th>20</th>\n",
       "      <td>[0, 4]_mem</td>\n",
       "      <td>((27.0, 41.0]_sales_uds,)</td>\n",
       "      <td>287597</td>\n",
       "      <td>0.086037</td>\n",
       "      <td>0.864496</td>\n",
       "      <td>2.964758</td>\n",
       "    </tr>\n",
       "    <tr>\n",
       "      <th>21</th>\n",
       "      <td>[12, 16]_mem</td>\n",
       "      <td>((134.0, 177.0]_sales_uds,)</td>\n",
       "      <td>240845</td>\n",
       "      <td>0.072051</td>\n",
       "      <td>0.723595</td>\n",
       "      <td>2.876512</td>\n",
       "    </tr>\n",
       "    <tr>\n",
       "      <th>28</th>\n",
       "      <td>[6, 8]_mem</td>\n",
       "      <td>((57.0, 78.0]_sales_uds,)</td>\n",
       "      <td>225192</td>\n",
       "      <td>0.067368</td>\n",
       "      <td>0.648568</td>\n",
       "      <td>2.584337</td>\n",
       "    </tr>\n",
       "    <tr>\n",
       "      <th>19</th>\n",
       "      <td>[6, 8]_mem</td>\n",
       "      <td>((78.0, 99.0]_sales_uds,)</td>\n",
       "      <td>204856</td>\n",
       "      <td>0.061285</td>\n",
       "      <td>0.628549</td>\n",
       "      <td>2.504566</td>\n",
       "    </tr>\n",
       "    <tr>\n",
       "      <th>37</th>\n",
       "      <td>[0, 4]_mem</td>\n",
       "      <td>([100, 1333]_clock,)</td>\n",
       "      <td>640626</td>\n",
       "      <td>0.191649</td>\n",
       "      <td>0.672841</td>\n",
       "      <td>2.307485</td>\n",
       "    </tr>\n",
       "  </tbody>\n",
       "</table>\n",
       "</div>"
      ],
      "text/plain": [
       "          Conseq.                                         Prem.  \\\n",
       "11  [48, 256]_mem            ((395.0, 10630.0]_sales_uds, DDR4)   \n",
       "23   [24, 32]_mem                   ((246.0, 395.0]_sales_uds,)   \n",
       "24     [0, 4]_mem  ((0.999, 27.0]_sales_uds, [100, 1333]_clock)   \n",
       "27     [0, 4]_mem                    ((0.999, 27.0]_sales_uds,)   \n",
       "29     [0, 4]_mem                     (DDR2, [100, 1333]_clock)   \n",
       "32     [0, 4]_mem                                       (DDR2,)   \n",
       "20     [0, 4]_mem                     ((27.0, 41.0]_sales_uds,)   \n",
       "21   [12, 16]_mem                   ((134.0, 177.0]_sales_uds,)   \n",
       "28     [6, 8]_mem                     ((57.0, 78.0]_sales_uds,)   \n",
       "19     [6, 8]_mem                     ((78.0, 99.0]_sales_uds,)   \n",
       "37     [0, 4]_mem                          ([100, 1333]_clock,)   \n",
       "\n",
       "    Support (abs)  Support (frac)  Confidence      Lift  \n",
       "11         145080        0.043402    0.607370  9.205001  \n",
       "23         212409        0.063544    0.635930  4.545196  \n",
       "24         265411        0.079400    0.997463  3.420766  \n",
       "27         340528        0.101872    0.996264  3.416653  \n",
       "29         313826        0.093884    0.889179  3.049409  \n",
       "32         313826        0.093884    0.889179  3.049409  \n",
       "20         287597        0.086037    0.864496  2.964758  \n",
       "21         240845        0.072051    0.723595  2.876512  \n",
       "28         225192        0.067368    0.648568  2.584337  \n",
       "19         204856        0.061285    0.628549  2.504566  \n",
       "37         640626        0.191649    0.672841  2.307485  "
      ]
     },
     "execution_count": 32,
     "metadata": {},
     "output_type": "execute_result"
    }
   ],
   "source": [
    "rules_whole_df_filtered.loc[rules_whole_df_filtered[\"Conseq.\"]\\\n",
    "                            .isin(['[0, 4]_mem', '[6, 8]_mem', '[12, 16]_mem', '[24, 32]_mem', '[48, 256]_mem'])].head(20)"
   ]
  },
  {
   "cell_type": "markdown",
   "id": "609c27a2",
   "metadata": {},
   "source": [
    "Here we can see the association rules between the memory size and the price/clock/memory type.  \n",
    "These rules allow us (with good confidence) to estimate the amount of ram in module given its price.  \n",
    "It also points out that DDR2 sales consist mostly of small memory modules."
   ]
  },
  {
   "cell_type": "code",
   "execution_count": 33,
   "id": "531524d1",
   "metadata": {},
   "outputs": [
    {
     "data": {
      "text/html": [
       "<div>\n",
       "<style scoped>\n",
       "    .dataframe tbody tr th:only-of-type {\n",
       "        vertical-align: middle;\n",
       "    }\n",
       "\n",
       "    .dataframe tbody tr th {\n",
       "        vertical-align: top;\n",
       "    }\n",
       "\n",
       "    .dataframe thead th {\n",
       "        text-align: right;\n",
       "    }\n",
       "</style>\n",
       "<table border=\"1\" class=\"dataframe\">\n",
       "  <thead>\n",
       "    <tr style=\"text-align: right;\">\n",
       "      <th></th>\n",
       "      <th>Conseq.</th>\n",
       "      <th>Prem.</th>\n",
       "      <th>Support (abs)</th>\n",
       "      <th>Support (frac)</th>\n",
       "      <th>Confidence</th>\n",
       "      <th>Lift</th>\n",
       "    </tr>\n",
       "  </thead>\n",
       "  <tbody>\n",
       "    <tr>\n",
       "      <th>31</th>\n",
       "      <td>[100, 1333]_clock</td>\n",
       "      <td>(DDR2,)</td>\n",
       "      <td>352939</td>\n",
       "      <td>0.105585</td>\n",
       "      <td>1.000000</td>\n",
       "      <td>3.510793</td>\n",
       "    </tr>\n",
       "    <tr>\n",
       "      <th>30</th>\n",
       "      <td>[100, 1333]_clock</td>\n",
       "      <td>(DDR2, [0, 4]_mem)</td>\n",
       "      <td>313826</td>\n",
       "      <td>0.093884</td>\n",
       "      <td>1.000000</td>\n",
       "      <td>3.510793</td>\n",
       "    </tr>\n",
       "    <tr>\n",
       "      <th>25</th>\n",
       "      <td>[100, 1333]_clock</td>\n",
       "      <td>((0.999, 27.0]_sales_uds, [0, 4]_mem)</td>\n",
       "      <td>265411</td>\n",
       "      <td>0.079400</td>\n",
       "      <td>0.779410</td>\n",
       "      <td>2.736348</td>\n",
       "    </tr>\n",
       "    <tr>\n",
       "      <th>26</th>\n",
       "      <td>[100, 1333]_clock</td>\n",
       "      <td>((0.999, 27.0]_sales_uds,)</td>\n",
       "      <td>266086</td>\n",
       "      <td>0.079602</td>\n",
       "      <td>0.778473</td>\n",
       "      <td>2.733058</td>\n",
       "    </tr>\n",
       "    <tr>\n",
       "      <th>36</th>\n",
       "      <td>[2400, 3200]_clock</td>\n",
       "      <td>(DDR4,)</td>\n",
       "      <td>739904</td>\n",
       "      <td>0.221349</td>\n",
       "      <td>0.627749</td>\n",
       "      <td>2.374840</td>\n",
       "    </tr>\n",
       "    <tr>\n",
       "      <th>38</th>\n",
       "      <td>[100, 1333]_clock</td>\n",
       "      <td>([0, 4]_mem,)</td>\n",
       "      <td>640626</td>\n",
       "      <td>0.191649</td>\n",
       "      <td>0.657255</td>\n",
       "      <td>2.307485</td>\n",
       "    </tr>\n",
       "  </tbody>\n",
       "</table>\n",
       "</div>"
      ],
      "text/plain": [
       "               Conseq.                                  Prem.  Support (abs)  \\\n",
       "31   [100, 1333]_clock                                (DDR2,)         352939   \n",
       "30   [100, 1333]_clock                     (DDR2, [0, 4]_mem)         313826   \n",
       "25   [100, 1333]_clock  ((0.999, 27.0]_sales_uds, [0, 4]_mem)         265411   \n",
       "26   [100, 1333]_clock             ((0.999, 27.0]_sales_uds,)         266086   \n",
       "36  [2400, 3200]_clock                                (DDR4,)         739904   \n",
       "38   [100, 1333]_clock                          ([0, 4]_mem,)         640626   \n",
       "\n",
       "    Support (frac)  Confidence      Lift  \n",
       "31        0.105585    1.000000  3.510793  \n",
       "30        0.093884    1.000000  3.510793  \n",
       "25        0.079400    0.779410  2.736348  \n",
       "26        0.079602    0.778473  2.733058  \n",
       "36        0.221349    0.627749  2.374840  \n",
       "38        0.191649    0.657255  2.307485  "
      ]
     },
     "execution_count": 33,
     "metadata": {},
     "output_type": "execute_result"
    }
   ],
   "source": [
    "rules_whole_df_filtered.loc[rules_whole_df_filtered[\"Conseq.\"].isin(['[100, 1333]_clock', '[2400, 3200]_clock'])].head(10)"
   ]
  },
  {
   "cell_type": "markdown",
   "id": "103d0e25",
   "metadata": {},
   "source": [
    "These are the associations between the clock and the other features.  \n",
    "We can see that, as we pointed out in the pre-processing step, the lowest clock range is very strongly associated with low-end ram (low memory/cost)."
   ]
  },
  {
   "cell_type": "markdown",
   "id": "0795810a",
   "metadata": {},
   "source": [
    "### Comparison between top countries\n",
    "In this section we will take a look at a few top countries ordered by the volume of sales and compare the frequent sequences found, in order to see if there are any apparent differences."
   ]
  },
  {
   "cell_type": "code",
   "execution_count": 34,
   "id": "facfafaf",
   "metadata": {},
   "outputs": [
    {
     "data": {
      "image/png": "[encoded data removed]",
      "text/plain": [
       "<Figure size 1080x360 with 1 Axes>"
      ]
     },
     "metadata": {
      "needs_background": "light"
     },
     "output_type": "display_data"
    }
   ],
   "source": [
    "plt.figure(figsize=(15,5))\n",
    "df_sales_proc.groupby(\"country\").size().plot(kind=\"bar\")\n",
    "plt.show()"
   ]
  },
  {
   "cell_type": "markdown",
   "id": "15be57b0",
   "metadata": {},
   "source": [
    "We will consider Germany, the UK and the US."
   ]
  },
  {
   "cell_type": "code",
   "execution_count": 108,
   "id": "79f4af78",
   "metadata": {},
   "outputs": [],
   "source": [
    "ram_sales_ger = df_sales_proc.loc[(df_sales_proc[\"country\"] == \"Germany\")].shape[0]\n",
    "ram_sales_uk = df_sales_proc.loc[(df_sales_proc[\"country\"] == \"United Kingdom\")].shape[0]\n",
    "ram_sales_us = df_sales_proc.loc[(df_sales_proc[\"country\"] == \"United States of America\")].shape[0]"
   ]
  },
  {
   "cell_type": "code",
   "execution_count": 134,
   "id": "da3c19d7",
   "metadata": {},
   "outputs": [
    {
     "name": "stdout",
     "output_type": "stream",
     "text": [
      "Help on built-in function apriori in module fim:\n",
      "\n",
      "apriori(...)\n",
      "    apriori (tracts, target='s', supp=10, zmin=1, zmax=None, report='a',\n",
      "             eval='x', agg='x', thresh=10, prune=None, algo='b', mode='',\n",
      "             border=None)\n",
      "    Find frequent item sets with the Apriori algorithm.\n",
      "    tracts  transaction database to mine (mandatory)\n",
      "            The database must be an iterable of transactions;\n",
      "            each transaction must be an iterable of items;\n",
      "            each item must be a hashable object.\n",
      "            If the database is a dictionary, the transactions are\n",
      "            the keys, the values their (integer) multiplicities.\n",
      "    target  type of frequent item sets to find     (default: s)\n",
      "            s/a   sets/all   all     frequent item sets\n",
      "            c     closed     closed  frequent item sets\n",
      "            m     maximal    maximal frequent item sets\n",
      "            g     gens       generators\n",
      "            r     rules      association rules\n",
      "    supp    minimum support of an item set         (default: 10)\n",
      "            (positive: percentage, negative: absolute number)\n",
      "    conf    minimum confidence of an assoc. rule   (default: 80%)\n",
      "    zmin    minimum number of items per item set   (default: 1)\n",
      "    zmax    maximum number of items per item set   (default: no limit)\n",
      "    report  values to report with an item set      (default: a)\n",
      "            a     absolute item set support (number of transactions)\n",
      "            s     relative item set support as a fraction\n",
      "            S     relative item set support as a percentage\n",
      "            e     value of item set evaluation measure\n",
      "            E     value of item set evaluation measure as a percentage\n",
      "            (     combine values in a tuple (must be first character)\n",
      "            [     combine values in a list  (must be first character)\n",
      "            #     pattern spectrum as a dictionary  (no patterns)\n",
      "            =     pattern spectrum as a list        (no patterns)\n",
      "            |     pattern spectrum as three columns (no patterns)\n",
      "            for target 'r' (association rules) also available:\n",
      "            b     absolute body set  support (number of transactions)\n",
      "            x     relative body set  support as a fraction\n",
      "            X     relative body set  support as a percentage\n",
      "            h     absolute head item support (number of transactions)\n",
      "            y     relative head item support as a fraction\n",
      "            Y     relative head item support as a percentage\n",
      "            c     rule confidence as a fraction\n",
      "            C     rule confidence as a percentage\n",
      "            l     lift value of a rule (confidence/prior)\n",
      "            L     lift value of a rule as a percentage\n",
      "            Q     support of the empty set (total number of transactions)\n",
      "    eval    measure for item set evaluation        (default: x)\n",
      "            x     none       no measure / zero (default)\n",
      "            b     ldratio    binary logarithm of support quotient       (+)\n",
      "            c     conf       rule confidence                            (+)\n",
      "            d     confdiff   absolute confidence difference to prior    (+)\n",
      "            l     lift       lift value (confidence divided by prior)   (+)\n",
      "            a     liftdiff   absolute difference of lift value to 1     (+)\n",
      "            q     liftquot   difference of lift quotient to 1           (+)\n",
      "            v     cvct       conviction (inverse lift for negated head) (+)\n",
      "            e     cvctdiff   absolute difference of conviction to 1     (+)\n",
      "            r     cvctquot   difference of conviction quotient to 1     (+)\n",
      "            k     cprob      conditional probability ratio              (+)\n",
      "            j     import     importance (binary log. of prob. ratio)    (+)\n",
      "            z     cert       certainty factor (relative conf. change)   (+)\n",
      "            n     chi2       normalized chi^2 measure                   (+)\n",
      "            p     chi2pval   p-value from (unnormalized) chi^2 measure  (-)\n",
      "            y     yates      normalized chi^2 with Yates' correction    (+)\n",
      "            t     yatespval  p-value from Yates-corrected chi^2 measure (-)\n",
      "            i     info       information difference to prior            (+)\n",
      "            g     infopval   p-value from G statistic/info. difference  (-)\n",
      "            f     fetprob    Fisher's exact test (table probability)    (-)\n",
      "            h     fetchi2    Fisher's exact test (chi^2 measure)        (-)\n",
      "            m     fetinfo    Fisher's exact test (mutual information)   (-)\n",
      "            s     fetsupp    Fisher's exact test (support)              (-)\n",
      "            Measures marked with (+) must meet or exceed the threshold,\n",
      "            measures marked with (-) must not exceed the threshold\n",
      "            in order for the item set to be reported.\n",
      "    agg     evaluation measure aggregation mode    (default: x)\n",
      "            x     none       no aggregation (use first value)\n",
      "            m     min        minimum of individual measure values\n",
      "            n     max        maximum of individual measure values\n",
      "            a     avg        average of individual measure values\n",
      "    thresh  threshold for evaluation measure       (default: 10%)\n",
      "    prune   min. size for evaluation filtering     (default: no pruning)\n",
      "            = 0   backward filtering       (no subset check)\n",
      "            < 0   weak   forward filtering (one subset  must qualify)\n",
      "            > 0   strong forward filtering (all subsets must qualify)\n",
      "    algo    algorithm variant to use               (default: a)\n",
      "            b     basic      standard algorithm (only choice)\n",
      "    mode    operation mode indicators/flags        (default: None)\n",
      "            x     do not use perfect extension pruning\n",
      "            t/T   do not organize transactions as a prefix tree\n",
      "            y     a-posteriori pruning of infrequent item sets\n",
      "            z     invalidate evaluation below expected support\n",
      "            o     use original rule support definition (body & head)\n",
      "    border  support border for filtering item sets (default: None)\n",
      "            Must be a list or tuple of (absolute) minimum support values\n",
      "            per item set size (by which the list/tuple is indexed).\n",
      "    appear  dictionary mapping items to item appearance indicators,\n",
      "            with the key None referring to the default item appearance.\n",
      "            (If None does not occur as a key or no dictionary is given,\n",
      "            the default item appearance indicator is 'both'.)\n",
      "            This parameter is only used if the target type is rules.\n",
      "            * item may not appear anywhere in a rule:\n",
      "              '-', 'n', 'none', 'neither', 'ignore'\n",
      "            * item may appear only in rule body/antecedent:\n",
      "              'i', 'in', 'inp', 'input', 'b', 'body',\n",
      "              'a', 'ante', 'antecedent'\n",
      "            * item may appear only in rule head/consequent:\n",
      "              'o', 'out',      'output', 'h', 'head',\n",
      "              'c', 'cons', 'consequent'\n",
      "            * item may appear anywhere in a rule:\n",
      "              'io', 'i&o', 'inout', 'in&out', 'bh', 'b&h', 'both'\n",
      "    returns if report is not in ['#','=','|']:\n",
      "              if the target is association rules:\n",
      "                a list of rules (i.e. tuples with two or more elements),\n",
      "                each consisting of a head/consequent item, a tuple with\n",
      "                a body/antecedent item set, and the values selected by\n",
      "                the parameter 'report', which may be combined into a\n",
      "                tuple or a list if report[0] is '(' or '[', respectively.\n",
      "              if the target is a type of item sets:\n",
      "                a list of patterns (i.e. tuples with one or more elements),\n",
      "                each consisting of a tuple with a found frequent item set\n",
      "                and the values selected by the parameter 'report', which\n",
      "                may be combined into a tuple or list if report[0] is '('\n",
      "                or '[', respectively\n",
      "            if report in ['#','=','|']:\n",
      "              a pattern spectrum as a dictionary mapping pattern sizes\n",
      "              to the corresponding occurrence support ranges, as a list\n",
      "              of triplets (size, min. support, max. support) or as three\n",
      "              columns for sizes and minimum and maximum support values\n",
      "\n"
     ]
    }
   ],
   "source": [
    "help(fim_apriori)"
   ]
  },
  {
   "cell_type": "markdown",
   "id": "0e4170f0",
   "metadata": {},
   "source": [
    "#### Rules Germany"
   ]
  },
  {
   "cell_type": "code",
   "execution_count": 142,
   "id": "eb57bf86",
   "metadata": {},
   "outputs": [
    {
     "name": "stdout",
     "output_type": "stream",
     "text": [
      "Number of rules: 25\n"
     ]
    }
   ],
   "source": [
    "baskets_ger_df = df_sales_proc.loc[df_sales_proc[\"country\"] == \"Germany\"].drop([\"time_code\"], axis=1) #Remove time-related features\n",
    "baskets_ger_df = baskets_ger_df.values.tolist()\n",
    "\n",
    "#Keep only entries with Lift >=2\n",
    "rules_ger = fim_apriori(baskets_ger_df, supp=5, zmin=2, target='r', conf=60, report='ascl', eval=\"l\", thresh=200, prune=1)\n",
    "\n",
    "rules_ger_df = pd.DataFrame(rules_ger, columns=report_cols).sort_values([\"Lift\", \"Support (abs)\"], ascending=False)\n",
    "rules_ger_df_filtered = filter_rules(rules_ger_df, filters)\n",
    "rules_ger_df_filtered.loc[:, \"Country\"] = \"Germany\"\n",
    "\n",
    "print('Number of rules:', rules_ger_df_filtered.shape[0])"
   ]
  },
  {
   "cell_type": "markdown",
   "id": "3e94fa21",
   "metadata": {},
   "source": [
    "#### Rules UK"
   ]
  },
  {
   "cell_type": "code",
   "execution_count": 36,
   "id": "0f94ba31",
   "metadata": {},
   "outputs": [
    {
     "name": "stdout",
     "output_type": "stream",
     "text": [
      "Number of rules: 14\n"
     ]
    }
   ],
   "source": [
    "baskets_uk_df = df_sales_proc.loc[df_sales_proc[\"country\"] == \"United Kingdom\"].drop([\"time_code\"], axis=1) #Remove time-related features\n",
    "baskets_uk_df = baskets_uk_df.values.tolist()\n",
    "\n",
    "#Keep only entries with Lift >=2\n",
    "rules_uk = fim_apriori(baskets_uk_df, supp=5, zmin=2, target='r', conf=60, report='ascl', eval=\"l\", thresh=200, prune=1)\n",
    "\n",
    "rules_uk_df = pd.DataFrame(rules_uk, columns=report_cols).sort_values([\"Lift\", \"Support (abs)\"], ascending=False)\n",
    "rules_uk_df_filtered = filter_rules(rules_uk_df, filters)\n",
    "rules_uk_df_filtered.loc[:, \"Country\"] = \"United Kingdom\"\n",
    "\n",
    "print('Number of rules:', rules_uk_df_filtered.shape[0])"
   ]
  },
  {
   "cell_type": "markdown",
   "id": "85db8889",
   "metadata": {},
   "source": [
    "#### Rules US"
   ]
  },
  {
   "cell_type": "code",
   "execution_count": 37,
   "id": "74827720",
   "metadata": {},
   "outputs": [
    {
     "name": "stdout",
     "output_type": "stream",
     "text": [
      "Number of rules: 13\n"
     ]
    }
   ],
   "source": [
    "baskets_us_df = df_sales_proc.loc[df_sales_proc[\"country\"] == \"United States of America\"]\\\n",
    "        .drop([\"time_code\"], axis=1) #Remove time-related features\n",
    "baskets_us_df = baskets_us_df.values.tolist()\n",
    "\n",
    "#Keep only entries with Lift >=2\n",
    "rules_us = fim_apriori(baskets_us_df, supp=5, zmin=2, target='r', conf=60, report='ascl', eval=\"l\", thresh=200, prune=1)\n",
    "\n",
    "rules_us_df = pd.DataFrame(rules_us, columns=report_cols).sort_values([\"Lift\", \"Support (abs)\"], ascending=False)\n",
    "rules_us_df_filtered = filter_rules(rules_us_df, filters)\n",
    "rules_us_df_filtered.loc[:, \"Country\"] = \"United States of America\"\n",
    "\n",
    "print('Number of rules:', rules_us_df_filtered.shape[0])"
   ]
  },
  {
   "cell_type": "markdown",
   "id": "f4d10c37",
   "metadata": {},
   "source": [
    "#### Comparison"
   ]
  },
  {
   "cell_type": "code",
   "execution_count": 38,
   "id": "8e22feb3",
   "metadata": {},
   "outputs": [
    {
     "data": {
      "image/png": "[encoded data removed]",
      "text/plain": [
       "<Figure size 1080x360 with 3 Axes>"
      ]
     },
     "metadata": {
      "needs_background": "light"
     },
     "output_type": "display_data"
    }
   ],
   "source": [
    "fig, axes = plt.subplots(1, 3, figsize=(15, 5))\n",
    "rules_ger_df_filtered.groupby(\"Conseq.\").size().plot(kind=\"bar\", ax=axes[0], title=\"Germany\")\n",
    "rules_uk_df_filtered.groupby(\"Conseq.\").size().plot(kind=\"bar\", ax=axes[1], title=\"United Kingdom\")\n",
    "rules_us_df_filtered.groupby(\"Conseq.\").size().plot(kind=\"bar\", ax=axes[2], title=\"United States of America\")\n",
    "plt.show()"
   ]
  },
  {
   "cell_type": "code",
   "execution_count": 158,
   "id": "d069d5c8",
   "metadata": {},
   "outputs": [
    {
     "data": {
      "text/html": [
       "<div>\n",
       "<style scoped>\n",
       "    .dataframe tbody tr th:only-of-type {\n",
       "        vertical-align: middle;\n",
       "    }\n",
       "\n",
       "    .dataframe tbody tr th {\n",
       "        vertical-align: top;\n",
       "    }\n",
       "\n",
       "    .dataframe thead th {\n",
       "        text-align: right;\n",
       "    }\n",
       "</style>\n",
       "<table border=\"1\" class=\"dataframe\">\n",
       "  <thead>\n",
       "    <tr style=\"text-align: right;\">\n",
       "      <th></th>\n",
       "      <th>Conseq.</th>\n",
       "      <th>Prem.</th>\n",
       "      <th>Support (abs)</th>\n",
       "      <th>Support (frac)</th>\n",
       "      <th>Confidence</th>\n",
       "      <th>Lift</th>\n",
       "      <th>Country</th>\n",
       "    </tr>\n",
       "  </thead>\n",
       "  <tbody>\n",
       "    <tr>\n",
       "      <th>0</th>\n",
       "      <td>[48, 256]_mem</td>\n",
       "      <td>((395.0, 10630.0]_sales_uds, DDR4)</td>\n",
       "      <td>84270</td>\n",
       "      <td>0.039009</td>\n",
       "      <td>0.622364</td>\n",
       "      <td>9.972547</td>\n",
       "      <td>Germany</td>\n",
       "    </tr>\n",
       "    <tr>\n",
       "      <th>1</th>\n",
       "      <td>(395.0, 10630.0]_sales_uds</td>\n",
       "      <td>([48, 256]_mem,)</td>\n",
       "      <td>119799</td>\n",
       "      <td>0.055456</td>\n",
       "      <td>0.888605</td>\n",
       "      <td>9.360514</td>\n",
       "      <td>Germany</td>\n",
       "    </tr>\n",
       "    <tr>\n",
       "      <th>2</th>\n",
       "      <td>[24, 32]_mem</td>\n",
       "      <td>((246.0, 395.0]_sales_uds,)</td>\n",
       "      <td>130956</td>\n",
       "      <td>0.060620</td>\n",
       "      <td>0.649828</td>\n",
       "      <td>4.991779</td>\n",
       "      <td>Germany</td>\n",
       "    </tr>\n",
       "    <tr>\n",
       "      <th>3</th>\n",
       "      <td>[12, 16]_mem</td>\n",
       "      <td>((134.0, 177.0]_sales_uds,)</td>\n",
       "      <td>148577</td>\n",
       "      <td>0.068777</td>\n",
       "      <td>0.715513</td>\n",
       "      <td>3.131516</td>\n",
       "      <td>Germany</td>\n",
       "    </tr>\n",
       "    <tr>\n",
       "      <th>4</th>\n",
       "      <td>[0, 4]_mem</td>\n",
       "      <td>((0.999, 27.0]_sales_uds, [100, 1333]_clock)</td>\n",
       "      <td>225261</td>\n",
       "      <td>0.104275</td>\n",
       "      <td>0.998807</td>\n",
       "      <td>2.943585</td>\n",
       "      <td>Germany</td>\n",
       "    </tr>\n",
       "  </tbody>\n",
       "</table>\n",
       "</div>"
      ],
      "text/plain": [
       "                      Conseq.                                         Prem.  \\\n",
       "0               [48, 256]_mem            ((395.0, 10630.0]_sales_uds, DDR4)   \n",
       "1  (395.0, 10630.0]_sales_uds                              ([48, 256]_mem,)   \n",
       "2                [24, 32]_mem                   ((246.0, 395.0]_sales_uds,)   \n",
       "3                [12, 16]_mem                   ((134.0, 177.0]_sales_uds,)   \n",
       "4                  [0, 4]_mem  ((0.999, 27.0]_sales_uds, [100, 1333]_clock)   \n",
       "\n",
       "   Support (abs)  Support (frac)  Confidence      Lift  Country  \n",
       "0          84270        0.039009    0.622364  9.972547  Germany  \n",
       "1         119799        0.055456    0.888605  9.360514  Germany  \n",
       "2         130956        0.060620    0.649828  4.991779  Germany  \n",
       "3         148577        0.068777    0.715513  3.131516  Germany  \n",
       "4         225261        0.104275    0.998807  2.943585  Germany  "
      ]
     },
     "execution_count": 158,
     "metadata": {},
     "output_type": "execute_result"
    }
   ],
   "source": [
    "rules_joint_df = rules_ger_df_filtered.append(rules_uk_df_filtered, ignore_index=True).append(rules_us_df_filtered, ignore_index=True)\n",
    "rules_joint_df.head()"
   ]
  },
  {
   "cell_type": "markdown",
   "id": "5f2894e5",
   "metadata": {},
   "source": [
    "For some reason some of the rules with a support < 5% are still being showed, we will prune them by hand."
   ]
  },
  {
   "cell_type": "code",
   "execution_count": 159,
   "id": "12a7f734",
   "metadata": {},
   "outputs": [
    {
     "data": {
      "text/html": [
       "<div>\n",
       "<style scoped>\n",
       "    .dataframe tbody tr th:only-of-type {\n",
       "        vertical-align: middle;\n",
       "    }\n",
       "\n",
       "    .dataframe tbody tr th {\n",
       "        vertical-align: top;\n",
       "    }\n",
       "\n",
       "    .dataframe thead th {\n",
       "        text-align: right;\n",
       "    }\n",
       "</style>\n",
       "<table border=\"1\" class=\"dataframe\">\n",
       "  <thead>\n",
       "    <tr style=\"text-align: right;\">\n",
       "      <th></th>\n",
       "      <th>Conseq.</th>\n",
       "      <th>Prem.</th>\n",
       "      <th>Support (abs)</th>\n",
       "      <th>Support (frac)</th>\n",
       "      <th>Confidence</th>\n",
       "      <th>Lift</th>\n",
       "      <th>Country</th>\n",
       "    </tr>\n",
       "  </thead>\n",
       "  <tbody>\n",
       "    <tr>\n",
       "      <th>1</th>\n",
       "      <td>(395.0, 10630.0]_sales_uds</td>\n",
       "      <td>([48, 256]_mem,)</td>\n",
       "      <td>119799</td>\n",
       "      <td>0.055456</td>\n",
       "      <td>0.888605</td>\n",
       "      <td>9.360514</td>\n",
       "      <td>Germany</td>\n",
       "    </tr>\n",
       "    <tr>\n",
       "      <th>2</th>\n",
       "      <td>[24, 32]_mem</td>\n",
       "      <td>((246.0, 395.0]_sales_uds,)</td>\n",
       "      <td>130956</td>\n",
       "      <td>0.060620</td>\n",
       "      <td>0.649828</td>\n",
       "      <td>4.991779</td>\n",
       "      <td>Germany</td>\n",
       "    </tr>\n",
       "    <tr>\n",
       "      <th>3</th>\n",
       "      <td>[12, 16]_mem</td>\n",
       "      <td>((134.0, 177.0]_sales_uds,)</td>\n",
       "      <td>148577</td>\n",
       "      <td>0.068777</td>\n",
       "      <td>0.715513</td>\n",
       "      <td>3.131516</td>\n",
       "      <td>Germany</td>\n",
       "    </tr>\n",
       "    <tr>\n",
       "      <th>4</th>\n",
       "      <td>[0, 4]_mem</td>\n",
       "      <td>((0.999, 27.0]_sales_uds, [100, 1333]_clock)</td>\n",
       "      <td>225261</td>\n",
       "      <td>0.104275</td>\n",
       "      <td>0.998807</td>\n",
       "      <td>2.943585</td>\n",
       "      <td>Germany</td>\n",
       "    </tr>\n",
       "    <tr>\n",
       "      <th>5</th>\n",
       "      <td>[0, 4]_mem</td>\n",
       "      <td>((0.999, 27.0]_sales_uds,)</td>\n",
       "      <td>276919</td>\n",
       "      <td>0.128188</td>\n",
       "      <td>0.998392</td>\n",
       "      <td>2.942362</td>\n",
       "      <td>Germany</td>\n",
       "    </tr>\n",
       "  </tbody>\n",
       "</table>\n",
       "</div>"
      ],
      "text/plain": [
       "                      Conseq.                                         Prem.  \\\n",
       "1  (395.0, 10630.0]_sales_uds                              ([48, 256]_mem,)   \n",
       "2                [24, 32]_mem                   ((246.0, 395.0]_sales_uds,)   \n",
       "3                [12, 16]_mem                   ((134.0, 177.0]_sales_uds,)   \n",
       "4                  [0, 4]_mem  ((0.999, 27.0]_sales_uds, [100, 1333]_clock)   \n",
       "5                  [0, 4]_mem                    ((0.999, 27.0]_sales_uds,)   \n",
       "\n",
       "   Support (abs)  Support (frac)  Confidence      Lift  Country  \n",
       "1         119799        0.055456    0.888605  9.360514  Germany  \n",
       "2         130956        0.060620    0.649828  4.991779  Germany  \n",
       "3         148577        0.068777    0.715513  3.131516  Germany  \n",
       "4         225261        0.104275    0.998807  2.943585  Germany  \n",
       "5         276919        0.128188    0.998392  2.942362  Germany  "
      ]
     },
     "execution_count": 159,
     "metadata": {},
     "output_type": "execute_result"
    }
   ],
   "source": [
    "pruned_idx = rules_joint_df.loc[rules_joint_df[\"Support (frac)\"] < 5/100].index\n",
    "rules_joint_df = rules_joint_df.drop(pruned_idx)\n",
    "rules_joint_df.head()"
   ]
  },
  {
   "cell_type": "markdown",
   "id": "69ac05f2",
   "metadata": {},
   "source": [
    "##### Sales price"
   ]
  },
  {
   "cell_type": "code",
   "execution_count": 160,
   "id": "6d3d33a4",
   "metadata": {},
   "outputs": [
    {
     "data": {
      "text/html": [
       "<div>\n",
       "<style scoped>\n",
       "    .dataframe tbody tr th:only-of-type {\n",
       "        vertical-align: middle;\n",
       "    }\n",
       "\n",
       "    .dataframe tbody tr th {\n",
       "        vertical-align: top;\n",
       "    }\n",
       "\n",
       "    .dataframe thead th {\n",
       "        text-align: right;\n",
       "    }\n",
       "</style>\n",
       "<table border=\"1\" class=\"dataframe\">\n",
       "  <thead>\n",
       "    <tr style=\"text-align: right;\">\n",
       "      <th></th>\n",
       "      <th>Conseq.</th>\n",
       "      <th>Prem.</th>\n",
       "      <th>Support (abs)</th>\n",
       "      <th>Support (frac)</th>\n",
       "      <th>Confidence</th>\n",
       "      <th>Lift</th>\n",
       "      <th>Country</th>\n",
       "    </tr>\n",
       "  </thead>\n",
       "  <tbody>\n",
       "    <tr>\n",
       "      <th>1</th>\n",
       "      <td>(395.0, 10630.0]_sales_uds</td>\n",
       "      <td>([48, 256]_mem,)</td>\n",
       "      <td>119799</td>\n",
       "      <td>0.055456</td>\n",
       "      <td>0.888605</td>\n",
       "      <td>9.360514</td>\n",
       "      <td>Germany</td>\n",
       "    </tr>\n",
       "    <tr>\n",
       "      <th>25</th>\n",
       "      <td>(395.0, 10630.0]_sales_uds</td>\n",
       "      <td>([48, 256]_mem,)</td>\n",
       "      <td>38567</td>\n",
       "      <td>0.075431</td>\n",
       "      <td>0.906030</td>\n",
       "      <td>7.319942</td>\n",
       "      <td>United Kingdom</td>\n",
       "    </tr>\n",
       "  </tbody>\n",
       "</table>\n",
       "</div>"
      ],
      "text/plain": [
       "                       Conseq.             Prem.  Support (abs)  \\\n",
       "1   (395.0, 10630.0]_sales_uds  ([48, 256]_mem,)         119799   \n",
       "25  (395.0, 10630.0]_sales_uds  ([48, 256]_mem,)          38567   \n",
       "\n",
       "    Support (frac)  Confidence      Lift         Country  \n",
       "1         0.055456    0.888605  9.360514         Germany  \n",
       "25        0.075431    0.906030  7.319942  United Kingdom  "
      ]
     },
     "execution_count": 160,
     "metadata": {},
     "output_type": "execute_result"
    }
   ],
   "source": [
    "rules_joint_df.loc[rules_joint_df[\"Conseq.\"] == '(395.0, 10630.0]_sales_uds']"
   ]
  },
  {
   "cell_type": "markdown",
   "id": "6e77884f",
   "metadata": {},
   "source": [
    "The US is the only country considered that doesn't have an association rule between the ram with the highest memory size and the highest price range."
   ]
  },
  {
   "cell_type": "markdown",
   "id": "eba6950e",
   "metadata": {},
   "source": [
    "##### DDR3"
   ]
  },
  {
   "cell_type": "code",
   "execution_count": 161,
   "id": "762740fb",
   "metadata": {},
   "outputs": [
    {
     "data": {
      "text/html": [
       "<div>\n",
       "<style scoped>\n",
       "    .dataframe tbody tr th:only-of-type {\n",
       "        vertical-align: middle;\n",
       "    }\n",
       "\n",
       "    .dataframe tbody tr th {\n",
       "        vertical-align: top;\n",
       "    }\n",
       "\n",
       "    .dataframe thead th {\n",
       "        text-align: right;\n",
       "    }\n",
       "</style>\n",
       "<table border=\"1\" class=\"dataframe\">\n",
       "  <thead>\n",
       "    <tr style=\"text-align: right;\">\n",
       "      <th></th>\n",
       "      <th>Conseq.</th>\n",
       "      <th>Prem.</th>\n",
       "      <th>Support (abs)</th>\n",
       "      <th>Support (frac)</th>\n",
       "      <th>Confidence</th>\n",
       "      <th>Lift</th>\n",
       "      <th>Country</th>\n",
       "    </tr>\n",
       "  </thead>\n",
       "  <tbody>\n",
       "    <tr>\n",
       "      <th>37</th>\n",
       "      <td>DDR3</td>\n",
       "      <td>([1600, 1800]_clock,)</td>\n",
       "      <td>101786</td>\n",
       "      <td>0.199078</td>\n",
       "      <td>0.999754</td>\n",
       "      <td>2.149367</td>\n",
       "      <td>United Kingdom</td>\n",
       "    </tr>\n",
       "    <tr>\n",
       "      <th>47</th>\n",
       "      <td>DDR3</td>\n",
       "      <td>([1600, 1800]_clock,)</td>\n",
       "      <td>41444</td>\n",
       "      <td>0.207826</td>\n",
       "      <td>1.000000</td>\n",
       "      <td>2.154648</td>\n",
       "      <td>United States of America</td>\n",
       "    </tr>\n",
       "  </tbody>\n",
       "</table>\n",
       "</div>"
      ],
      "text/plain": [
       "   Conseq.                  Prem.  Support (abs)  Support (frac)  Confidence  \\\n",
       "37    DDR3  ([1600, 1800]_clock,)         101786        0.199078    0.999754   \n",
       "47    DDR3  ([1600, 1800]_clock,)          41444        0.207826    1.000000   \n",
       "\n",
       "        Lift                   Country  \n",
       "37  2.149367            United Kingdom  \n",
       "47  2.154648  United States of America  "
      ]
     },
     "execution_count": 161,
     "metadata": {},
     "output_type": "execute_result"
    }
   ],
   "source": [
    "rules_joint_df.loc[rules_joint_df[\"Conseq.\"] == 'DDR3']"
   ]
  },
  {
   "cell_type": "markdown",
   "id": "89f41be6",
   "metadata": {},
   "source": [
    "They share also the rule for DDR3, except for Germany."
   ]
  },
  {
   "cell_type": "code",
   "execution_count": 42,
   "id": "512f0b9a",
   "metadata": {},
   "outputs": [
    {
     "data": {
      "image/png": "[encoded data removed]",
      "text/plain": [
       "<Figure size 1080x360 with 3 Axes>"
      ]
     },
     "metadata": {
      "needs_background": "light"
     },
     "output_type": "display_data"
    }
   ],
   "source": [
    "fig, axes = plt.subplots(1, 3, figsize=(15, 5))\n",
    "df_sales_proc.loc[(df_sales_proc[\"country\"] == \"Germany\")]\\\n",
    "        .groupby([\"memory_type\", \"clock\"]).size().plot(kind=\"bar\", ax=axes[0], title=\"Germany\")\n",
    "df_sales_proc.loc[(df_sales_proc[\"country\"] == \"United Kingdom\")]\\\n",
    "        .groupby([\"memory_type\", \"clock\"]).size().plot(kind=\"bar\", ax=axes[1], title=\"United Kingdom\")\n",
    "df_sales_proc.loc[(df_sales_proc[\"country\"] == \"United States of America\")]\\\n",
    "        .groupby([\"memory_type\", \"clock\"]).size().plot(kind=\"bar\", ax=axes[2], title=\"United States of America\")\n",
    "plt.show()"
   ]
  },
  {
   "cell_type": "markdown",
   "id": "bba506dc",
   "metadata": {},
   "source": [
    "We can see, from the plots of the number of entries grouped by memory type and clock, that in the UK/US the DDR3 transaction distribution is much more concentrated on the 1600-1800 clock range causing the support rule to have a higher confidence/lift and therefore they do not get pruned."
   ]
  },
  {
   "cell_type": "markdown",
   "id": "462e4c70",
   "metadata": {},
   "source": [
    "##### DDR4"
   ]
  },
  {
   "cell_type": "code",
   "execution_count": 162,
   "id": "c35d2aef",
   "metadata": {},
   "outputs": [
    {
     "data": {
      "text/html": [
       "<div>\n",
       "<style scoped>\n",
       "    .dataframe tbody tr th:only-of-type {\n",
       "        vertical-align: middle;\n",
       "    }\n",
       "\n",
       "    .dataframe tbody tr th {\n",
       "        vertical-align: top;\n",
       "    }\n",
       "\n",
       "    .dataframe thead th {\n",
       "        text-align: right;\n",
       "    }\n",
       "</style>\n",
       "<table border=\"1\" class=\"dataframe\">\n",
       "  <thead>\n",
       "    <tr style=\"text-align: right;\">\n",
       "      <th></th>\n",
       "      <th>Conseq.</th>\n",
       "      <th>Prem.</th>\n",
       "      <th>Support (abs)</th>\n",
       "      <th>Support (frac)</th>\n",
       "      <th>Confidence</th>\n",
       "      <th>Lift</th>\n",
       "      <th>Country</th>\n",
       "    </tr>\n",
       "  </thead>\n",
       "  <tbody>\n",
       "    <tr>\n",
       "      <th>9</th>\n",
       "      <td>DDR4</td>\n",
       "      <td>([2400, 3200]_clock,)</td>\n",
       "      <td>381118</td>\n",
       "      <td>0.176422</td>\n",
       "      <td>0.788188</td>\n",
       "      <td>2.760223</td>\n",
       "      <td>Germany</td>\n",
       "    </tr>\n",
       "    <tr>\n",
       "      <th>20</th>\n",
       "      <td>DDR4</td>\n",
       "      <td>((395.0, 10630.0]_sales_uds,)</td>\n",
       "      <td>135403</td>\n",
       "      <td>0.062679</td>\n",
       "      <td>0.660258</td>\n",
       "      <td>2.312214</td>\n",
       "      <td>Germany</td>\n",
       "    </tr>\n",
       "    <tr>\n",
       "      <th>22</th>\n",
       "      <td>DDR4</td>\n",
       "      <td>(Mindfactory,)</td>\n",
       "      <td>141451</td>\n",
       "      <td>0.065479</td>\n",
       "      <td>0.607344</td>\n",
       "      <td>2.126910</td>\n",
       "      <td>Germany</td>\n",
       "    </tr>\n",
       "    <tr>\n",
       "      <th>38</th>\n",
       "      <td>DDR4</td>\n",
       "      <td>([3300, 4600]_clock,)</td>\n",
       "      <td>30750</td>\n",
       "      <td>0.060142</td>\n",
       "      <td>1.000000</td>\n",
       "      <td>2.099676</td>\n",
       "      <td>United Kingdom</td>\n",
       "    </tr>\n",
       "    <tr>\n",
       "      <th>50</th>\n",
       "      <td>DDR4</td>\n",
       "      <td>([3300, 4600]_clock,)</td>\n",
       "      <td>11742</td>\n",
       "      <td>0.058882</td>\n",
       "      <td>1.000000</td>\n",
       "      <td>2.024312</td>\n",
       "      <td>United States of America</td>\n",
       "    </tr>\n",
       "    <tr>\n",
       "      <th>51</th>\n",
       "      <td>DDR4</td>\n",
       "      <td>(G.Skill Ripjaws V,)</td>\n",
       "      <td>10539</td>\n",
       "      <td>0.052849</td>\n",
       "      <td>1.000000</td>\n",
       "      <td>2.024312</td>\n",
       "      <td>United States of America</td>\n",
       "    </tr>\n",
       "  </tbody>\n",
       "</table>\n",
       "</div>"
      ],
      "text/plain": [
       "   Conseq.                          Prem.  Support (abs)  Support (frac)  \\\n",
       "9     DDR4          ([2400, 3200]_clock,)         381118        0.176422   \n",
       "20    DDR4  ((395.0, 10630.0]_sales_uds,)         135403        0.062679   \n",
       "22    DDR4                 (Mindfactory,)         141451        0.065479   \n",
       "38    DDR4          ([3300, 4600]_clock,)          30750        0.060142   \n",
       "50    DDR4          ([3300, 4600]_clock,)          11742        0.058882   \n",
       "51    DDR4           (G.Skill Ripjaws V,)          10539        0.052849   \n",
       "\n",
       "    Confidence      Lift                   Country  \n",
       "9     0.788188  2.760223                   Germany  \n",
       "20    0.660258  2.312214                   Germany  \n",
       "22    0.607344  2.126910                   Germany  \n",
       "38    1.000000  2.099676            United Kingdom  \n",
       "50    1.000000  2.024312  United States of America  \n",
       "51    1.000000  2.024312  United States of America  "
      ]
     },
     "execution_count": 162,
     "metadata": {},
     "output_type": "execute_result"
    }
   ],
   "source": [
    "rules_joint_df.loc[rules_joint_df[\"Conseq.\"] == 'DDR4']"
   ]
  },
  {
   "cell_type": "markdown",
   "id": "42d0744d",
   "metadata": {},
   "source": [
    "Here we have multiple kind of premises for the same consequent.  \n",
    "Let's take a look at them one by one."
   ]
  },
  {
   "cell_type": "markdown",
   "id": "0b5584d1",
   "metadata": {},
   "source": [
    "###### DDR4"
   ]
  },
  {
   "cell_type": "code",
   "execution_count": 109,
   "id": "01b3634b",
   "metadata": {},
   "outputs": [
    {
     "name": "stdout",
     "output_type": "stream",
     "text": [
      "Clock\n"
     ]
    },
    {
     "data": {
      "image/png": "[encoded data removed]",
      "text/plain": [
       "<Figure size 1080x360 with 3 Axes>"
      ]
     },
     "metadata": {
      "needs_background": "light"
     },
     "output_type": "display_data"
    },
    {
     "name": "stdout",
     "output_type": "stream",
     "text": [
      "Total ram sales Germany: 2160260, 5% support: 108013\n",
      "Total ram sales UK 511288, 5% support: 25564\n",
      "Total ram sales US 199417, 5% support: 9970\n"
     ]
    }
   ],
   "source": [
    "print(\"Clock\")\n",
    "\n",
    "fig, axes = plt.subplots(1, 3, figsize=(15, 5))\n",
    "df_sales_proc.loc[(df_sales_proc[\"country\"] == \"Germany\")]\\\n",
    "        .groupby([\"memory_type\", \"clock\"]).size().plot(kind=\"bar\", ax=axes[0], title=\"Germany\")\n",
    "df_sales_proc.loc[(df_sales_proc[\"country\"] == \"United Kingdom\")]\\\n",
    "        .groupby([\"memory_type\", \"clock\"]).size().plot(kind=\"bar\", ax=axes[1], title=\"United Kingdom\")\n",
    "df_sales_proc.loc[(df_sales_proc[\"country\"] == \"United States of America\")]\\\n",
    "        .groupby([\"memory_type\", \"clock\"]).size().plot(kind=\"bar\", ax=axes[2], title=\"United States of America\")\n",
    "plt.show()\n",
    "\n",
    "print(f'Total ram sales Germany: {ram_sales_ger}, 5% support: {ram_sales_ger*5//100}')\n",
    "print(f'Total ram sales UK {ram_sales_uk}, 5% support: {ram_sales_uk*5//100}')\n",
    "print(f'Total ram sales US {ram_sales_us}, 5% support: {ram_sales_us*5//100}')"
   ]
  },
  {
   "cell_type": "markdown",
   "id": "332b7d82",
   "metadata": {},
   "source": [
    "The [2400, 3200]_clock premise is missing from UK/US due to low lift since, even though the confidence is high, the support for both that clock range and DDR4 is also high resulting in a lift below the cutoff point.  \n",
    "\n",
    "Meanwhile, in Germany, there is no association with premise [3300, 4600]_clock due to the low support for this feature."
   ]
  },
  {
   "cell_type": "code",
   "execution_count": 166,
   "id": "02051c66",
   "metadata": {},
   "outputs": [
    {
     "name": "stdout",
     "output_type": "stream",
     "text": [
      "Ram name\n"
     ]
    },
    {
     "data": {
      "image/png": "[encoded data removed]",
      "text/plain": [
       "<Figure size 1080x360 with 3 Axes>"
      ]
     },
     "metadata": {
      "needs_background": "light"
     },
     "output_type": "display_data"
    },
    {
     "name": "stdout",
     "output_type": "stream",
     "text": [
      "Total ram sales Germany: 2160260, 5% support: 108013\n",
      "Total ram sales UK 511288, 5% support: 25564\n",
      "Total ram sales US 199417, 5% support: 9970\n"
     ]
    }
   ],
   "source": [
    "print(\"Ram name\")\n",
    "\n",
    "fig, axes = plt.subplots(1, 3, figsize=(15, 5))\n",
    "fig.subplots_adjust(hspace=0.9, wspace=0.2)\n",
    "\n",
    "df_sales_proc.loc[(df_sales_proc[\"country\"] == \"Germany\") & (df_sales_proc[\"name\"] == \"G.Skill Ripjaws V\")]\\\n",
    "        .groupby([\"memory_type\", \"name\"]).size().nlargest(10).plot(kind=\"bar\", ax=axes[0], title=\"Germany\")\n",
    "df_sales_proc.loc[(df_sales_proc[\"country\"] == \"United Kingdom\") & (df_sales_proc[\"name\"] == \"G.Skill Ripjaws V\")]\\\n",
    "        .groupby([\"memory_type\", \"name\"]).size().nlargest(10).plot(kind=\"bar\", ax=axes[1], title=\"United Kingdom\")\n",
    "df_sales_proc.loc[(df_sales_proc[\"country\"] == \"United States of America\") & (df_sales_proc[\"name\"] == \"G.Skill Ripjaws V\")]\\\n",
    "        .groupby([\"memory_type\", \"name\"]).size().nlargest(10).plot(kind=\"bar\", ax=axes[2], title=\"United States of America\")\n",
    "plt.show()\n",
    "\n",
    "print(f'Total ram sales Germany: {ram_sales_ger}, 5% support: {ram_sales_ger*5//100}')\n",
    "print(f'Total ram sales UK {ram_sales_uk}, 5% support: {ram_sales_uk*5//100}')\n",
    "print(f'Total ram sales US {ram_sales_us}, 5% support: {ram_sales_us*5//100}')"
   ]
  },
  {
   "cell_type": "markdown",
   "id": "7256f39c",
   "metadata": {},
   "source": [
    "The ram name premises are also easily explainable by looking at their distribution: in all the countries considered the confidence for the ram model Corsair Vengeance is 1, however the support for that premise is below 5% everywhere except the US.  "
   ]
  },
  {
   "cell_type": "code",
   "execution_count": 121,
   "id": "e8235b2f",
   "metadata": {},
   "outputs": [
    {
     "name": "stdout",
     "output_type": "stream",
     "text": [
      "Vendor\n"
     ]
    },
    {
     "data": {
      "image/png": "[encoded data removed]",
      "text/plain": [
       "<Figure size 1080x360 with 3 Axes>"
      ]
     },
     "metadata": {
      "needs_background": "light"
     },
     "output_type": "display_data"
    },
    {
     "name": "stdout",
     "output_type": "stream",
     "text": [
      "Total ram sales Germany: 2160260, 5% support: 108013\n",
      "Total ram sales UK 511288, 5% support: 25564\n",
      "Total ram sales US 199417, 5% support: 9970\n"
     ]
    }
   ],
   "source": [
    "print(\"Vendor\")\n",
    "\n",
    "fig, axes = plt.subplots(1, 3, figsize=(15, 5))\n",
    "df_sales_proc.loc[(df_sales_proc[\"country\"] == \"Germany\")]\\\n",
    "        .groupby([\"memory_type\", \"name_vendor\"]).size().nlargest(10).plot(kind=\"bar\", ax=axes[0], title=\"Germany\")\n",
    "df_sales_proc.loc[(df_sales_proc[\"country\"] == \"United Kingdom\")]\\\n",
    "        .groupby([\"memory_type\", \"name_vendor\"]).size().nlargest(10).plot(kind=\"bar\", ax=axes[1], title=\"United Kingdom\")\n",
    "df_sales_proc.loc[(df_sales_proc[\"country\"] == \"United States of America\")]\\\n",
    "        .groupby([\"memory_type\", \"name_vendor\"]).size().nlargest(10).plot(kind=\"bar\", ax=axes[2], title=\"United States of America\")\n",
    "plt.show()\n",
    "\n",
    "print(f'Total ram sales Germany: {ram_sales_ger}, 5% support: {ram_sales_ger*5//100}')\n",
    "print(f'Total ram sales UK {ram_sales_uk}, 5% support: {ram_sales_uk*5//100}')\n",
    "print(f'Total ram sales US {ram_sales_us}, 5% support: {ram_sales_us*5//100}')"
   ]
  },
  {
   "cell_type": "markdown",
   "id": "3476627c",
   "metadata": {},
   "source": [
    "We can see that there is very little overlapping between the vendors in each country, Germany sales are domanited by german vendors, UK by british ones, etc.  \n",
    "Therefore it seems obvious that Mindfactory is a premise only for Germany.  \n",
    "\n",
    "The interesting part is that there is no rule with a vendor as premise in the UK or US, this seems due to the fact that the sales of DDR3 and DDR4 are fairly balanced in each vendor, drastically lowering the confidence of any potential rule."
   ]
  },
  {
   "cell_type": "code",
   "execution_count": 169,
   "id": "9c55903c",
   "metadata": {},
   "outputs": [
    {
     "name": "stdout",
     "output_type": "stream",
     "text": [
      "Sales (USD)\n"
     ]
    },
    {
     "data": {
      "image/png": "[encoded data removed]",
      "text/plain": [
       "<Figure size 1080x360 with 3 Axes>"
      ]
     },
     "metadata": {
      "needs_background": "light"
     },
     "output_type": "display_data"
    },
    {
     "name": "stdout",
     "output_type": "stream",
     "text": [
      "Total ram sales Germany: 2160260, 5% support: 108013\n",
      "Total ram sales UK 511288, 5% support: 25564\n",
      "Total ram sales US 199417, 5% support: 9970\n"
     ]
    }
   ],
   "source": [
    "print(\"Sales (USD)\")\n",
    "\n",
    "fig, axes = plt.subplots(1, 3, figsize=(15, 5))\n",
    "df_sales_proc.loc[(df_sales_proc[\"country\"] == \"Germany\")]\\\n",
    "        .groupby([\"memory_type\", \"sales_uds\"]).size().nlargest(15).plot(kind=\"bar\", ax=axes[0], title=\"Germany\")\n",
    "df_sales_proc.loc[(df_sales_proc[\"country\"] == \"United Kingdom\")]\\\n",
    "        .groupby([\"memory_type\", \"sales_uds\"]).size().nlargest(15).plot(kind=\"bar\", ax=axes[1], title=\"United Kingdom\")\n",
    "df_sales_proc.loc[(df_sales_proc[\"country\"] == \"United States of America\")]\\\n",
    "        .groupby([\"memory_type\", \"sales_uds\"]).size().nlargest(15).plot(kind=\"bar\", ax=axes[2], title=\"United States of America\")\n",
    "plt.show()\n",
    "\n",
    "print(f'Total ram sales Germany: {ram_sales_ger}, 5% support: {ram_sales_ger*5//100}')\n",
    "print(f'Total ram sales UK {ram_sales_uk}, 5% support: {ram_sales_uk*5//100}')\n",
    "print(f'Total ram sales US {ram_sales_us}, 5% support: {ram_sales_us*5//100}')"
   ]
  },
  {
   "cell_type": "markdown",
   "id": "1ffaa8aa",
   "metadata": {},
   "source": [
    "We can see that the confidence/support for this rule/premise is high enough to exceed the threshold in each country, therefore Germany is the only country with this kind of rule due to a higher lift score."
   ]
  },
  {
   "cell_type": "markdown",
   "id": "12bf1997",
   "metadata": {},
   "source": [
    "##### Memory size"
   ]
  },
  {
   "cell_type": "code",
   "execution_count": 170,
   "id": "d1d104b6",
   "metadata": {},
   "outputs": [
    {
     "data": {
      "text/html": [
       "<div>\n",
       "<style scoped>\n",
       "    .dataframe tbody tr th:only-of-type {\n",
       "        vertical-align: middle;\n",
       "    }\n",
       "\n",
       "    .dataframe tbody tr th {\n",
       "        vertical-align: top;\n",
       "    }\n",
       "\n",
       "    .dataframe thead th {\n",
       "        text-align: right;\n",
       "    }\n",
       "</style>\n",
       "<table border=\"1\" class=\"dataframe\">\n",
       "  <thead>\n",
       "    <tr style=\"text-align: right;\">\n",
       "      <th></th>\n",
       "      <th>Conseq.</th>\n",
       "      <th>Prem.</th>\n",
       "      <th>Support (abs)</th>\n",
       "      <th>Support (frac)</th>\n",
       "      <th>Confidence</th>\n",
       "      <th>Lift</th>\n",
       "      <th>Country</th>\n",
       "    </tr>\n",
       "  </thead>\n",
       "  <tbody>\n",
       "    <tr>\n",
       "      <th>2</th>\n",
       "      <td>[24, 32]_mem</td>\n",
       "      <td>((246.0, 395.0]_sales_uds,)</td>\n",
       "      <td>130956</td>\n",
       "      <td>0.060620</td>\n",
       "      <td>0.649828</td>\n",
       "      <td>4.991779</td>\n",
       "      <td>Germany</td>\n",
       "    </tr>\n",
       "    <tr>\n",
       "      <th>3</th>\n",
       "      <td>[12, 16]_mem</td>\n",
       "      <td>((134.0, 177.0]_sales_uds,)</td>\n",
       "      <td>148577</td>\n",
       "      <td>0.068777</td>\n",
       "      <td>0.715513</td>\n",
       "      <td>3.131516</td>\n",
       "      <td>Germany</td>\n",
       "    </tr>\n",
       "    <tr>\n",
       "      <th>4</th>\n",
       "      <td>[0, 4]_mem</td>\n",
       "      <td>((0.999, 27.0]_sales_uds, [100, 1333]_clock)</td>\n",
       "      <td>225261</td>\n",
       "      <td>0.104275</td>\n",
       "      <td>0.998807</td>\n",
       "      <td>2.943585</td>\n",
       "      <td>Germany</td>\n",
       "    </tr>\n",
       "    <tr>\n",
       "      <th>5</th>\n",
       "      <td>[0, 4]_mem</td>\n",
       "      <td>((0.999, 27.0]_sales_uds,)</td>\n",
       "      <td>276919</td>\n",
       "      <td>0.128188</td>\n",
       "      <td>0.998392</td>\n",
       "      <td>2.942362</td>\n",
       "      <td>Germany</td>\n",
       "    </tr>\n",
       "    <tr>\n",
       "      <th>11</th>\n",
       "      <td>[6, 8]_mem</td>\n",
       "      <td>((57.0, 78.0]_sales_uds,)</td>\n",
       "      <td>138941</td>\n",
       "      <td>0.064317</td>\n",
       "      <td>0.638067</td>\n",
       "      <td>2.662960</td>\n",
       "      <td>Germany</td>\n",
       "    </tr>\n",
       "    <tr>\n",
       "      <th>12</th>\n",
       "      <td>[0, 4]_mem</td>\n",
       "      <td>(DDR2, [100, 1333]_clock)</td>\n",
       "      <td>254014</td>\n",
       "      <td>0.117585</td>\n",
       "      <td>0.891646</td>\n",
       "      <td>2.627771</td>\n",
       "      <td>Germany</td>\n",
       "    </tr>\n",
       "    <tr>\n",
       "      <th>13</th>\n",
       "      <td>[0, 4]_mem</td>\n",
       "      <td>(DDR2,)</td>\n",
       "      <td>254014</td>\n",
       "      <td>0.117585</td>\n",
       "      <td>0.891646</td>\n",
       "      <td>2.627771</td>\n",
       "      <td>Germany</td>\n",
       "    </tr>\n",
       "    <tr>\n",
       "      <th>14</th>\n",
       "      <td>[0, 4]_mem</td>\n",
       "      <td>((27.0, 41.0]_sales_uds,)</td>\n",
       "      <td>209229</td>\n",
       "      <td>0.096854</td>\n",
       "      <td>0.890746</td>\n",
       "      <td>2.625117</td>\n",
       "      <td>Germany</td>\n",
       "    </tr>\n",
       "    <tr>\n",
       "      <th>15</th>\n",
       "      <td>[6, 8]_mem</td>\n",
       "      <td>((78.0, 99.0]_sales_uds,)</td>\n",
       "      <td>129064</td>\n",
       "      <td>0.059745</td>\n",
       "      <td>0.627575</td>\n",
       "      <td>2.619173</td>\n",
       "      <td>Germany</td>\n",
       "    </tr>\n",
       "    <tr>\n",
       "      <th>24</th>\n",
       "      <td>[0, 4]_mem</td>\n",
       "      <td>([100, 1333]_clock,)</td>\n",
       "      <td>523363</td>\n",
       "      <td>0.242269</td>\n",
       "      <td>0.698754</td>\n",
       "      <td>2.059297</td>\n",
       "      <td>Germany</td>\n",
       "    </tr>\n",
       "    <tr>\n",
       "      <th>26</th>\n",
       "      <td>[48, 256]_mem</td>\n",
       "      <td>((395.0, 10630.0]_sales_uds,)</td>\n",
       "      <td>38567</td>\n",
       "      <td>0.075431</td>\n",
       "      <td>0.609418</td>\n",
       "      <td>7.319942</td>\n",
       "      <td>United Kingdom</td>\n",
       "    </tr>\n",
       "    <tr>\n",
       "      <th>29</th>\n",
       "      <td>[0, 4]_mem</td>\n",
       "      <td>((27.0, 41.0]_sales_uds,)</td>\n",
       "      <td>34138</td>\n",
       "      <td>0.066769</td>\n",
       "      <td>0.890030</td>\n",
       "      <td>4.301720</td>\n",
       "      <td>United Kingdom</td>\n",
       "    </tr>\n",
       "    <tr>\n",
       "      <th>30</th>\n",
       "      <td>[0, 4]_mem</td>\n",
       "      <td>(DDR2, [100, 1333]_clock)</td>\n",
       "      <td>26386</td>\n",
       "      <td>0.051607</td>\n",
       "      <td>0.880708</td>\n",
       "      <td>4.256662</td>\n",
       "      <td>United Kingdom</td>\n",
       "    </tr>\n",
       "    <tr>\n",
       "      <th>31</th>\n",
       "      <td>[0, 4]_mem</td>\n",
       "      <td>(DDR2,)</td>\n",
       "      <td>26386</td>\n",
       "      <td>0.051607</td>\n",
       "      <td>0.880708</td>\n",
       "      <td>4.256662</td>\n",
       "      <td>United Kingdom</td>\n",
       "    </tr>\n",
       "    <tr>\n",
       "      <th>32</th>\n",
       "      <td>[24, 32]_mem</td>\n",
       "      <td>((246.0, 395.0]_sales_uds,)</td>\n",
       "      <td>37989</td>\n",
       "      <td>0.074301</td>\n",
       "      <td>0.619288</td>\n",
       "      <td>3.819155</td>\n",
       "      <td>United Kingdom</td>\n",
       "    </tr>\n",
       "    <tr>\n",
       "      <th>33</th>\n",
       "      <td>[6, 8]_mem</td>\n",
       "      <td>((57.0, 78.0]_sales_uds,)</td>\n",
       "      <td>37168</td>\n",
       "      <td>0.072695</td>\n",
       "      <td>0.713658</td>\n",
       "      <td>2.650102</td>\n",
       "      <td>United Kingdom</td>\n",
       "    </tr>\n",
       "    <tr>\n",
       "      <th>34</th>\n",
       "      <td>[12, 16]_mem</td>\n",
       "      <td>((134.0, 177.0]_sales_uds,)</td>\n",
       "      <td>40096</td>\n",
       "      <td>0.078422</td>\n",
       "      <td>0.737547</td>\n",
       "      <td>2.649264</td>\n",
       "      <td>United Kingdom</td>\n",
       "    </tr>\n",
       "    <tr>\n",
       "      <th>35</th>\n",
       "      <td>[6, 8]_mem</td>\n",
       "      <td>((78.0, 99.0]_sales_uds,)</td>\n",
       "      <td>34962</td>\n",
       "      <td>0.068380</td>\n",
       "      <td>0.674747</td>\n",
       "      <td>2.505610</td>\n",
       "      <td>United Kingdom</td>\n",
       "    </tr>\n",
       "    <tr>\n",
       "      <th>36</th>\n",
       "      <td>[12, 16]_mem</td>\n",
       "      <td>((177.0, 246.0]_sales_uds,)</td>\n",
       "      <td>36573</td>\n",
       "      <td>0.071531</td>\n",
       "      <td>0.628434</td>\n",
       "      <td>2.257333</td>\n",
       "      <td>United Kingdom</td>\n",
       "    </tr>\n",
       "    <tr>\n",
       "      <th>41</th>\n",
       "      <td>[0, 4]_mem</td>\n",
       "      <td>((0.999, 27.0]_sales_uds,)</td>\n",
       "      <td>11066</td>\n",
       "      <td>0.055492</td>\n",
       "      <td>0.974377</td>\n",
       "      <td>5.592061</td>\n",
       "      <td>United States of America</td>\n",
       "    </tr>\n",
       "    <tr>\n",
       "      <th>42</th>\n",
       "      <td>[24, 32]_mem</td>\n",
       "      <td>((246.0, 395.0]_sales_uds,)</td>\n",
       "      <td>11925</td>\n",
       "      <td>0.059799</td>\n",
       "      <td>0.678868</td>\n",
       "      <td>4.549446</td>\n",
       "      <td>United States of America</td>\n",
       "    </tr>\n",
       "    <tr>\n",
       "      <th>44</th>\n",
       "      <td>[0, 4]_mem</td>\n",
       "      <td>((27.0, 41.0]_sales_uds,)</td>\n",
       "      <td>13368</td>\n",
       "      <td>0.067035</td>\n",
       "      <td>0.616037</td>\n",
       "      <td>3.535506</td>\n",
       "      <td>United States of America</td>\n",
       "    </tr>\n",
       "    <tr>\n",
       "      <th>45</th>\n",
       "      <td>[12, 16]_mem</td>\n",
       "      <td>((134.0, 177.0]_sales_uds,)</td>\n",
       "      <td>15031</td>\n",
       "      <td>0.075375</td>\n",
       "      <td>0.735876</td>\n",
       "      <td>2.267751</td>\n",
       "      <td>United States of America</td>\n",
       "    </tr>\n",
       "    <tr>\n",
       "      <th>46</th>\n",
       "      <td>[6, 8]_mem</td>\n",
       "      <td>((41.0, 57.0]_sales_uds,)</td>\n",
       "      <td>12650</td>\n",
       "      <td>0.063435</td>\n",
       "      <td>0.629479</td>\n",
       "      <td>2.171251</td>\n",
       "      <td>United States of America</td>\n",
       "    </tr>\n",
       "    <tr>\n",
       "      <th>48</th>\n",
       "      <td>[6, 8]_mem</td>\n",
       "      <td>((57.0, 78.0]_sales_uds,)</td>\n",
       "      <td>16805</td>\n",
       "      <td>0.084271</td>\n",
       "      <td>0.614218</td>\n",
       "      <td>2.118613</td>\n",
       "      <td>United States of America</td>\n",
       "    </tr>\n",
       "    <tr>\n",
       "      <th>49</th>\n",
       "      <td>[12, 16]_mem</td>\n",
       "      <td>((99.0, 134.0]_sales_uds,)</td>\n",
       "      <td>16172</td>\n",
       "      <td>0.081096</td>\n",
       "      <td>0.664011</td>\n",
       "      <td>2.046286</td>\n",
       "      <td>United States of America</td>\n",
       "    </tr>\n",
       "  </tbody>\n",
       "</table>\n",
       "</div>"
      ],
      "text/plain": [
       "          Conseq.                                         Prem.  \\\n",
       "2    [24, 32]_mem                   ((246.0, 395.0]_sales_uds,)   \n",
       "3    [12, 16]_mem                   ((134.0, 177.0]_sales_uds,)   \n",
       "4      [0, 4]_mem  ((0.999, 27.0]_sales_uds, [100, 1333]_clock)   \n",
       "5      [0, 4]_mem                    ((0.999, 27.0]_sales_uds,)   \n",
       "11     [6, 8]_mem                     ((57.0, 78.0]_sales_uds,)   \n",
       "12     [0, 4]_mem                     (DDR2, [100, 1333]_clock)   \n",
       "13     [0, 4]_mem                                       (DDR2,)   \n",
       "14     [0, 4]_mem                     ((27.0, 41.0]_sales_uds,)   \n",
       "15     [6, 8]_mem                     ((78.0, 99.0]_sales_uds,)   \n",
       "24     [0, 4]_mem                          ([100, 1333]_clock,)   \n",
       "26  [48, 256]_mem                 ((395.0, 10630.0]_sales_uds,)   \n",
       "29     [0, 4]_mem                     ((27.0, 41.0]_sales_uds,)   \n",
       "30     [0, 4]_mem                     (DDR2, [100, 1333]_clock)   \n",
       "31     [0, 4]_mem                                       (DDR2,)   \n",
       "32   [24, 32]_mem                   ((246.0, 395.0]_sales_uds,)   \n",
       "33     [6, 8]_mem                     ((57.0, 78.0]_sales_uds,)   \n",
       "34   [12, 16]_mem                   ((134.0, 177.0]_sales_uds,)   \n",
       "35     [6, 8]_mem                     ((78.0, 99.0]_sales_uds,)   \n",
       "36   [12, 16]_mem                   ((177.0, 246.0]_sales_uds,)   \n",
       "41     [0, 4]_mem                    ((0.999, 27.0]_sales_uds,)   \n",
       "42   [24, 32]_mem                   ((246.0, 395.0]_sales_uds,)   \n",
       "44     [0, 4]_mem                     ((27.0, 41.0]_sales_uds,)   \n",
       "45   [12, 16]_mem                   ((134.0, 177.0]_sales_uds,)   \n",
       "46     [6, 8]_mem                     ((41.0, 57.0]_sales_uds,)   \n",
       "48     [6, 8]_mem                     ((57.0, 78.0]_sales_uds,)   \n",
       "49   [12, 16]_mem                    ((99.0, 134.0]_sales_uds,)   \n",
       "\n",
       "    Support (abs)  Support (frac)  Confidence      Lift  \\\n",
       "2          130956        0.060620    0.649828  4.991779   \n",
       "3          148577        0.068777    0.715513  3.131516   \n",
       "4          225261        0.104275    0.998807  2.943585   \n",
       "5          276919        0.128188    0.998392  2.942362   \n",
       "11         138941        0.064317    0.638067  2.662960   \n",
       "12         254014        0.117585    0.891646  2.627771   \n",
       "13         254014        0.117585    0.891646  2.627771   \n",
       "14         209229        0.096854    0.890746  2.625117   \n",
       "15         129064        0.059745    0.627575  2.619173   \n",
       "24         523363        0.242269    0.698754  2.059297   \n",
       "26          38567        0.075431    0.609418  7.319942   \n",
       "29          34138        0.066769    0.890030  4.301720   \n",
       "30          26386        0.051607    0.880708  4.256662   \n",
       "31          26386        0.051607    0.880708  4.256662   \n",
       "32          37989        0.074301    0.619288  3.819155   \n",
       "33          37168        0.072695    0.713658  2.650102   \n",
       "34          40096        0.078422    0.737547  2.649264   \n",
       "35          34962        0.068380    0.674747  2.505610   \n",
       "36          36573        0.071531    0.628434  2.257333   \n",
       "41          11066        0.055492    0.974377  5.592061   \n",
       "42          11925        0.059799    0.678868  4.549446   \n",
       "44          13368        0.067035    0.616037  3.535506   \n",
       "45          15031        0.075375    0.735876  2.267751   \n",
       "46          12650        0.063435    0.629479  2.171251   \n",
       "48          16805        0.084271    0.614218  2.118613   \n",
       "49          16172        0.081096    0.664011  2.046286   \n",
       "\n",
       "                     Country  \n",
       "2                    Germany  \n",
       "3                    Germany  \n",
       "4                    Germany  \n",
       "5                    Germany  \n",
       "11                   Germany  \n",
       "12                   Germany  \n",
       "13                   Germany  \n",
       "14                   Germany  \n",
       "15                   Germany  \n",
       "24                   Germany  \n",
       "26            United Kingdom  \n",
       "29            United Kingdom  \n",
       "30            United Kingdom  \n",
       "31            United Kingdom  \n",
       "32            United Kingdom  \n",
       "33            United Kingdom  \n",
       "34            United Kingdom  \n",
       "35            United Kingdom  \n",
       "36            United Kingdom  \n",
       "41  United States of America  \n",
       "42  United States of America  \n",
       "44  United States of America  \n",
       "45  United States of America  \n",
       "46  United States of America  \n",
       "48  United States of America  \n",
       "49  United States of America  "
      ]
     },
     "execution_count": 170,
     "metadata": {},
     "output_type": "execute_result"
    }
   ],
   "source": [
    "rules_joint_df.loc[rules_joint_df[\"Conseq.\"]\\\n",
    "                            .isin(['[0, 4]_mem', '[6, 8]_mem', '[12, 16]_mem', '[24, 32]_mem', '[48, 256]_mem'])]"
   ]
  },
  {
   "cell_type": "markdown",
   "id": "527fb167",
   "metadata": {},
   "source": [
    "Here we have just three kinds of premises: price, clock and memory type.  \n",
    "We also have some rules with two premises (price, clock or memory type) which states the obvious: cheap ram with a low clock/old memory type most likely has a low capacity."
   ]
  },
  {
   "cell_type": "code",
   "execution_count": 171,
   "id": "d52fbb2e",
   "metadata": {},
   "outputs": [
    {
     "name": "stdout",
     "output_type": "stream",
     "text": [
      "Sales (USD)\n"
     ]
    },
    {
     "data": {
      "image/png": "[encoded data removed]",
      "text/plain": [
       "<Figure size 1080x360 with 3 Axes>"
      ]
     },
     "metadata": {
      "needs_background": "light"
     },
     "output_type": "display_data"
    },
    {
     "name": "stdout",
     "output_type": "stream",
     "text": [
      "Total ram sales Germany: 2160260, 5% support: 108013\n",
      "Total ram sales UK 511288, 5% support: 25564\n",
      "Total ram sales US 199417, 5% support: 9970\n"
     ]
    }
   ],
   "source": [
    "print(\"Sales (USD)\")\n",
    "\n",
    "fig, axes = plt.subplots(1, 3, figsize=(15, 5))\n",
    "df_sales_proc.loc[(df_sales_proc[\"country\"] == \"Germany\")]\\\n",
    "        .groupby([\"memory\", \"sales_uds\"]).size().nlargest(15).plot(kind=\"bar\", ax=axes[0], title=\"Germany\")\n",
    "df_sales_proc.loc[(df_sales_proc[\"country\"] == \"United Kingdom\")]\\\n",
    "        .groupby([\"memory\", \"sales_uds\"]).size().nlargest(15).plot(kind=\"bar\", ax=axes[1], title=\"United Kingdom\")\n",
    "df_sales_proc.loc[(df_sales_proc[\"country\"] == \"United States of America\")]\\\n",
    "        .groupby([\"memory\", \"sales_uds\"]).size().nlargest(15).plot(kind=\"bar\", ax=axes[2], title=\"United States of America\")\n",
    "plt.show()\n",
    "\n",
    "print(f'Total ram sales Germany: {ram_sales_ger}, 5% support: {ram_sales_ger*5//100}')\n",
    "print(f'Total ram sales UK {ram_sales_uk}, 5% support: {ram_sales_uk*5//100}')\n",
    "print(f'Total ram sales US {ram_sales_us}, 5% support: {ram_sales_us*5//100}')"
   ]
  },
  {
   "cell_type": "markdown",
   "id": "342004be",
   "metadata": {},
   "source": [
    "There are plenty of valid rules concerning prices in each country, however the UK is the only country that has a rule with [48, 256]_mem as a consequent.  \n",
    "Each country seems to have a confidence/support high enough (we already saw above that there is a strong association between high capacity and high prices), the only differentiating thing between the UK and the others is therefore the lift score."
   ]
  },
  {
   "cell_type": "code",
   "execution_count": 173,
   "id": "5dca2006",
   "metadata": {},
   "outputs": [
    {
     "name": "stdout",
     "output_type": "stream",
     "text": [
      "Clock\n"
     ]
    },
    {
     "data": {
      "image/png": "[encoded data removed]",
      "text/plain": [
       "<Figure size 1080x360 with 3 Axes>"
      ]
     },
     "metadata": {
      "needs_background": "light"
     },
     "output_type": "display_data"
    },
    {
     "name": "stdout",
     "output_type": "stream",
     "text": [
      "Total ram sales Germany: 2160260, 5% support: 108013\n",
      "Total ram sales UK 511288, 5% support: 25564\n",
      "Total ram sales US 199417, 5% support: 9970\n"
     ]
    }
   ],
   "source": [
    "print(\"Clock\")\n",
    "\n",
    "fig, axes = plt.subplots(1, 3, figsize=(15, 5))\n",
    "df_sales_proc.loc[(df_sales_proc[\"country\"] == \"Germany\") & (df_sales_proc[\"memory\"] == \"[0, 4]_mem\")]\\\n",
    "        .groupby([\"memory\", \"clock\"]).size().nlargest(15).plot(kind=\"bar\", ax=axes[0], title=\"Germany\")\n",
    "df_sales_proc.loc[(df_sales_proc[\"country\"] == \"United Kingdom\") & (df_sales_proc[\"memory\"] == \"[0, 4]_mem\")]\\\n",
    "        .groupby([\"memory\", \"clock\"]).size().nlargest(15).plot(kind=\"bar\", ax=axes[1], title=\"United Kingdom\")\n",
    "df_sales_proc.loc[(df_sales_proc[\"country\"] == \"United States of America\") & (df_sales_proc[\"memory\"] == \"[0, 4]_mem\")]\\\n",
    "        .groupby([\"memory\", \"clock\"]).size().nlargest(15).plot(kind=\"bar\", ax=axes[2], title=\"United States of America\")\n",
    "plt.show()\n",
    "\n",
    "print(f'Total ram sales Germany: {ram_sales_ger}, 5% support: {ram_sales_ger*5//100}')\n",
    "print(f'Total ram sales UK {ram_sales_uk}, 5% support: {ram_sales_uk*5//100}')\n",
    "print(f'Total ram sales US {ram_sales_us}, 5% support: {ram_sales_us*5//100}')"
   ]
  },
  {
   "cell_type": "markdown",
   "id": "88a6b9a3",
   "metadata": {},
   "source": [
    "In Germany there is an association rule with [100, 1333]_clock as a premise and [0, 4]_mem as a consequent.  \n",
    "We can see that this is due to a low confidence score in the UK/US, in which the distribution of these features in the ram sales is less skewed."
   ]
  },
  {
   "cell_type": "code",
   "execution_count": 174,
   "id": "d55e75e2",
   "metadata": {},
   "outputs": [
    {
     "name": "stdout",
     "output_type": "stream",
     "text": [
      "Memory type\n"
     ]
    },
    {
     "data": {
      "image/png": "[encoded data removed]",
      "text/plain": [
       "<Figure size 1080x360 with 3 Axes>"
      ]
     },
     "metadata": {
      "needs_background": "light"
     },
     "output_type": "display_data"
    },
    {
     "name": "stdout",
     "output_type": "stream",
     "text": [
      "Total ram sales Germany: 2160260, 5% support: 108013\n",
      "Total ram sales UK 511288, 5% support: 25564\n",
      "Total ram sales US 199417, 5% support: 9970\n"
     ]
    }
   ],
   "source": [
    "print(\"Memory type\")\n",
    "\n",
    "fig, axes = plt.subplots(1, 3, figsize=(15, 5))\n",
    "df_sales_proc.loc[(df_sales_proc[\"country\"] == \"Germany\")]\\\n",
    "        .groupby([\"memory\", \"memory_type\"]).size().nlargest(15).plot(kind=\"bar\", ax=axes[0], title=\"Germany\")\n",
    "df_sales_proc.loc[(df_sales_proc[\"country\"] == \"United Kingdom\")]\\\n",
    "        .groupby([\"memory\", \"memory_type\"]).size().nlargest(15).plot(kind=\"bar\", ax=axes[1], title=\"United Kingdom\")\n",
    "df_sales_proc.loc[(df_sales_proc[\"country\"] == \"United States of America\")]\\\n",
    "        .groupby([\"memory\", \"memory_type\"]).size().nlargest(15).plot(kind=\"bar\", ax=axes[2], title=\"United States of America\")\n",
    "plt.show()\n",
    "\n",
    "print(f'Total ram sales Germany: {ram_sales_ger}, 5% support: {ram_sales_ger*5//100}')\n",
    "print(f'Total ram sales UK {ram_sales_uk}, 5% support: {ram_sales_uk*5//100}')\n",
    "print(f'Total ram sales US {ram_sales_us}, 5% support: {ram_sales_us*5//100}')"
   ]
  },
  {
   "cell_type": "markdown",
   "id": "d16acd32",
   "metadata": {},
   "source": [
    "Germany and the UK present an association between DDR2 and [0, 4]_mem.  \n",
    "This rule is absent in the US due to a low support.  \n",
    "It seems that no other rule of this kind exists due to the more varied distribution of capacities for DDR3/DDR4 type of ram, resulting in a low confidence score."
   ]
  },
  {
   "cell_type": "markdown",
   "id": "93451261",
   "metadata": {},
   "source": [
    "##### Clock"
   ]
  },
  {
   "cell_type": "code",
   "execution_count": 48,
   "id": "20771bf7",
   "metadata": {},
   "outputs": [
    {
     "data": {
      "text/html": [
       "<div>\n",
       "<style scoped>\n",
       "    .dataframe tbody tr th:only-of-type {\n",
       "        vertical-align: middle;\n",
       "    }\n",
       "\n",
       "    .dataframe tbody tr th {\n",
       "        vertical-align: top;\n",
       "    }\n",
       "\n",
       "    .dataframe thead th {\n",
       "        text-align: right;\n",
       "    }\n",
       "</style>\n",
       "<table border=\"1\" class=\"dataframe\">\n",
       "  <thead>\n",
       "    <tr style=\"text-align: right;\">\n",
       "      <th></th>\n",
       "      <th>Conseq.</th>\n",
       "      <th>Prem.</th>\n",
       "      <th>Support (abs)</th>\n",
       "      <th>Support (frac)</th>\n",
       "      <th>Confidence</th>\n",
       "      <th>Lift</th>\n",
       "      <th>Country</th>\n",
       "    </tr>\n",
       "  </thead>\n",
       "  <tbody>\n",
       "    <tr>\n",
       "      <th>6</th>\n",
       "      <td>[100, 1333]_clock</td>\n",
       "      <td>(DDR2,)</td>\n",
       "      <td>284882</td>\n",
       "      <td>0.131874</td>\n",
       "      <td>1.000000</td>\n",
       "      <td>2.884212</td>\n",
       "      <td>Germany</td>\n",
       "    </tr>\n",
       "    <tr>\n",
       "      <th>7</th>\n",
       "      <td>[100, 1333]_clock</td>\n",
       "      <td>(DDR2, [0, 4]_mem)</td>\n",
       "      <td>254014</td>\n",
       "      <td>0.117585</td>\n",
       "      <td>1.000000</td>\n",
       "      <td>2.884212</td>\n",
       "      <td>Germany</td>\n",
       "    </tr>\n",
       "    <tr>\n",
       "      <th>8</th>\n",
       "      <td>[2400, 3200]_clock</td>\n",
       "      <td>((395.0, 10630.0]_sales_uds, DDR4)</td>\n",
       "      <td>85995</td>\n",
       "      <td>0.039808</td>\n",
       "      <td>0.635104</td>\n",
       "      <td>2.837404</td>\n",
       "      <td>Germany</td>\n",
       "    </tr>\n",
       "    <tr>\n",
       "      <th>10</th>\n",
       "      <td>[2400, 3200]_clock</td>\n",
       "      <td>(DDR4,)</td>\n",
       "      <td>381118</td>\n",
       "      <td>0.176422</td>\n",
       "      <td>0.617828</td>\n",
       "      <td>2.760223</td>\n",
       "      <td>Germany</td>\n",
       "    </tr>\n",
       "    <tr>\n",
       "      <th>18</th>\n",
       "      <td>[100, 1333]_clock</td>\n",
       "      <td>((0.999, 27.0]_sales_uds, [0, 4]_mem)</td>\n",
       "      <td>225261</td>\n",
       "      <td>0.104275</td>\n",
       "      <td>0.813454</td>\n",
       "      <td>2.346175</td>\n",
       "      <td>Germany</td>\n",
       "    </tr>\n",
       "    <tr>\n",
       "      <th>19</th>\n",
       "      <td>[100, 1333]_clock</td>\n",
       "      <td>((0.999, 27.0]_sales_uds,)</td>\n",
       "      <td>225530</td>\n",
       "      <td>0.104399</td>\n",
       "      <td>0.813116</td>\n",
       "      <td>2.345199</td>\n",
       "      <td>Germany</td>\n",
       "    </tr>\n",
       "    <tr>\n",
       "      <th>23</th>\n",
       "      <td>[100, 1333]_clock</td>\n",
       "      <td>([0, 4]_mem,)</td>\n",
       "      <td>523363</td>\n",
       "      <td>0.242269</td>\n",
       "      <td>0.713990</td>\n",
       "      <td>2.059297</td>\n",
       "      <td>Germany</td>\n",
       "    </tr>\n",
       "    <tr>\n",
       "      <th>27</th>\n",
       "      <td>[100, 1333]_clock</td>\n",
       "      <td>(DDR2,)</td>\n",
       "      <td>29960</td>\n",
       "      <td>0.058597</td>\n",
       "      <td>1.000000</td>\n",
       "      <td>6.161061</td>\n",
       "      <td>United Kingdom</td>\n",
       "    </tr>\n",
       "    <tr>\n",
       "      <th>28</th>\n",
       "      <td>[100, 1333]_clock</td>\n",
       "      <td>(DDR2, [0, 4]_mem)</td>\n",
       "      <td>26386</td>\n",
       "      <td>0.051607</td>\n",
       "      <td>1.000000</td>\n",
       "      <td>6.161061</td>\n",
       "      <td>United Kingdom</td>\n",
       "    </tr>\n",
       "  </tbody>\n",
       "</table>\n",
       "</div>"
      ],
      "text/plain": [
       "               Conseq.                                  Prem.  Support (abs)  \\\n",
       "6    [100, 1333]_clock                                (DDR2,)         284882   \n",
       "7    [100, 1333]_clock                     (DDR2, [0, 4]_mem)         254014   \n",
       "8   [2400, 3200]_clock     ((395.0, 10630.0]_sales_uds, DDR4)          85995   \n",
       "10  [2400, 3200]_clock                                (DDR4,)         381118   \n",
       "18   [100, 1333]_clock  ((0.999, 27.0]_sales_uds, [0, 4]_mem)         225261   \n",
       "19   [100, 1333]_clock             ((0.999, 27.0]_sales_uds,)         225530   \n",
       "23   [100, 1333]_clock                          ([0, 4]_mem,)         523363   \n",
       "27   [100, 1333]_clock                                (DDR2,)          29960   \n",
       "28   [100, 1333]_clock                     (DDR2, [0, 4]_mem)          26386   \n",
       "\n",
       "    Support (frac)  Confidence      Lift         Country  \n",
       "6         0.131874    1.000000  2.884212         Germany  \n",
       "7         0.117585    1.000000  2.884212         Germany  \n",
       "8         0.039808    0.635104  2.837404         Germany  \n",
       "10        0.176422    0.617828  2.760223         Germany  \n",
       "18        0.104275    0.813454  2.346175         Germany  \n",
       "19        0.104399    0.813116  2.345199         Germany  \n",
       "23        0.242269    0.713990  2.059297         Germany  \n",
       "27        0.058597    1.000000  6.161061  United Kingdom  \n",
       "28        0.051607    1.000000  6.161061  United Kingdom  "
      ]
     },
     "execution_count": 48,
     "metadata": {},
     "output_type": "execute_result"
    }
   ],
   "source": [
    "rules_joint_df.loc[rules_joint_df[\"Conseq.\"].isin(['[100, 1333]_clock', '[2400, 3200]_clock'])]"
   ]
  },
  {
   "cell_type": "code",
   "execution_count": 178,
   "id": "a2a26dd1",
   "metadata": {},
   "outputs": [
    {
     "name": "stdout",
     "output_type": "stream",
     "text": [
      "Memory type\n"
     ]
    },
    {
     "data": {
      "image/png": "[encoded data removed]",
      "text/plain": [
       "<Figure size 1080x360 with 3 Axes>"
      ]
     },
     "metadata": {
      "needs_background": "light"
     },
     "output_type": "display_data"
    },
    {
     "name": "stdout",
     "output_type": "stream",
     "text": [
      "Total ram sales Germany: 2160260, 5% support: 108013\n",
      "Total ram sales UK 511288, 5% support: 25564\n",
      "Total ram sales US 199417, 5% support: 9970\n"
     ]
    }
   ],
   "source": [
    "print(\"Memory type\")\n",
    "\n",
    "fig, axes = plt.subplots(1, 3, figsize=(15, 5))\n",
    "df_sales_proc.loc[(df_sales_proc[\"country\"] == \"Germany\")]\\\n",
    "        .groupby([\"clock\", \"memory_type\"]).size().plot(kind=\"bar\", ax=axes[0], title=\"Germany\")\n",
    "df_sales_proc.loc[(df_sales_proc[\"country\"] == \"United Kingdom\")]\\\n",
    "        .groupby([\"clock\", \"memory_type\"]).size().plot(kind=\"bar\", ax=axes[1], title=\"United Kingdom\")\n",
    "df_sales_proc.loc[(df_sales_proc[\"country\"] == \"United States of America\")]\\\n",
    "        .groupby([\"clock\", \"memory_type\"]).size().plot(kind=\"bar\", ax=axes[2], title=\"United States of America\")\n",
    "plt.show()\n",
    "\n",
    "print(f'Total ram sales Germany: {ram_sales_ger}, 5% support: {ram_sales_ger*5//100}')\n",
    "print(f'Total ram sales UK {ram_sales_uk}, 5% support: {ram_sales_uk*5//100}')\n",
    "print(f'Total ram sales US {ram_sales_us}, 5% support: {ram_sales_us*5//100}')"
   ]
  },
  {
   "cell_type": "markdown",
   "id": "42977050",
   "metadata": {},
   "source": [
    "Both Germany and the UK have a rule associating DDR2 with [100, 1333]_clock\t(in accordance with the rules above), the US lacks such a rule due to a low support for DDR2.  \n",
    "\n",
    "Germany also presents a rule with DDR4 and [2400, 3200]_clock, while the other two countries do not due to a low lift score (the sales are more concentrated on ram modules with these clock/memory type, making the rule less interesting)."
   ]
  },
  {
   "cell_type": "code",
   "execution_count": 182,
   "id": "d869fb37",
   "metadata": {},
   "outputs": [
    {
     "name": "stdout",
     "output_type": "stream",
     "text": [
      "Memory size\n"
     ]
    },
    {
     "data": {
      "image/png": "[encoded data removed]",
      "text/plain": [
       "<Figure size 1080x360 with 3 Axes>"
      ]
     },
     "metadata": {
      "needs_background": "light"
     },
     "output_type": "display_data"
    },
    {
     "name": "stdout",
     "output_type": "stream",
     "text": [
      "Total ram sales Germany: 2160260, 5% support: 108013\n",
      "Total ram sales UK 511288, 5% support: 25564\n",
      "Total ram sales US 199417, 5% support: 9970\n"
     ]
    }
   ],
   "source": [
    "print(\"Memory size\")\n",
    "\n",
    "fig, axes = plt.subplots(1, 3, figsize=(15, 5))\n",
    "df_sales_proc.loc[(df_sales_proc[\"country\"] == \"Germany\")]\\\n",
    "        .groupby([\"clock\", \"memory\"]).size().nlargest(10).plot(kind=\"bar\", ax=axes[0], title=\"Germany\")\n",
    "df_sales_proc.loc[(df_sales_proc[\"country\"] == \"United Kingdom\")]\\\n",
    "        .groupby([\"clock\", \"memory\"]).size().nlargest(10).plot(kind=\"bar\", ax=axes[1], title=\"United Kingdom\")\n",
    "df_sales_proc.loc[(df_sales_proc[\"country\"] == \"United States of America\")]\\\n",
    "        .groupby([\"clock\", \"memory\"]).size().nlargest(10).plot(kind=\"bar\", ax=axes[2], title=\"United States of America\")\n",
    "plt.show()\n",
    "\n",
    "print(f'Total ram sales Germany: {ram_sales_ger}, 5% support: {ram_sales_ger*5//100}')\n",
    "print(f'Total ram sales UK {ram_sales_uk}, 5% support: {ram_sales_uk*5//100}')\n",
    "print(f'Total ram sales US {ram_sales_us}, 5% support: {ram_sales_us*5//100}')"
   ]
  },
  {
   "cell_type": "markdown",
   "id": "2644b81a",
   "metadata": {},
   "source": [
    "Germany is the only country with a rule with memory size as a premise ([0, 4]_mem).  \n",
    "This rule does not apply to the UK/US due to low a confidence score, however by including DDR2 in the premises the UK also gets a valid rule."
   ]
  },
  {
   "cell_type": "code",
   "execution_count": 184,
   "id": "5102cd3c",
   "metadata": {},
   "outputs": [
    {
     "name": "stdout",
     "output_type": "stream",
     "text": [
      "Sales (USD)\n"
     ]
    },
    {
     "data": {
      "image/png": "[encoded data removed]",
      "text/plain": [
       "<Figure size 1080x360 with 3 Axes>"
      ]
     },
     "metadata": {
      "needs_background": "light"
     },
     "output_type": "display_data"
    },
    {
     "name": "stdout",
     "output_type": "stream",
     "text": [
      "Total ram sales Germany: 2160260, 5% support: 108013\n",
      "Total ram sales UK 511288, 5% support: 25564\n",
      "Total ram sales US 199417, 5% support: 9970\n"
     ]
    }
   ],
   "source": [
    "print(\"Sales (USD)\")\n",
    "\n",
    "fig, axes = plt.subplots(1, 3, figsize=(15, 5))\n",
    "df_sales_proc.loc[(df_sales_proc[\"country\"] == \"Germany\")]\\\n",
    "        .groupby([\"clock\", \"sales_uds\"]).size().nlargest(13).plot(kind=\"bar\", ax=axes[0], title=\"Germany\")\n",
    "df_sales_proc.loc[(df_sales_proc[\"country\"] == \"United Kingdom\")]\\\n",
    "        .groupby([\"clock\", \"sales_uds\"]).size().nlargest(13).plot(kind=\"bar\", ax=axes[1], title=\"United Kingdom\")\n",
    "df_sales_proc.loc[(df_sales_proc[\"country\"] == \"United States of America\")]\\\n",
    "        .groupby([\"clock\", \"sales_uds\"]).size().nlargest(13).plot(kind=\"bar\", ax=axes[2], title=\"United States of America\")\n",
    "plt.show()\n",
    "\n",
    "print(f'Total ram sales Germany: {ram_sales_ger}, 5% support: {ram_sales_ger*5//100}')\n",
    "print(f'Total ram sales UK {ram_sales_uk}, 5% support: {ram_sales_uk*5//100}')\n",
    "print(f'Total ram sales US {ram_sales_us}, 5% support: {ram_sales_us*5//100}')"
   ]
  },
  {
   "cell_type": "markdown",
   "id": "8d4193e3",
   "metadata": {},
   "source": [
    "Germany presents an association rule between [100, 1333]_clock and (0.999, 27.0]_sales_uds, respectively the lowest clock range and price range.  \n",
    "This rule is not present in the UK/US due to the low confidence score."
   ]
  },
  {
   "cell_type": "markdown",
   "id": "d8836372",
   "metadata": {},
   "source": [
    "## Frequent ram sequences\n",
    "Here we will try to find interesting information regarding the ram sales mining frequent sequences from a database built using time/location features and containing the ram_codes as singleton elements.  \n",
    "\n",
    "In order to make the task computationally/time efficient we will sample the sales dataset in order to ensure a quick execution of the apriori algorithm."
   ]
  },
  {
   "cell_type": "markdown",
   "id": "a66321ef",
   "metadata": {},
   "source": [
    "### Time-based ram baskets  \n",
    "In this section we simply grouped the sales by time, generating sequences with elements of size 1, where each element represents a ram module sale in that timeframe."
   ]
  },
  {
   "cell_type": "markdown",
   "id": "95671959",
   "metadata": {},
   "source": [
    "#### Week"
   ]
  },
  {
   "cell_type": "code",
   "execution_count": 49,
   "id": "11520e95",
   "metadata": {},
   "outputs": [
    {
     "name": "stdout",
     "output_type": "stream",
     "text": [
      "Entries sampled: 6685\n"
     ]
    }
   ],
   "source": [
    "baskets_sampled_week = df_sales_proc.sample(frac=0.002, random_state=0)\n",
    "print(f\"Entries sampled: {baskets_sampled_week.shape[0]}\")"
   ]
  },
  {
   "cell_type": "code",
   "execution_count": 50,
   "id": "33c569d8",
   "metadata": {},
   "outputs": [
    {
     "data": {
      "text/plain": [
       "time_code\n",
       "2013-03-24                                             [[2432]]\n",
       "2013-03-31     [[1568], [1683], [2618], [2982], [2434], [2483]]\n",
       "2013-04-07     [[2778], [1644], [1470], [1486], [2772], [2131]]\n",
       "2013-04-14    [[780], [2383], [1678], [2809], [1050], [1491]...\n",
       "2013-04-21    [[1056], [425], [1936], [1537], [2773], [1464]...\n",
       "                                    ...                        \n",
       "2018-03-18    [[975], [1598], [861], [649], [711], [866], [3...\n",
       "2018-03-25    [[2446], [117], [595], [2793], [1965], [1585],...\n",
       "2018-04-01    [[694], [843], [3581], [1569], [162], [2724], ...\n",
       "2018-04-08    [[2033], [237], [3407], [2045], [1904], [2221]...\n",
       "2018-04-15    [[1041], [2445], [2443], [2276], [1169], [1362...\n",
       "Freq: W-SUN, Name: ram_code, Length: 265, dtype: object"
      ]
     },
     "execution_count": 50,
     "metadata": {},
     "output_type": "execute_result"
    }
   ],
   "source": [
    "baskets_week = baskets_sampled_week.groupby(pd.Grouper(key=\"time_code\", freq=\"1W\"))[\"ram_code\"].apply(lambda x: [[y] for y in x])\n",
    "baskets_week"
   ]
  },
  {
   "cell_type": "code",
   "execution_count": 51,
   "id": "30ab2fd9",
   "metadata": {},
   "outputs": [
    {
     "name": "stdout",
     "output_type": "stream",
     "text": [
      "Min. Support (abs): 14.0\n"
     ]
    }
   ],
   "source": [
    "format_baskets = []\n",
    "for row in baskets_week.values:\n",
    "    format_baskets.append(row)\n",
    "    \n",
    "support = np.ceil(baskets_week.shape[0]*5/100)\n",
    "print(f\"Min. Support (abs): {support}\")\n",
    "ap_result = gsp_apriori(format_baskets, support, verbose=False)"
   ]
  },
  {
   "cell_type": "markdown",
   "id": "86c922de",
   "metadata": {},
   "source": [
    "For computational reasons we limited the search for support >= 5%."
   ]
  },
  {
   "cell_type": "code",
   "execution_count": 52,
   "id": "7a4cbae4",
   "metadata": {},
   "outputs": [],
   "source": [
    "result_week_df = pd.DataFrame(ap_result, columns=[\"Seq.\", \"Supp. (abs)\"])\n",
    "\n",
    "result_week_df[\"Supp. (frac)\"] = result_week_df[\"Supp. (abs)\"]/baskets_week.shape[0]\n",
    "result_week_df[\"Seq. len\"] = result_week_df[\"Seq.\"].apply(lambda x: len(x))"
   ]
  },
  {
   "cell_type": "code",
   "execution_count": 53,
   "id": "f75c39d4",
   "metadata": {},
   "outputs": [
    {
     "data": {
      "text/html": [
       "<div>\n",
       "<style scoped>\n",
       "    .dataframe tbody tr th:only-of-type {\n",
       "        vertical-align: middle;\n",
       "    }\n",
       "\n",
       "    .dataframe tbody tr th {\n",
       "        vertical-align: top;\n",
       "    }\n",
       "\n",
       "    .dataframe thead th {\n",
       "        text-align: right;\n",
       "    }\n",
       "</style>\n",
       "<table border=\"1\" class=\"dataframe\">\n",
       "  <thead>\n",
       "    <tr style=\"text-align: right;\">\n",
       "      <th></th>\n",
       "      <th>Seq.</th>\n",
       "      <th>Supp. (abs)</th>\n",
       "      <th>Supp. (frac)</th>\n",
       "      <th>Seq. len</th>\n",
       "    </tr>\n",
       "  </thead>\n",
       "  <tbody>\n",
       "    <tr>\n",
       "      <th>0</th>\n",
       "      <td>[[2185]]</td>\n",
       "      <td>20</td>\n",
       "      <td>0.075472</td>\n",
       "      <td>1</td>\n",
       "    </tr>\n",
       "    <tr>\n",
       "      <th>9</th>\n",
       "      <td>[[656]]</td>\n",
       "      <td>19</td>\n",
       "      <td>0.071698</td>\n",
       "      <td>1</td>\n",
       "    </tr>\n",
       "    <tr>\n",
       "      <th>13</th>\n",
       "      <td>[[804]]</td>\n",
       "      <td>18</td>\n",
       "      <td>0.067925</td>\n",
       "      <td>1</td>\n",
       "    </tr>\n",
       "    <tr>\n",
       "      <th>15</th>\n",
       "      <td>[[977]]</td>\n",
       "      <td>18</td>\n",
       "      <td>0.067925</td>\n",
       "      <td>1</td>\n",
       "    </tr>\n",
       "    <tr>\n",
       "      <th>2</th>\n",
       "      <td>[[2188]]</td>\n",
       "      <td>17</td>\n",
       "      <td>0.064151</td>\n",
       "      <td>1</td>\n",
       "    </tr>\n",
       "    <tr>\n",
       "      <th>3</th>\n",
       "      <td>[[2189]]</td>\n",
       "      <td>17</td>\n",
       "      <td>0.064151</td>\n",
       "      <td>1</td>\n",
       "    </tr>\n",
       "    <tr>\n",
       "      <th>8</th>\n",
       "      <td>[[655]]</td>\n",
       "      <td>17</td>\n",
       "      <td>0.064151</td>\n",
       "      <td>1</td>\n",
       "    </tr>\n",
       "    <tr>\n",
       "      <th>1</th>\n",
       "      <td>[[2186]]</td>\n",
       "      <td>16</td>\n",
       "      <td>0.060377</td>\n",
       "      <td>1</td>\n",
       "    </tr>\n",
       "    <tr>\n",
       "      <th>6</th>\n",
       "      <td>[[2440]]</td>\n",
       "      <td>16</td>\n",
       "      <td>0.060377</td>\n",
       "      <td>1</td>\n",
       "    </tr>\n",
       "    <tr>\n",
       "      <th>11</th>\n",
       "      <td>[[659]]</td>\n",
       "      <td>16</td>\n",
       "      <td>0.060377</td>\n",
       "      <td>1</td>\n",
       "    </tr>\n",
       "    <tr>\n",
       "      <th>14</th>\n",
       "      <td>[[975]]</td>\n",
       "      <td>16</td>\n",
       "      <td>0.060377</td>\n",
       "      <td>1</td>\n",
       "    </tr>\n",
       "    <tr>\n",
       "      <th>7</th>\n",
       "      <td>[[2445]]</td>\n",
       "      <td>15</td>\n",
       "      <td>0.056604</td>\n",
       "      <td>1</td>\n",
       "    </tr>\n",
       "    <tr>\n",
       "      <th>10</th>\n",
       "      <td>[[657]]</td>\n",
       "      <td>15</td>\n",
       "      <td>0.056604</td>\n",
       "      <td>1</td>\n",
       "    </tr>\n",
       "    <tr>\n",
       "      <th>4</th>\n",
       "      <td>[[2277]]</td>\n",
       "      <td>14</td>\n",
       "      <td>0.052830</td>\n",
       "      <td>1</td>\n",
       "    </tr>\n",
       "    <tr>\n",
       "      <th>5</th>\n",
       "      <td>[[2298]]</td>\n",
       "      <td>14</td>\n",
       "      <td>0.052830</td>\n",
       "      <td>1</td>\n",
       "    </tr>\n",
       "    <tr>\n",
       "      <th>12</th>\n",
       "      <td>[[660]]</td>\n",
       "      <td>14</td>\n",
       "      <td>0.052830</td>\n",
       "      <td>1</td>\n",
       "    </tr>\n",
       "  </tbody>\n",
       "</table>\n",
       "</div>"
      ],
      "text/plain": [
       "        Seq.  Supp. (abs)  Supp. (frac)  Seq. len\n",
       "0   [[2185]]           20      0.075472         1\n",
       "9    [[656]]           19      0.071698         1\n",
       "13   [[804]]           18      0.067925         1\n",
       "15   [[977]]           18      0.067925         1\n",
       "2   [[2188]]           17      0.064151         1\n",
       "3   [[2189]]           17      0.064151         1\n",
       "8    [[655]]           17      0.064151         1\n",
       "1   [[2186]]           16      0.060377         1\n",
       "6   [[2440]]           16      0.060377         1\n",
       "11   [[659]]           16      0.060377         1\n",
       "14   [[975]]           16      0.060377         1\n",
       "7   [[2445]]           15      0.056604         1\n",
       "10   [[657]]           15      0.056604         1\n",
       "4   [[2277]]           14      0.052830         1\n",
       "5   [[2298]]           14      0.052830         1\n",
       "12   [[660]]           14      0.052830         1"
      ]
     },
     "execution_count": 53,
     "metadata": {},
     "output_type": "execute_result"
    }
   ],
   "source": [
    "result_week_df.sort_values([\"Seq. len\", \"Supp. (abs)\"], ascending=False)"
   ]
  },
  {
   "cell_type": "markdown",
   "id": "6c69eea2",
   "metadata": {},
   "source": [
    "##### Sub-sequences of length 1"
   ]
  },
  {
   "cell_type": "markdown",
   "id": "ec2a91aa",
   "metadata": {},
   "source": [
    "We found found mostly sub-sequences of length one, meaning that the support is measuring which ram module have been sold consistently and for a long enough time (in this case the support asks for at least 14 weeks)."
   ]
  },
  {
   "cell_type": "code",
   "execution_count": 54,
   "id": "9f309f3f",
   "metadata": {},
   "outputs": [
    {
     "data": {
      "text/plain": [
       "count      16.000000\n",
       "mean     6751.062500\n",
       "std      1523.647486\n",
       "min      3666.000000\n",
       "25%      5530.750000\n",
       "50%      7329.500000\n",
       "75%      7971.250000\n",
       "max      8664.000000\n",
       "dtype: float64"
      ]
     },
     "execution_count": 54,
     "metadata": {},
     "output_type": "execute_result"
    }
   ],
   "source": [
    "list_idx = []\n",
    "\n",
    "for idx, row in result_week_df.iterrows():\n",
    "    list_idx.append((row[\"Seq.\"][0][0]))\n",
    "    \n",
    "\n",
    "df_sales_proc.loc[df_sales_proc[\"ram_code\"].isin(list_idx)].groupby(\"ram_code\").size().describe()"
   ]
  },
  {
   "cell_type": "code",
   "execution_count": 55,
   "id": "1a8b209c",
   "metadata": {},
   "outputs": [
    {
     "data": {
      "text/plain": [
       "count    3111.000000\n",
       "mean     1074.477660\n",
       "std      1226.876352\n",
       "min         1.000000\n",
       "25%       104.000000\n",
       "50%       620.000000\n",
       "75%      1814.000000\n",
       "max      8664.000000\n",
       "dtype: float64"
      ]
     },
     "execution_count": 55,
     "metadata": {},
     "output_type": "execute_result"
    }
   ],
   "source": [
    "df_sales_proc.groupby(\"ram_code\").size().describe()"
   ]
  },
  {
   "cell_type": "markdown",
   "id": "a1eea4c8",
   "metadata": {},
   "source": [
    "Note that the volume of sales for the ram module with the least support is greater than the 75% quantile value of all the other modules that don't reach the support threshold."
   ]
  },
  {
   "cell_type": "markdown",
   "id": "346a287c",
   "metadata": {},
   "source": [
    "#### Month"
   ]
  },
  {
   "cell_type": "code",
   "execution_count": 56,
   "id": "641bca49",
   "metadata": {},
   "outputs": [
    {
     "name": "stdout",
     "output_type": "stream",
     "text": [
      "Entries sampled: 2674\n"
     ]
    }
   ],
   "source": [
    "baskets_sampled_month = df_sales_proc.sample(frac=0.0008, random_state=0)\n",
    "print(f\"Entries sampled: {baskets_sampled_month.shape[0]}\")"
   ]
  },
  {
   "cell_type": "markdown",
   "id": "b38ede1a",
   "metadata": {},
   "source": [
    "For computational reasons, we reduce the amount datapoints sampled."
   ]
  },
  {
   "cell_type": "code",
   "execution_count": 57,
   "id": "ff9819ef",
   "metadata": {},
   "outputs": [
    {
     "data": {
      "text/plain": [
       "time_code\n",
       "2013-03-31                     [[1683], [2618], [2982], [2434]]\n",
       "2013-04-30    [[2778], [2131], [780], [2383], [1678], [2809]...\n",
       "2013-05-31    [[1498], [2381], [2149], [2427], [774], [2436]...\n",
       "2013-06-30    [[939], [1446], [552], [1043], [1248], [1456],...\n",
       "2013-07-31    [[1487], [1248], [1084], [1303], [766], [636],...\n",
       "                                    ...                        \n",
       "2017-12-31    [[822], [2129], [2067], [2077], [2046], [1378]...\n",
       "2018-01-31    [[864], [593], [1628], [522], [2131], [955], [...\n",
       "2018-02-28    [[857], [3], [764], [2298], [1907], [1339], [2...\n",
       "2018-03-31    [[1640], [2978], [973], [2299], [2322], [2213]...\n",
       "2018-04-30    [[618], [2033], [237], [2527], [1244], [3468],...\n",
       "Freq: M, Name: ram_code, Length: 62, dtype: object"
      ]
     },
     "execution_count": 57,
     "metadata": {},
     "output_type": "execute_result"
    }
   ],
   "source": [
    "baskets_month = baskets_sampled_month.groupby(pd.Grouper(key=\"time_code\", freq=\"1M\"))[\"ram_code\"].apply(lambda x: [[y] for y in x])\n",
    "baskets_month"
   ]
  },
  {
   "cell_type": "code",
   "execution_count": 58,
   "id": "19933ac7",
   "metadata": {},
   "outputs": [
    {
     "name": "stdout",
     "output_type": "stream",
     "text": [
      "Min. Support (abs): 4.0\n"
     ]
    }
   ],
   "source": [
    "format_baskets = []\n",
    "for row in baskets_month.values:\n",
    "    format_baskets.append(row)\n",
    "\n",
    "support = np.ceil(baskets_month.shape[0]*5/100)\n",
    "print(f\"Min. Support (abs): {support}\")\n",
    "ap_result = gsp_apriori(format_baskets, support, verbose=False)"
   ]
  },
  {
   "cell_type": "code",
   "execution_count": 59,
   "id": "b25499ae",
   "metadata": {},
   "outputs": [],
   "source": [
    "result_month_df = pd.DataFrame(ap_result, columns=[\"Seq.\", \"Supp. (abs)\"])\n",
    "result_month_df[\"Supp. (frac)\"] = result_month_df[\"Supp. (abs)\"]/baskets_month.shape[0]\n",
    "result_month_df[\"Seq. len\"] = result_month_df[\"Seq.\"].apply(lambda x: len(x))"
   ]
  },
  {
   "cell_type": "code",
   "execution_count": 60,
   "id": "e714eae9",
   "metadata": {},
   "outputs": [
    {
     "data": {
      "text/html": [
       "<div>\n",
       "<style scoped>\n",
       "    .dataframe tbody tr th:only-of-type {\n",
       "        vertical-align: middle;\n",
       "    }\n",
       "\n",
       "    .dataframe tbody tr th {\n",
       "        vertical-align: top;\n",
       "    }\n",
       "\n",
       "    .dataframe thead th {\n",
       "        text-align: right;\n",
       "    }\n",
       "</style>\n",
       "<table border=\"1\" class=\"dataframe\">\n",
       "  <thead>\n",
       "    <tr style=\"text-align: right;\">\n",
       "      <th></th>\n",
       "      <th>Seq.</th>\n",
       "      <th>Supp. (abs)</th>\n",
       "      <th>Supp. (frac)</th>\n",
       "      <th>Seq. len</th>\n",
       "    </tr>\n",
       "  </thead>\n",
       "  <tbody>\n",
       "    <tr>\n",
       "      <th>157</th>\n",
       "      <td>[[1392], [1397]]</td>\n",
       "      <td>4</td>\n",
       "      <td>0.064516</td>\n",
       "      <td>2</td>\n",
       "    </tr>\n",
       "    <tr>\n",
       "      <th>158</th>\n",
       "      <td>[[2188], [2440]]</td>\n",
       "      <td>4</td>\n",
       "      <td>0.064516</td>\n",
       "      <td>2</td>\n",
       "    </tr>\n",
       "    <tr>\n",
       "      <th>159</th>\n",
       "      <td>[[2188], [977]]</td>\n",
       "      <td>4</td>\n",
       "      <td>0.064516</td>\n",
       "      <td>2</td>\n",
       "    </tr>\n",
       "    <tr>\n",
       "      <th>160</th>\n",
       "      <td>[[656], [804]]</td>\n",
       "      <td>4</td>\n",
       "      <td>0.064516</td>\n",
       "      <td>2</td>\n",
       "    </tr>\n",
       "    <tr>\n",
       "      <th>161</th>\n",
       "      <td>[[860], [147]]</td>\n",
       "      <td>4</td>\n",
       "      <td>0.064516</td>\n",
       "      <td>2</td>\n",
       "    </tr>\n",
       "  </tbody>\n",
       "</table>\n",
       "</div>"
      ],
      "text/plain": [
       "                 Seq.  Supp. (abs)  Supp. (frac)  Seq. len\n",
       "157  [[1392], [1397]]            4      0.064516         2\n",
       "158  [[2188], [2440]]            4      0.064516         2\n",
       "159   [[2188], [977]]            4      0.064516         2\n",
       "160    [[656], [804]]            4      0.064516         2\n",
       "161    [[860], [147]]            4      0.064516         2"
      ]
     },
     "execution_count": 60,
     "metadata": {},
     "output_type": "execute_result"
    }
   ],
   "source": [
    "result_month_df.sort_values([\"Seq. len\", \"Supp. (abs)\"], ascending=False).head()"
   ]
  },
  {
   "cell_type": "markdown",
   "id": "7f00f56e",
   "metadata": {},
   "source": [
    "This time we have sub-sequences of length 2, even though they have a low support."
   ]
  },
  {
   "cell_type": "markdown",
   "id": "b98dfd71",
   "metadata": {},
   "source": [
    "#### Analysis"
   ]
  },
  {
   "cell_type": "code",
   "execution_count": 61,
   "id": "29898e15",
   "metadata": {},
   "outputs": [
    {
     "data": {
      "text/html": [
       "<div>\n",
       "<style scoped>\n",
       "    .dataframe tbody tr th:only-of-type {\n",
       "        vertical-align: middle;\n",
       "    }\n",
       "\n",
       "    .dataframe tbody tr th {\n",
       "        vertical-align: top;\n",
       "    }\n",
       "\n",
       "    .dataframe thead th {\n",
       "        text-align: right;\n",
       "    }\n",
       "</style>\n",
       "<table border=\"1\" class=\"dataframe\">\n",
       "  <thead>\n",
       "    <tr style=\"text-align: right;\">\n",
       "      <th></th>\n",
       "      <th>brand</th>\n",
       "      <th>name</th>\n",
       "      <th>memory</th>\n",
       "      <th>memory_type</th>\n",
       "      <th>clock</th>\n",
       "    </tr>\n",
       "    <tr>\n",
       "      <th>ram_code</th>\n",
       "      <th></th>\n",
       "      <th></th>\n",
       "      <th></th>\n",
       "      <th></th>\n",
       "      <th></th>\n",
       "    </tr>\n",
       "  </thead>\n",
       "  <tbody>\n",
       "    <tr>\n",
       "      <th>1392</th>\n",
       "      <td>G.SKILL</td>\n",
       "      <td>G.Skill Ripjaws V</td>\n",
       "      <td>16.0</td>\n",
       "      <td>DDR4</td>\n",
       "      <td>2800</td>\n",
       "    </tr>\n",
       "    <tr>\n",
       "      <th>1397</th>\n",
       "      <td>G.SKILL</td>\n",
       "      <td>G.Skill Ripjaws V</td>\n",
       "      <td>16.0</td>\n",
       "      <td>DDR4</td>\n",
       "      <td>3466</td>\n",
       "    </tr>\n",
       "    <tr>\n",
       "      <th>2188</th>\n",
       "      <td>KINGSTON</td>\n",
       "      <td>Kingston Hyperx Fury</td>\n",
       "      <td>16.0</td>\n",
       "      <td>DDR3</td>\n",
       "      <td>1600</td>\n",
       "    </tr>\n",
       "    <tr>\n",
       "      <th>2440</th>\n",
       "      <td>KINGSTON</td>\n",
       "      <td>Kingston Valueram</td>\n",
       "      <td>4.0</td>\n",
       "      <td>DDR4</td>\n",
       "      <td>2133</td>\n",
       "    </tr>\n",
       "    <tr>\n",
       "      <th>2188</th>\n",
       "      <td>KINGSTON</td>\n",
       "      <td>Kingston Hyperx Fury</td>\n",
       "      <td>16.0</td>\n",
       "      <td>DDR3</td>\n",
       "      <td>1600</td>\n",
       "    </tr>\n",
       "    <tr>\n",
       "      <th>977</th>\n",
       "      <td>CRUCIAL</td>\n",
       "      <td>Crucial Ballistix Sport</td>\n",
       "      <td>16.0</td>\n",
       "      <td>DDR4</td>\n",
       "      <td>2400</td>\n",
       "    </tr>\n",
       "    <tr>\n",
       "      <th>656</th>\n",
       "      <td>CORSAIR</td>\n",
       "      <td>Corsair Vengeance</td>\n",
       "      <td>16.0</td>\n",
       "      <td>DDR4</td>\n",
       "      <td>2400</td>\n",
       "    </tr>\n",
       "    <tr>\n",
       "      <th>804</th>\n",
       "      <td>CRUCIAL</td>\n",
       "      <td>Crucial</td>\n",
       "      <td>8.0</td>\n",
       "      <td>DDR3</td>\n",
       "      <td>1600</td>\n",
       "    </tr>\n",
       "    <tr>\n",
       "      <th>860</th>\n",
       "      <td>CRUCIAL</td>\n",
       "      <td>Crucial</td>\n",
       "      <td>16.0</td>\n",
       "      <td>DDR4</td>\n",
       "      <td>2133</td>\n",
       "    </tr>\n",
       "    <tr>\n",
       "      <th>147</th>\n",
       "      <td>ADATA</td>\n",
       "      <td>Adata Xpg V1.0</td>\n",
       "      <td>16.0</td>\n",
       "      <td>DDR3</td>\n",
       "      <td>1866</td>\n",
       "    </tr>\n",
       "  </tbody>\n",
       "</table>\n",
       "</div>"
      ],
      "text/plain": [
       "             brand                     name  memory memory_type  clock\n",
       "ram_code                                                              \n",
       "1392       G.SKILL        G.Skill Ripjaws V    16.0        DDR4   2800\n",
       "1397       G.SKILL        G.Skill Ripjaws V    16.0        DDR4   3466\n",
       "2188      KINGSTON     Kingston Hyperx Fury    16.0        DDR3   1600\n",
       "2440      KINGSTON        Kingston Valueram     4.0        DDR4   2133\n",
       "2188      KINGSTON     Kingston Hyperx Fury    16.0        DDR3   1600\n",
       "977        CRUCIAL  Crucial Ballistix Sport    16.0        DDR4   2400\n",
       "656        CORSAIR        Corsair Vengeance    16.0        DDR4   2400\n",
       "804        CRUCIAL                  Crucial     8.0        DDR3   1600\n",
       "860        CRUCIAL                  Crucial    16.0        DDR4   2133\n",
       "147          ADATA           Adata Xpg V1.0    16.0        DDR3   1866"
      ]
     },
     "execution_count": 61,
     "metadata": {},
     "output_type": "execute_result"
    }
   ],
   "source": [
    "an_ram = df_ram.loc[[1392, 1397, 2188, 2440, 2188, 977, 656, 804, 860, 147]]\n",
    "an_ram = an_ram.reset_index(\"ram_code\").astype({\"ram_code\":str}).set_index(\"ram_code\") #Change indexes to string\n",
    "an_ram"
   ]
  },
  {
   "cell_type": "markdown",
   "id": "d0c1a4f3",
   "metadata": {},
   "source": [
    "Taking a look at the features of these rams we notice that they are mostly in the memory range [8, 16] while the other features differ.  \n",
    "This coupled to the fact that these ram sizes are the most popular seem to hint to the associations being just about ram modules popular/convenient enough to be sold each month."
   ]
  },
  {
   "cell_type": "code",
   "execution_count": 62,
   "id": "0b162aff",
   "metadata": {},
   "outputs": [
    {
     "data": {
      "text/html": [
       "<div>\n",
       "<style scoped>\n",
       "    .dataframe tbody tr th:only-of-type {\n",
       "        vertical-align: middle;\n",
       "    }\n",
       "\n",
       "    .dataframe tbody tr th {\n",
       "        vertical-align: top;\n",
       "    }\n",
       "\n",
       "    .dataframe thead th {\n",
       "        text-align: right;\n",
       "    }\n",
       "</style>\n",
       "<table border=\"1\" class=\"dataframe\">\n",
       "  <thead>\n",
       "    <tr style=\"text-align: right;\">\n",
       "      <th></th>\n",
       "      <th>brand</th>\n",
       "      <th>name</th>\n",
       "      <th>memory</th>\n",
       "      <th>memory_type</th>\n",
       "      <th>clock</th>\n",
       "      <th>Vol.</th>\n",
       "      <th>Tot. sales usd</th>\n",
       "    </tr>\n",
       "    <tr>\n",
       "      <th>ram_code</th>\n",
       "      <th></th>\n",
       "      <th></th>\n",
       "      <th></th>\n",
       "      <th></th>\n",
       "      <th></th>\n",
       "      <th></th>\n",
       "      <th></th>\n",
       "    </tr>\n",
       "  </thead>\n",
       "  <tbody>\n",
       "    <tr>\n",
       "      <th>1392</th>\n",
       "      <td>G.SKILL</td>\n",
       "      <td>G.Skill Ripjaws V</td>\n",
       "      <td>16.0</td>\n",
       "      <td>DDR4</td>\n",
       "      <td>2800</td>\n",
       "      <td>3267</td>\n",
       "      <td>4.814733e+05</td>\n",
       "    </tr>\n",
       "    <tr>\n",
       "      <th>1397</th>\n",
       "      <td>G.SKILL</td>\n",
       "      <td>G.Skill Ripjaws V</td>\n",
       "      <td>16.0</td>\n",
       "      <td>DDR4</td>\n",
       "      <td>3466</td>\n",
       "      <td>2148</td>\n",
       "      <td>4.293315e+05</td>\n",
       "    </tr>\n",
       "    <tr>\n",
       "      <th>2188</th>\n",
       "      <td>KINGSTON</td>\n",
       "      <td>Kingston Hyperx Fury</td>\n",
       "      <td>16.0</td>\n",
       "      <td>DDR3</td>\n",
       "      <td>1600</td>\n",
       "      <td>6734</td>\n",
       "      <td>8.961790e+05</td>\n",
       "    </tr>\n",
       "    <tr>\n",
       "      <th>2440</th>\n",
       "      <td>KINGSTON</td>\n",
       "      <td>Kingston Valueram</td>\n",
       "      <td>4.0</td>\n",
       "      <td>DDR4</td>\n",
       "      <td>2133</td>\n",
       "      <td>5596</td>\n",
       "      <td>2.622301e+05</td>\n",
       "    </tr>\n",
       "    <tr>\n",
       "      <th>2188</th>\n",
       "      <td>KINGSTON</td>\n",
       "      <td>Kingston Hyperx Fury</td>\n",
       "      <td>16.0</td>\n",
       "      <td>DDR3</td>\n",
       "      <td>1600</td>\n",
       "      <td>6734</td>\n",
       "      <td>8.961790e+05</td>\n",
       "    </tr>\n",
       "    <tr>\n",
       "      <th>977</th>\n",
       "      <td>CRUCIAL</td>\n",
       "      <td>Crucial Ballistix Sport</td>\n",
       "      <td>16.0</td>\n",
       "      <td>DDR4</td>\n",
       "      <td>2400</td>\n",
       "      <td>5335</td>\n",
       "      <td>8.181866e+05</td>\n",
       "    </tr>\n",
       "    <tr>\n",
       "      <th>656</th>\n",
       "      <td>CORSAIR</td>\n",
       "      <td>Corsair Vengeance</td>\n",
       "      <td>16.0</td>\n",
       "      <td>DDR4</td>\n",
       "      <td>2400</td>\n",
       "      <td>7975</td>\n",
       "      <td>1.396966e+06</td>\n",
       "    </tr>\n",
       "    <tr>\n",
       "      <th>804</th>\n",
       "      <td>CRUCIAL</td>\n",
       "      <td>Crucial</td>\n",
       "      <td>8.0</td>\n",
       "      <td>DDR3</td>\n",
       "      <td>1600</td>\n",
       "      <td>7915</td>\n",
       "      <td>7.044548e+05</td>\n",
       "    </tr>\n",
       "    <tr>\n",
       "      <th>860</th>\n",
       "      <td>CRUCIAL</td>\n",
       "      <td>Crucial</td>\n",
       "      <td>16.0</td>\n",
       "      <td>DDR4</td>\n",
       "      <td>2133</td>\n",
       "      <td>6996</td>\n",
       "      <td>1.182165e+06</td>\n",
       "    </tr>\n",
       "    <tr>\n",
       "      <th>147</th>\n",
       "      <td>ADATA</td>\n",
       "      <td>Adata Xpg V1.0</td>\n",
       "      <td>16.0</td>\n",
       "      <td>DDR3</td>\n",
       "      <td>1866</td>\n",
       "      <td>2602</td>\n",
       "      <td>3.442777e+05</td>\n",
       "    </tr>\n",
       "  </tbody>\n",
       "</table>\n",
       "</div>"
      ],
      "text/plain": [
       "             brand                     name  memory memory_type  clock  Vol.  \\\n",
       "ram_code                                                                       \n",
       "1392       G.SKILL        G.Skill Ripjaws V    16.0        DDR4   2800  3267   \n",
       "1397       G.SKILL        G.Skill Ripjaws V    16.0        DDR4   3466  2148   \n",
       "2188      KINGSTON     Kingston Hyperx Fury    16.0        DDR3   1600  6734   \n",
       "2440      KINGSTON        Kingston Valueram     4.0        DDR4   2133  5596   \n",
       "2188      KINGSTON     Kingston Hyperx Fury    16.0        DDR3   1600  6734   \n",
       "977        CRUCIAL  Crucial Ballistix Sport    16.0        DDR4   2400  5335   \n",
       "656        CORSAIR        Corsair Vengeance    16.0        DDR4   2400  7975   \n",
       "804        CRUCIAL                  Crucial     8.0        DDR3   1600  7915   \n",
       "860        CRUCIAL                  Crucial    16.0        DDR4   2133  6996   \n",
       "147          ADATA           Adata Xpg V1.0    16.0        DDR3   1866  2602   \n",
       "\n",
       "          Tot. sales usd  \n",
       "ram_code                  \n",
       "1392        4.814733e+05  \n",
       "1397        4.293315e+05  \n",
       "2188        8.961790e+05  \n",
       "2440        2.622301e+05  \n",
       "2188        8.961790e+05  \n",
       "977         8.181866e+05  \n",
       "656         1.396966e+06  \n",
       "804         7.044548e+05  \n",
       "860         1.182165e+06  \n",
       "147         3.442777e+05  "
      ]
     },
     "execution_count": 62,
     "metadata": {},
     "output_type": "execute_result"
    }
   ],
   "source": [
    "an_ram[\"Vol.\"] = df_sales_merged.loc[df_sales_merged[\"ram_code\"].isin(an_ram.index)].groupby(\"ram_code\").size()\n",
    "an_ram[\"Tot. sales usd\"] = df_sales_merged.loc[df_sales_merged[\"ram_code\"].isin(an_ram.index)].groupby(\"ram_code\")[\"sales_uds\"].sum()\n",
    "an_ram"
   ]
  },
  {
   "cell_type": "code",
   "execution_count": 63,
   "id": "96fa3b91",
   "metadata": {},
   "outputs": [
    {
     "data": {
      "text/plain": [
       "count    3111.000000\n",
       "mean     1074.477660\n",
       "std      1226.876352\n",
       "min         1.000000\n",
       "25%       104.000000\n",
       "50%       620.000000\n",
       "75%      1814.000000\n",
       "max      8664.000000\n",
       "Name: Vol. sales, dtype: float64"
      ]
     },
     "metadata": {},
     "output_type": "display_data"
    },
    {
     "data": {
      "text/plain": [
       "count    3.111000e+03\n",
       "mean     1.893328e+05\n",
       "std      3.349330e+05\n",
       "min      2.025000e+01\n",
       "25%      9.536781e+03\n",
       "50%      5.839220e+04\n",
       "75%      2.077376e+05\n",
       "max      4.310282e+06\n",
       "Name: Tot. sales usd, dtype: float64"
      ]
     },
     "metadata": {},
     "output_type": "display_data"
    }
   ],
   "source": [
    "display(df_sales_merged.groupby(\"ram_code\").size().describe().rename(\"Vol. sales\"))\n",
    "display(df_sales_merged.groupby(\"ram_code\")[\"sales_uds\"].sum().describe().rename(\"Tot. sales usd\"))"
   ]
  },
  {
   "cell_type": "markdown",
   "id": "f676bbba",
   "metadata": {},
   "source": [
    "Again we can see that both the sales volume and the sales total of the ram modules found are close to the maximum of the entire dataset."
   ]
  },
  {
   "cell_type": "markdown",
   "id": "8c98ecbb",
   "metadata": {},
   "source": [
    "#### Year\n",
    "The computation of this grouping is problematic given that it contains very few sequences (which makes the support have the same absolute value for different percentages ie 5% == 1 abs, 10% == 1 abs, 20% == 1 abs).  \n",
    "\n",
    "It also seems less useful to find sequences of ram_codes through the years given that there is a constant release of new ram modules in the market with different features/id."
   ]
  },
  {
   "cell_type": "markdown",
   "id": "865373be",
   "metadata": {},
   "source": [
    "### Location-based ram baskets\n",
    "Similarly to the time-based section above, here we use different geographical features to define the sequences."
   ]
  },
  {
   "cell_type": "markdown",
   "id": "7ae71d68",
   "metadata": {},
   "source": [
    "#### Region"
   ]
  },
  {
   "cell_type": "code",
   "execution_count": 64,
   "id": "4d88dd41",
   "metadata": {},
   "outputs": [
    {
     "name": "stdout",
     "output_type": "stream",
     "text": [
      "Entries sampled: 2674\n"
     ]
    }
   ],
   "source": [
    "baskets_sampled_region = df_sales_proc.sample(frac=0.0008, random_state=0)\n",
    "print(f\"Entries sampled: {baskets_sampled_region.shape[0]}\")"
   ]
  },
  {
   "cell_type": "code",
   "execution_count": 65,
   "id": "0649d58f",
   "metadata": {},
   "outputs": [
    {
     "data": {
      "text/plain": [
       "region\n",
       "analucia              [[2517], [961], [2531], [1588], [1303], [678],...\n",
       "aragon                                           [[1425], [657], [642]]\n",
       "atlantic provinces                                             [[1390]]\n",
       "baden-wuttemberg      [[1383], [2308], [2038], [2217], [1580], [2046...\n",
       "bavaria               [[1419], [1836], [1365], [2183], [1649], [1177...\n",
       "Name: ram_code, dtype: object"
      ]
     },
     "execution_count": 65,
     "metadata": {},
     "output_type": "execute_result"
    }
   ],
   "source": [
    "baskets_region = baskets_sampled_region.groupby([\"region\"])[\"ram_code\"].apply(lambda x: [[y] for y in x])\n",
    "baskets_region.head()"
   ]
  },
  {
   "cell_type": "code",
   "execution_count": 66,
   "id": "b9e01ca2",
   "metadata": {},
   "outputs": [],
   "source": [
    "format_baskets = []\n",
    "for row in baskets_region.values:\n",
    "    format_baskets.append(row)\n",
    "    \n",
    "support = np.ceil(baskets_region.shape[0]*10/100)\n",
    "ap_result = gsp_apriori(format_baskets, support, verbose=False)"
   ]
  },
  {
   "cell_type": "code",
   "execution_count": 67,
   "id": "d1ac79ee",
   "metadata": {},
   "outputs": [
    {
     "data": {
      "text/html": [
       "<div>\n",
       "<style scoped>\n",
       "    .dataframe tbody tr th:only-of-type {\n",
       "        vertical-align: middle;\n",
       "    }\n",
       "\n",
       "    .dataframe tbody tr th {\n",
       "        vertical-align: top;\n",
       "    }\n",
       "\n",
       "    .dataframe thead th {\n",
       "        text-align: right;\n",
       "    }\n",
       "</style>\n",
       "<table border=\"1\" class=\"dataframe\">\n",
       "  <thead>\n",
       "    <tr style=\"text-align: right;\">\n",
       "      <th></th>\n",
       "      <th>Seq.</th>\n",
       "      <th>Supp. (abs)</th>\n",
       "      <th>Supp. (frac)</th>\n",
       "      <th>Seq. len</th>\n",
       "    </tr>\n",
       "  </thead>\n",
       "  <tbody>\n",
       "    <tr>\n",
       "      <th>8</th>\n",
       "      <td>[[656]]</td>\n",
       "      <td>13</td>\n",
       "      <td>0.185714</td>\n",
       "      <td>1</td>\n",
       "    </tr>\n",
       "    <tr>\n",
       "      <th>3</th>\n",
       "      <td>[[2185]]</td>\n",
       "      <td>11</td>\n",
       "      <td>0.157143</td>\n",
       "      <td>1</td>\n",
       "    </tr>\n",
       "    <tr>\n",
       "      <th>10</th>\n",
       "      <td>[[804]]</td>\n",
       "      <td>10</td>\n",
       "      <td>0.142857</td>\n",
       "      <td>1</td>\n",
       "    </tr>\n",
       "    <tr>\n",
       "      <th>1</th>\n",
       "      <td>[[147]]</td>\n",
       "      <td>9</td>\n",
       "      <td>0.128571</td>\n",
       "      <td>1</td>\n",
       "    </tr>\n",
       "    <tr>\n",
       "      <th>5</th>\n",
       "      <td>[[2440]]</td>\n",
       "      <td>9</td>\n",
       "      <td>0.128571</td>\n",
       "      <td>1</td>\n",
       "    </tr>\n",
       "    <tr>\n",
       "      <th>0</th>\n",
       "      <td>[[1392]]</td>\n",
       "      <td>8</td>\n",
       "      <td>0.114286</td>\n",
       "      <td>1</td>\n",
       "    </tr>\n",
       "    <tr>\n",
       "      <th>4</th>\n",
       "      <td>[[2188]]</td>\n",
       "      <td>8</td>\n",
       "      <td>0.114286</td>\n",
       "      <td>1</td>\n",
       "    </tr>\n",
       "    <tr>\n",
       "      <th>9</th>\n",
       "      <td>[[659]]</td>\n",
       "      <td>8</td>\n",
       "      <td>0.114286</td>\n",
       "      <td>1</td>\n",
       "    </tr>\n",
       "    <tr>\n",
       "      <th>13</th>\n",
       "      <td>[[977]]</td>\n",
       "      <td>8</td>\n",
       "      <td>0.114286</td>\n",
       "      <td>1</td>\n",
       "    </tr>\n",
       "    <tr>\n",
       "      <th>2</th>\n",
       "      <td>[[1591]]</td>\n",
       "      <td>7</td>\n",
       "      <td>0.100000</td>\n",
       "      <td>1</td>\n",
       "    </tr>\n",
       "  </tbody>\n",
       "</table>\n",
       "</div>"
      ],
      "text/plain": [
       "        Seq.  Supp. (abs)  Supp. (frac)  Seq. len\n",
       "8    [[656]]           13      0.185714         1\n",
       "3   [[2185]]           11      0.157143         1\n",
       "10   [[804]]           10      0.142857         1\n",
       "1    [[147]]            9      0.128571         1\n",
       "5   [[2440]]            9      0.128571         1\n",
       "0   [[1392]]            8      0.114286         1\n",
       "4   [[2188]]            8      0.114286         1\n",
       "9    [[659]]            8      0.114286         1\n",
       "13   [[977]]            8      0.114286         1\n",
       "2   [[1591]]            7      0.100000         1"
      ]
     },
     "execution_count": 67,
     "metadata": {},
     "output_type": "execute_result"
    }
   ],
   "source": [
    "result_region_df = pd.DataFrame(ap_result, columns=[\"Seq.\", \"Supp. (abs)\"])\n",
    "result_region_df[\"Supp. (frac)\"] = result_region_df[\"Supp. (abs)\"]/baskets_region.shape[0]\n",
    "result_region_df[\"Seq. len\"] = result_region_df[\"Seq.\"].apply(lambda x: len(x))\n",
    "\n",
    "result_region_df.sort_values([\"Seq. len\", \"Supp. (abs)\"], ascending=False).head(10)"
   ]
  },
  {
   "cell_type": "markdown",
   "id": "46da7595",
   "metadata": {},
   "source": [
    "Here we have sub-sequences of length 2 again."
   ]
  },
  {
   "cell_type": "markdown",
   "id": "14b3c058",
   "metadata": {},
   "source": [
    "#### Analysis"
   ]
  },
  {
   "cell_type": "code",
   "execution_count": 68,
   "id": "3d9023c7",
   "metadata": {},
   "outputs": [
    {
     "data": {
      "text/html": [
       "<div>\n",
       "<style scoped>\n",
       "    .dataframe tbody tr th:only-of-type {\n",
       "        vertical-align: middle;\n",
       "    }\n",
       "\n",
       "    .dataframe tbody tr th {\n",
       "        vertical-align: top;\n",
       "    }\n",
       "\n",
       "    .dataframe thead th {\n",
       "        text-align: right;\n",
       "    }\n",
       "</style>\n",
       "<table border=\"1\" class=\"dataframe\">\n",
       "  <thead>\n",
       "    <tr style=\"text-align: right;\">\n",
       "      <th></th>\n",
       "      <th>brand</th>\n",
       "      <th>name</th>\n",
       "      <th>memory</th>\n",
       "      <th>memory_type</th>\n",
       "      <th>clock</th>\n",
       "      <th>Vol.</th>\n",
       "    </tr>\n",
       "    <tr>\n",
       "      <th>ram_code</th>\n",
       "      <th></th>\n",
       "      <th></th>\n",
       "      <th></th>\n",
       "      <th></th>\n",
       "      <th></th>\n",
       "      <th></th>\n",
       "    </tr>\n",
       "  </thead>\n",
       "  <tbody>\n",
       "    <tr>\n",
       "      <th>2440</th>\n",
       "      <td>KINGSTON</td>\n",
       "      <td>Kingston Valueram</td>\n",
       "      <td>4.0</td>\n",
       "      <td>DDR4</td>\n",
       "      <td>2133</td>\n",
       "      <td>5596</td>\n",
       "    </tr>\n",
       "    <tr>\n",
       "      <th>977</th>\n",
       "      <td>CRUCIAL</td>\n",
       "      <td>Crucial Ballistix Sport</td>\n",
       "      <td>16.0</td>\n",
       "      <td>DDR4</td>\n",
       "      <td>2400</td>\n",
       "      <td>5335</td>\n",
       "    </tr>\n",
       "    <tr>\n",
       "      <th>515</th>\n",
       "      <td>CORSAIR</td>\n",
       "      <td>Corsair Dominator</td>\n",
       "      <td>16.0</td>\n",
       "      <td>DDR4</td>\n",
       "      <td>3600</td>\n",
       "      <td>2222</td>\n",
       "    </tr>\n",
       "    <tr>\n",
       "      <th>1581</th>\n",
       "      <td>G.SKILL</td>\n",
       "      <td>G.Skill Trident Z</td>\n",
       "      <td>8.0</td>\n",
       "      <td>DDR4</td>\n",
       "      <td>3733</td>\n",
       "      <td>1411</td>\n",
       "    </tr>\n",
       "    <tr>\n",
       "      <th>589</th>\n",
       "      <td>CORSAIR</td>\n",
       "      <td>Corsair Value Select</td>\n",
       "      <td>8.0</td>\n",
       "      <td>DDR3L</td>\n",
       "      <td>1333</td>\n",
       "      <td>1643</td>\n",
       "    </tr>\n",
       "    <tr>\n",
       "      <th>1248</th>\n",
       "      <td>G.SKILL</td>\n",
       "      <td>G.Skill Nt</td>\n",
       "      <td>4.0</td>\n",
       "      <td>DDR2</td>\n",
       "      <td>800</td>\n",
       "      <td>2108</td>\n",
       "    </tr>\n",
       "  </tbody>\n",
       "</table>\n",
       "</div>"
      ],
      "text/plain": [
       "             brand                     name  memory memory_type  clock  Vol.\n",
       "ram_code                                                                    \n",
       "2440      KINGSTON        Kingston Valueram     4.0        DDR4   2133  5596\n",
       "977        CRUCIAL  Crucial Ballistix Sport    16.0        DDR4   2400  5335\n",
       "515        CORSAIR        Corsair Dominator    16.0        DDR4   3600  2222\n",
       "1581       G.SKILL        G.Skill Trident Z     8.0        DDR4   3733  1411\n",
       "589        CORSAIR     Corsair Value Select     8.0       DDR3L   1333  1643\n",
       "1248       G.SKILL               G.Skill Nt     4.0        DDR2    800  2108"
      ]
     },
     "execution_count": 68,
     "metadata": {},
     "output_type": "execute_result"
    }
   ],
   "source": [
    "an_ram = df_ram.loc[[2440, 977, 515, 1581, 589, 1248]]\n",
    "an_ram = an_ram.reset_index(\"ram_code\").astype({\"ram_code\":str}).set_index(\"ram_code\") #Change indexes to string\n",
    "an_ram[\"Vol.\"] = df_sales_merged.loc[df_sales_merged[\"ram_code\"].isin(an_ram.index)].groupby(\"ram_code\").size()\n",
    "an_ram"
   ]
  },
  {
   "cell_type": "code",
   "execution_count": 69,
   "id": "a5ccb853",
   "metadata": {},
   "outputs": [
    {
     "data": {
      "text/plain": [
       "count    3111.000000\n",
       "mean     1074.477660\n",
       "std      1226.876352\n",
       "min         1.000000\n",
       "25%       104.000000\n",
       "50%       620.000000\n",
       "75%      1814.000000\n",
       "max      8664.000000\n",
       "Name: Vol. sales, dtype: float64"
      ]
     },
     "metadata": {},
     "output_type": "display_data"
    }
   ],
   "source": [
    "display(df_sales_merged.groupby(\"ram_code\").size().describe().rename(\"Vol. sales\"))"
   ]
  },
  {
   "cell_type": "markdown",
   "id": "7ad37fd4",
   "metadata": {},
   "source": [
    "We can already see that the sales for these modules are not that high compared to the previous case of a sequence of length 2.  \n",
    "The interesting thing is that these sequences, compared to the ones above, are shared across multiple regions.  \n",
    "\n",
    "Of course these are not the only ram sequences shared across regions.  \n",
    "These results are heavily influenced by the sampling process, however we do not see any other way to perform this kind of analysis without additional computational resources."
   ]
  },
  {
   "cell_type": "markdown",
   "id": "0a9e99ae",
   "metadata": {},
   "source": [
    "#### Country/Continent grouping\n",
    "We skipped this grouping due to the time required to execute the apriori algorithm on any significant enough sample size."
   ]
  },
  {
   "cell_type": "markdown",
   "id": "d042e57b",
   "metadata": {},
   "source": [
    "### Location/time-based ram baskets\n",
    "Sequences defined by location while elements are defined by unit of time."
   ]
  },
  {
   "cell_type": "markdown",
   "id": "b28cfdf9",
   "metadata": {},
   "source": [
    "#### Region/week"
   ]
  },
  {
   "cell_type": "code",
   "execution_count": 70,
   "id": "caa855c7",
   "metadata": {},
   "outputs": [
    {
     "name": "stdout",
     "output_type": "stream",
     "text": [
      "Entries sampled: 3343\n"
     ]
    }
   ],
   "source": [
    "baskets_sampled_region_week = df_sales_proc.sample(frac=0.001, random_state=0)\n",
    "print(f\"Entries sampled: {baskets_sampled_region_week.shape[0]}\")"
   ]
  },
  {
   "cell_type": "code",
   "execution_count": 71,
   "id": "bc436c6c",
   "metadata": {},
   "outputs": [
    {
     "data": {
      "text/plain": [
       "region\n",
       "analucia              [[2982], [1936], [1936], [2381], [2455, 769], ...\n",
       "aragon                                           [[1425], [642], [657]]\n",
       "atlantic provinces                                             [[1390]]\n",
       "baden-wuttemberg      [[1414], [2046], [979], [657], [2211], [2328],...\n",
       "bavaria               [[2779], [2796], [1646], [2390], [733], [1430]...\n",
       "Name: ram_code, dtype: object"
      ]
     },
     "execution_count": 71,
     "metadata": {},
     "output_type": "execute_result"
    }
   ],
   "source": [
    "baskets_region_week = baskets_sampled_region_week.groupby([\"region\", pd.Grouper(key=\"time_code\", freq=\"1W\")])[\"ram_code\"]\\\n",
    "        .apply(lambda x: list(x))\n",
    "baskets_region_week = baskets_region_week.groupby(\"region\").apply(lambda x: [y for y in x])\n",
    "\n",
    "baskets_region_week.head()"
   ]
  },
  {
   "cell_type": "code",
   "execution_count": 72,
   "id": "2a8fefa0",
   "metadata": {},
   "outputs": [],
   "source": [
    "format_baskets = []\n",
    "for row in baskets_region_week.values:\n",
    "    format_baskets.append(row)\n",
    "\n",
    "support = np.ceil(baskets_region_week.shape[0]*10/100)\n",
    "ap_result = gsp_apriori(format_baskets, support, verbose=False)"
   ]
  },
  {
   "cell_type": "markdown",
   "id": "126bcae9",
   "metadata": {},
   "source": [
    "Support threshold is 10% for computational reasons."
   ]
  },
  {
   "cell_type": "code",
   "execution_count": 73,
   "id": "eaddf2c1",
   "metadata": {},
   "outputs": [],
   "source": [
    "result_region_week_df = pd.DataFrame(ap_result, columns=[\"Seq.\", \"Supp. (abs)\"])\n",
    "result_region_week_df[\"Supp. (frac)\"] = result_region_week_df[\"Supp. (abs)\"]/baskets_region_week.shape[0]\n",
    "result_region_week_df[\"Seq. len\"] = result_region_week_df[\"Seq.\"].apply(lambda x: len(x))\n",
    "result_region_week_df[\"Max elem. len\"] = result_region_week_df[\"Seq.\"].apply(lambda x: np.max([len(y) for y in x]))"
   ]
  },
  {
   "cell_type": "code",
   "execution_count": 74,
   "id": "e62f8b09",
   "metadata": {},
   "outputs": [
    {
     "data": {
      "text/html": [
       "<div>\n",
       "<style scoped>\n",
       "    .dataframe tbody tr th:only-of-type {\n",
       "        vertical-align: middle;\n",
       "    }\n",
       "\n",
       "    .dataframe tbody tr th {\n",
       "        vertical-align: top;\n",
       "    }\n",
       "\n",
       "    .dataframe thead th {\n",
       "        text-align: right;\n",
       "    }\n",
       "</style>\n",
       "<table border=\"1\" class=\"dataframe\">\n",
       "  <thead>\n",
       "    <tr style=\"text-align: right;\">\n",
       "      <th></th>\n",
       "      <th>Seq.</th>\n",
       "      <th>Supp. (abs)</th>\n",
       "      <th>Supp. (frac)</th>\n",
       "      <th>Seq. len</th>\n",
       "      <th>Max elem. len</th>\n",
       "    </tr>\n",
       "  </thead>\n",
       "  <tbody>\n",
       "    <tr>\n",
       "      <th>11</th>\n",
       "      <td>[[656]]</td>\n",
       "      <td>13</td>\n",
       "      <td>0.183099</td>\n",
       "      <td>1</td>\n",
       "      <td>1</td>\n",
       "    </tr>\n",
       "    <tr>\n",
       "      <th>2</th>\n",
       "      <td>[[2185]]</td>\n",
       "      <td>11</td>\n",
       "      <td>0.154930</td>\n",
       "      <td>1</td>\n",
       "      <td>1</td>\n",
       "    </tr>\n",
       "    <tr>\n",
       "      <th>13</th>\n",
       "      <td>[[804]]</td>\n",
       "      <td>11</td>\n",
       "      <td>0.154930</td>\n",
       "      <td>1</td>\n",
       "      <td>1</td>\n",
       "    </tr>\n",
       "    <tr>\n",
       "      <th>15</th>\n",
       "      <td>[[977]]</td>\n",
       "      <td>11</td>\n",
       "      <td>0.154930</td>\n",
       "      <td>1</td>\n",
       "      <td>1</td>\n",
       "    </tr>\n",
       "    <tr>\n",
       "      <th>6</th>\n",
       "      <td>[[2440]]</td>\n",
       "      <td>10</td>\n",
       "      <td>0.140845</td>\n",
       "      <td>1</td>\n",
       "      <td>1</td>\n",
       "    </tr>\n",
       "  </tbody>\n",
       "</table>\n",
       "</div>"
      ],
      "text/plain": [
       "        Seq.  Supp. (abs)  Supp. (frac)  Seq. len  Max elem. len\n",
       "11   [[656]]           13      0.183099         1              1\n",
       "2   [[2185]]           11      0.154930         1              1\n",
       "13   [[804]]           11      0.154930         1              1\n",
       "15   [[977]]           11      0.154930         1              1\n",
       "6   [[2440]]           10      0.140845         1              1"
      ]
     },
     "metadata": {},
     "output_type": "display_data"
    },
    {
     "data": {
      "text/html": [
       "<div>\n",
       "<style scoped>\n",
       "    .dataframe tbody tr th:only-of-type {\n",
       "        vertical-align: middle;\n",
       "    }\n",
       "\n",
       "    .dataframe tbody tr th {\n",
       "        vertical-align: top;\n",
       "    }\n",
       "\n",
       "    .dataframe thead th {\n",
       "        text-align: right;\n",
       "    }\n",
       "</style>\n",
       "<table border=\"1\" class=\"dataframe\">\n",
       "  <thead>\n",
       "    <tr style=\"text-align: right;\">\n",
       "      <th></th>\n",
       "      <th>Seq.</th>\n",
       "      <th>Supp. (abs)</th>\n",
       "      <th>Supp. (frac)</th>\n",
       "      <th>Seq. len</th>\n",
       "      <th>Max elem. len</th>\n",
       "    </tr>\n",
       "  </thead>\n",
       "  <tbody>\n",
       "    <tr>\n",
       "      <th>11</th>\n",
       "      <td>[[656]]</td>\n",
       "      <td>13</td>\n",
       "      <td>0.183099</td>\n",
       "      <td>1</td>\n",
       "      <td>1</td>\n",
       "    </tr>\n",
       "    <tr>\n",
       "      <th>2</th>\n",
       "      <td>[[2185]]</td>\n",
       "      <td>11</td>\n",
       "      <td>0.154930</td>\n",
       "      <td>1</td>\n",
       "      <td>1</td>\n",
       "    </tr>\n",
       "    <tr>\n",
       "      <th>13</th>\n",
       "      <td>[[804]]</td>\n",
       "      <td>11</td>\n",
       "      <td>0.154930</td>\n",
       "      <td>1</td>\n",
       "      <td>1</td>\n",
       "    </tr>\n",
       "    <tr>\n",
       "      <th>15</th>\n",
       "      <td>[[977]]</td>\n",
       "      <td>11</td>\n",
       "      <td>0.154930</td>\n",
       "      <td>1</td>\n",
       "      <td>1</td>\n",
       "    </tr>\n",
       "    <tr>\n",
       "      <th>6</th>\n",
       "      <td>[[2440]]</td>\n",
       "      <td>10</td>\n",
       "      <td>0.140845</td>\n",
       "      <td>1</td>\n",
       "      <td>1</td>\n",
       "    </tr>\n",
       "  </tbody>\n",
       "</table>\n",
       "</div>"
      ],
      "text/plain": [
       "        Seq.  Supp. (abs)  Supp. (frac)  Seq. len  Max elem. len\n",
       "11   [[656]]           13      0.183099         1              1\n",
       "2   [[2185]]           11      0.154930         1              1\n",
       "13   [[804]]           11      0.154930         1              1\n",
       "15   [[977]]           11      0.154930         1              1\n",
       "6   [[2440]]           10      0.140845         1              1"
      ]
     },
     "metadata": {},
     "output_type": "display_data"
    }
   ],
   "source": [
    "display(result_region_week_df.sort_values([\"Seq. len\", \"Supp. (abs)\"], ascending=False).head())\n",
    "display(result_region_week_df.sort_values([\"Max elem. len\", \"Supp. (abs)\"], ascending=False).head())"
   ]
  },
  {
   "cell_type": "markdown",
   "id": "7513aa27",
   "metadata": {},
   "source": [
    "Only length 1 singleton sequences."
   ]
  },
  {
   "cell_type": "markdown",
   "id": "8c0fcf24",
   "metadata": {},
   "source": [
    "#### Region/month"
   ]
  },
  {
   "cell_type": "code",
   "execution_count": 75,
   "id": "489e87bf",
   "metadata": {},
   "outputs": [
    {
     "name": "stdout",
     "output_type": "stream",
     "text": [
      "Entries sampled: 3343\n"
     ]
    }
   ],
   "source": [
    "baskets_sampled_region_month = df_sales_proc.sample(frac=0.001, random_state=0)\n",
    "print(f\"Entries sampled: {baskets_sampled_region_month.shape[0]}\")"
   ]
  },
  {
   "cell_type": "code",
   "execution_count": 76,
   "id": "beb0ca11",
   "metadata": {},
   "outputs": [
    {
     "data": {
      "text/plain": [
       "region\n",
       "analucia              [[2982], [1936, 1936], [2381], [2455, 769], [1...\n",
       "aragon                                           [[1425], [642], [657]]\n",
       "atlantic provinces                                             [[1390]]\n",
       "baden-wuttemberg      [[1414], [2046, 979], [657], [2328, 2211], [23...\n",
       "bavaria               [[2779], [2796, 1646], [2390, 733], [1430], [1...\n",
       "Name: ram_code, dtype: object"
      ]
     },
     "execution_count": 76,
     "metadata": {},
     "output_type": "execute_result"
    }
   ],
   "source": [
    "baskets_region_month = baskets_sampled_region_month.groupby([\"region\", pd.Grouper(key=\"time_code\", freq=\"1M\")])[\"ram_code\"]\\\n",
    "        .apply(lambda x: list(x))\n",
    "baskets_region_month = baskets_region_month.groupby(\"region\").apply(lambda x: [y for y in x])\n",
    "\n",
    "baskets_region_month.head()"
   ]
  },
  {
   "cell_type": "code",
   "execution_count": 77,
   "id": "4ac3066e",
   "metadata": {},
   "outputs": [],
   "source": [
    "format_baskets = []\n",
    "for row in baskets_region_month.values:\n",
    "    format_baskets.append(row)\n",
    "\n",
    "support = np.ceil(baskets_region_month.shape[0]*10/100)\n",
    "ap_result = gsp_apriori(format_baskets, support, verbose=False)"
   ]
  },
  {
   "cell_type": "code",
   "execution_count": 78,
   "id": "df37bb03",
   "metadata": {},
   "outputs": [],
   "source": [
    "result_region_month_df = pd.DataFrame(ap_result, columns=[\"Seq.\", \"Supp. (abs)\"])\n",
    "result_region_month_df[\"Supp. (frac)\"] = result_region_month_df[\"Supp. (abs)\"]/baskets_region_month.shape[0]\n",
    "result_region_month_df[\"Seq. len\"] = result_region_month_df[\"Seq.\"].apply(lambda x: len(x))\n",
    "result_region_month_df[\"Max elem. len\"] = result_region_month_df[\"Seq.\"].apply(lambda x: np.max([len(y) for y in x]))"
   ]
  },
  {
   "cell_type": "code",
   "execution_count": 79,
   "id": "4a7dcc0e",
   "metadata": {},
   "outputs": [
    {
     "data": {
      "text/html": [
       "<div>\n",
       "<style scoped>\n",
       "    .dataframe tbody tr th:only-of-type {\n",
       "        vertical-align: middle;\n",
       "    }\n",
       "\n",
       "    .dataframe tbody tr th {\n",
       "        vertical-align: top;\n",
       "    }\n",
       "\n",
       "    .dataframe thead th {\n",
       "        text-align: right;\n",
       "    }\n",
       "</style>\n",
       "<table border=\"1\" class=\"dataframe\">\n",
       "  <thead>\n",
       "    <tr style=\"text-align: right;\">\n",
       "      <th></th>\n",
       "      <th>Seq.</th>\n",
       "      <th>Supp. (abs)</th>\n",
       "      <th>Supp. (frac)</th>\n",
       "      <th>Seq. len</th>\n",
       "      <th>Max elem. len</th>\n",
       "    </tr>\n",
       "  </thead>\n",
       "  <tbody>\n",
       "    <tr>\n",
       "      <th>11</th>\n",
       "      <td>[[656]]</td>\n",
       "      <td>13</td>\n",
       "      <td>0.183099</td>\n",
       "      <td>1</td>\n",
       "      <td>1</td>\n",
       "    </tr>\n",
       "    <tr>\n",
       "      <th>2</th>\n",
       "      <td>[[2185]]</td>\n",
       "      <td>11</td>\n",
       "      <td>0.154930</td>\n",
       "      <td>1</td>\n",
       "      <td>1</td>\n",
       "    </tr>\n",
       "    <tr>\n",
       "      <th>13</th>\n",
       "      <td>[[804]]</td>\n",
       "      <td>11</td>\n",
       "      <td>0.154930</td>\n",
       "      <td>1</td>\n",
       "      <td>1</td>\n",
       "    </tr>\n",
       "    <tr>\n",
       "      <th>15</th>\n",
       "      <td>[[977]]</td>\n",
       "      <td>11</td>\n",
       "      <td>0.154930</td>\n",
       "      <td>1</td>\n",
       "      <td>1</td>\n",
       "    </tr>\n",
       "    <tr>\n",
       "      <th>6</th>\n",
       "      <td>[[2440]]</td>\n",
       "      <td>10</td>\n",
       "      <td>0.140845</td>\n",
       "      <td>1</td>\n",
       "      <td>1</td>\n",
       "    </tr>\n",
       "  </tbody>\n",
       "</table>\n",
       "</div>"
      ],
      "text/plain": [
       "        Seq.  Supp. (abs)  Supp. (frac)  Seq. len  Max elem. len\n",
       "11   [[656]]           13      0.183099         1              1\n",
       "2   [[2185]]           11      0.154930         1              1\n",
       "13   [[804]]           11      0.154930         1              1\n",
       "15   [[977]]           11      0.154930         1              1\n",
       "6   [[2440]]           10      0.140845         1              1"
      ]
     },
     "metadata": {},
     "output_type": "display_data"
    },
    {
     "data": {
      "text/html": [
       "<div>\n",
       "<style scoped>\n",
       "    .dataframe tbody tr th:only-of-type {\n",
       "        vertical-align: middle;\n",
       "    }\n",
       "\n",
       "    .dataframe tbody tr th {\n",
       "        vertical-align: top;\n",
       "    }\n",
       "\n",
       "    .dataframe thead th {\n",
       "        text-align: right;\n",
       "    }\n",
       "</style>\n",
       "<table border=\"1\" class=\"dataframe\">\n",
       "  <thead>\n",
       "    <tr style=\"text-align: right;\">\n",
       "      <th></th>\n",
       "      <th>Seq.</th>\n",
       "      <th>Supp. (abs)</th>\n",
       "      <th>Supp. (frac)</th>\n",
       "      <th>Seq. len</th>\n",
       "      <th>Max elem. len</th>\n",
       "    </tr>\n",
       "  </thead>\n",
       "  <tbody>\n",
       "    <tr>\n",
       "      <th>11</th>\n",
       "      <td>[[656]]</td>\n",
       "      <td>13</td>\n",
       "      <td>0.183099</td>\n",
       "      <td>1</td>\n",
       "      <td>1</td>\n",
       "    </tr>\n",
       "    <tr>\n",
       "      <th>2</th>\n",
       "      <td>[[2185]]</td>\n",
       "      <td>11</td>\n",
       "      <td>0.154930</td>\n",
       "      <td>1</td>\n",
       "      <td>1</td>\n",
       "    </tr>\n",
       "    <tr>\n",
       "      <th>13</th>\n",
       "      <td>[[804]]</td>\n",
       "      <td>11</td>\n",
       "      <td>0.154930</td>\n",
       "      <td>1</td>\n",
       "      <td>1</td>\n",
       "    </tr>\n",
       "    <tr>\n",
       "      <th>15</th>\n",
       "      <td>[[977]]</td>\n",
       "      <td>11</td>\n",
       "      <td>0.154930</td>\n",
       "      <td>1</td>\n",
       "      <td>1</td>\n",
       "    </tr>\n",
       "    <tr>\n",
       "      <th>6</th>\n",
       "      <td>[[2440]]</td>\n",
       "      <td>10</td>\n",
       "      <td>0.140845</td>\n",
       "      <td>1</td>\n",
       "      <td>1</td>\n",
       "    </tr>\n",
       "  </tbody>\n",
       "</table>\n",
       "</div>"
      ],
      "text/plain": [
       "        Seq.  Supp. (abs)  Supp. (frac)  Seq. len  Max elem. len\n",
       "11   [[656]]           13      0.183099         1              1\n",
       "2   [[2185]]           11      0.154930         1              1\n",
       "13   [[804]]           11      0.154930         1              1\n",
       "15   [[977]]           11      0.154930         1              1\n",
       "6   [[2440]]           10      0.140845         1              1"
      ]
     },
     "metadata": {},
     "output_type": "display_data"
    }
   ],
   "source": [
    "display(result_region_month_df.sort_values([\"Seq. len\", \"Supp. (abs)\"], ascending=False).head())\n",
    "display(result_region_month_df.sort_values([\"Max elem. len\", \"Supp. (abs)\"], ascending=False).head())"
   ]
  },
  {
   "cell_type": "markdown",
   "id": "65a5118f",
   "metadata": {},
   "source": [
    "Only length 1 singleton sequences."
   ]
  },
  {
   "cell_type": "markdown",
   "id": "66928843",
   "metadata": {},
   "source": [
    "#### (Country, continent)/(week, month)\n",
    "The computational time is too high for any significantly big sample size."
   ]
  },
  {
   "cell_type": "markdown",
   "id": "4a91a50e",
   "metadata": {},
   "source": [
    "### Conclusions frequent ram sequences\n",
    "Again, using only the ram_codes as the events in our sequence's elements wasn't really fruitful.  \n",
    "We only managed to find out a subset (due to sampling) of the most popular ram modules sold across time/geography."
   ]
  },
  {
   "cell_type": "markdown",
   "id": "70ba86f1",
   "metadata": {},
   "source": [
    "## Frequent sales sequences\n",
    "In the next few sections we define the sequences by grouping the sales by a unit of time/space and use the sales entries as elements of the sequences with their relative features as events."
   ]
  },
  {
   "cell_type": "code",
   "execution_count": 80,
   "id": "037b0de4",
   "metadata": {},
   "outputs": [
    {
     "data": {
      "text/html": [
       "<div>\n",
       "<style scoped>\n",
       "    .dataframe tbody tr th:only-of-type {\n",
       "        vertical-align: middle;\n",
       "    }\n",
       "\n",
       "    .dataframe tbody tr th {\n",
       "        vertical-align: top;\n",
       "    }\n",
       "\n",
       "    .dataframe thead th {\n",
       "        text-align: right;\n",
       "    }\n",
       "</style>\n",
       "<table border=\"1\" class=\"dataframe\">\n",
       "  <thead>\n",
       "    <tr style=\"text-align: right;\">\n",
       "      <th></th>\n",
       "      <th>brand</th>\n",
       "      <th>name</th>\n",
       "      <th>memory</th>\n",
       "      <th>memory_type</th>\n",
       "      <th>clock</th>\n",
       "      <th>sales_uds</th>\n",
       "    </tr>\n",
       "  </thead>\n",
       "  <tbody>\n",
       "    <tr>\n",
       "      <th>2602347</th>\n",
       "      <td>ADATA</td>\n",
       "      <td>Adata</td>\n",
       "      <td>[0, 4]_mem</td>\n",
       "      <td>DDR</td>\n",
       "      <td>[100, 1333]_clock</td>\n",
       "      <td>(0.999, 27.0]_sales_uds</td>\n",
       "    </tr>\n",
       "    <tr>\n",
       "      <th>2602348</th>\n",
       "      <td>ADATA</td>\n",
       "      <td>Adata</td>\n",
       "      <td>[0, 4]_mem</td>\n",
       "      <td>DDR</td>\n",
       "      <td>[100, 1333]_clock</td>\n",
       "      <td>(0.999, 27.0]_sales_uds</td>\n",
       "    </tr>\n",
       "    <tr>\n",
       "      <th>2602349</th>\n",
       "      <td>ADATA</td>\n",
       "      <td>Adata</td>\n",
       "      <td>[0, 4]_mem</td>\n",
       "      <td>DDR</td>\n",
       "      <td>[100, 1333]_clock</td>\n",
       "      <td>(0.999, 27.0]_sales_uds</td>\n",
       "    </tr>\n",
       "    <tr>\n",
       "      <th>2602350</th>\n",
       "      <td>ADATA</td>\n",
       "      <td>Adata</td>\n",
       "      <td>[0, 4]_mem</td>\n",
       "      <td>DDR</td>\n",
       "      <td>[100, 1333]_clock</td>\n",
       "      <td>(0.999, 27.0]_sales_uds</td>\n",
       "    </tr>\n",
       "    <tr>\n",
       "      <th>2602351</th>\n",
       "      <td>ADATA</td>\n",
       "      <td>Adata</td>\n",
       "      <td>[0, 4]_mem</td>\n",
       "      <td>DDR</td>\n",
       "      <td>[100, 1333]_clock</td>\n",
       "      <td>(0.999, 27.0]_sales_uds</td>\n",
       "    </tr>\n",
       "    <tr>\n",
       "      <th>...</th>\n",
       "      <td>...</td>\n",
       "      <td>...</td>\n",
       "      <td>...</td>\n",
       "      <td>...</td>\n",
       "      <td>...</td>\n",
       "      <td>...</td>\n",
       "    </tr>\n",
       "    <tr>\n",
       "      <th>6014673</th>\n",
       "      <td>WINTEC</td>\n",
       "      <td>Wintec</td>\n",
       "      <td>[48, 256]_mem</td>\n",
       "      <td>DDR4</td>\n",
       "      <td>[1866, 2250]_clock</td>\n",
       "      <td>(395.0, 10630.0]_sales_uds</td>\n",
       "    </tr>\n",
       "    <tr>\n",
       "      <th>6014674</th>\n",
       "      <td>WINTEC</td>\n",
       "      <td>Wintec</td>\n",
       "      <td>[48, 256]_mem</td>\n",
       "      <td>DDR4</td>\n",
       "      <td>[1866, 2250]_clock</td>\n",
       "      <td>(395.0, 10630.0]_sales_uds</td>\n",
       "    </tr>\n",
       "    <tr>\n",
       "      <th>6014675</th>\n",
       "      <td>WINTEC</td>\n",
       "      <td>Wintec</td>\n",
       "      <td>[48, 256]_mem</td>\n",
       "      <td>DDR4</td>\n",
       "      <td>[1866, 2250]_clock</td>\n",
       "      <td>(395.0, 10630.0]_sales_uds</td>\n",
       "    </tr>\n",
       "    <tr>\n",
       "      <th>6014676</th>\n",
       "      <td>WINTEC</td>\n",
       "      <td>Wintec</td>\n",
       "      <td>[48, 256]_mem</td>\n",
       "      <td>DDR4</td>\n",
       "      <td>[1866, 2250]_clock</td>\n",
       "      <td>(395.0, 10630.0]_sales_uds</td>\n",
       "    </tr>\n",
       "    <tr>\n",
       "      <th>6014677</th>\n",
       "      <td>WINTEC</td>\n",
       "      <td>Wintec</td>\n",
       "      <td>[48, 256]_mem</td>\n",
       "      <td>DDR4</td>\n",
       "      <td>[1866, 2250]_clock</td>\n",
       "      <td>(395.0, 10630.0]_sales_uds</td>\n",
       "    </tr>\n",
       "  </tbody>\n",
       "</table>\n",
       "<p>3342700 rows × 6 columns</p>\n",
       "</div>"
      ],
      "text/plain": [
       "          brand    name         memory memory_type               clock  \\\n",
       "2602347   ADATA   Adata     [0, 4]_mem         DDR   [100, 1333]_clock   \n",
       "2602348   ADATA   Adata     [0, 4]_mem         DDR   [100, 1333]_clock   \n",
       "2602349   ADATA   Adata     [0, 4]_mem         DDR   [100, 1333]_clock   \n",
       "2602350   ADATA   Adata     [0, 4]_mem         DDR   [100, 1333]_clock   \n",
       "2602351   ADATA   Adata     [0, 4]_mem         DDR   [100, 1333]_clock   \n",
       "...         ...     ...            ...         ...                 ...   \n",
       "6014673  WINTEC  Wintec  [48, 256]_mem        DDR4  [1866, 2250]_clock   \n",
       "6014674  WINTEC  Wintec  [48, 256]_mem        DDR4  [1866, 2250]_clock   \n",
       "6014675  WINTEC  Wintec  [48, 256]_mem        DDR4  [1866, 2250]_clock   \n",
       "6014676  WINTEC  Wintec  [48, 256]_mem        DDR4  [1866, 2250]_clock   \n",
       "6014677  WINTEC  Wintec  [48, 256]_mem        DDR4  [1866, 2250]_clock   \n",
       "\n",
       "                          sales_uds  \n",
       "2602347     (0.999, 27.0]_sales_uds  \n",
       "2602348     (0.999, 27.0]_sales_uds  \n",
       "2602349     (0.999, 27.0]_sales_uds  \n",
       "2602350     (0.999, 27.0]_sales_uds  \n",
       "2602351     (0.999, 27.0]_sales_uds  \n",
       "...                             ...  \n",
       "6014673  (395.0, 10630.0]_sales_uds  \n",
       "6014674  (395.0, 10630.0]_sales_uds  \n",
       "6014675  (395.0, 10630.0]_sales_uds  \n",
       "6014676  (395.0, 10630.0]_sales_uds  \n",
       "6014677  (395.0, 10630.0]_sales_uds  \n",
       "\n",
       "[3342700 rows x 6 columns]"
      ]
     },
     "execution_count": 80,
     "metadata": {},
     "output_type": "execute_result"
    }
   ],
   "source": [
    "target_feat = [\"brand\", \"name\", \"memory\", \"memory_type\", \"clock\", \"sales_uds\"]\n",
    "df_sales_proc.loc[:, target_feat]"
   ]
  },
  {
   "cell_type": "markdown",
   "id": "bc143c1a",
   "metadata": {},
   "source": [
    "Here we define which features we are interested in for the next few sections.  \n",
    "We ignore features that are already accounted for in the sequences (ie time/location) or that we are not interested in (ie ram_code, vendor)."
   ]
  },
  {
   "cell_type": "markdown",
   "id": "87cb5cde",
   "metadata": {},
   "source": [
    "### Time-based sales sequences"
   ]
  },
  {
   "cell_type": "markdown",
   "id": "ad4a2081",
   "metadata": {},
   "source": [
    "#### Week"
   ]
  },
  {
   "cell_type": "code",
   "execution_count": 81,
   "id": "6cbf529b",
   "metadata": {
    "scrolled": true
   },
   "outputs": [
    {
     "name": "stdout",
     "output_type": "stream",
     "text": [
      "Entries sampled: 3343\n"
     ]
    }
   ],
   "source": [
    "baskets_sampled_week = df_sales_proc.sample(frac=0.001, random_state=0)\n",
    "print(f\"Entries sampled: {baskets_sampled_week.shape[0]}\")"
   ]
  },
  {
   "cell_type": "code",
   "execution_count": 82,
   "id": "0bd9dd58",
   "metadata": {},
   "outputs": [
    {
     "data": {
      "text/plain": [
       "name_vendor\n",
       "1stWave Technologies    [[CORSAIR, Corsair Vengeance, [12, 16]_mem, DD...\n",
       "ARLT                    [[KINGSTON, Kingston, [0, 4]_mem, DDR3, [100, ...\n",
       "Adorama                 [[CRUCIAL, Crucial Ballistix Tactical, [12, 16...\n",
       "Alternate               [[G.SKILL, G.Skill Sniper, [6, 8]_mem, DDR3, [...\n",
       "Alternate Italia        [[KINGSTON, Kingston, [6, 8]_mem, DDR3, [100, ...\n",
       "dtype: object"
      ]
     },
     "execution_count": 82,
     "metadata": {},
     "output_type": "execute_result"
    }
   ],
   "source": [
    "baskets_week = baskets_sampled_week.groupby([\"name_vendor\", pd.Grouper(key=\"time_code\", freq=\"1W\")])[target_feat]\\\n",
    "        .apply(lambda x: list(x.values))\n",
    "baskets_week = baskets_week.groupby(\"name_vendor\").apply(lambda x: [y for y in x][0])\n",
    "\n",
    "baskets_week.head()"
   ]
  },
  {
   "cell_type": "code",
   "execution_count": 83,
   "id": "e43e37d3",
   "metadata": {},
   "outputs": [],
   "source": [
    "format_baskets = []\n",
    "for row in baskets_week.values:\n",
    "    format_baskets.append(row)\n",
    "\n",
    "support = np.ceil(baskets_week.shape[0]*5/100)\n",
    "ap_result = gsp_apriori(format_baskets, support, verbose=False)"
   ]
  },
  {
   "cell_type": "code",
   "execution_count": 84,
   "id": "e1a599da",
   "metadata": {},
   "outputs": [],
   "source": [
    "result_week_df = pd.DataFrame(ap_result, columns=[\"Seq.\", \"Supp. (abs)\"])\n",
    "\n",
    "result_week_df[\"Supp. (frac)\"] = result_week_df[\"Supp. (abs)\"]/baskets_week.shape[0]\n",
    "result_week_df[\"Seq. len\"] = result_week_df[\"Seq.\"].apply(lambda x: len(x))\n",
    "result_week_df[\"Max elem. len\"] = result_week_df[\"Seq.\"].apply(lambda x: np.max([len(y) for y in x]))"
   ]
  },
  {
   "cell_type": "code",
   "execution_count": 85,
   "id": "e39632b3",
   "metadata": {},
   "outputs": [
    {
     "data": {
      "text/html": [
       "<div>\n",
       "<style scoped>\n",
       "    .dataframe tbody tr th:only-of-type {\n",
       "        vertical-align: middle;\n",
       "    }\n",
       "\n",
       "    .dataframe tbody tr th {\n",
       "        vertical-align: top;\n",
       "    }\n",
       "\n",
       "    .dataframe thead th {\n",
       "        text-align: right;\n",
       "    }\n",
       "</style>\n",
       "<table border=\"1\" class=\"dataframe\">\n",
       "  <thead>\n",
       "    <tr style=\"text-align: right;\">\n",
       "      <th></th>\n",
       "      <th>Seq.</th>\n",
       "      <th>Supp. (abs)</th>\n",
       "      <th>Supp. (frac)</th>\n",
       "      <th>Seq. len</th>\n",
       "      <th>Max elem. len</th>\n",
       "    </tr>\n",
       "  </thead>\n",
       "  <tbody>\n",
       "    <tr>\n",
       "      <th>115</th>\n",
       "      <td>[[DDR3, KINGSTON]]</td>\n",
       "      <td>16</td>\n",
       "      <td>0.266667</td>\n",
       "      <td>1</td>\n",
       "      <td>2</td>\n",
       "    </tr>\n",
       "    <tr>\n",
       "      <th>126</th>\n",
       "      <td>[[DDR3, [6, 8]_mem]]</td>\n",
       "      <td>16</td>\n",
       "      <td>0.266667</td>\n",
       "      <td>1</td>\n",
       "      <td>2</td>\n",
       "    </tr>\n",
       "    <tr>\n",
       "      <th>134</th>\n",
       "      <td>[[DDR4, [2400, 3200]_clock]]</td>\n",
       "      <td>16</td>\n",
       "      <td>0.266667</td>\n",
       "      <td>1</td>\n",
       "      <td>2</td>\n",
       "    </tr>\n",
       "    <tr>\n",
       "      <th>88</th>\n",
       "      <td>[[CORSAIR, DDR4]]</td>\n",
       "      <td>13</td>\n",
       "      <td>0.216667</td>\n",
       "      <td>1</td>\n",
       "      <td>2</td>\n",
       "    </tr>\n",
       "    <tr>\n",
       "      <th>122</th>\n",
       "      <td>[[DDR3, [1600, 1800]_clock]]</td>\n",
       "      <td>13</td>\n",
       "      <td>0.216667</td>\n",
       "      <td>1</td>\n",
       "      <td>2</td>\n",
       "    </tr>\n",
       "    <tr>\n",
       "      <th>86</th>\n",
       "      <td>[[CORSAIR, Corsair Vengeance]]</td>\n",
       "      <td>12</td>\n",
       "      <td>0.200000</td>\n",
       "      <td>1</td>\n",
       "      <td>2</td>\n",
       "    </tr>\n",
       "    <tr>\n",
       "      <th>123</th>\n",
       "      <td>[[DDR3, [1866, 2250]_clock]]</td>\n",
       "      <td>12</td>\n",
       "      <td>0.200000</td>\n",
       "      <td>1</td>\n",
       "      <td>2</td>\n",
       "    </tr>\n",
       "    <tr>\n",
       "      <th>121</th>\n",
       "      <td>[[DDR3, [12, 16]_mem]]</td>\n",
       "      <td>11</td>\n",
       "      <td>0.183333</td>\n",
       "      <td>1</td>\n",
       "      <td>2</td>\n",
       "    </tr>\n",
       "    <tr>\n",
       "      <th>132</th>\n",
       "      <td>[[DDR4, [1866, 2250]_clock]]</td>\n",
       "      <td>11</td>\n",
       "      <td>0.183333</td>\n",
       "      <td>1</td>\n",
       "      <td>2</td>\n",
       "    </tr>\n",
       "    <tr>\n",
       "      <th>150</th>\n",
       "      <td>[[KINGSTON, [1866, 2250]_clock]]</td>\n",
       "      <td>11</td>\n",
       "      <td>0.183333</td>\n",
       "      <td>1</td>\n",
       "      <td>2</td>\n",
       "    </tr>\n",
       "  </tbody>\n",
       "</table>\n",
       "</div>"
      ],
      "text/plain": [
       "                                 Seq.  Supp. (abs)  Supp. (frac)  Seq. len  \\\n",
       "115                [[DDR3, KINGSTON]]           16      0.266667         1   \n",
       "126              [[DDR3, [6, 8]_mem]]           16      0.266667         1   \n",
       "134      [[DDR4, [2400, 3200]_clock]]           16      0.266667         1   \n",
       "88                  [[CORSAIR, DDR4]]           13      0.216667         1   \n",
       "122      [[DDR3, [1600, 1800]_clock]]           13      0.216667         1   \n",
       "86     [[CORSAIR, Corsair Vengeance]]           12      0.200000         1   \n",
       "123      [[DDR3, [1866, 2250]_clock]]           12      0.200000         1   \n",
       "121            [[DDR3, [12, 16]_mem]]           11      0.183333         1   \n",
       "132      [[DDR4, [1866, 2250]_clock]]           11      0.183333         1   \n",
       "150  [[KINGSTON, [1866, 2250]_clock]]           11      0.183333         1   \n",
       "\n",
       "     Max elem. len  \n",
       "115              2  \n",
       "126              2  \n",
       "134              2  \n",
       "88               2  \n",
       "122              2  \n",
       "86               2  \n",
       "123              2  \n",
       "121              2  \n",
       "132              2  \n",
       "150              2  "
      ]
     },
     "metadata": {},
     "output_type": "display_data"
    }
   ],
   "source": [
    "display(result_week_df.sort_values([\"Max elem. len\", \"Supp. (abs)\"], ascending=False).head(10))"
   ]
  },
  {
   "cell_type": "markdown",
   "id": "ae556cf9",
   "metadata": {},
   "source": [
    "With the benefit of knowledge from task 1 the information gathered here is not surprising.  \n",
    "The associations seem clear enough in their motivation, there doesn't seem to be a reason for further analysis."
   ]
  },
  {
   "cell_type": "markdown",
   "id": "b3c631e5",
   "metadata": {},
   "source": [
    "### Location-based sales sequences"
   ]
  },
  {
   "cell_type": "markdown",
   "id": "766d1ff5",
   "metadata": {},
   "source": [
    "#### Region"
   ]
  },
  {
   "cell_type": "code",
   "execution_count": 86,
   "id": "a2f3011f",
   "metadata": {
    "scrolled": true
   },
   "outputs": [
    {
     "name": "stdout",
     "output_type": "stream",
     "text": [
      "Entries sampled: 2674\n"
     ]
    }
   ],
   "source": [
    "baskets_sampled_region = df_sales_proc.sample(frac=0.0008, random_state=0)\n",
    "print(f\"Entries sampled: {baskets_sampled_region.shape[0]}\")"
   ]
  },
  {
   "cell_type": "code",
   "execution_count": 87,
   "id": "c0e2320c",
   "metadata": {},
   "outputs": [
    {
     "data": {
      "text/plain": [
       "name_vendor\n",
       "1stWave Technologies    [[CORSAIR, Corsair Vengeance, [12, 16]_mem, DD...\n",
       "ARLT                    [[KINGSTON, Kingston, [0, 4]_mem, DDR3, [100, ...\n",
       "Adorama                 [[CRUCIAL, Crucial, [0, 4]_mem, DDR2, [100, 13...\n",
       "Alternate               [[G.SKILL, G.Skill Sniper, [6, 8]_mem, DDR3, [...\n",
       "Alternate Italia        [[KINGSTON, Kingston, [6, 8]_mem, DDR3, [100, ...\n",
       "dtype: object"
      ]
     },
     "execution_count": 87,
     "metadata": {},
     "output_type": "execute_result"
    }
   ],
   "source": [
    "baskets_region = baskets_sampled_region.groupby([\"name_vendor\", \"region\"])[target_feat]\\\n",
    "        .apply(lambda x: list(x.values))\n",
    "baskets_region = baskets_region.groupby(\"name_vendor\").apply(lambda x: [y for y in x][0])\n",
    "\n",
    "baskets_region.head()"
   ]
  },
  {
   "cell_type": "code",
   "execution_count": 88,
   "id": "7dff343d",
   "metadata": {},
   "outputs": [],
   "source": [
    "format_baskets = []\n",
    "for row in baskets_region.values:\n",
    "    format_baskets.append(row)\n",
    "\n",
    "support = np.ceil(baskets_region.shape[0]*10/100)\n",
    "ap_result = gsp_apriori(format_baskets, support, verbose=False)"
   ]
  },
  {
   "cell_type": "markdown",
   "id": "506b8d2a",
   "metadata": {},
   "source": [
    "Minimum support at 10%."
   ]
  },
  {
   "cell_type": "code",
   "execution_count": 89,
   "id": "e459b55f",
   "metadata": {},
   "outputs": [],
   "source": [
    "result_region_df = pd.DataFrame(ap_result, columns=[\"Seq.\", \"Supp. (abs)\"])\n",
    "\n",
    "result_region_df[\"Supp. (frac)\"] = result_region_df[\"Supp. (abs)\"]/baskets_region.shape[0]\n",
    "result_region_df[\"Seq. len\"] = result_region_df[\"Seq.\"].apply(lambda x: len(x))\n",
    "result_region_df[\"Max elem. len\"] = result_region_df[\"Seq.\"].apply(lambda x: np.max([len(y) for y in x]))"
   ]
  },
  {
   "cell_type": "code",
   "execution_count": 90,
   "id": "49d33e39",
   "metadata": {},
   "outputs": [
    {
     "data": {
      "text/html": [
       "<div>\n",
       "<style scoped>\n",
       "    .dataframe tbody tr th:only-of-type {\n",
       "        vertical-align: middle;\n",
       "    }\n",
       "\n",
       "    .dataframe tbody tr th {\n",
       "        vertical-align: top;\n",
       "    }\n",
       "\n",
       "    .dataframe thead th {\n",
       "        text-align: right;\n",
       "    }\n",
       "</style>\n",
       "<table border=\"1\" class=\"dataframe\">\n",
       "  <thead>\n",
       "    <tr style=\"text-align: right;\">\n",
       "      <th></th>\n",
       "      <th>Seq.</th>\n",
       "      <th>Supp. (abs)</th>\n",
       "      <th>Supp. (frac)</th>\n",
       "      <th>Seq. len</th>\n",
       "      <th>Max elem. len</th>\n",
       "    </tr>\n",
       "  </thead>\n",
       "  <tbody>\n",
       "    <tr>\n",
       "      <th>122</th>\n",
       "      <td>[[DDR4, [2400, 3200]_clock]]</td>\n",
       "      <td>29</td>\n",
       "      <td>0.491525</td>\n",
       "      <td>1</td>\n",
       "      <td>2</td>\n",
       "    </tr>\n",
       "    <tr>\n",
       "      <th>119</th>\n",
       "      <td>[[DDR4, [12, 16]_mem]]</td>\n",
       "      <td>23</td>\n",
       "      <td>0.389831</td>\n",
       "      <td>1</td>\n",
       "      <td>2</td>\n",
       "    </tr>\n",
       "    <tr>\n",
       "      <th>110</th>\n",
       "      <td>[[DDR3, [1600, 1800]_clock]]</td>\n",
       "      <td>21</td>\n",
       "      <td>0.355932</td>\n",
       "      <td>1</td>\n",
       "      <td>2</td>\n",
       "    </tr>\n",
       "    <tr>\n",
       "      <th>120</th>\n",
       "      <td>[[DDR4, [1866, 2250]_clock]]</td>\n",
       "      <td>21</td>\n",
       "      <td>0.355932</td>\n",
       "      <td>1</td>\n",
       "      <td>2</td>\n",
       "    </tr>\n",
       "    <tr>\n",
       "      <th>113</th>\n",
       "      <td>[[DDR3, [6, 8]_mem]]</td>\n",
       "      <td>20</td>\n",
       "      <td>0.338983</td>\n",
       "      <td>1</td>\n",
       "      <td>2</td>\n",
       "    </tr>\n",
       "    <tr>\n",
       "      <th>82</th>\n",
       "      <td>[[CORSAIR, DDR4]]</td>\n",
       "      <td>18</td>\n",
       "      <td>0.305085</td>\n",
       "      <td>1</td>\n",
       "      <td>2</td>\n",
       "    </tr>\n",
       "    <tr>\n",
       "      <th>116</th>\n",
       "      <td>[[DDR4, KINGSTON]]</td>\n",
       "      <td>18</td>\n",
       "      <td>0.305085</td>\n",
       "      <td>1</td>\n",
       "      <td>2</td>\n",
       "    </tr>\n",
       "    <tr>\n",
       "      <th>105</th>\n",
       "      <td>[[DDR3, KINGSTON]]</td>\n",
       "      <td>17</td>\n",
       "      <td>0.288136</td>\n",
       "      <td>1</td>\n",
       "      <td>2</td>\n",
       "    </tr>\n",
       "    <tr>\n",
       "      <th>141</th>\n",
       "      <td>[[KINGSTON, [1866, 2250]_clock]]</td>\n",
       "      <td>16</td>\n",
       "      <td>0.271186</td>\n",
       "      <td>1</td>\n",
       "      <td>2</td>\n",
       "    </tr>\n",
       "    <tr>\n",
       "      <th>153</th>\n",
       "      <td>[[[12, 16]_mem, [2400, 3200]_clock]]</td>\n",
       "      <td>16</td>\n",
       "      <td>0.271186</td>\n",
       "      <td>1</td>\n",
       "      <td>2</td>\n",
       "    </tr>\n",
       "    <tr>\n",
       "      <th>83</th>\n",
       "      <td>[[CORSAIR, [12, 16]_mem]]</td>\n",
       "      <td>15</td>\n",
       "      <td>0.254237</td>\n",
       "      <td>1</td>\n",
       "      <td>2</td>\n",
       "    </tr>\n",
       "    <tr>\n",
       "      <th>125</th>\n",
       "      <td>[[DDR4, [6, 8]_mem]]</td>\n",
       "      <td>15</td>\n",
       "      <td>0.254237</td>\n",
       "      <td>1</td>\n",
       "      <td>2</td>\n",
       "    </tr>\n",
       "    <tr>\n",
       "      <th>72</th>\n",
       "      <td>[[(78.0, 99.0]_sales_uds, [6, 8]_mem]]</td>\n",
       "      <td>14</td>\n",
       "      <td>0.237288</td>\n",
       "      <td>1</td>\n",
       "      <td>2</td>\n",
       "    </tr>\n",
       "    <tr>\n",
       "      <th>86</th>\n",
       "      <td>[[CORSAIR, [2400, 3200]_clock]]</td>\n",
       "      <td>14</td>\n",
       "      <td>0.237288</td>\n",
       "      <td>1</td>\n",
       "      <td>2</td>\n",
       "    </tr>\n",
       "    <tr>\n",
       "      <th>121</th>\n",
       "      <td>[[DDR4, [24, 32]_mem]]</td>\n",
       "      <td>14</td>\n",
       "      <td>0.237288</td>\n",
       "      <td>1</td>\n",
       "      <td>2</td>\n",
       "    </tr>\n",
       "    <tr>\n",
       "      <th>134</th>\n",
       "      <td>[[KINGSTON, Kingston]]</td>\n",
       "      <td>14</td>\n",
       "      <td>0.237288</td>\n",
       "      <td>1</td>\n",
       "      <td>2</td>\n",
       "    </tr>\n",
       "    <tr>\n",
       "      <th>44</th>\n",
       "      <td>[[(246.0, 395.0]_sales_uds, DDR4]]</td>\n",
       "      <td>13</td>\n",
       "      <td>0.220339</td>\n",
       "      <td>1</td>\n",
       "      <td>2</td>\n",
       "    </tr>\n",
       "    <tr>\n",
       "      <th>154</th>\n",
       "      <td>[[[1600, 1800]_clock, [6, 8]_mem]]</td>\n",
       "      <td>13</td>\n",
       "      <td>0.220339</td>\n",
       "      <td>1</td>\n",
       "      <td>2</td>\n",
       "    </tr>\n",
       "    <tr>\n",
       "      <th>157</th>\n",
       "      <td>[[[24, 32]_mem, [2400, 3200]_clock]]</td>\n",
       "      <td>13</td>\n",
       "      <td>0.220339</td>\n",
       "      <td>1</td>\n",
       "      <td>2</td>\n",
       "    </tr>\n",
       "    <tr>\n",
       "      <th>843</th>\n",
       "      <td>[[DDR4, [2400, 3200]_clock], [DDR4]]</td>\n",
       "      <td>13</td>\n",
       "      <td>0.220339</td>\n",
       "      <td>2</td>\n",
       "      <td>2</td>\n",
       "    </tr>\n",
       "  </tbody>\n",
       "</table>\n",
       "</div>"
      ],
      "text/plain": [
       "                                       Seq.  Supp. (abs)  Supp. (frac)  \\\n",
       "122            [[DDR4, [2400, 3200]_clock]]           29      0.491525   \n",
       "119                  [[DDR4, [12, 16]_mem]]           23      0.389831   \n",
       "110            [[DDR3, [1600, 1800]_clock]]           21      0.355932   \n",
       "120            [[DDR4, [1866, 2250]_clock]]           21      0.355932   \n",
       "113                    [[DDR3, [6, 8]_mem]]           20      0.338983   \n",
       "82                        [[CORSAIR, DDR4]]           18      0.305085   \n",
       "116                      [[DDR4, KINGSTON]]           18      0.305085   \n",
       "105                      [[DDR3, KINGSTON]]           17      0.288136   \n",
       "141        [[KINGSTON, [1866, 2250]_clock]]           16      0.271186   \n",
       "153    [[[12, 16]_mem, [2400, 3200]_clock]]           16      0.271186   \n",
       "83                [[CORSAIR, [12, 16]_mem]]           15      0.254237   \n",
       "125                    [[DDR4, [6, 8]_mem]]           15      0.254237   \n",
       "72   [[(78.0, 99.0]_sales_uds, [6, 8]_mem]]           14      0.237288   \n",
       "86          [[CORSAIR, [2400, 3200]_clock]]           14      0.237288   \n",
       "121                  [[DDR4, [24, 32]_mem]]           14      0.237288   \n",
       "134                  [[KINGSTON, Kingston]]           14      0.237288   \n",
       "44       [[(246.0, 395.0]_sales_uds, DDR4]]           13      0.220339   \n",
       "154      [[[1600, 1800]_clock, [6, 8]_mem]]           13      0.220339   \n",
       "157    [[[24, 32]_mem, [2400, 3200]_clock]]           13      0.220339   \n",
       "843    [[DDR4, [2400, 3200]_clock], [DDR4]]           13      0.220339   \n",
       "\n",
       "     Seq. len  Max elem. len  \n",
       "122         1              2  \n",
       "119         1              2  \n",
       "110         1              2  \n",
       "120         1              2  \n",
       "113         1              2  \n",
       "82          1              2  \n",
       "116         1              2  \n",
       "105         1              2  \n",
       "141         1              2  \n",
       "153         1              2  \n",
       "83          1              2  \n",
       "125         1              2  \n",
       "72          1              2  \n",
       "86          1              2  \n",
       "121         1              2  \n",
       "134         1              2  \n",
       "44          1              2  \n",
       "154         1              2  \n",
       "157         1              2  \n",
       "843         2              2  "
      ]
     },
     "metadata": {},
     "output_type": "display_data"
    }
   ],
   "source": [
    "display(result_region_df.sort_values([\"Max elem. len\", \"Supp. (abs)\"], ascending=False).head(20))"
   ]
  },
  {
   "cell_type": "markdown",
   "id": "42df0609",
   "metadata": {},
   "source": [
    "Again, these associations don't offer much of a reason for further analysis since they match what we would expect from the domain that we are working in."
   ]
  },
  {
   "cell_type": "markdown",
   "id": "58514599",
   "metadata": {},
   "source": [
    "### Conclusions\n",
    "Even with this approach we didn't find any new intriguing piece of information, unfortunately.  \n",
    "It was mostly a re-run of the whole-dataframe association rules analysis from above, which makes given that we are once again working with the ram features directly."
   ]
  },
  {
   "cell_type": "markdown",
   "id": "f58868e2",
   "metadata": {},
   "source": [
    "## Frequent sequences conclusions\n",
    "We are inclined to think that the reason behind the lack of new results is that the dataset, by design, contains transactions that have no connection to one another.  \n",
    "Since ram is a product that is bought only once in a while by most customers there is no point in keeping track of multiple sales to the same buyer (which would make for an obvious way to define the elements of the sequences, similar to what happens in a supermarket).  \n",
    "\n",
    "The only connections found inter-element are those regarding their joint popularity in sales during a particular period of time/location, but there doesn't seem to be anything more to it.\n",
    "\n",
    "Intra-element, instead, we just rediscovered part of the information from task 1 and some more connections due to the discretisation steps that we applied at the beginning of the notebook.\n",
    "\n",
    "In general the computational complexity of the task didn't help us in finding meaningful associations, we might have missed something due to sampling but all in all frequent sequences analysis doesn't seem to be the right tool for this dataset."
   ]
  }
 ],
 "metadata": {
  "kernelspec": {
   "display_name": "Python 3",
   "language": "python",
   "name": "python3"
  },
  "language_info": {
   "codemirror_mode": {
    "name": "ipython",
    "version": 3
   },
   "file_extension": ".py",
   "mimetype": "text/x-python",
   "name": "python",
   "nbconvert_exporter": "python",
   "pygments_lexer": "ipython3",
   "version": "3.9.6"
  }
 },
 "nbformat": 4,
 "nbformat_minor": 5
}

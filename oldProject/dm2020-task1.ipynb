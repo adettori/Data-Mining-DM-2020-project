{
 "cells": [
  {
   "cell_type": "markdown",
   "metadata": {},
   "source": [
    "# Task 1.1: Data understanding"
   ]
  },
  {
   "cell_type": "code",
   "execution_count": 1,
   "metadata": {},
   "outputs": [],
   "source": [
    "#Used for displaying plots below the cell\n",
    "%matplotlib inline\n",
    "import math\n",
    "import numpy as np\n",
    "import pandas as pd\n",
    "import scipy.stats as stats\n",
    "import matplotlib.pyplot as plt\n",
    "\n",
    "from collections import defaultdict\n",
    "from scipy.stats.stats import pearsonr\n",
    "\n",
    "from sklearn.preprocessing import StandardScaler, MinMaxScaler\n",
    "from sklearn.cluster import KMeans\n",
    "from sklearn.metrics import silhouette_score\n",
    "\n",
    "from sklearn.decomposition import PCA"
   ]
  },
  {
   "cell_type": "code",
   "execution_count": 2,
   "metadata": {},
   "outputs": [],
   "source": [
    "df = pd.read_csv('customer_supermarket.csv', sep='\\t', index_col=0)"
   ]
  },
  {
   "cell_type": "code",
   "execution_count": 3,
   "metadata": {},
   "outputs": [
    {
     "data": {
      "text/html": [
       "<div>\n",
       "<style scoped>\n",
       "    .dataframe tbody tr th:only-of-type {\n",
       "        vertical-align: middle;\n",
       "    }\n",
       "\n",
       "    .dataframe tbody tr th {\n",
       "        vertical-align: top;\n",
       "    }\n",
       "\n",
       "    .dataframe thead th {\n",
       "        text-align: right;\n",
       "    }\n",
       "</style>\n",
       "<table border=\"1\" class=\"dataframe\">\n",
       "  <thead>\n",
       "    <tr style=\"text-align: right;\">\n",
       "      <th></th>\n",
       "      <th>BasketID</th>\n",
       "      <th>BasketDate</th>\n",
       "      <th>Sale</th>\n",
       "      <th>CustomerID</th>\n",
       "      <th>CustomerCountry</th>\n",
       "      <th>ProdID</th>\n",
       "      <th>ProdDescr</th>\n",
       "      <th>Qta</th>\n",
       "    </tr>\n",
       "  </thead>\n",
       "  <tbody>\n",
       "    <tr>\n",
       "      <th>0</th>\n",
       "      <td>536365</td>\n",
       "      <td>01/12/10 08:26</td>\n",
       "      <td>2,55</td>\n",
       "      <td>17850.0</td>\n",
       "      <td>United Kingdom</td>\n",
       "      <td>85123A</td>\n",
       "      <td>WHITE HANGING HEART T-LIGHT HOLDER</td>\n",
       "      <td>6</td>\n",
       "    </tr>\n",
       "    <tr>\n",
       "      <th>1</th>\n",
       "      <td>536365</td>\n",
       "      <td>01/12/10 08:26</td>\n",
       "      <td>3,39</td>\n",
       "      <td>17850.0</td>\n",
       "      <td>United Kingdom</td>\n",
       "      <td>71053</td>\n",
       "      <td>WHITE METAL LANTERN</td>\n",
       "      <td>6</td>\n",
       "    </tr>\n",
       "    <tr>\n",
       "      <th>2</th>\n",
       "      <td>536365</td>\n",
       "      <td>01/12/10 08:26</td>\n",
       "      <td>2,75</td>\n",
       "      <td>17850.0</td>\n",
       "      <td>United Kingdom</td>\n",
       "      <td>84406B</td>\n",
       "      <td>CREAM CUPID HEARTS COAT HANGER</td>\n",
       "      <td>8</td>\n",
       "    </tr>\n",
       "    <tr>\n",
       "      <th>3</th>\n",
       "      <td>536365</td>\n",
       "      <td>01/12/10 08:26</td>\n",
       "      <td>3,39</td>\n",
       "      <td>17850.0</td>\n",
       "      <td>United Kingdom</td>\n",
       "      <td>84029G</td>\n",
       "      <td>KNITTED UNION FLAG HOT WATER BOTTLE</td>\n",
       "      <td>6</td>\n",
       "    </tr>\n",
       "    <tr>\n",
       "      <th>4</th>\n",
       "      <td>536365</td>\n",
       "      <td>01/12/10 08:26</td>\n",
       "      <td>3,39</td>\n",
       "      <td>17850.0</td>\n",
       "      <td>United Kingdom</td>\n",
       "      <td>84029E</td>\n",
       "      <td>RED WOOLLY HOTTIE WHITE HEART.</td>\n",
       "      <td>6</td>\n",
       "    </tr>\n",
       "  </tbody>\n",
       "</table>\n",
       "</div>"
      ],
      "text/plain": [
       "  BasketID      BasketDate  Sale  CustomerID CustomerCountry  ProdID  \\\n",
       "0   536365  01/12/10 08:26  2,55     17850.0  United Kingdom  85123A   \n",
       "1   536365  01/12/10 08:26  3,39     17850.0  United Kingdom   71053   \n",
       "2   536365  01/12/10 08:26  2,75     17850.0  United Kingdom  84406B   \n",
       "3   536365  01/12/10 08:26  3,39     17850.0  United Kingdom  84029G   \n",
       "4   536365  01/12/10 08:26  3,39     17850.0  United Kingdom  84029E   \n",
       "\n",
       "                             ProdDescr  Qta  \n",
       "0   WHITE HANGING HEART T-LIGHT HOLDER    6  \n",
       "1                  WHITE METAL LANTERN    6  \n",
       "2       CREAM CUPID HEARTS COAT HANGER    8  \n",
       "3  KNITTED UNION FLAG HOT WATER BOTTLE    6  \n",
       "4       RED WOOLLY HOTTIE WHITE HEART.    6  "
      ]
     },
     "execution_count": 3,
     "metadata": {},
     "output_type": "execute_result"
    }
   ],
   "source": [
    "df.head()"
   ]
  },
  {
   "cell_type": "markdown",
   "metadata": {},
   "source": [
    "The dataset seems to contain data about the shopping habits of the customers of a grocery store chain.  \n",
    "Each row represents an object purchased:  \n",
    "- BasketID: identifies a batch of items bought during the same shopping session  \n",
    "- BasketDate: date in which the shopping session took place  \n",
    "- Sale: represents the value of the item, we need to figure out if it refers to a single item or the item*quantity\n",
    "- CustomerID: identifies a unique customer\n",
    "- CustomerCountry: represents the country in which the purchase took place\n",
    "- ProdID: identifies a unique product for sale\n",
    "- ProdDescr: describes the product\n",
    "- Qta: number of items bought with id ProdID"
   ]
  },
  {
   "cell_type": "code",
   "execution_count": 4,
   "metadata": {},
   "outputs": [
    {
     "name": "stdout",
     "output_type": "stream",
     "text": [
      "<class 'pandas.core.frame.DataFrame'>\n",
      "Int64Index: 471910 entries, 0 to 541909\n",
      "Data columns (total 8 columns):\n",
      " #   Column           Non-Null Count   Dtype  \n",
      "---  ------           --------------   -----  \n",
      " 0   BasketID         471910 non-null  object \n",
      " 1   BasketDate       471910 non-null  object \n",
      " 2   Sale             471910 non-null  object \n",
      " 3   CustomerID       406830 non-null  float64\n",
      " 4   CustomerCountry  471910 non-null  object \n",
      " 5   ProdID           471910 non-null  object \n",
      " 6   ProdDescr        471157 non-null  object \n",
      " 7   Qta              471910 non-null  int64  \n",
      "dtypes: float64(1), int64(1), object(6)\n",
      "memory usage: 32.4+ MB\n"
     ]
    }
   ],
   "source": [
    "df.info()"
   ]
  },
  {
   "cell_type": "code",
   "execution_count": 5,
   "metadata": {},
   "outputs": [
    {
     "data": {
      "text/plain": [
       "471910"
      ]
     },
     "execution_count": 5,
     "metadata": {},
     "output_type": "execute_result"
    }
   ],
   "source": [
    "len(df.index)"
   ]
  },
  {
   "cell_type": "markdown",
   "metadata": {},
   "source": [
    "Only ProdDescr and CustomerID contain null values."
   ]
  },
  {
   "cell_type": "code",
   "execution_count": 6,
   "metadata": {},
   "outputs": [
    {
     "data": {
      "text/html": [
       "<div>\n",
       "<style scoped>\n",
       "    .dataframe tbody tr th:only-of-type {\n",
       "        vertical-align: middle;\n",
       "    }\n",
       "\n",
       "    .dataframe tbody tr th {\n",
       "        vertical-align: top;\n",
       "    }\n",
       "\n",
       "    .dataframe thead th {\n",
       "        text-align: right;\n",
       "    }\n",
       "</style>\n",
       "<table border=\"1\" class=\"dataframe\">\n",
       "  <thead>\n",
       "    <tr style=\"text-align: right;\">\n",
       "      <th></th>\n",
       "      <th>CustomerID</th>\n",
       "      <th>Qta</th>\n",
       "    </tr>\n",
       "  </thead>\n",
       "  <tbody>\n",
       "    <tr>\n",
       "      <th>count</th>\n",
       "      <td>406830.000000</td>\n",
       "      <td>471910.000000</td>\n",
       "    </tr>\n",
       "    <tr>\n",
       "      <th>mean</th>\n",
       "      <td>15287.684160</td>\n",
       "      <td>10.716533</td>\n",
       "    </tr>\n",
       "    <tr>\n",
       "      <th>std</th>\n",
       "      <td>1713.603074</td>\n",
       "      <td>231.355136</td>\n",
       "    </tr>\n",
       "    <tr>\n",
       "      <th>min</th>\n",
       "      <td>12346.000000</td>\n",
       "      <td>-80995.000000</td>\n",
       "    </tr>\n",
       "    <tr>\n",
       "      <th>25%</th>\n",
       "      <td>13953.000000</td>\n",
       "      <td>1.000000</td>\n",
       "    </tr>\n",
       "    <tr>\n",
       "      <th>50%</th>\n",
       "      <td>15152.000000</td>\n",
       "      <td>4.000000</td>\n",
       "    </tr>\n",
       "    <tr>\n",
       "      <th>75%</th>\n",
       "      <td>16791.000000</td>\n",
       "      <td>12.000000</td>\n",
       "    </tr>\n",
       "    <tr>\n",
       "      <th>max</th>\n",
       "      <td>18287.000000</td>\n",
       "      <td>80995.000000</td>\n",
       "    </tr>\n",
       "  </tbody>\n",
       "</table>\n",
       "</div>"
      ],
      "text/plain": [
       "          CustomerID            Qta\n",
       "count  406830.000000  471910.000000\n",
       "mean    15287.684160      10.716533\n",
       "std      1713.603074     231.355136\n",
       "min     12346.000000  -80995.000000\n",
       "25%     13953.000000       1.000000\n",
       "50%     15152.000000       4.000000\n",
       "75%     16791.000000      12.000000\n",
       "max     18287.000000   80995.000000"
      ]
     },
     "execution_count": 6,
     "metadata": {},
     "output_type": "execute_result"
    }
   ],
   "source": [
    "df.describe()"
   ]
  },
  {
   "cell_type": "markdown",
   "metadata": {},
   "source": [
    "The statistics regarding the CustomerID are meaningless since the assignment of an ID is usually done progressively and without having any additional information on the customer.  \n",
    "We need to fix the data type situation in order to get a better understanding of the data set."
   ]
  },
  {
   "cell_type": "markdown",
   "metadata": {},
   "source": [
    "## Data type conversion  \n",
    "Let's start by checking out the data type that pandas assigns to the attributes, in order to get an idea of the potential problems."
   ]
  },
  {
   "cell_type": "code",
   "execution_count": 7,
   "metadata": {},
   "outputs": [
    {
     "data": {
      "text/plain": [
       "BasketID            object\n",
       "BasketDate          object\n",
       "Sale                object\n",
       "CustomerID         float64\n",
       "CustomerCountry     object\n",
       "ProdID              object\n",
       "ProdDescr           object\n",
       "Qta                  int64\n",
       "dtype: object"
      ]
     },
     "execution_count": 7,
     "metadata": {},
     "output_type": "execute_result"
    }
   ],
   "source": [
    "df.dtypes"
   ]
  },
  {
   "cell_type": "code",
   "execution_count": 8,
   "metadata": {},
   "outputs": [
    {
     "data": {
      "text/plain": [
       "BasketID           string\n",
       "BasketDate         string\n",
       "Sale               string\n",
       "CustomerID          Int64\n",
       "CustomerCountry    string\n",
       "ProdID             string\n",
       "ProdDescr          string\n",
       "Qta                 Int64\n",
       "dtype: object"
      ]
     },
     "execution_count": 8,
     "metadata": {},
     "output_type": "execute_result"
    }
   ],
   "source": [
    "df.convert_dtypes().dtypes"
   ]
  },
  {
   "cell_type": "markdown",
   "metadata": {},
   "source": [
    "### CustomerID"
   ]
  },
  {
   "cell_type": "markdown",
   "metadata": {},
   "source": [
    "CustomerID got converted to a reasonable data type while the others became a generic \"string\".  \n",
    "However there is no point in having CustomerID as an int64."
   ]
  },
  {
   "cell_type": "code",
   "execution_count": 9,
   "metadata": {},
   "outputs": [],
   "source": [
    "df[\"CustomerID\"] = df[\"CustomerID\"].astype(\"object\")"
   ]
  },
  {
   "cell_type": "markdown",
   "metadata": {},
   "source": [
    "### BasketDate\n",
    "Let's convert the BasketDate type from String to datetime, just in case we need to perform some analysis that requires ordinal data."
   ]
  },
  {
   "cell_type": "code",
   "execution_count": 10,
   "metadata": {},
   "outputs": [],
   "source": [
    "df.BasketDate = pd.to_datetime(df.BasketDate)"
   ]
  },
  {
   "cell_type": "markdown",
   "metadata": {},
   "source": [
    "### Sale"
   ]
  },
  {
   "cell_type": "markdown",
   "metadata": {},
   "source": [
    "The \"Sale\" attribute is considered a generic object while it should be recognised as a float.  \n",
    "Let's see why."
   ]
  },
  {
   "cell_type": "code",
   "execution_count": 11,
   "metadata": {},
   "outputs": [
    {
     "data": {
      "text/plain": [
       "0         <class 'str'>\n",
       "1         <class 'str'>\n",
       "2         <class 'str'>\n",
       "3         <class 'str'>\n",
       "4         <class 'str'>\n",
       "              ...      \n",
       "541905    <class 'str'>\n",
       "541906    <class 'str'>\n",
       "541907    <class 'str'>\n",
       "541908    <class 'str'>\n",
       "541909    <class 'str'>\n",
       "Name: Sale, Length: 471910, dtype: object"
      ]
     },
     "execution_count": 11,
     "metadata": {},
     "output_type": "execute_result"
    }
   ],
   "source": [
    "df.Sale.map(type)"
   ]
  },
  {
   "cell_type": "code",
   "execution_count": 12,
   "metadata": {
    "scrolled": true
   },
   "outputs": [
    {
     "data": {
      "text/plain": [
       "0         2,55\n",
       "1         3,39\n",
       "2         2,75\n",
       "3         3,39\n",
       "4         3,39\n",
       "          ... \n",
       "541905     2,1\n",
       "541906    4,15\n",
       "541907    4,15\n",
       "541908    4,95\n",
       "541909      18\n",
       "Name: Sale, Length: 471910, dtype: object"
      ]
     },
     "execution_count": 12,
     "metadata": {},
     "output_type": "execute_result"
    }
   ],
   "source": [
    "df.Sale"
   ]
  },
  {
   "cell_type": "markdown",
   "metadata": {},
   "source": [
    "It seems that Sale uses a comma instead of a point to separate the decimal part, so it is considered a \"str\" instead of a \"float64\".  \n",
    "Let's replace the commas in \"Sale\" with dots in order to have them be recognised as float64 by pandas."
   ]
  },
  {
   "cell_type": "code",
   "execution_count": 13,
   "metadata": {},
   "outputs": [],
   "source": [
    "df.Sale = df.Sale.apply(lambda x: x.replace(',','.'))"
   ]
  },
  {
   "cell_type": "code",
   "execution_count": 14,
   "metadata": {},
   "outputs": [],
   "source": [
    "df.Sale = df.Sale.astype(\"float64\")"
   ]
  },
  {
   "cell_type": "markdown",
   "metadata": {},
   "source": [
    "Sale is now correctly identified as a float64."
   ]
  },
  {
   "cell_type": "markdown",
   "metadata": {},
   "source": [
    "## Data exploration"
   ]
  },
  {
   "cell_type": "markdown",
   "metadata": {},
   "source": [
    "### Exploration data frame\n",
    "Used for exploration purposes but not necessarily useful for clustering.  \n",
    "Initialised with some additional features that could prove useful."
   ]
  },
  {
   "cell_type": "code",
   "execution_count": 15,
   "metadata": {},
   "outputs": [
    {
     "data": {
      "text/html": [
       "<div>\n",
       "<style scoped>\n",
       "    .dataframe tbody tr th:only-of-type {\n",
       "        vertical-align: middle;\n",
       "    }\n",
       "\n",
       "    .dataframe tbody tr th {\n",
       "        vertical-align: top;\n",
       "    }\n",
       "\n",
       "    .dataframe thead th {\n",
       "        text-align: right;\n",
       "    }\n",
       "</style>\n",
       "<table border=\"1\" class=\"dataframe\">\n",
       "  <thead>\n",
       "    <tr style=\"text-align: right;\">\n",
       "      <th></th>\n",
       "      <th>BasketID</th>\n",
       "      <th>BasketDate</th>\n",
       "      <th>Sale</th>\n",
       "      <th>CustomerID</th>\n",
       "      <th>CustomerCountry</th>\n",
       "      <th>ProdID</th>\n",
       "      <th>ProdDescr</th>\n",
       "      <th>Qta</th>\n",
       "      <th>QtaPositive</th>\n",
       "      <th>SalePositive</th>\n",
       "    </tr>\n",
       "  </thead>\n",
       "  <tbody>\n",
       "    <tr>\n",
       "      <th>0</th>\n",
       "      <td>536365</td>\n",
       "      <td>2010-01-12 08:26:00</td>\n",
       "      <td>2.55</td>\n",
       "      <td>17850</td>\n",
       "      <td>United Kingdom</td>\n",
       "      <td>85123A</td>\n",
       "      <td>WHITE HANGING HEART T-LIGHT HOLDER</td>\n",
       "      <td>6</td>\n",
       "      <td>1</td>\n",
       "      <td>1</td>\n",
       "    </tr>\n",
       "    <tr>\n",
       "      <th>1</th>\n",
       "      <td>536365</td>\n",
       "      <td>2010-01-12 08:26:00</td>\n",
       "      <td>3.39</td>\n",
       "      <td>17850</td>\n",
       "      <td>United Kingdom</td>\n",
       "      <td>71053</td>\n",
       "      <td>WHITE METAL LANTERN</td>\n",
       "      <td>6</td>\n",
       "      <td>1</td>\n",
       "      <td>1</td>\n",
       "    </tr>\n",
       "    <tr>\n",
       "      <th>2</th>\n",
       "      <td>536365</td>\n",
       "      <td>2010-01-12 08:26:00</td>\n",
       "      <td>2.75</td>\n",
       "      <td>17850</td>\n",
       "      <td>United Kingdom</td>\n",
       "      <td>84406B</td>\n",
       "      <td>CREAM CUPID HEARTS COAT HANGER</td>\n",
       "      <td>8</td>\n",
       "      <td>1</td>\n",
       "      <td>1</td>\n",
       "    </tr>\n",
       "    <tr>\n",
       "      <th>3</th>\n",
       "      <td>536365</td>\n",
       "      <td>2010-01-12 08:26:00</td>\n",
       "      <td>3.39</td>\n",
       "      <td>17850</td>\n",
       "      <td>United Kingdom</td>\n",
       "      <td>84029G</td>\n",
       "      <td>KNITTED UNION FLAG HOT WATER BOTTLE</td>\n",
       "      <td>6</td>\n",
       "      <td>1</td>\n",
       "      <td>1</td>\n",
       "    </tr>\n",
       "    <tr>\n",
       "      <th>4</th>\n",
       "      <td>536365</td>\n",
       "      <td>2010-01-12 08:26:00</td>\n",
       "      <td>3.39</td>\n",
       "      <td>17850</td>\n",
       "      <td>United Kingdom</td>\n",
       "      <td>84029E</td>\n",
       "      <td>RED WOOLLY HOTTIE WHITE HEART.</td>\n",
       "      <td>6</td>\n",
       "      <td>1</td>\n",
       "      <td>1</td>\n",
       "    </tr>\n",
       "  </tbody>\n",
       "</table>\n",
       "</div>"
      ],
      "text/plain": [
       "  BasketID          BasketDate  Sale CustomerID CustomerCountry  ProdID  \\\n",
       "0   536365 2010-01-12 08:26:00  2.55      17850  United Kingdom  85123A   \n",
       "1   536365 2010-01-12 08:26:00  3.39      17850  United Kingdom   71053   \n",
       "2   536365 2010-01-12 08:26:00  2.75      17850  United Kingdom  84406B   \n",
       "3   536365 2010-01-12 08:26:00  3.39      17850  United Kingdom  84029G   \n",
       "4   536365 2010-01-12 08:26:00  3.39      17850  United Kingdom  84029E   \n",
       "\n",
       "                             ProdDescr  Qta  QtaPositive  SalePositive  \n",
       "0   WHITE HANGING HEART T-LIGHT HOLDER    6            1             1  \n",
       "1                  WHITE METAL LANTERN    6            1             1  \n",
       "2       CREAM CUPID HEARTS COAT HANGER    8            1             1  \n",
       "3  KNITTED UNION FLAG HOT WATER BOTTLE    6            1             1  \n",
       "4       RED WOOLLY HOTTIE WHITE HEART.    6            1             1  "
      ]
     },
     "execution_count": 15,
     "metadata": {},
     "output_type": "execute_result"
    }
   ],
   "source": [
    "#Auxiliary df to be used throughout the data understanding phase\n",
    "df_expl = df.copy()\n",
    "\n",
    "df_expl[\"QtaPositive\"] = 0\n",
    "df_expl.loc[df_expl[\"Qta\"] > 0, \"QtaPositive\"] = 1 #Indicates whether the records Qta is positive\n",
    "\n",
    "df_expl[\"SalePositive\"] = 0\n",
    "df_expl.loc[df_expl[\"Sale\"] > 0, \"SalePositive\"] = 1 #Indicates whether the records Sale is positive\n",
    "\n",
    "df_expl.head()"
   ]
  },
  {
   "cell_type": "markdown",
   "metadata": {},
   "source": [
    "### BasketID"
   ]
  },
  {
   "cell_type": "code",
   "execution_count": 16,
   "metadata": {},
   "outputs": [
    {
     "name": "stdout",
     "output_type": "stream",
     "text": [
      "The number of unique CustomerID is: 4373\n"
     ]
    }
   ],
   "source": [
    "print(f\"The number of unique CustomerID is: {len(df['CustomerID'].unique())}\")"
   ]
  },
  {
   "cell_type": "markdown",
   "metadata": {},
   "source": [
    "#### Regarding the different types of BasketID\n",
    "Let's check why BasketID is not considered an int64 like CustomerID."
   ]
  },
  {
   "cell_type": "code",
   "execution_count": 17,
   "metadata": {},
   "outputs": [
    {
     "data": {
      "text/html": [
       "<div>\n",
       "<style scoped>\n",
       "    .dataframe tbody tr th:only-of-type {\n",
       "        vertical-align: middle;\n",
       "    }\n",
       "\n",
       "    .dataframe tbody tr th {\n",
       "        vertical-align: top;\n",
       "    }\n",
       "\n",
       "    .dataframe thead th {\n",
       "        text-align: right;\n",
       "    }\n",
       "</style>\n",
       "<table border=\"1\" class=\"dataframe\">\n",
       "  <thead>\n",
       "    <tr style=\"text-align: right;\">\n",
       "      <th></th>\n",
       "      <th>BasketID</th>\n",
       "      <th>BasketDate</th>\n",
       "      <th>Sale</th>\n",
       "      <th>CustomerID</th>\n",
       "      <th>CustomerCountry</th>\n",
       "      <th>ProdID</th>\n",
       "      <th>ProdDescr</th>\n",
       "      <th>Qta</th>\n",
       "    </tr>\n",
       "  </thead>\n",
       "  <tbody>\n",
       "    <tr>\n",
       "      <th>141</th>\n",
       "      <td>C536379</td>\n",
       "      <td>2010-01-12 09:41:00</td>\n",
       "      <td>27.50</td>\n",
       "      <td>14527</td>\n",
       "      <td>United Kingdom</td>\n",
       "      <td>D</td>\n",
       "      <td>Discount</td>\n",
       "      <td>-1</td>\n",
       "    </tr>\n",
       "    <tr>\n",
       "      <th>154</th>\n",
       "      <td>C536383</td>\n",
       "      <td>2010-01-12 09:49:00</td>\n",
       "      <td>4.65</td>\n",
       "      <td>15311</td>\n",
       "      <td>United Kingdom</td>\n",
       "      <td>35004C</td>\n",
       "      <td>SET OF 3 COLOURED  FLYING DUCKS</td>\n",
       "      <td>-1</td>\n",
       "    </tr>\n",
       "    <tr>\n",
       "      <th>235</th>\n",
       "      <td>C536391</td>\n",
       "      <td>2010-01-12 10:24:00</td>\n",
       "      <td>1.65</td>\n",
       "      <td>17548</td>\n",
       "      <td>United Kingdom</td>\n",
       "      <td>22556</td>\n",
       "      <td>PLASTERS IN TIN CIRCUS PARADE</td>\n",
       "      <td>-12</td>\n",
       "    </tr>\n",
       "    <tr>\n",
       "      <th>236</th>\n",
       "      <td>C536391</td>\n",
       "      <td>2010-01-12 10:24:00</td>\n",
       "      <td>0.29</td>\n",
       "      <td>17548</td>\n",
       "      <td>United Kingdom</td>\n",
       "      <td>21984</td>\n",
       "      <td>PACK OF 12 PINK PAISLEY TISSUES</td>\n",
       "      <td>-24</td>\n",
       "    </tr>\n",
       "    <tr>\n",
       "      <th>237</th>\n",
       "      <td>C536391</td>\n",
       "      <td>2010-01-12 10:24:00</td>\n",
       "      <td>0.29</td>\n",
       "      <td>17548</td>\n",
       "      <td>United Kingdom</td>\n",
       "      <td>21983</td>\n",
       "      <td>PACK OF 12 BLUE PAISLEY TISSUES</td>\n",
       "      <td>-24</td>\n",
       "    </tr>\n",
       "  </tbody>\n",
       "</table>\n",
       "</div>"
      ],
      "text/plain": [
       "    BasketID          BasketDate   Sale CustomerID CustomerCountry  ProdID  \\\n",
       "141  C536379 2010-01-12 09:41:00  27.50      14527  United Kingdom       D   \n",
       "154  C536383 2010-01-12 09:49:00   4.65      15311  United Kingdom  35004C   \n",
       "235  C536391 2010-01-12 10:24:00   1.65      17548  United Kingdom   22556   \n",
       "236  C536391 2010-01-12 10:24:00   0.29      17548  United Kingdom   21984   \n",
       "237  C536391 2010-01-12 10:24:00   0.29      17548  United Kingdom   21983   \n",
       "\n",
       "                            ProdDescr  Qta  \n",
       "141                          Discount   -1  \n",
       "154   SET OF 3 COLOURED  FLYING DUCKS   -1  \n",
       "235    PLASTERS IN TIN CIRCUS PARADE   -12  \n",
       "236  PACK OF 12 PINK PAISLEY TISSUES   -24  \n",
       "237  PACK OF 12 BLUE PAISLEY TISSUES   -24  "
      ]
     },
     "execution_count": 17,
     "metadata": {},
     "output_type": "execute_result"
    }
   ],
   "source": [
    "nonNumSeries = pd.to_numeric(df.BasketID, errors='coerce').isnull()\n",
    "# Print the records with BasketIDs containing a non-numeric value\n",
    "df[nonNumSeries].head()"
   ]
  },
  {
   "cell_type": "code",
   "execution_count": 18,
   "metadata": {},
   "outputs": [
    {
     "data": {
      "text/plain": [
       "array(['C', 'A'], dtype=object)"
      ]
     },
     "execution_count": 18,
     "metadata": {},
     "output_type": "execute_result"
    }
   ],
   "source": [
    "df.loc[nonNumSeries, \"BasketID\"].str.slice(0,1).unique()"
   ]
  },
  {
   "cell_type": "markdown",
   "metadata": {},
   "source": [
    "It seems that a good chunk of the BasketID values start with a \"C\" and some with \"A\" instead of being just numbers.  "
   ]
  },
  {
   "cell_type": "code",
   "execution_count": 19,
   "metadata": {},
   "outputs": [
    {
     "name": "stdout",
     "output_type": "stream",
     "text": [
      "Records starting with 'C' (Size: 9084):\n",
      "\n"
     ]
    },
    {
     "data": {
      "text/html": [
       "<div>\n",
       "<style scoped>\n",
       "    .dataframe tbody tr th:only-of-type {\n",
       "        vertical-align: middle;\n",
       "    }\n",
       "\n",
       "    .dataframe tbody tr th {\n",
       "        vertical-align: top;\n",
       "    }\n",
       "\n",
       "    .dataframe thead th {\n",
       "        text-align: right;\n",
       "    }\n",
       "</style>\n",
       "<table border=\"1\" class=\"dataframe\">\n",
       "  <thead>\n",
       "    <tr style=\"text-align: right;\">\n",
       "      <th></th>\n",
       "      <th>BasketID</th>\n",
       "      <th>BasketDate</th>\n",
       "      <th>Sale</th>\n",
       "      <th>CustomerID</th>\n",
       "      <th>CustomerCountry</th>\n",
       "      <th>ProdID</th>\n",
       "      <th>ProdDescr</th>\n",
       "      <th>Qta</th>\n",
       "    </tr>\n",
       "  </thead>\n",
       "  <tbody>\n",
       "    <tr>\n",
       "      <th>141</th>\n",
       "      <td>C536379</td>\n",
       "      <td>2010-01-12 09:41:00</td>\n",
       "      <td>27.50</td>\n",
       "      <td>14527</td>\n",
       "      <td>United Kingdom</td>\n",
       "      <td>D</td>\n",
       "      <td>Discount</td>\n",
       "      <td>-1</td>\n",
       "    </tr>\n",
       "    <tr>\n",
       "      <th>154</th>\n",
       "      <td>C536383</td>\n",
       "      <td>2010-01-12 09:49:00</td>\n",
       "      <td>4.65</td>\n",
       "      <td>15311</td>\n",
       "      <td>United Kingdom</td>\n",
       "      <td>35004C</td>\n",
       "      <td>SET OF 3 COLOURED  FLYING DUCKS</td>\n",
       "      <td>-1</td>\n",
       "    </tr>\n",
       "    <tr>\n",
       "      <th>235</th>\n",
       "      <td>C536391</td>\n",
       "      <td>2010-01-12 10:24:00</td>\n",
       "      <td>1.65</td>\n",
       "      <td>17548</td>\n",
       "      <td>United Kingdom</td>\n",
       "      <td>22556</td>\n",
       "      <td>PLASTERS IN TIN CIRCUS PARADE</td>\n",
       "      <td>-12</td>\n",
       "    </tr>\n",
       "    <tr>\n",
       "      <th>236</th>\n",
       "      <td>C536391</td>\n",
       "      <td>2010-01-12 10:24:00</td>\n",
       "      <td>0.29</td>\n",
       "      <td>17548</td>\n",
       "      <td>United Kingdom</td>\n",
       "      <td>21984</td>\n",
       "      <td>PACK OF 12 PINK PAISLEY TISSUES</td>\n",
       "      <td>-24</td>\n",
       "    </tr>\n",
       "    <tr>\n",
       "      <th>237</th>\n",
       "      <td>C536391</td>\n",
       "      <td>2010-01-12 10:24:00</td>\n",
       "      <td>0.29</td>\n",
       "      <td>17548</td>\n",
       "      <td>United Kingdom</td>\n",
       "      <td>21983</td>\n",
       "      <td>PACK OF 12 BLUE PAISLEY TISSUES</td>\n",
       "      <td>-24</td>\n",
       "    </tr>\n",
       "  </tbody>\n",
       "</table>\n",
       "</div>"
      ],
      "text/plain": [
       "    BasketID          BasketDate   Sale CustomerID CustomerCountry  ProdID  \\\n",
       "141  C536379 2010-01-12 09:41:00  27.50      14527  United Kingdom       D   \n",
       "154  C536383 2010-01-12 09:49:00   4.65      15311  United Kingdom  35004C   \n",
       "235  C536391 2010-01-12 10:24:00   1.65      17548  United Kingdom   22556   \n",
       "236  C536391 2010-01-12 10:24:00   0.29      17548  United Kingdom   21984   \n",
       "237  C536391 2010-01-12 10:24:00   0.29      17548  United Kingdom   21983   \n",
       "\n",
       "                            ProdDescr  Qta  \n",
       "141                          Discount   -1  \n",
       "154   SET OF 3 COLOURED  FLYING DUCKS   -1  \n",
       "235    PLASTERS IN TIN CIRCUS PARADE   -12  \n",
       "236  PACK OF 12 PINK PAISLEY TISSUES   -24  \n",
       "237  PACK OF 12 BLUE PAISLEY TISSUES   -24  "
      ]
     },
     "execution_count": 19,
     "metadata": {},
     "output_type": "execute_result"
    }
   ],
   "source": [
    "basket_c_df = df.loc[df[\"BasketID\"].str.get(0) == \"C\"]\n",
    "len_basket_c = len(basket_c_df)\n",
    "print(f\"Records starting with 'C' (Size: {len_basket_c}):\\n\")\n",
    "basket_c_df.head(5)"
   ]
  },
  {
   "cell_type": "code",
   "execution_count": 20,
   "metadata": {},
   "outputs": [
    {
     "name": "stdout",
     "output_type": "stream",
     "text": [
      "Records starting with 'A' (Size: 2):\n",
      "\n"
     ]
    },
    {
     "data": {
      "text/html": [
       "<div>\n",
       "<style scoped>\n",
       "    .dataframe tbody tr th:only-of-type {\n",
       "        vertical-align: middle;\n",
       "    }\n",
       "\n",
       "    .dataframe tbody tr th {\n",
       "        vertical-align: top;\n",
       "    }\n",
       "\n",
       "    .dataframe thead th {\n",
       "        text-align: right;\n",
       "    }\n",
       "</style>\n",
       "<table border=\"1\" class=\"dataframe\">\n",
       "  <thead>\n",
       "    <tr style=\"text-align: right;\">\n",
       "      <th></th>\n",
       "      <th>BasketID</th>\n",
       "      <th>BasketDate</th>\n",
       "      <th>Sale</th>\n",
       "      <th>CustomerID</th>\n",
       "      <th>CustomerCountry</th>\n",
       "      <th>ProdID</th>\n",
       "      <th>ProdDescr</th>\n",
       "      <th>Qta</th>\n",
       "    </tr>\n",
       "  </thead>\n",
       "  <tbody>\n",
       "    <tr>\n",
       "      <th>299983</th>\n",
       "      <td>A563186</td>\n",
       "      <td>2011-12-08 14:51:00</td>\n",
       "      <td>-11062.06</td>\n",
       "      <td>NaN</td>\n",
       "      <td>United Kingdom</td>\n",
       "      <td>B</td>\n",
       "      <td>Adjust bad debt</td>\n",
       "      <td>1</td>\n",
       "    </tr>\n",
       "    <tr>\n",
       "      <th>299984</th>\n",
       "      <td>A563187</td>\n",
       "      <td>2011-12-08 14:52:00</td>\n",
       "      <td>-11062.06</td>\n",
       "      <td>NaN</td>\n",
       "      <td>United Kingdom</td>\n",
       "      <td>B</td>\n",
       "      <td>Adjust bad debt</td>\n",
       "      <td>1</td>\n",
       "    </tr>\n",
       "  </tbody>\n",
       "</table>\n",
       "</div>"
      ],
      "text/plain": [
       "       BasketID          BasketDate      Sale CustomerID CustomerCountry  \\\n",
       "299983  A563186 2011-12-08 14:51:00 -11062.06        NaN  United Kingdom   \n",
       "299984  A563187 2011-12-08 14:52:00 -11062.06        NaN  United Kingdom   \n",
       "\n",
       "       ProdID        ProdDescr  Qta  \n",
       "299983      B  Adjust bad debt    1  \n",
       "299984      B  Adjust bad debt    1  "
      ]
     },
     "execution_count": 20,
     "metadata": {},
     "output_type": "execute_result"
    }
   ],
   "source": [
    "basket_a_df = df.loc[df[\"BasketID\"].str.get(0) == \"A\"]\n",
    "len_basket_a = len(basket_a_df)\n",
    "print(f\"Records starting with 'A' (Size: {len_basket_a}):\\n\")\n",
    "basket_a_df.head(10)"
   ]
  },
  {
   "cell_type": "markdown",
   "metadata": {},
   "source": [
    "There seems to be a strong correlation between the \"C\" and a negative quantity, this could indicate a customer that asked for a refund.  \n",
    "\n",
    "There is also some interesting correlation between the \"A\" start and a ProdDescr containing \"Adjust bad debt\", maybe the \"A\" stands for adjust and since the CustomerID in both cases is NaN this could be an operation that concerns only the management of the shop and not something that concerns the customers (which is our primary objective).  \n",
    "These records, however, are too few to be meaningful, they skew too much the characteristics of the sale data (outliers) and they don't concern the activities of the customers."
   ]
  },
  {
   "cell_type": "markdown",
   "metadata": {},
   "source": [
    "Let's try to add a \"BasketID type A\" and \"BasketID type C\" binary attribute (0/1) and see if there are correlations."
   ]
  },
  {
   "cell_type": "code",
   "execution_count": 21,
   "metadata": {},
   "outputs": [
    {
     "data": {
      "text/html": [
       "<div>\n",
       "<style scoped>\n",
       "    .dataframe tbody tr th:only-of-type {\n",
       "        vertical-align: middle;\n",
       "    }\n",
       "\n",
       "    .dataframe tbody tr th {\n",
       "        vertical-align: top;\n",
       "    }\n",
       "\n",
       "    .dataframe thead th {\n",
       "        text-align: right;\n",
       "    }\n",
       "</style>\n",
       "<table border=\"1\" class=\"dataframe\">\n",
       "  <thead>\n",
       "    <tr style=\"text-align: right;\">\n",
       "      <th></th>\n",
       "      <th>Sale</th>\n",
       "      <th>Qta</th>\n",
       "      <th>QtaPositive</th>\n",
       "      <th>SalePositive</th>\n",
       "      <th>BasketIDTypeA</th>\n",
       "      <th>BasketIDTypeC</th>\n",
       "      <th>BasketIDTypeStd</th>\n",
       "    </tr>\n",
       "  </thead>\n",
       "  <tbody>\n",
       "    <tr>\n",
       "      <th>Sale</th>\n",
       "      <td>1.000000</td>\n",
       "      <td>-0.001247</td>\n",
       "      <td>-0.046158</td>\n",
       "      <td>0.013267</td>\n",
       "      <td>-0.271954</td>\n",
       "      <td>0.048286</td>\n",
       "      <td>-0.044207</td>\n",
       "    </tr>\n",
       "    <tr>\n",
       "      <th>Qta</th>\n",
       "      <td>-0.001247</td>\n",
       "      <td>1.000000</td>\n",
       "      <td>0.029379</td>\n",
       "      <td>0.009319</td>\n",
       "      <td>-0.000086</td>\n",
       "      <td>-0.024892</td>\n",
       "      <td>0.024891</td>\n",
       "    </tr>\n",
       "    <tr>\n",
       "      <th>QtaPositive</th>\n",
       "      <td>-0.046158</td>\n",
       "      <td>0.029379</td>\n",
       "      <td>1.000000</td>\n",
       "      <td>0.183662</td>\n",
       "      <td>0.000299</td>\n",
       "      <td>-0.964446</td>\n",
       "      <td>0.964338</td>\n",
       "    </tr>\n",
       "    <tr>\n",
       "      <th>SalePositive</th>\n",
       "      <td>0.013267</td>\n",
       "      <td>0.009319</td>\n",
       "      <td>0.183662</td>\n",
       "      <td>1.000000</td>\n",
       "      <td>-0.039459</td>\n",
       "      <td>0.007309</td>\n",
       "      <td>-0.006717</td>\n",
       "    </tr>\n",
       "    <tr>\n",
       "      <th>BasketIDTypeA</th>\n",
       "      <td>-0.271954</td>\n",
       "      <td>-0.000086</td>\n",
       "      <td>0.000299</td>\n",
       "      <td>-0.039459</td>\n",
       "      <td>1.000000</td>\n",
       "      <td>-0.000288</td>\n",
       "      <td>-0.014693</td>\n",
       "    </tr>\n",
       "    <tr>\n",
       "      <th>BasketIDTypeC</th>\n",
       "      <td>0.048286</td>\n",
       "      <td>-0.024892</td>\n",
       "      <td>-0.964446</td>\n",
       "      <td>0.007309</td>\n",
       "      <td>-0.000288</td>\n",
       "      <td>1.000000</td>\n",
       "      <td>-0.999888</td>\n",
       "    </tr>\n",
       "    <tr>\n",
       "      <th>BasketIDTypeStd</th>\n",
       "      <td>-0.044207</td>\n",
       "      <td>0.024891</td>\n",
       "      <td>0.964338</td>\n",
       "      <td>-0.006717</td>\n",
       "      <td>-0.014693</td>\n",
       "      <td>-0.999888</td>\n",
       "      <td>1.000000</td>\n",
       "    </tr>\n",
       "  </tbody>\n",
       "</table>\n",
       "</div>"
      ],
      "text/plain": [
       "                     Sale       Qta  QtaPositive  SalePositive  BasketIDTypeA  \\\n",
       "Sale             1.000000 -0.001247    -0.046158      0.013267      -0.271954   \n",
       "Qta             -0.001247  1.000000     0.029379      0.009319      -0.000086   \n",
       "QtaPositive     -0.046158  0.029379     1.000000      0.183662       0.000299   \n",
       "SalePositive     0.013267  0.009319     0.183662      1.000000      -0.039459   \n",
       "BasketIDTypeA   -0.271954 -0.000086     0.000299     -0.039459       1.000000   \n",
       "BasketIDTypeC    0.048286 -0.024892    -0.964446      0.007309      -0.000288   \n",
       "BasketIDTypeStd -0.044207  0.024891     0.964338     -0.006717      -0.014693   \n",
       "\n",
       "                 BasketIDTypeC  BasketIDTypeStd  \n",
       "Sale                  0.048286        -0.044207  \n",
       "Qta                  -0.024892         0.024891  \n",
       "QtaPositive          -0.964446         0.964338  \n",
       "SalePositive          0.007309        -0.006717  \n",
       "BasketIDTypeA        -0.000288        -0.014693  \n",
       "BasketIDTypeC         1.000000        -0.999888  \n",
       "BasketIDTypeStd      -0.999888         1.000000  "
      ]
     },
     "execution_count": 21,
     "metadata": {},
     "output_type": "execute_result"
    }
   ],
   "source": [
    "#Initialise all the cells to 0\n",
    "df_expl[\"BasketIDTypeA\"] = 0\n",
    "df_expl[\"BasketIDTypeC\"] = 0\n",
    "df_expl[\"BasketIDTypeStd\"] = 0\n",
    "\n",
    "#Set the cells appropriately depending on the BasketID type\n",
    "df_expl.loc[df_expl[\"BasketID\"].str.get(0) == \"A\", \"BasketIDTypeA\"] = 1\n",
    "df_expl.loc[df_expl[\"BasketID\"].str.get(0) == \"C\", \"BasketIDTypeC\"] = 1\n",
    "df_expl.loc[(df_expl[\"BasketIDTypeA\"] == 0) & (df_expl[\"BasketIDTypeC\"] == 0), \"BasketIDTypeStd\"] = 1\n",
    "\n",
    "df_expl[\"NewBasketID\"] = df_expl[\"BasketID\"]\n",
    "\n",
    "#Remove the initial letter from BasketID where necessary\n",
    "df_expl.loc[df_expl[\"BasketID\"].str.get(0) == \"A\", \"NewBasketID\"] = df_expl.loc[(df_expl[\"BasketID\"].str.get(0) == \"A\"), \"BasketID\"].str.slice(start=1)\n",
    "df_expl.loc[df_expl[\"BasketID\"].str.get(0) == \"C\", \"NewBasketID\"] = df_expl.loc[(df_expl[\"BasketID\"].str.get(0) == \"C\"), \"BasketID\"].str.slice(start=1)\n",
    "\n",
    "df_expl.corr()"
   ]
  },
  {
   "cell_type": "markdown",
   "metadata": {},
   "source": [
    "The BasketID of type C has a strong negative correlation with the sign of Qta."
   ]
  },
  {
   "cell_type": "code",
   "execution_count": 22,
   "metadata": {},
   "outputs": [
    {
     "data": {
      "text/plain": [
       "array(['Discount', 'SET OF 3 COLOURED  FLYING DUCKS',\n",
       "       'PLASTERS IN TIN CIRCUS PARADE ', ...,\n",
       "       'SMALL SQUARE CUT GLASS CANDLESTICK',\n",
       "       'HOUSE SHAPE PENCIL SHARPENER', 'PAPER CRAFT , LITTLE BIRDIE'],\n",
       "      dtype=object)"
      ]
     },
     "execution_count": 22,
     "metadata": {},
     "output_type": "execute_result"
    }
   ],
   "source": [
    "df_expl.loc[df[\"BasketID\"].str.get(0) == \"C\", \"ProdDescr\"].unique()"
   ]
  },
  {
   "cell_type": "markdown",
   "metadata": {},
   "source": [
    "What could this mean for the C type? Probably indicates discounts/refunds, further checks necessary."
   ]
  },
  {
   "cell_type": "code",
   "execution_count": 23,
   "metadata": {},
   "outputs": [
    {
     "name": "stdout",
     "output_type": "stream",
     "text": [
      "<class 'pandas.core.frame.DataFrame'>\n",
      "Int64Index: 471910 entries, 0 to 541909\n",
      "Data columns (total 14 columns):\n",
      " #   Column           Non-Null Count   Dtype         \n",
      "---  ------           --------------   -----         \n",
      " 0   BasketID         471910 non-null  object        \n",
      " 1   BasketDate       471910 non-null  datetime64[ns]\n",
      " 2   Sale             471910 non-null  float64       \n",
      " 3   CustomerID       406830 non-null  object        \n",
      " 4   CustomerCountry  471910 non-null  object        \n",
      " 5   ProdID           471910 non-null  object        \n",
      " 6   ProdDescr        471157 non-null  object        \n",
      " 7   Qta              471910 non-null  int64         \n",
      " 8   QtaPositive      471910 non-null  int64         \n",
      " 9   SalePositive     471910 non-null  int64         \n",
      " 10  BasketIDTypeA    471910 non-null  int64         \n",
      " 11  BasketIDTypeC    471910 non-null  int64         \n",
      " 12  BasketIDTypeStd  471910 non-null  int64         \n",
      " 13  NewBasketID      471910 non-null  int64         \n",
      "dtypes: datetime64[ns](1), float64(1), int64(7), object(5)\n",
      "memory usage: 54.0+ MB\n"
     ]
    }
   ],
   "source": [
    "df_expl[\"NewBasketID\"] = df_expl[\"NewBasketID\"].astype(\"int64\")\n",
    "df_expl.info()"
   ]
  },
  {
   "cell_type": "markdown",
   "metadata": {},
   "source": [
    "We notice that there are no more anomalies inside BasketID since it can be now converted to int64."
   ]
  },
  {
   "cell_type": "code",
   "execution_count": 24,
   "metadata": {},
   "outputs": [],
   "source": [
    "df_expl[\"NewBasketID\"] = df_expl[\"NewBasketID\"].astype(\"string\")"
   ]
  },
  {
   "cell_type": "markdown",
   "metadata": {},
   "source": [
    "Let's check if we now have less unique BasketIDs in our records, after removing the letter that identifies the type from the BasketID attribute."
   ]
  },
  {
   "cell_type": "code",
   "execution_count": 25,
   "metadata": {},
   "outputs": [
    {
     "name": "stdout",
     "output_type": "stream",
     "text": [
      "The original number of unique BasketIDs is: 24627\n",
      "The current number of unique BasketIDs is: 24627\n"
     ]
    }
   ],
   "source": [
    "print(f'The original number of unique BasketIDs is: {df_expl[\"BasketID\"].unique().size}')\n",
    "print(f'The current number of unique BasketIDs is: {df_expl[\"NewBasketID\"].unique().size}')"
   ]
  },
  {
   "cell_type": "markdown",
   "metadata": {},
   "source": [
    "The number is the same, therefore each BasketID of type A or C didn't merge with pre-existing shopping sessions."
   ]
  },
  {
   "cell_type": "markdown",
   "metadata": {},
   "source": [
    "#### Regarding the merger of type C records into standard records\n",
    "Let's check if it is possible/reasonable to associate each type C record with a standard record with the same ProdID, Sale and CustomerID.  "
   ]
  },
  {
   "cell_type": "code",
   "execution_count": 26,
   "metadata": {},
   "outputs": [],
   "source": [
    "df_expl[\"ProdSaleQta\"] = df_expl[\"Qta\"]*df_expl[\"Sale\"]\n",
    "df_expl[\"AbsProdSaleQta\"] = df_expl[\"ProdSaleQta\"].abs()"
   ]
  },
  {
   "cell_type": "code",
   "execution_count": 27,
   "metadata": {},
   "outputs": [],
   "source": [
    "#Only about 9000 entries to check, computationally feasible\n",
    "df_typec = df_expl.loc[df_expl[\"BasketIDTypeC\"] == 1].copy()\n",
    "std_df = df_expl.loc[df_expl[\"BasketIDTypeStd\"] == 1].copy()\n",
    "\n",
    "#New dataframe that we are going to save and reuse later for further analysis\n",
    "type_c_id_list = df_typec[\"BasketID\"].sort_values().unique()\n",
    "refunds_dict = {}\n",
    "\n",
    "non_refundable_df = pd.DataFrame(columns=std_df.columns)\n",
    "n_refunded_requests = 0\n",
    "\n",
    "i = 0\n",
    "#Increase sample size for a more accurate analysis\n",
    "#Set to df_typec.shape[0] for a complete check (Warning: takes a while)\n",
    "sampleSize = 10\n",
    "\n",
    "for index, series in df_typec.iterrows():\n",
    "    \n",
    "    #Constraints\n",
    "    tmp_df1 = std_df.loc[(std_df[\"BasketDate\"] <= series[\"BasketDate\"]) & \n",
    "                         (std_df[\"Sale\"] == series[\"Sale\"]) & \n",
    "                         (std_df[\"CustomerID\"] == series[\"CustomerID\"]) & \n",
    "                         (std_df[\"ProdID\"] == series[\"ProdID\"])]\n",
    "    \n",
    "    tmp_df1 = tmp_df1.sort_values([\"BasketDate\"], ascending=False)\n",
    "    \n",
    "    #Stronger requirement, if present otherwise merge with a record that satisfies the requirements of tmp_df1\n",
    "    tmp_df2 = tmp_df1.loc[(tmp_df1[\"AbsProdSaleQta\"] == series[\"AbsProdSaleQta\"])]\n",
    "    #Whenever in doubt about the API properties...\n",
    "    tmp_df2 = tmp_df2.sort_values([\"BasketDate\"], ascending=False)\n",
    "    \n",
    "    order_found = None\n",
    "\n",
    "    if(tmp_df2.empty == False):\n",
    "        #Given the additional constraint the first entry is sufficient\n",
    "        order_found = tmp_df2.iloc[0]\n",
    "\n",
    "        std_df.loc[(std_df[\"BasketID\"] == order_found[\"BasketID\"]) & \n",
    "                                (std_df[\"ProdID\"] == order_found[\"ProdID\"]), \"AbsProdSaleQta\"] = 0\n",
    "        std_df.loc[(std_df[\"BasketID\"] == order_found[\"BasketID\"]) & \n",
    "                                (std_df[\"ProdID\"] == order_found[\"ProdID\"]), \"Qta\"] = 0\n",
    "        \n",
    "        #Save result\n",
    "        #print(order_found[\"BasketID\"])\n",
    "        refunds_dict[(series[\"BasketID\"], series[\"ProdID\"])] = pd.array([order_found['BasketID']])\n",
    "        \n",
    "    elif(tmp_df1.empty == False):\n",
    "        order_list = []\n",
    "        amount_to_refund = -1*series[\"Qta\"]\n",
    "        tmp_i = 0\n",
    "        \n",
    "        while(amount_to_refund > 0 and len(tmp_df1.index) > tmp_i):\n",
    "            order_found = tmp_df1.iloc[tmp_i]\n",
    "            tmp_i = tmp_i + 1\n",
    "            \n",
    "            if(order_found[\"Qta\"] == 0):\n",
    "                continue\n",
    "            \n",
    "            order_list.append(order_found[\"BasketID\"])\n",
    "            amount_to_refund = amount_to_refund - order_found[\"Qta\"]\n",
    "            \n",
    "            #Need to avoid two different refunds referencing the same order without any items left to be refunded\n",
    "            if(amount_to_refund >= 0):\n",
    "                tmp_df1.loc[tmp_df1[\"BasketID\"] == order_found[\"BasketID\"], \"Qta\"] = 0\n",
    "                std_df.loc[(std_df[\"BasketID\"] == order_found[\"BasketID\"]) & \n",
    "                                (std_df[\"ProdID\"] == order_found[\"ProdID\"]), \"Qta\"] = 0\n",
    "            else:\n",
    "                tmp_df1.loc[tmp_df1[\"BasketID\"] == order_found[\"BasketID\"], \"Qta\"] = -1*amount_to_refund\n",
    "                std_df.loc[(std_df[\"BasketID\"] == order_found[\"BasketID\"]) & \n",
    "                                (std_df[\"ProdID\"] == order_found[\"ProdID\"]), \"Qta\"] = -1*amount_to_refund\n",
    "                amount_to_refund = 0\n",
    "        \n",
    "        #Save result\n",
    "        #print(order_list)\n",
    "        if(amount_to_refund == 0):\n",
    "            n_refunded_requests = n_refunded_requests + 1\n",
    "    else:\n",
    "        #print(f\"No match found\")\n",
    "        #print(series)\n",
    "        #print(std_df.loc[(std_df[\"CustomerID\"] == series[\"CustomerID\"]) & \n",
    "        #                 (std_df[\"Sale\"] == series[\"Sale\"]) & \n",
    "        #                 (std_df[\"ProdID\"] == series[\"ProdID\"])].head())\n",
    "        \n",
    "        non_refundable_df = non_refundable_df.append(series)\n",
    "        \n",
    "    #Avoids a long computation on the full dataset\n",
    "    if(i >= sampleSize):\n",
    "        break\n",
    "    \n",
    "    #print(i)\n",
    "    i = i+1"
   ]
  },
  {
   "cell_type": "code",
   "execution_count": 28,
   "metadata": {},
   "outputs": [
    {
     "name": "stdout",
     "output_type": "stream",
     "text": [
      "Percentage of entries without a corresponding purchase: 100.0%\n"
     ]
    }
   ],
   "source": [
    "print(f\"Percentage of entries without a corresponding purchase: {len(non_refundable_df.index)/sampleSize*100}%\")"
   ]
  },
  {
   "cell_type": "markdown",
   "metadata": {},
   "source": [
    "The result calculated on the whole subset type C is : 34.58%\n",
    "\n",
    "Considering the amount of refund entries for which there is no corresponding purchase there seems to be some missing data or our interpretation of type C records is incorrect.  \n",
    "For this reason we decide to consider type C records as a generic cost, relative to a specific CustomerID, incurred by the supermarket.  \n",
    "The other entries with negative Qta will be considered as costs that did not originate from the interaction with a particular customer.  \n",
    "  \n",
    "The sum of the entries with negative Qta will henceforth be considered as the TotalCost paid by the company while the sum of everything else is the Revenue."
   ]
  },
  {
   "cell_type": "markdown",
   "metadata": {},
   "source": [
    "#### Regarding the shopping habits of a customer that returned for a \"refund\""
   ]
  },
  {
   "cell_type": "code",
   "execution_count": 29,
   "metadata": {},
   "outputs": [],
   "source": [
    "grouping_cond = [\"CustomerID\", pd.Grouper(key=\"BasketDate\", freq=\"D\")]\n",
    "\n",
    "refund_all_cust_df = df_expl.groupby(grouping_cond).filter(lambda x: (x[\"BasketIDTypeC\"] == 1).any())\n",
    "\n",
    "refund_and_shop_cust_df = df_expl.groupby(grouping_cond)\\\n",
    "            .filter(lambda x: (x[\"BasketIDTypeC\"] == 1).any() and (x[\"BasketIDTypeC\"] == 0).any())\n",
    "\n",
    "refund_only_cust_df = df_expl.groupby(grouping_cond).filter(lambda x: (x[\"BasketIDTypeC\"] == 1).all())"
   ]
  },
  {
   "cell_type": "code",
   "execution_count": 30,
   "metadata": {},
   "outputs": [
    {
     "name": "stdout",
     "output_type": "stream",
     "text": [
      "The percentage of times that a customer buys items in the same day when he/she refunds something is: 27.48638578389223%\n"
     ]
    }
   ],
   "source": [
    "refund_all_value = refund_all_cust_df.groupby(grouping_cond).ngroups\n",
    "refund_and_shop_value = refund_and_shop_cust_df.groupby(grouping_cond).ngroups\n",
    "\n",
    "print(f\"The percentage of times that a customer buys items in the same day when he/she refunds something is: \" + \\\n",
    "        f\"{refund_and_shop_value/refund_all_value*100}%\")"
   ]
  },
  {
   "cell_type": "markdown",
   "metadata": {},
   "source": [
    "### BasketDate\n",
    "Let's see how the entries are distributed over time."
   ]
  },
  {
   "cell_type": "code",
   "execution_count": 31,
   "metadata": {},
   "outputs": [
    {
     "data": {
      "image/png": "[encoded data removed]",
      "text/plain": [
       "<Figure size 720x360 with 1 Axes>"
      ]
     },
     "metadata": {
      "needs_background": "light"
     },
     "output_type": "display_data"
    }
   ],
   "source": [
    "k = math.ceil(math.log(len(df[\"BasketID\"].unique()), 2) + 1) #Sturge's rule\n",
    "\n",
    "\n",
    "#Since there is only one date for each BasketID take only the first element in each group\n",
    "df_expl.loc[df_expl[\"BasketIDTypeStd\"] == 1]\\\n",
    "    .groupby([\"BasketID\"]).nth(0)[\"BasketDate\"].hist(bins=k, figsize=(10,5), alpha=0.5)\n",
    "\n",
    "df_expl.loc[df_expl[\"BasketIDTypeC\"] == 1].groupby([\"BasketID\"]).nth(0)[\"BasketDate\"].hist(bins=k, figsize=(10,5), alpha=0.5)\n",
    "\n",
    "df_expl.loc[(df_expl[\"BasketIDTypeStd\"] == 1) & (df_expl[\"Qta\"] < 0)]\\\n",
    "    .groupby([\"BasketID\"]).nth(0)[\"BasketDate\"].hist(bins=k, figsize=(10,5), alpha=0.5)\n",
    "\n",
    "\n",
    "plt.legend(('Standard (All)', 'Type C', 'Standard (Qta < 0)'), loc='best')\n",
    "plt.title('Distribution of BasketIDs with respect to months')\n",
    "plt.show()"
   ]
  },
  {
   "cell_type": "markdown",
   "metadata": {},
   "source": [
    "The number of transactions increases month by month.  \n",
    "Possibly reflects a change of policy regarding data collection."
   ]
  },
  {
   "cell_type": "code",
   "execution_count": 32,
   "metadata": {},
   "outputs": [
    {
     "data": {
      "image/png": "[encoded data removed]",
      "text/plain": [
       "<Figure size 720x360 with 1 Axes>"
      ]
     },
     "metadata": {
      "needs_background": "light"
     },
     "output_type": "display_data"
    }
   ],
   "source": [
    "days_dict = dict(zip([0,1,2,3,4,5,6], [\"Monday\", \"Tuesday\", \"Wednesday\", \"Thursday\", \"Friday\", \"Saturday\", \"Sunday\"]))\n",
    "\n",
    "basketday = df.groupby([\"BasketID\"]).nth(0)[\"BasketDate\"].dt.weekday #Series containing the day of the week of each BasketID\n",
    "basketday = basketday.sort_values().transform(lambda x: days_dict[x])\n",
    "basketday.hist(bins=np.arange(0, len(days_dict)+1, 1), figsize=(10,5))\n",
    "plt.title('Distribution of BasketIDs with respect to weekday')\n",
    "plt.show()"
   ]
  },
  {
   "cell_type": "markdown",
   "metadata": {},
   "source": [
    "Saturday and sunday seem to be the least active days for the shops."
   ]
  },
  {
   "cell_type": "code",
   "execution_count": 33,
   "metadata": {},
   "outputs": [
    {
     "data": {
      "image/png": "[encoded data removed]",
      "text/plain": [
       "<Figure size 1080x360 with 1 Axes>"
      ]
     },
     "metadata": {
      "needs_background": "light"
     },
     "output_type": "display_data"
    }
   ],
   "source": [
    "months_dict = dict(zip([1,2,3,4,5,6, 7, 8, 9, 10, 11, 12], \n",
    "                       [\"January\", \"February\", \"March\", \"April\", \n",
    "                        \"May\", \"June\", \"July\", \"August\", \n",
    "                        \"September\", \"October\", \"November\", \"December\"]))\n",
    "\n",
    "basketmonth = df.groupby(by=[\"BasketID\"]).nth(0)[\"BasketDate\"].dt.month #Series containing the day of the week of each BasketID\n",
    "basketmonth = basketmonth.sort_values().transform(lambda x: months_dict[x]) #Sort needed to have the correct ordering in the plot\n",
    "basketmonth.hist(bins=np.arange(0, len(months_dict)+1, 1), figsize=(15,5))\n",
    "plt.title('Distribution of BasketIDs with respect to month')\n",
    "plt.show()"
   ]
  },
  {
   "cell_type": "markdown",
   "metadata": {},
   "source": [
    "The sales peak happens in November and the least amount of sales occurs in December."
   ]
  },
  {
   "cell_type": "code",
   "execution_count": 34,
   "metadata": {},
   "outputs": [
    {
     "data": {
      "image/png": "[encoded data removed]",
      "text/plain": [
       "<Figure size 1440x360 with 2 Axes>"
      ]
     },
     "metadata": {
      "needs_background": "light"
     },
     "output_type": "display_data"
    }
   ],
   "source": [
    "#Distributions of Sale and Qta taking into account the BasketDate\n",
    "fig = plt.figure(figsize=(20, 5)) \n",
    "fig_dims = (1, 2)\n",
    "fig.subplots_adjust(hspace=0.2, wspace=0.2)\n",
    "\n",
    "plt.subplot2grid(fig_dims, (0, 0))\n",
    "\n",
    "plt.scatter(df_expl[\"BasketDate\"], df_expl[\"Sale\"], color='g', marker='*', label='Standard')\n",
    "\n",
    "plt.xlabel('BasketDate')\n",
    "plt.xticks(rotation='vertical')\n",
    "plt.ylabel('Sale')\n",
    "\n",
    "plt.subplot2grid(fig_dims, (0, 1))\n",
    "\n",
    "plt.scatter(df_expl[\"BasketDate\"], df_expl[\"Qta\"], color='g', marker='*', label='Standard')\n",
    "\n",
    "plt.xlabel('BasketDate')\n",
    "plt.xticks(rotation='vertical')\n",
    "plt.ylabel('Qta')\n",
    "\n",
    "plt.show()"
   ]
  },
  {
   "cell_type": "markdown",
   "metadata": {},
   "source": [
    "Here are clearly visible data points that could be classified as outliers."
   ]
  },
  {
   "cell_type": "markdown",
   "metadata": {},
   "source": [
    "### Sale"
   ]
  },
  {
   "cell_type": "code",
   "execution_count": 35,
   "metadata": {},
   "outputs": [
    {
     "data": {
      "image/png": "[encoded data removed]",
      "text/plain": [
       "<Figure size 720x360 with 1 Axes>"
      ]
     },
     "metadata": {
      "needs_background": "light"
     },
     "output_type": "display_data"
    }
   ],
   "source": [
    "k = math.ceil(math.log(len(df[\"Sale\"].unique()), 2) + 1) #Sturge's rule\n",
    "\n",
    "df_expl[\"Sale\"].hist(bins=np.arange(0,k), figsize=(10,5))\n",
    "plt.xlabel(\"Sale\")\n",
    "plt.show()"
   ]
  },
  {
   "cell_type": "code",
   "execution_count": 36,
   "metadata": {},
   "outputs": [
    {
     "data": {
      "text/plain": [
       "count    471910.000000\n",
       "mean          4.030945\n",
       "std          83.769380\n",
       "min      -11062.060000\n",
       "25%           1.250000\n",
       "50%           2.080000\n",
       "75%           3.750000\n",
       "max       38970.000000\n",
       "Name: Sale, dtype: float64"
      ]
     },
     "execution_count": 36,
     "metadata": {},
     "output_type": "execute_result"
    }
   ],
   "source": [
    "df_expl[\"Sale\"].describe()"
   ]
  },
  {
   "cell_type": "markdown",
   "metadata": {},
   "source": [
    "#### Regarding negative Sale entries"
   ]
  },
  {
   "cell_type": "code",
   "execution_count": 37,
   "metadata": {},
   "outputs": [
    {
     "data": {
      "text/html": [
       "<div>\n",
       "<style scoped>\n",
       "    .dataframe tbody tr th:only-of-type {\n",
       "        vertical-align: middle;\n",
       "    }\n",
       "\n",
       "    .dataframe tbody tr th {\n",
       "        vertical-align: top;\n",
       "    }\n",
       "\n",
       "    .dataframe thead th {\n",
       "        text-align: right;\n",
       "    }\n",
       "</style>\n",
       "<table border=\"1\" class=\"dataframe\">\n",
       "  <thead>\n",
       "    <tr style=\"text-align: right;\">\n",
       "      <th></th>\n",
       "      <th>BasketID</th>\n",
       "      <th>BasketDate</th>\n",
       "      <th>Sale</th>\n",
       "      <th>CustomerID</th>\n",
       "      <th>CustomerCountry</th>\n",
       "      <th>ProdID</th>\n",
       "      <th>ProdDescr</th>\n",
       "      <th>Qta</th>\n",
       "      <th>QtaPositive</th>\n",
       "      <th>SalePositive</th>\n",
       "      <th>BasketIDTypeA</th>\n",
       "      <th>BasketIDTypeC</th>\n",
       "      <th>BasketIDTypeStd</th>\n",
       "      <th>NewBasketID</th>\n",
       "      <th>ProdSaleQta</th>\n",
       "      <th>AbsProdSaleQta</th>\n",
       "    </tr>\n",
       "  </thead>\n",
       "  <tbody>\n",
       "    <tr>\n",
       "      <th>299983</th>\n",
       "      <td>A563186</td>\n",
       "      <td>2011-12-08 14:51:00</td>\n",
       "      <td>-11062.06</td>\n",
       "      <td>NaN</td>\n",
       "      <td>United Kingdom</td>\n",
       "      <td>B</td>\n",
       "      <td>Adjust bad debt</td>\n",
       "      <td>1</td>\n",
       "      <td>1</td>\n",
       "      <td>0</td>\n",
       "      <td>1</td>\n",
       "      <td>0</td>\n",
       "      <td>0</td>\n",
       "      <td>563186</td>\n",
       "      <td>-11062.06</td>\n",
       "      <td>11062.06</td>\n",
       "    </tr>\n",
       "    <tr>\n",
       "      <th>299984</th>\n",
       "      <td>A563187</td>\n",
       "      <td>2011-12-08 14:52:00</td>\n",
       "      <td>-11062.06</td>\n",
       "      <td>NaN</td>\n",
       "      <td>United Kingdom</td>\n",
       "      <td>B</td>\n",
       "      <td>Adjust bad debt</td>\n",
       "      <td>1</td>\n",
       "      <td>1</td>\n",
       "      <td>0</td>\n",
       "      <td>1</td>\n",
       "      <td>0</td>\n",
       "      <td>0</td>\n",
       "      <td>563187</td>\n",
       "      <td>-11062.06</td>\n",
       "      <td>11062.06</td>\n",
       "    </tr>\n",
       "  </tbody>\n",
       "</table>\n",
       "</div>"
      ],
      "text/plain": [
       "       BasketID          BasketDate      Sale CustomerID CustomerCountry  \\\n",
       "299983  A563186 2011-12-08 14:51:00 -11062.06        NaN  United Kingdom   \n",
       "299984  A563187 2011-12-08 14:52:00 -11062.06        NaN  United Kingdom   \n",
       "\n",
       "       ProdID        ProdDescr  Qta  QtaPositive  SalePositive  BasketIDTypeA  \\\n",
       "299983      B  Adjust bad debt    1            1             0              1   \n",
       "299984      B  Adjust bad debt    1            1             0              1   \n",
       "\n",
       "        BasketIDTypeC  BasketIDTypeStd NewBasketID  ProdSaleQta  \\\n",
       "299983              0                0      563186    -11062.06   \n",
       "299984              0                0      563187    -11062.06   \n",
       "\n",
       "        AbsProdSaleQta  \n",
       "299983        11062.06  \n",
       "299984        11062.06  "
      ]
     },
     "execution_count": 37,
     "metadata": {},
     "output_type": "execute_result"
    }
   ],
   "source": [
    "df_expl[df_expl[\"Sale\"] < 0].head()"
   ]
  },
  {
   "cell_type": "markdown",
   "metadata": {},
   "source": [
    "The only entries with a negative Sale are the type A entries, of which there are only two in the entire dataset."
   ]
  },
  {
   "cell_type": "markdown",
   "metadata": {},
   "source": [
    "#### Regarding the relationship between Sale and Qta\n",
    "We need to figure out if the Sale value refers to the cost of a single item or cost of item * Qta"
   ]
  },
  {
   "cell_type": "code",
   "execution_count": 38,
   "metadata": {},
   "outputs": [
    {
     "data": {
      "text/html": [
       "<div>\n",
       "<style scoped>\n",
       "    .dataframe tbody tr th:only-of-type {\n",
       "        vertical-align: middle;\n",
       "    }\n",
       "\n",
       "    .dataframe tbody tr th {\n",
       "        vertical-align: top;\n",
       "    }\n",
       "\n",
       "    .dataframe thead th {\n",
       "        text-align: right;\n",
       "    }\n",
       "</style>\n",
       "<table border=\"1\" class=\"dataframe\">\n",
       "  <thead>\n",
       "    <tr style=\"text-align: right;\">\n",
       "      <th></th>\n",
       "      <th>BasketID</th>\n",
       "      <th>BasketDate</th>\n",
       "      <th>Sale</th>\n",
       "      <th>CustomerID</th>\n",
       "      <th>CustomerCountry</th>\n",
       "      <th>ProdID</th>\n",
       "      <th>ProdDescr</th>\n",
       "      <th>Qta</th>\n",
       "    </tr>\n",
       "  </thead>\n",
       "  <tbody>\n",
       "    <tr>\n",
       "      <th>109443</th>\n",
       "      <td>545637</td>\n",
       "      <td>2011-04-03 12:16:00</td>\n",
       "      <td>0.85</td>\n",
       "      <td>15514</td>\n",
       "      <td>United Kingdom</td>\n",
       "      <td>10002</td>\n",
       "      <td>INFLATABLE POLITICAL GLOBE</td>\n",
       "      <td>2</td>\n",
       "    </tr>\n",
       "    <tr>\n",
       "      <th>121872</th>\n",
       "      <td>546790</td>\n",
       "      <td>2011-03-17 10:26:00</td>\n",
       "      <td>0.85</td>\n",
       "      <td>14713</td>\n",
       "      <td>United Kingdom</td>\n",
       "      <td>10002</td>\n",
       "      <td>INFLATABLE POLITICAL GLOBE</td>\n",
       "      <td>6</td>\n",
       "    </tr>\n",
       "    <tr>\n",
       "      <th>171573</th>\n",
       "      <td>551429</td>\n",
       "      <td>2011-04-28 15:05:00</td>\n",
       "      <td>0.00</td>\n",
       "      <td>NaN</td>\n",
       "      <td>United Kingdom</td>\n",
       "      <td>10002</td>\n",
       "      <td>NaN</td>\n",
       "      <td>-3</td>\n",
       "    </tr>\n",
       "    <tr>\n",
       "      <th>22380</th>\n",
       "      <td>538167</td>\n",
       "      <td>2010-09-12 18:58:00</td>\n",
       "      <td>0.85</td>\n",
       "      <td>14713</td>\n",
       "      <td>United Kingdom</td>\n",
       "      <td>10002</td>\n",
       "      <td>INFLATABLE POLITICAL GLOBE</td>\n",
       "      <td>12</td>\n",
       "    </tr>\n",
       "    <tr>\n",
       "      <th>93152</th>\n",
       "      <td>544278</td>\n",
       "      <td>2011-02-17 12:01:00</td>\n",
       "      <td>0.85</td>\n",
       "      <td>15382</td>\n",
       "      <td>United Kingdom</td>\n",
       "      <td>10002</td>\n",
       "      <td>INFLATABLE POLITICAL GLOBE</td>\n",
       "      <td>12</td>\n",
       "    </tr>\n",
       "  </tbody>\n",
       "</table>\n",
       "</div>"
      ],
      "text/plain": [
       "       BasketID          BasketDate  Sale CustomerID CustomerCountry ProdID  \\\n",
       "109443   545637 2011-04-03 12:16:00  0.85      15514  United Kingdom  10002   \n",
       "121872   546790 2011-03-17 10:26:00  0.85      14713  United Kingdom  10002   \n",
       "171573   551429 2011-04-28 15:05:00  0.00        NaN  United Kingdom  10002   \n",
       "22380    538167 2010-09-12 18:58:00  0.85      14713  United Kingdom  10002   \n",
       "93152    544278 2011-02-17 12:01:00  0.85      15382  United Kingdom  10002   \n",
       "\n",
       "                          ProdDescr  Qta  \n",
       "109443  INFLATABLE POLITICAL GLOBE     2  \n",
       "121872  INFLATABLE POLITICAL GLOBE     6  \n",
       "171573                          NaN   -3  \n",
       "22380   INFLATABLE POLITICAL GLOBE    12  \n",
       "93152   INFLATABLE POLITICAL GLOBE    12  "
      ]
     },
     "execution_count": 38,
     "metadata": {},
     "output_type": "execute_result"
    }
   ],
   "source": [
    "df.sort_values(by=\"ProdID\").head()"
   ]
  },
  {
   "cell_type": "markdown",
   "metadata": {},
   "source": [
    "Just by looking at this view of the Data Frame it seems that Sale doesn't change if the Qta changes."
   ]
  },
  {
   "cell_type": "code",
   "execution_count": 39,
   "metadata": {},
   "outputs": [
    {
     "data": {
      "text/html": [
       "<div>\n",
       "<style scoped>\n",
       "    .dataframe tbody tr th:only-of-type {\n",
       "        vertical-align: middle;\n",
       "    }\n",
       "\n",
       "    .dataframe tbody tr th {\n",
       "        vertical-align: top;\n",
       "    }\n",
       "\n",
       "    .dataframe thead th {\n",
       "        text-align: right;\n",
       "    }\n",
       "</style>\n",
       "<table border=\"1\" class=\"dataframe\">\n",
       "  <thead>\n",
       "    <tr style=\"text-align: right;\">\n",
       "      <th></th>\n",
       "      <th>Sale</th>\n",
       "      <th>Qta</th>\n",
       "    </tr>\n",
       "  </thead>\n",
       "  <tbody>\n",
       "    <tr>\n",
       "      <th>Sale</th>\n",
       "      <td>1.000000</td>\n",
       "      <td>-0.001247</td>\n",
       "    </tr>\n",
       "    <tr>\n",
       "      <th>Qta</th>\n",
       "      <td>-0.001247</td>\n",
       "      <td>1.000000</td>\n",
       "    </tr>\n",
       "  </tbody>\n",
       "</table>\n",
       "</div>"
      ],
      "text/plain": [
       "          Sale       Qta\n",
       "Sale  1.000000 -0.001247\n",
       "Qta  -0.001247  1.000000"
      ]
     },
     "execution_count": 39,
     "metadata": {},
     "output_type": "execute_result"
    }
   ],
   "source": [
    "df.corr()"
   ]
  },
  {
   "cell_type": "markdown",
   "metadata": {},
   "source": [
    "There is no significant correlation between Sale and Qta, we can therefore assume that Sale is the cost of the single item."
   ]
  },
  {
   "cell_type": "markdown",
   "metadata": {},
   "source": [
    "#### Regarding Sale values equal to 0  \n",
    "In the context of sale 0 values don't make sense and therefore should be considered as missing values."
   ]
  },
  {
   "cell_type": "code",
   "execution_count": 40,
   "metadata": {},
   "outputs": [
    {
     "name": "stdout",
     "output_type": "stream",
     "text": [
      "Number of entries with Sale equal to 0: 1279\n",
      "Percentage of entries with Sale equal to 0: 0.27102625500625116%\n"
     ]
    }
   ],
   "source": [
    "df_expl[\"SaleNull\"] = 0\n",
    "df_expl.loc[df_expl[\"Sale\"] == 0, \"SaleNull\"] = 1\n",
    "n_missing_sale = df_expl.loc[df_expl[\"Sale\"] == 0].shape[0]\n",
    "n_tot_sale = df[\"Sale\"].shape[0]\n",
    "print(f\"Number of entries with Sale equal to 0: {n_missing_sale}\")\n",
    "print(f\"Percentage of entries with Sale equal to 0: {(n_missing_sale/n_tot_sale)*100}%\")"
   ]
  },
  {
   "cell_type": "markdown",
   "metadata": {},
   "source": [
    "A small percentage, relative to the entire dataset, of the entries presents a Sale value equal to 0."
   ]
  },
  {
   "cell_type": "code",
   "execution_count": 41,
   "metadata": {
    "scrolled": false
   },
   "outputs": [
    {
     "data": {
      "text/html": [
       "<div>\n",
       "<style scoped>\n",
       "    .dataframe tbody tr th:only-of-type {\n",
       "        vertical-align: middle;\n",
       "    }\n",
       "\n",
       "    .dataframe tbody tr th {\n",
       "        vertical-align: top;\n",
       "    }\n",
       "\n",
       "    .dataframe thead th {\n",
       "        text-align: right;\n",
       "    }\n",
       "</style>\n",
       "<table border=\"1\" class=\"dataframe\">\n",
       "  <thead>\n",
       "    <tr style=\"text-align: right;\">\n",
       "      <th></th>\n",
       "      <th>Sale</th>\n",
       "      <th>Qta</th>\n",
       "      <th>QtaPositive</th>\n",
       "      <th>SalePositive</th>\n",
       "      <th>BasketIDTypeA</th>\n",
       "      <th>BasketIDTypeC</th>\n",
       "      <th>BasketIDTypeStd</th>\n",
       "      <th>ProdSaleQta</th>\n",
       "      <th>AbsProdSaleQta</th>\n",
       "      <th>SaleNull</th>\n",
       "    </tr>\n",
       "  </thead>\n",
       "  <tbody>\n",
       "    <tr>\n",
       "      <th>count</th>\n",
       "      <td>1279.0</td>\n",
       "      <td>1279.000000</td>\n",
       "      <td>1279.000000</td>\n",
       "      <td>1279.0</td>\n",
       "      <td>1279.0</td>\n",
       "      <td>1279.0</td>\n",
       "      <td>1279.0</td>\n",
       "      <td>1279.0</td>\n",
       "      <td>1279.0</td>\n",
       "      <td>1279.0</td>\n",
       "    </tr>\n",
       "    <tr>\n",
       "      <th>mean</th>\n",
       "      <td>0.0</td>\n",
       "      <td>-30.657545</td>\n",
       "      <td>0.477717</td>\n",
       "      <td>0.0</td>\n",
       "      <td>0.0</td>\n",
       "      <td>0.0</td>\n",
       "      <td>1.0</td>\n",
       "      <td>0.0</td>\n",
       "      <td>0.0</td>\n",
       "      <td>1.0</td>\n",
       "    </tr>\n",
       "    <tr>\n",
       "      <th>std</th>\n",
       "      <td>0.0</td>\n",
       "      <td>433.790135</td>\n",
       "      <td>0.499699</td>\n",
       "      <td>0.0</td>\n",
       "      <td>0.0</td>\n",
       "      <td>0.0</td>\n",
       "      <td>0.0</td>\n",
       "      <td>0.0</td>\n",
       "      <td>0.0</td>\n",
       "      <td>0.0</td>\n",
       "    </tr>\n",
       "    <tr>\n",
       "      <th>min</th>\n",
       "      <td>0.0</td>\n",
       "      <td>-2880.000000</td>\n",
       "      <td>0.000000</td>\n",
       "      <td>0.0</td>\n",
       "      <td>0.0</td>\n",
       "      <td>0.0</td>\n",
       "      <td>1.0</td>\n",
       "      <td>0.0</td>\n",
       "      <td>0.0</td>\n",
       "      <td>1.0</td>\n",
       "    </tr>\n",
       "    <tr>\n",
       "      <th>25%</th>\n",
       "      <td>0.0</td>\n",
       "      <td>-30.000000</td>\n",
       "      <td>0.000000</td>\n",
       "      <td>0.0</td>\n",
       "      <td>0.0</td>\n",
       "      <td>0.0</td>\n",
       "      <td>1.0</td>\n",
       "      <td>0.0</td>\n",
       "      <td>0.0</td>\n",
       "      <td>1.0</td>\n",
       "    </tr>\n",
       "    <tr>\n",
       "      <th>50%</th>\n",
       "      <td>0.0</td>\n",
       "      <td>-1.000000</td>\n",
       "      <td>0.000000</td>\n",
       "      <td>0.0</td>\n",
       "      <td>0.0</td>\n",
       "      <td>0.0</td>\n",
       "      <td>1.0</td>\n",
       "      <td>0.0</td>\n",
       "      <td>0.0</td>\n",
       "      <td>1.0</td>\n",
       "    </tr>\n",
       "    <tr>\n",
       "      <th>75%</th>\n",
       "      <td>0.0</td>\n",
       "      <td>3.000000</td>\n",
       "      <td>1.000000</td>\n",
       "      <td>0.0</td>\n",
       "      <td>0.0</td>\n",
       "      <td>0.0</td>\n",
       "      <td>1.0</td>\n",
       "      <td>-0.0</td>\n",
       "      <td>0.0</td>\n",
       "      <td>1.0</td>\n",
       "    </tr>\n",
       "    <tr>\n",
       "      <th>max</th>\n",
       "      <td>0.0</td>\n",
       "      <td>12540.000000</td>\n",
       "      <td>1.000000</td>\n",
       "      <td>0.0</td>\n",
       "      <td>0.0</td>\n",
       "      <td>0.0</td>\n",
       "      <td>1.0</td>\n",
       "      <td>0.0</td>\n",
       "      <td>0.0</td>\n",
       "      <td>1.0</td>\n",
       "    </tr>\n",
       "  </tbody>\n",
       "</table>\n",
       "</div>"
      ],
      "text/plain": [
       "         Sale           Qta  QtaPositive  SalePositive  BasketIDTypeA  \\\n",
       "count  1279.0   1279.000000  1279.000000        1279.0         1279.0   \n",
       "mean      0.0    -30.657545     0.477717           0.0            0.0   \n",
       "std       0.0    433.790135     0.499699           0.0            0.0   \n",
       "min       0.0  -2880.000000     0.000000           0.0            0.0   \n",
       "25%       0.0    -30.000000     0.000000           0.0            0.0   \n",
       "50%       0.0     -1.000000     0.000000           0.0            0.0   \n",
       "75%       0.0      3.000000     1.000000           0.0            0.0   \n",
       "max       0.0  12540.000000     1.000000           0.0            0.0   \n",
       "\n",
       "       BasketIDTypeC  BasketIDTypeStd  ProdSaleQta  AbsProdSaleQta  SaleNull  \n",
       "count         1279.0           1279.0       1279.0          1279.0    1279.0  \n",
       "mean             0.0              1.0          0.0             0.0       1.0  \n",
       "std              0.0              0.0          0.0             0.0       0.0  \n",
       "min              0.0              1.0          0.0             0.0       1.0  \n",
       "25%              0.0              1.0          0.0             0.0       1.0  \n",
       "50%              0.0              1.0          0.0             0.0       1.0  \n",
       "75%              0.0              1.0         -0.0             0.0       1.0  \n",
       "max              0.0              1.0          0.0             0.0       1.0  "
      ]
     },
     "execution_count": 41,
     "metadata": {},
     "output_type": "execute_result"
    }
   ],
   "source": [
    "df_expl.loc[df_expl[\"SaleNull\"] == 1].describe()"
   ]
  },
  {
   "cell_type": "code",
   "execution_count": 42,
   "metadata": {},
   "outputs": [
    {
     "data": {
      "image/png": "[encoded data removed]",
      "text/plain": [
       "<Figure size 720x360 with 1 Axes>"
      ]
     },
     "metadata": {
      "needs_background": "light"
     },
     "output_type": "display_data"
    }
   ],
   "source": [
    "plt.figure(figsize=(10,5))\n",
    "df_expl.loc[df_expl[\"SaleNull\"] == 1, \"BasketDate\"].hist()\n",
    "plt.show()"
   ]
  },
  {
   "cell_type": "markdown",
   "metadata": {},
   "source": [
    "There doesn't seem to be any apparent pattern to the entries with Sale equal to 0."
   ]
  },
  {
   "cell_type": "markdown",
   "metadata": {},
   "source": [
    "### CustomerID"
   ]
  },
  {
   "cell_type": "markdown",
   "metadata": {},
   "source": [
    "#### Regarding null CustomerIDs\n",
    "Let's see why the number of non-null CustomerID entries is so low and if there are any interesting properties to be found."
   ]
  },
  {
   "cell_type": "code",
   "execution_count": 43,
   "metadata": {
    "scrolled": true
   },
   "outputs": [
    {
     "data": {
      "text/html": [
       "<div>\n",
       "<style scoped>\n",
       "    .dataframe tbody tr th:only-of-type {\n",
       "        vertical-align: middle;\n",
       "    }\n",
       "\n",
       "    .dataframe tbody tr th {\n",
       "        vertical-align: top;\n",
       "    }\n",
       "\n",
       "    .dataframe thead th {\n",
       "        text-align: right;\n",
       "    }\n",
       "</style>\n",
       "<table border=\"1\" class=\"dataframe\">\n",
       "  <thead>\n",
       "    <tr style=\"text-align: right;\">\n",
       "      <th></th>\n",
       "      <th>Sale</th>\n",
       "      <th>Qta</th>\n",
       "      <th>QtaPositive</th>\n",
       "      <th>SalePositive</th>\n",
       "      <th>BasketIDTypeA</th>\n",
       "      <th>BasketIDTypeC</th>\n",
       "      <th>BasketIDTypeStd</th>\n",
       "      <th>ProdSaleQta</th>\n",
       "      <th>AbsProdSaleQta</th>\n",
       "      <th>SaleNull</th>\n",
       "    </tr>\n",
       "  </thead>\n",
       "  <tbody>\n",
       "    <tr>\n",
       "      <th>count</th>\n",
       "      <td>65080.000000</td>\n",
       "      <td>65080.000000</td>\n",
       "      <td>65080.000000</td>\n",
       "      <td>65080.000000</td>\n",
       "      <td>65080.000000</td>\n",
       "      <td>65080.000000</td>\n",
       "      <td>65080.000000</td>\n",
       "      <td>65080.000000</td>\n",
       "      <td>65080.000000</td>\n",
       "      <td>65080.000000</td>\n",
       "    </tr>\n",
       "    <tr>\n",
       "      <th>mean</th>\n",
       "      <td>7.596884</td>\n",
       "      <td>2.310234</td>\n",
       "      <td>0.986985</td>\n",
       "      <td>0.980931</td>\n",
       "      <td>0.000031</td>\n",
       "      <td>0.002750</td>\n",
       "      <td>0.997219</td>\n",
       "      <td>10.456138</td>\n",
       "      <td>15.218025</td>\n",
       "      <td>0.019038</td>\n",
       "    </tr>\n",
       "    <tr>\n",
       "      <th>std</th>\n",
       "      <td>144.343755</td>\n",
       "      <td>37.605007</td>\n",
       "      <td>0.113338</td>\n",
       "      <td>0.136768</td>\n",
       "      <td>0.005544</td>\n",
       "      <td>0.052373</td>\n",
       "      <td>0.052664</td>\n",
       "      <td>150.170956</td>\n",
       "      <td>149.763335</td>\n",
       "      <td>0.136660</td>\n",
       "    </tr>\n",
       "    <tr>\n",
       "      <th>min</th>\n",
       "      <td>-11062.060000</td>\n",
       "      <td>-2880.000000</td>\n",
       "      <td>0.000000</td>\n",
       "      <td>0.000000</td>\n",
       "      <td>0.000000</td>\n",
       "      <td>0.000000</td>\n",
       "      <td>0.000000</td>\n",
       "      <td>-16453.710000</td>\n",
       "      <td>0.000000</td>\n",
       "      <td>0.000000</td>\n",
       "    </tr>\n",
       "    <tr>\n",
       "      <th>25%</th>\n",
       "      <td>1.630000</td>\n",
       "      <td>1.000000</td>\n",
       "      <td>1.000000</td>\n",
       "      <td>1.000000</td>\n",
       "      <td>0.000000</td>\n",
       "      <td>0.000000</td>\n",
       "      <td>1.000000</td>\n",
       "      <td>2.460000</td>\n",
       "      <td>2.480000</td>\n",
       "      <td>0.000000</td>\n",
       "    </tr>\n",
       "    <tr>\n",
       "      <th>50%</th>\n",
       "      <td>3.290000</td>\n",
       "      <td>1.000000</td>\n",
       "      <td>1.000000</td>\n",
       "      <td>1.000000</td>\n",
       "      <td>0.000000</td>\n",
       "      <td>0.000000</td>\n",
       "      <td>1.000000</td>\n",
       "      <td>4.960000</td>\n",
       "      <td>4.960000</td>\n",
       "      <td>0.000000</td>\n",
       "    </tr>\n",
       "    <tr>\n",
       "      <th>75%</th>\n",
       "      <td>5.060000</td>\n",
       "      <td>3.000000</td>\n",
       "      <td>1.000000</td>\n",
       "      <td>1.000000</td>\n",
       "      <td>0.000000</td>\n",
       "      <td>0.000000</td>\n",
       "      <td>1.000000</td>\n",
       "      <td>10.790000</td>\n",
       "      <td>10.790000</td>\n",
       "      <td>0.000000</td>\n",
       "    </tr>\n",
       "    <tr>\n",
       "      <th>max</th>\n",
       "      <td>16453.710000</td>\n",
       "      <td>3100.000000</td>\n",
       "      <td>1.000000</td>\n",
       "      <td>1.000000</td>\n",
       "      <td>1.000000</td>\n",
       "      <td>1.000000</td>\n",
       "      <td>1.000000</td>\n",
       "      <td>2653.950000</td>\n",
       "      <td>16453.710000</td>\n",
       "      <td>1.000000</td>\n",
       "    </tr>\n",
       "  </tbody>\n",
       "</table>\n",
       "</div>"
      ],
      "text/plain": [
       "               Sale           Qta   QtaPositive  SalePositive  BasketIDTypeA  \\\n",
       "count  65080.000000  65080.000000  65080.000000  65080.000000   65080.000000   \n",
       "mean       7.596884      2.310234      0.986985      0.980931       0.000031   \n",
       "std      144.343755     37.605007      0.113338      0.136768       0.005544   \n",
       "min   -11062.060000  -2880.000000      0.000000      0.000000       0.000000   \n",
       "25%        1.630000      1.000000      1.000000      1.000000       0.000000   \n",
       "50%        3.290000      1.000000      1.000000      1.000000       0.000000   \n",
       "75%        5.060000      3.000000      1.000000      1.000000       0.000000   \n",
       "max    16453.710000   3100.000000      1.000000      1.000000       1.000000   \n",
       "\n",
       "       BasketIDTypeC  BasketIDTypeStd   ProdSaleQta  AbsProdSaleQta  \\\n",
       "count   65080.000000     65080.000000  65080.000000    65080.000000   \n",
       "mean        0.002750         0.997219     10.456138       15.218025   \n",
       "std         0.052373         0.052664    150.170956      149.763335   \n",
       "min         0.000000         0.000000 -16453.710000        0.000000   \n",
       "25%         0.000000         1.000000      2.460000        2.480000   \n",
       "50%         0.000000         1.000000      4.960000        4.960000   \n",
       "75%         0.000000         1.000000     10.790000       10.790000   \n",
       "max         1.000000         1.000000   2653.950000    16453.710000   \n",
       "\n",
       "           SaleNull  \n",
       "count  65080.000000  \n",
       "mean       0.019038  \n",
       "std        0.136660  \n",
       "min        0.000000  \n",
       "25%        0.000000  \n",
       "50%        0.000000  \n",
       "75%        0.000000  \n",
       "max        1.000000  "
      ]
     },
     "execution_count": 43,
     "metadata": {},
     "output_type": "execute_result"
    }
   ],
   "source": [
    "df_expl.loc[df_expl[\"CustomerID\"].isna()].describe()"
   ]
  },
  {
   "cell_type": "markdown",
   "metadata": {},
   "source": [
    "There are 65080 records with a null CustomerID."
   ]
  },
  {
   "cell_type": "code",
   "execution_count": 44,
   "metadata": {},
   "outputs": [],
   "source": [
    "df_expl[\"CustomerIDNull\"] = 0\n",
    "df_expl.loc[df_expl[\"CustomerID\"].isna(), \"CustomerIDNull\"] = 1"
   ]
  },
  {
   "cell_type": "code",
   "execution_count": 45,
   "metadata": {},
   "outputs": [
    {
     "data": {
      "text/plain": [
       "Sale               0.017026\n",
       "Qta               -0.014533\n",
       "QtaPositive        0.021508\n",
       "SalePositive      -0.125717\n",
       "BasketIDTypeA      0.005147\n",
       "BasketIDTypeC     -0.048027\n",
       "BasketIDTypeStd    0.047945\n",
       "ProdSaleQta       -0.008553\n",
       "AbsProdSaleQta    -0.007046\n",
       "SaleNull           0.125612\n",
       "CustomerIDNull     1.000000\n",
       "Name: CustomerIDNull, dtype: float64"
      ]
     },
     "execution_count": 45,
     "metadata": {},
     "output_type": "execute_result"
    }
   ],
   "source": [
    "df_expl.corr()[\"CustomerIDNull\"]"
   ]
  },
  {
   "cell_type": "markdown",
   "metadata": {},
   "source": [
    "No interesting correlation.  \n",
    "Let's check if we can retrieve some missing CustomerIDs by using the records referencing the same BasketID."
   ]
  },
  {
   "cell_type": "code",
   "execution_count": 46,
   "metadata": {},
   "outputs": [
    {
     "data": {
      "text/plain": [
       "0"
      ]
     },
     "execution_count": 46,
     "metadata": {},
     "output_type": "execute_result"
    }
   ],
   "source": [
    "df_expl.groupby(by=\"BasketID\").filter(lambda x: x[\"CustomerID\"].isna().any() & x[\"CustomerID\"].notna().any()).size"
   ]
  },
  {
   "cell_type": "markdown",
   "metadata": {},
   "source": [
    "There seems to be no intersection between records with the same BasketID but different CustomerIDNull value.  \n",
    "We can start to assume that the entries with CustomerID null are done on purpouse and have a specific meaning.  \n",
    "Further analysis in the Qta section."
   ]
  },
  {
   "cell_type": "markdown",
   "metadata": {},
   "source": [
    "### Customer country"
   ]
  },
  {
   "cell_type": "markdown",
   "metadata": {},
   "source": [
    "#### Regarding the relationship between CustomerID and Sale"
   ]
  },
  {
   "cell_type": "code",
   "execution_count": 47,
   "metadata": {},
   "outputs": [
    {
     "data": {
      "text/html": [
       "<div>\n",
       "<style scoped>\n",
       "    .dataframe tbody tr th:only-of-type {\n",
       "        vertical-align: middle;\n",
       "    }\n",
       "\n",
       "    .dataframe tbody tr th {\n",
       "        vertical-align: top;\n",
       "    }\n",
       "\n",
       "    .dataframe thead th {\n",
       "        text-align: right;\n",
       "    }\n",
       "</style>\n",
       "<table border=\"1\" class=\"dataframe\">\n",
       "  <thead>\n",
       "    <tr style=\"text-align: right;\">\n",
       "      <th></th>\n",
       "      <th>Sale</th>\n",
       "      <th>Qta</th>\n",
       "      <th>QtaPositive</th>\n",
       "      <th>SalePositive</th>\n",
       "      <th>BasketIDTypeA</th>\n",
       "      <th>BasketIDTypeC</th>\n",
       "      <th>BasketIDTypeStd</th>\n",
       "      <th>ProdSaleQta</th>\n",
       "      <th>AbsProdSaleQta</th>\n",
       "      <th>SaleNull</th>\n",
       "      <th>CustomerIDNull</th>\n",
       "    </tr>\n",
       "  </thead>\n",
       "  <tbody>\n",
       "    <tr>\n",
       "      <th>Sale</th>\n",
       "      <td>1.000000</td>\n",
       "      <td>-0.001307</td>\n",
       "      <td>-0.117065</td>\n",
       "      <td>0.024558</td>\n",
       "      <td>-0.425145</td>\n",
       "      <td>0.263651</td>\n",
       "      <td>-0.217442</td>\n",
       "      <td>-0.490821</td>\n",
       "      <td>0.615095</td>\n",
       "      <td>-0.007332</td>\n",
       "      <td>NaN</td>\n",
       "    </tr>\n",
       "    <tr>\n",
       "      <th>Qta</th>\n",
       "      <td>-0.001307</td>\n",
       "      <td>1.000000</td>\n",
       "      <td>0.284645</td>\n",
       "      <td>0.167189</td>\n",
       "      <td>-0.000193</td>\n",
       "      <td>-0.013041</td>\n",
       "      <td>0.012990</td>\n",
       "      <td>0.064179</td>\n",
       "      <td>0.061446</td>\n",
       "      <td>-0.167313</td>\n",
       "      <td>NaN</td>\n",
       "    </tr>\n",
       "    <tr>\n",
       "      <th>QtaPositive</th>\n",
       "      <td>-0.117065</td>\n",
       "      <td>0.284645</td>\n",
       "      <td>1.000000</td>\n",
       "      <td>0.646167</td>\n",
       "      <td>0.000637</td>\n",
       "      <td>-0.457339</td>\n",
       "      <td>0.454745</td>\n",
       "      <td>0.127914</td>\n",
       "      <td>-0.108576</td>\n",
       "      <td>-0.646704</td>\n",
       "      <td>NaN</td>\n",
       "    </tr>\n",
       "    <tr>\n",
       "      <th>SalePositive</th>\n",
       "      <td>0.024558</td>\n",
       "      <td>0.167189</td>\n",
       "      <td>0.646167</td>\n",
       "      <td>1.000000</td>\n",
       "      <td>-0.039761</td>\n",
       "      <td>0.007322</td>\n",
       "      <td>-0.003096</td>\n",
       "      <td>0.026260</td>\n",
       "      <td>-0.002430</td>\n",
       "      <td>-0.999178</td>\n",
       "      <td>NaN</td>\n",
       "    </tr>\n",
       "    <tr>\n",
       "      <th>BasketIDTypeA</th>\n",
       "      <td>-0.425145</td>\n",
       "      <td>-0.000193</td>\n",
       "      <td>0.000637</td>\n",
       "      <td>-0.039761</td>\n",
       "      <td>1.000000</td>\n",
       "      <td>-0.000291</td>\n",
       "      <td>-0.104973</td>\n",
       "      <td>-0.408754</td>\n",
       "      <td>0.408916</td>\n",
       "      <td>-0.000772</td>\n",
       "      <td>NaN</td>\n",
       "    </tr>\n",
       "    <tr>\n",
       "      <th>BasketIDTypeC</th>\n",
       "      <td>0.263651</td>\n",
       "      <td>-0.013041</td>\n",
       "      <td>-0.457339</td>\n",
       "      <td>0.007322</td>\n",
       "      <td>-0.000291</td>\n",
       "      <td>1.000000</td>\n",
       "      <td>-0.994444</td>\n",
       "      <td>-0.263167</td>\n",
       "      <td>0.254880</td>\n",
       "      <td>-0.007316</td>\n",
       "      <td>NaN</td>\n",
       "    </tr>\n",
       "    <tr>\n",
       "      <th>BasketIDTypeStd</th>\n",
       "      <td>-0.217442</td>\n",
       "      <td>0.012990</td>\n",
       "      <td>0.454745</td>\n",
       "      <td>-0.003096</td>\n",
       "      <td>-0.104973</td>\n",
       "      <td>-0.994444</td>\n",
       "      <td>1.000000</td>\n",
       "      <td>0.304739</td>\n",
       "      <td>-0.296515</td>\n",
       "      <td>0.007357</td>\n",
       "      <td>NaN</td>\n",
       "    </tr>\n",
       "    <tr>\n",
       "      <th>ProdSaleQta</th>\n",
       "      <td>-0.490821</td>\n",
       "      <td>0.064179</td>\n",
       "      <td>0.127914</td>\n",
       "      <td>0.026260</td>\n",
       "      <td>-0.408754</td>\n",
       "      <td>-0.263167</td>\n",
       "      <td>0.304739</td>\n",
       "      <td>1.000000</td>\n",
       "      <td>-0.734444</td>\n",
       "      <td>-0.009700</td>\n",
       "      <td>NaN</td>\n",
       "    </tr>\n",
       "    <tr>\n",
       "      <th>AbsProdSaleQta</th>\n",
       "      <td>0.615095</td>\n",
       "      <td>0.061446</td>\n",
       "      <td>-0.108576</td>\n",
       "      <td>-0.002430</td>\n",
       "      <td>0.408916</td>\n",
       "      <td>0.254880</td>\n",
       "      <td>-0.296515</td>\n",
       "      <td>-0.734444</td>\n",
       "      <td>1.000000</td>\n",
       "      <td>-0.014156</td>\n",
       "      <td>NaN</td>\n",
       "    </tr>\n",
       "    <tr>\n",
       "      <th>SaleNull</th>\n",
       "      <td>-0.007332</td>\n",
       "      <td>-0.167313</td>\n",
       "      <td>-0.646704</td>\n",
       "      <td>-0.999178</td>\n",
       "      <td>-0.000772</td>\n",
       "      <td>-0.007316</td>\n",
       "      <td>0.007357</td>\n",
       "      <td>-0.009700</td>\n",
       "      <td>-0.014156</td>\n",
       "      <td>1.000000</td>\n",
       "      <td>NaN</td>\n",
       "    </tr>\n",
       "    <tr>\n",
       "      <th>CustomerIDNull</th>\n",
       "      <td>NaN</td>\n",
       "      <td>NaN</td>\n",
       "      <td>NaN</td>\n",
       "      <td>NaN</td>\n",
       "      <td>NaN</td>\n",
       "      <td>NaN</td>\n",
       "      <td>NaN</td>\n",
       "      <td>NaN</td>\n",
       "      <td>NaN</td>\n",
       "      <td>NaN</td>\n",
       "      <td>NaN</td>\n",
       "    </tr>\n",
       "  </tbody>\n",
       "</table>\n",
       "</div>"
      ],
      "text/plain": [
       "                     Sale       Qta  QtaPositive  SalePositive  BasketIDTypeA  \\\n",
       "Sale             1.000000 -0.001307    -0.117065      0.024558      -0.425145   \n",
       "Qta             -0.001307  1.000000     0.284645      0.167189      -0.000193   \n",
       "QtaPositive     -0.117065  0.284645     1.000000      0.646167       0.000637   \n",
       "SalePositive     0.024558  0.167189     0.646167      1.000000      -0.039761   \n",
       "BasketIDTypeA   -0.425145 -0.000193     0.000637     -0.039761       1.000000   \n",
       "BasketIDTypeC    0.263651 -0.013041    -0.457339      0.007322      -0.000291   \n",
       "BasketIDTypeStd -0.217442  0.012990     0.454745     -0.003096      -0.104973   \n",
       "ProdSaleQta     -0.490821  0.064179     0.127914      0.026260      -0.408754   \n",
       "AbsProdSaleQta   0.615095  0.061446    -0.108576     -0.002430       0.408916   \n",
       "SaleNull        -0.007332 -0.167313    -0.646704     -0.999178      -0.000772   \n",
       "CustomerIDNull        NaN       NaN          NaN           NaN            NaN   \n",
       "\n",
       "                 BasketIDTypeC  BasketIDTypeStd  ProdSaleQta  AbsProdSaleQta  \\\n",
       "Sale                  0.263651        -0.217442    -0.490821        0.615095   \n",
       "Qta                  -0.013041         0.012990     0.064179        0.061446   \n",
       "QtaPositive          -0.457339         0.454745     0.127914       -0.108576   \n",
       "SalePositive          0.007322        -0.003096     0.026260       -0.002430   \n",
       "BasketIDTypeA        -0.000291        -0.104973    -0.408754        0.408916   \n",
       "BasketIDTypeC         1.000000        -0.994444    -0.263167        0.254880   \n",
       "BasketIDTypeStd      -0.994444         1.000000     0.304739       -0.296515   \n",
       "ProdSaleQta          -0.263167         0.304739     1.000000       -0.734444   \n",
       "AbsProdSaleQta        0.254880        -0.296515    -0.734444        1.000000   \n",
       "SaleNull             -0.007316         0.007357    -0.009700       -0.014156   \n",
       "CustomerIDNull             NaN              NaN          NaN             NaN   \n",
       "\n",
       "                 SaleNull  CustomerIDNull  \n",
       "Sale            -0.007332             NaN  \n",
       "Qta             -0.167313             NaN  \n",
       "QtaPositive     -0.646704             NaN  \n",
       "SalePositive    -0.999178             NaN  \n",
       "BasketIDTypeA   -0.000772             NaN  \n",
       "BasketIDTypeC   -0.007316             NaN  \n",
       "BasketIDTypeStd  0.007357             NaN  \n",
       "ProdSaleQta     -0.009700             NaN  \n",
       "AbsProdSaleQta  -0.014156             NaN  \n",
       "SaleNull         1.000000             NaN  \n",
       "CustomerIDNull        NaN             NaN  "
      ]
     },
     "execution_count": 47,
     "metadata": {},
     "output_type": "execute_result"
    }
   ],
   "source": [
    "df_expl.loc[df_expl[\"CustomerIDNull\"] == 1].corr()"
   ]
  },
  {
   "cell_type": "markdown",
   "metadata": {},
   "source": [
    "There is a significant negative correlation between SaleNull and QtaPositive in the subset of records with missing CustomerID."
   ]
  },
  {
   "cell_type": "code",
   "execution_count": 48,
   "metadata": {},
   "outputs": [
    {
     "name": "stdout",
     "output_type": "stream",
     "text": [
      "1239\n",
      "40\n",
      "63841\n",
      "406790\n"
     ]
    }
   ],
   "source": [
    "print(df_expl.loc[(df_expl[\"CustomerIDNull\"] == 1) & (df_expl[\"Sale\"] == 0)].shape[0])\n",
    "print(df_expl.loc[(df_expl[\"CustomerIDNull\"] != 1) & (df_expl[\"Sale\"] == 0)].shape[0])\n",
    "print(df_expl.loc[(df_expl[\"CustomerIDNull\"] == 1) & (df_expl[\"Sale\"] != 0)].shape[0])\n",
    "print(df_expl.loc[(df_expl[\"CustomerIDNull\"] != 1) & (df_expl[\"Sale\"] != 0)].shape[0])"
   ]
  },
  {
   "cell_type": "code",
   "execution_count": 49,
   "metadata": {},
   "outputs": [
    {
     "data": {
      "image/png": "[encoded data removed]",
      "text/plain": [
       "<Figure size 1440x360 with 2 Axes>"
      ]
     },
     "metadata": {
      "needs_background": "light"
     },
     "output_type": "display_data"
    }
   ],
   "source": [
    "#Only one BasketID considered independently from the number of single entries\n",
    "basketid_country = df_expl.groupby(by=[\"CustomerCountry\"])[\"BasketID\"].nunique()\n",
    "\n",
    "fig = plt.figure(figsize=(20, 5)) \n",
    "fig_dims = (1, 2)\n",
    "fig.subplots_adjust(hspace=0.2, wspace=0.2)\n",
    "\n",
    "plt.subplot2grid(fig_dims, (0, 0))\n",
    "\n",
    "basketid_country.plot(kind='bar')\n",
    "plt.title(\"Number of unique BasketIDs by country with UK\")\n",
    "\n",
    "plt.subplot2grid(fig_dims, (0, 1))\n",
    "\n",
    "basketid_country.loc[basketid_country.index != \"United Kingdom\"].plot(kind='bar')\n",
    "plt.title(\"Number of unique BasketIDs by country without UK\")\n",
    "\n",
    "plt.show()"
   ]
  },
  {
   "cell_type": "markdown",
   "metadata": {},
   "source": [
    "The majority of the singular operations take place in the United Kingdom."
   ]
  },
  {
   "cell_type": "markdown",
   "metadata": {},
   "source": [
    "#### Regarding missing Sale values by country"
   ]
  },
  {
   "cell_type": "code",
   "execution_count": 50,
   "metadata": {},
   "outputs": [
    {
     "data": {
      "image/png": "[encoded data removed]",
      "text/plain": [
       "<Figure size 432x288 with 1 Axes>"
      ]
     },
     "metadata": {
      "needs_background": "light"
     },
     "output_type": "display_data"
    }
   ],
   "source": [
    "missing_by_country_df = df_expl.loc[df_expl[\"SaleNull\"] == 1].groupby(by=[\"CustomerCountry\"])[\"BasketID\"].nunique()\n",
    "missing_by_country_df.plot(kind=\"bar\")\n",
    "plt.show()"
   ]
  },
  {
   "cell_type": "code",
   "execution_count": 51,
   "metadata": {},
   "outputs": [
    {
     "data": {
      "text/plain": [
       "CustomerCountry\n",
       "Australia            3\n",
       "EIRE                 3\n",
       "France               1\n",
       "Germany              2\n",
       "Netherlands          1\n",
       "Norway               1\n",
       "RSA                  1\n",
       "Spain                1\n",
       "Switzerland          1\n",
       "United Kingdom    1094\n",
       "Name: BasketID, dtype: int64"
      ]
     },
     "execution_count": 51,
     "metadata": {},
     "output_type": "execute_result"
    }
   ],
   "source": [
    "missing_by_country_df"
   ]
  },
  {
   "cell_type": "markdown",
   "metadata": {},
   "source": [
    "It might be problematic to do data segmentation with respect to the country of a missing value (TODO)."
   ]
  },
  {
   "cell_type": "markdown",
   "metadata": {},
   "source": [
    "### ProdID"
   ]
  },
  {
   "cell_type": "code",
   "execution_count": 52,
   "metadata": {},
   "outputs": [
    {
     "data": {
      "image/png": "[encoded data removed]",
      "text/plain": [
       "<Figure size 720x360 with 1 Axes>"
      ]
     },
     "metadata": {
      "needs_background": "light"
     },
     "output_type": "display_data"
    }
   ],
   "source": [
    "plt.figure(figsize=(10,5))\n",
    "df[\"ProdID\"].value_counts().plot()\n",
    "plt.xlabel(\"ProdID\")\n",
    "plt.show()"
   ]
  },
  {
   "cell_type": "markdown",
   "metadata": {},
   "source": [
    "#### ProdID interpretation  \n",
    "Let's find out why this wasn't converted to a number."
   ]
  },
  {
   "cell_type": "code",
   "execution_count": 53,
   "metadata": {},
   "outputs": [
    {
     "data": {
      "text/plain": [
       "ProdID  ProdDescr                        \n",
       "22423   REGENCY CAKESTAND 3 TIER             2042\n",
       "47566   PARTY BUNTING                        1569\n",
       "20725   LUNCH BAG RED RETROSPOT              1491\n",
       "84879   ASSORTED COLOUR BIRD ORNAMENT        1470\n",
       "22720   SET OF 3 CAKE TINS PANTRY DESIGN     1332\n",
       "                                             ... \n",
       "84620   BLUE GINGHAM ROSE CUSHION COVER         1\n",
       "22181   check                                   1\n",
       "23427   damaged                                 1\n",
       "23035   check                                   1\n",
       "20867   ?                                       1\n",
       "Length: 3279, dtype: int64"
      ]
     },
     "execution_count": 53,
     "metadata": {},
     "output_type": "execute_result"
    }
   ],
   "source": [
    "df.loc[df[\"ProdID\"].str.isnumeric(), (\"ProdID\", \"ProdDescr\")].value_counts() #Records with ProdIDs containing only numbers"
   ]
  },
  {
   "cell_type": "code",
   "execution_count": 54,
   "metadata": {},
   "outputs": [
    {
     "data": {
      "text/plain": [
       "ProdID     ProdDescr                 \n",
       "POST       POSTAGE                       1221\n",
       "M          Manual                         506\n",
       "DOT        DOTCOM POSTAGE                 338\n",
       "D          Discount                        77\n",
       "S          SAMPLES                         26\n",
       "AMAZONFEE  AMAZON FEE                      17\n",
       "CRUK       CRUK Commission                 16\n",
       "DCGSSBOY   BOYS PARTY BAG                   6\n",
       "PADS       PADS TO MATCH ALL CUSHIONS       4\n",
       "DCGSSGIRL  GIRLS PARTY BAG                  4\n",
       "B          Adjust bad debt                  2\n",
       "m          Manual                           1\n",
       "dtype: int64"
      ]
     },
     "execution_count": 54,
     "metadata": {},
     "output_type": "execute_result"
    }
   ],
   "source": [
    "df.loc[df[\"ProdID\"].str.isalpha(), (\"ProdID\", \"ProdDescr\")].value_counts() #Records with ProdIDs containing only letters"
   ]
  },
  {
   "cell_type": "code",
   "execution_count": 55,
   "metadata": {},
   "outputs": [
    {
     "data": {
      "text/plain": [
       "ProdID  ProdDescr                         \n",
       "85123A  WHITE HANGING HEART T-LIGHT HOLDER    2182\n",
       "85099B  JUMBO BAG RED RETROSPOT               1917\n",
       "82494L  WOODEN FRAME ANTIQUE WHITE             880\n",
       "85099C  JUMBO  BAG BAROQUE BLACK WHITE         809\n",
       "85099F  JUMBO BAG STRAWBERRY                   761\n",
       "                                              ... \n",
       "35817P  ACRYLIC JEWEL SNOWFLAKE,PINK             1\n",
       "85017C  adjustment                               1\n",
       "        Found                                    1\n",
       "62096B  PURPLE/TURQ FLOWERS HANDBAG              1\n",
       "84201C  HAPPY BIRTHDAY CARD TEDDY/CAKE           1\n",
       "Length: 1100, dtype: int64"
      ]
     },
     "execution_count": 55,
     "metadata": {},
     "output_type": "execute_result"
    }
   ],
   "source": [
    "#Records with ProdID terminating with a letter\n",
    "term_letter_prodid = df.loc[(df[\"ProdID\"].str.slice(start=-1).str.isalpha()) & (df[\"ProdID\"].str.slice(0, -1).str.isnumeric())]\n",
    "term_letter_prodid[[\"ProdID\", \"ProdDescr\"]].sort_values(by=\"ProdID\").value_counts()"
   ]
  },
  {
   "cell_type": "markdown",
   "metadata": {},
   "source": [
    "The presence of letters seems to indicate different variations of the same item.  "
   ]
  },
  {
   "cell_type": "markdown",
   "metadata": {},
   "source": [
    "#### Regarding the possibility of having multiple entries for the same (BasketID, ProdID) entry"
   ]
  },
  {
   "cell_type": "code",
   "execution_count": 56,
   "metadata": {},
   "outputs": [
    {
     "data": {
      "text/html": [
       "<div>\n",
       "<style scoped>\n",
       "    .dataframe tbody tr th:only-of-type {\n",
       "        vertical-align: middle;\n",
       "    }\n",
       "\n",
       "    .dataframe tbody tr th {\n",
       "        vertical-align: top;\n",
       "    }\n",
       "\n",
       "    .dataframe thead th {\n",
       "        text-align: right;\n",
       "    }\n",
       "</style>\n",
       "<table border=\"1\" class=\"dataframe\">\n",
       "  <thead>\n",
       "    <tr style=\"text-align: right;\">\n",
       "      <th></th>\n",
       "      <th>BasketID</th>\n",
       "      <th>BasketDate</th>\n",
       "      <th>Sale</th>\n",
       "      <th>CustomerID</th>\n",
       "      <th>CustomerCountry</th>\n",
       "      <th>ProdID</th>\n",
       "      <th>ProdDescr</th>\n",
       "      <th>Qta</th>\n",
       "      <th>QtaPositive</th>\n",
       "      <th>SalePositive</th>\n",
       "      <th>BasketIDTypeA</th>\n",
       "      <th>BasketIDTypeC</th>\n",
       "      <th>BasketIDTypeStd</th>\n",
       "      <th>NewBasketID</th>\n",
       "      <th>ProdSaleQta</th>\n",
       "      <th>AbsProdSaleQta</th>\n",
       "      <th>SaleNull</th>\n",
       "      <th>CustomerIDNull</th>\n",
       "    </tr>\n",
       "  </thead>\n",
       "  <tbody>\n",
       "    <tr>\n",
       "      <th>113</th>\n",
       "      <td>536381</td>\n",
       "      <td>2010-01-12 09:41:00</td>\n",
       "      <td>1.25</td>\n",
       "      <td>15311</td>\n",
       "      <td>United Kingdom</td>\n",
       "      <td>71270</td>\n",
       "      <td>PHOTO CLIP LINE</td>\n",
       "      <td>1</td>\n",
       "      <td>1</td>\n",
       "      <td>1</td>\n",
       "      <td>0</td>\n",
       "      <td>0</td>\n",
       "      <td>1</td>\n",
       "      <td>536381</td>\n",
       "      <td>1.25</td>\n",
       "      <td>1.25</td>\n",
       "      <td>0</td>\n",
       "      <td>0</td>\n",
       "    </tr>\n",
       "    <tr>\n",
       "      <th>125</th>\n",
       "      <td>536381</td>\n",
       "      <td>2010-01-12 09:41:00</td>\n",
       "      <td>1.25</td>\n",
       "      <td>15311</td>\n",
       "      <td>United Kingdom</td>\n",
       "      <td>71270</td>\n",
       "      <td>PHOTO CLIP LINE</td>\n",
       "      <td>3</td>\n",
       "      <td>1</td>\n",
       "      <td>1</td>\n",
       "      <td>0</td>\n",
       "      <td>0</td>\n",
       "      <td>1</td>\n",
       "      <td>536381</td>\n",
       "      <td>3.75</td>\n",
       "      <td>3.75</td>\n",
       "      <td>0</td>\n",
       "      <td>0</td>\n",
       "    </tr>\n",
       "    <tr>\n",
       "      <th>494</th>\n",
       "      <td>536409</td>\n",
       "      <td>2010-01-12 11:45:00</td>\n",
       "      <td>1.25</td>\n",
       "      <td>17908</td>\n",
       "      <td>United Kingdom</td>\n",
       "      <td>21866</td>\n",
       "      <td>UNION JACK FLAG LUGGAGE TAG</td>\n",
       "      <td>1</td>\n",
       "      <td>1</td>\n",
       "      <td>1</td>\n",
       "      <td>0</td>\n",
       "      <td>0</td>\n",
       "      <td>1</td>\n",
       "      <td>536409</td>\n",
       "      <td>1.25</td>\n",
       "      <td>1.25</td>\n",
       "      <td>0</td>\n",
       "      <td>0</td>\n",
       "    </tr>\n",
       "    <tr>\n",
       "      <th>517</th>\n",
       "      <td>536409</td>\n",
       "      <td>2010-01-12 11:45:00</td>\n",
       "      <td>1.25</td>\n",
       "      <td>17908</td>\n",
       "      <td>United Kingdom</td>\n",
       "      <td>21866</td>\n",
       "      <td>UNION JACK FLAG LUGGAGE TAG</td>\n",
       "      <td>1</td>\n",
       "      <td>1</td>\n",
       "      <td>1</td>\n",
       "      <td>0</td>\n",
       "      <td>0</td>\n",
       "      <td>1</td>\n",
       "      <td>536409</td>\n",
       "      <td>1.25</td>\n",
       "      <td>1.25</td>\n",
       "      <td>0</td>\n",
       "      <td>0</td>\n",
       "    </tr>\n",
       "    <tr>\n",
       "      <th>485</th>\n",
       "      <td>536409</td>\n",
       "      <td>2010-01-12 11:45:00</td>\n",
       "      <td>4.95</td>\n",
       "      <td>17908</td>\n",
       "      <td>United Kingdom</td>\n",
       "      <td>22111</td>\n",
       "      <td>SCOTTIE DOG HOT WATER BOTTLE</td>\n",
       "      <td>1</td>\n",
       "      <td>1</td>\n",
       "      <td>1</td>\n",
       "      <td>0</td>\n",
       "      <td>0</td>\n",
       "      <td>1</td>\n",
       "      <td>536409</td>\n",
       "      <td>4.95</td>\n",
       "      <td>4.95</td>\n",
       "      <td>0</td>\n",
       "      <td>0</td>\n",
       "    </tr>\n",
       "  </tbody>\n",
       "</table>\n",
       "</div>"
      ],
      "text/plain": [
       "    BasketID          BasketDate  Sale CustomerID CustomerCountry ProdID  \\\n",
       "113   536381 2010-01-12 09:41:00  1.25      15311  United Kingdom  71270   \n",
       "125   536381 2010-01-12 09:41:00  1.25      15311  United Kingdom  71270   \n",
       "494   536409 2010-01-12 11:45:00  1.25      17908  United Kingdom  21866   \n",
       "517   536409 2010-01-12 11:45:00  1.25      17908  United Kingdom  21866   \n",
       "485   536409 2010-01-12 11:45:00  4.95      17908  United Kingdom  22111   \n",
       "\n",
       "                        ProdDescr  Qta  QtaPositive  SalePositive  \\\n",
       "113               PHOTO CLIP LINE    1            1             1   \n",
       "125               PHOTO CLIP LINE    3            1             1   \n",
       "494   UNION JACK FLAG LUGGAGE TAG    1            1             1   \n",
       "517   UNION JACK FLAG LUGGAGE TAG    1            1             1   \n",
       "485  SCOTTIE DOG HOT WATER BOTTLE    1            1             1   \n",
       "\n",
       "     BasketIDTypeA  BasketIDTypeC  BasketIDTypeStd NewBasketID  ProdSaleQta  \\\n",
       "113              0              0                1      536381         1.25   \n",
       "125              0              0                1      536381         3.75   \n",
       "494              0              0                1      536409         1.25   \n",
       "517              0              0                1      536409         1.25   \n",
       "485              0              0                1      536409         4.95   \n",
       "\n",
       "     AbsProdSaleQta  SaleNull  CustomerIDNull  \n",
       "113            1.25         0               0  \n",
       "125            3.75         0               0  \n",
       "494            1.25         0               0  \n",
       "517            1.25         0               0  \n",
       "485            4.95         0               0  "
      ]
     },
     "execution_count": 56,
     "metadata": {},
     "output_type": "execute_result"
    }
   ],
   "source": [
    "ambiguous_df = df_expl.groupby([\"BasketID\", \"ProdID\"]).filter(lambda x: x.shape[0] > 1)\n",
    "ambiguous_df.sort_values([\"BasketID\", \"ProdID\"]).head()"
   ]
  },
  {
   "cell_type": "code",
   "execution_count": 57,
   "metadata": {},
   "outputs": [
    {
     "name": "stdout",
     "output_type": "stream",
     "text": [
      "19594\n"
     ]
    }
   ],
   "source": [
    "print(ambiguous_df.shape[0])"
   ]
  },
  {
   "cell_type": "markdown",
   "metadata": {},
   "source": [
    "The tuple (BasketID, ProdID) is, counterintuitively, not a \"Key\" of the dataset.  \n",
    "It shouldn't matter too much for the purpouse of our analysis but it could prove tricky in other situations."
   ]
  },
  {
   "cell_type": "markdown",
   "metadata": {},
   "source": [
    "#### Regarding ProdIDs in type C BasketID records"
   ]
  },
  {
   "cell_type": "code",
   "execution_count": 58,
   "metadata": {},
   "outputs": [
    {
     "data": {
      "text/plain": [
       "ProdID\n",
       "23843    -80995\n",
       "23166    -74494\n",
       "84347     -9376\n",
       "M         -4024\n",
       "21108     -3150\n",
       "          ...  \n",
       "85025B       -1\n",
       "85025C       -1\n",
       "22869        -1\n",
       "21389        -1\n",
       "22824        -1\n",
       "Length: 1939, dtype: int64"
      ]
     },
     "execution_count": 58,
     "metadata": {},
     "output_type": "execute_result"
    }
   ],
   "source": [
    "df_expl.loc[(df_expl[\"BasketIDTypeC\"] == 1)].groupby([\"ProdID\"]).apply(lambda x: x[\"Qta\"].sum()).sort_values()"
   ]
  },
  {
   "cell_type": "markdown",
   "metadata": {},
   "source": [
    "These are the most returned products by quantity."
   ]
  },
  {
   "cell_type": "code",
   "execution_count": 59,
   "metadata": {},
   "outputs": [
    {
     "data": {
      "text/plain": [
       "ProdID\n",
       "23843       -168469.60\n",
       "M           -126877.44\n",
       "AMAZONFEE   -110541.75\n",
       "23166        -77479.64\n",
       "POST         -11415.13\n",
       "               ...    \n",
       "23185            -0.29\n",
       "51020B           -0.29\n",
       "16235            -0.21\n",
       "21883            -0.19\n",
       "85204            -0.12\n",
       "Length: 1939, dtype: float64"
      ]
     },
     "execution_count": 59,
     "metadata": {},
     "output_type": "execute_result"
    }
   ],
   "source": [
    "df_expl.loc[(df_expl[\"BasketIDTypeC\"] == 1)].groupby([\"ProdID\"]).apply(lambda x: x[\"ProdSaleQta\"].sum()).sort_values()"
   ]
  },
  {
   "cell_type": "markdown",
   "metadata": {},
   "source": [
    "These are the most returned products by total sale value.  \n",
    "The presence of items such as AMAZONFEE and M (manual adjustments) seem to further justify our choice of not considering each type C entry as connected with a standard type one."
   ]
  },
  {
   "cell_type": "markdown",
   "metadata": {},
   "source": [
    "### Qta"
   ]
  },
  {
   "cell_type": "code",
   "execution_count": 60,
   "metadata": {},
   "outputs": [
    {
     "data": {
      "image/png": "[encoded data removed]",
      "text/plain": [
       "<Figure size 432x288 with 1 Axes>"
      ]
     },
     "metadata": {
      "needs_background": "light"
     },
     "output_type": "display_data"
    }
   ],
   "source": [
    "k = math.ceil(math.log(len(df[\"Qta\"].unique()), 2) + 1) #Sturge's rule\n",
    "df[\"Qta\"].hist(bins=np.arange(-k, k))\n",
    "plt.xlabel(\"Qta\")\n",
    "plt.show()"
   ]
  },
  {
   "cell_type": "code",
   "execution_count": 61,
   "metadata": {},
   "outputs": [
    {
     "data": {
      "text/plain": [
       "count    471910.000000\n",
       "mean         10.716533\n",
       "std         231.355136\n",
       "min      -80995.000000\n",
       "25%           1.000000\n",
       "50%           4.000000\n",
       "75%          12.000000\n",
       "max       80995.000000\n",
       "Name: Qta, dtype: float64"
      ]
     },
     "execution_count": 61,
     "metadata": {},
     "output_type": "execute_result"
    }
   ],
   "source": [
    "df[\"Qta\"].describe()"
   ]
  },
  {
   "cell_type": "markdown",
   "metadata": {},
   "source": [
    "#### Regarding missing values"
   ]
  },
  {
   "cell_type": "markdown",
   "metadata": {},
   "source": [
    "Let's check for 0 values."
   ]
  },
  {
   "cell_type": "code",
   "execution_count": 62,
   "metadata": {},
   "outputs": [
    {
     "name": "stdout",
     "output_type": "stream",
     "text": [
      "0\n",
      "0\n"
     ]
    }
   ],
   "source": [
    "print(df.loc[df[\"Qta\"] == 0].size)\n",
    "print(df.loc[df[\"Qta\"].isna()].size)"
   ]
  },
  {
   "cell_type": "markdown",
   "metadata": {},
   "source": [
    "There are no records with Qta equal to 0 or NaN, so we can assume that there are no records with missing values in the feature Qta."
   ]
  },
  {
   "cell_type": "markdown",
   "metadata": {},
   "source": [
    "#### Regarding negative Qta and type C BasketID"
   ]
  },
  {
   "cell_type": "code",
   "execution_count": 63,
   "metadata": {},
   "outputs": [
    {
     "data": {
      "text/plain": [
       "Sale              -0.046158\n",
       "Qta                0.029379\n",
       "QtaPositive        1.000000\n",
       "SalePositive       0.183662\n",
       "BasketIDTypeA      0.000299\n",
       "BasketIDTypeC     -0.964446\n",
       "BasketIDTypeStd    0.964338\n",
       "ProdSaleQta        0.034543\n",
       "AbsProdSaleQta    -0.019585\n",
       "SaleNull          -0.183817\n",
       "CustomerIDNull     0.021508\n",
       "Name: QtaPositive, dtype: float64"
      ]
     },
     "execution_count": 63,
     "metadata": {},
     "output_type": "execute_result"
    }
   ],
   "source": [
    "df_expl.corr()[\"QtaPositive\"]"
   ]
  },
  {
   "cell_type": "markdown",
   "metadata": {},
   "source": [
    "As noted in the BasketID section there is a strong correlation between the sign of Qta and a BasketID of type C.  \n",
    "Let's see if there is some interesting distribution in the remaining negative quantities."
   ]
  },
  {
   "cell_type": "code",
   "execution_count": 64,
   "metadata": {
    "scrolled": true
   },
   "outputs": [
    {
     "data": {
      "text/html": [
       "<div>\n",
       "<style scoped>\n",
       "    .dataframe tbody tr th:only-of-type {\n",
       "        vertical-align: middle;\n",
       "    }\n",
       "\n",
       "    .dataframe tbody tr th {\n",
       "        vertical-align: top;\n",
       "    }\n",
       "\n",
       "    .dataframe thead th {\n",
       "        text-align: right;\n",
       "    }\n",
       "</style>\n",
       "<table border=\"1\" class=\"dataframe\">\n",
       "  <thead>\n",
       "    <tr style=\"text-align: right;\">\n",
       "      <th></th>\n",
       "      <th>BasketID</th>\n",
       "      <th>BasketDate</th>\n",
       "      <th>Sale</th>\n",
       "      <th>CustomerID</th>\n",
       "      <th>CustomerCountry</th>\n",
       "      <th>ProdID</th>\n",
       "      <th>ProdDescr</th>\n",
       "      <th>Qta</th>\n",
       "      <th>QtaPositive</th>\n",
       "      <th>SalePositive</th>\n",
       "      <th>BasketIDTypeA</th>\n",
       "      <th>BasketIDTypeC</th>\n",
       "      <th>BasketIDTypeStd</th>\n",
       "      <th>NewBasketID</th>\n",
       "      <th>ProdSaleQta</th>\n",
       "      <th>AbsProdSaleQta</th>\n",
       "      <th>SaleNull</th>\n",
       "      <th>CustomerIDNull</th>\n",
       "    </tr>\n",
       "  </thead>\n",
       "  <tbody>\n",
       "    <tr>\n",
       "      <th>4347</th>\n",
       "      <td>536764</td>\n",
       "      <td>2010-02-12 14:42:00</td>\n",
       "      <td>0.0</td>\n",
       "      <td>NaN</td>\n",
       "      <td>United Kingdom</td>\n",
       "      <td>84952C</td>\n",
       "      <td>NaN</td>\n",
       "      <td>-38</td>\n",
       "      <td>0</td>\n",
       "      <td>0</td>\n",
       "      <td>0</td>\n",
       "      <td>0</td>\n",
       "      <td>1</td>\n",
       "      <td>536764</td>\n",
       "      <td>-0.0</td>\n",
       "      <td>0.0</td>\n",
       "      <td>1</td>\n",
       "      <td>1</td>\n",
       "    </tr>\n",
       "    <tr>\n",
       "      <th>7188</th>\n",
       "      <td>536996</td>\n",
       "      <td>2010-03-12 15:30:00</td>\n",
       "      <td>0.0</td>\n",
       "      <td>NaN</td>\n",
       "      <td>United Kingdom</td>\n",
       "      <td>22712</td>\n",
       "      <td>NaN</td>\n",
       "      <td>-20</td>\n",
       "      <td>0</td>\n",
       "      <td>0</td>\n",
       "      <td>0</td>\n",
       "      <td>0</td>\n",
       "      <td>1</td>\n",
       "      <td>536996</td>\n",
       "      <td>-0.0</td>\n",
       "      <td>0.0</td>\n",
       "      <td>1</td>\n",
       "      <td>1</td>\n",
       "    </tr>\n",
       "    <tr>\n",
       "      <th>7192</th>\n",
       "      <td>537000</td>\n",
       "      <td>2010-03-12 15:32:00</td>\n",
       "      <td>0.0</td>\n",
       "      <td>NaN</td>\n",
       "      <td>United Kingdom</td>\n",
       "      <td>21414</td>\n",
       "      <td>NaN</td>\n",
       "      <td>-22</td>\n",
       "      <td>0</td>\n",
       "      <td>0</td>\n",
       "      <td>0</td>\n",
       "      <td>0</td>\n",
       "      <td>1</td>\n",
       "      <td>537000</td>\n",
       "      <td>-0.0</td>\n",
       "      <td>0.0</td>\n",
       "      <td>1</td>\n",
       "      <td>1</td>\n",
       "    </tr>\n",
       "    <tr>\n",
       "      <th>7193</th>\n",
       "      <td>537001</td>\n",
       "      <td>2010-03-12 15:33:00</td>\n",
       "      <td>0.0</td>\n",
       "      <td>NaN</td>\n",
       "      <td>United Kingdom</td>\n",
       "      <td>21653</td>\n",
       "      <td>NaN</td>\n",
       "      <td>-6</td>\n",
       "      <td>0</td>\n",
       "      <td>0</td>\n",
       "      <td>0</td>\n",
       "      <td>0</td>\n",
       "      <td>1</td>\n",
       "      <td>537001</td>\n",
       "      <td>-0.0</td>\n",
       "      <td>0.0</td>\n",
       "      <td>1</td>\n",
       "      <td>1</td>\n",
       "    </tr>\n",
       "    <tr>\n",
       "      <th>7195</th>\n",
       "      <td>537003</td>\n",
       "      <td>2010-03-12 15:33:00</td>\n",
       "      <td>0.0</td>\n",
       "      <td>NaN</td>\n",
       "      <td>United Kingdom</td>\n",
       "      <td>85126</td>\n",
       "      <td>NaN</td>\n",
       "      <td>-2</td>\n",
       "      <td>0</td>\n",
       "      <td>0</td>\n",
       "      <td>0</td>\n",
       "      <td>0</td>\n",
       "      <td>1</td>\n",
       "      <td>537003</td>\n",
       "      <td>-0.0</td>\n",
       "      <td>0.0</td>\n",
       "      <td>1</td>\n",
       "      <td>1</td>\n",
       "    </tr>\n",
       "  </tbody>\n",
       "</table>\n",
       "</div>"
      ],
      "text/plain": [
       "     BasketID          BasketDate  Sale CustomerID CustomerCountry  ProdID  \\\n",
       "4347   536764 2010-02-12 14:42:00   0.0        NaN  United Kingdom  84952C   \n",
       "7188   536996 2010-03-12 15:30:00   0.0        NaN  United Kingdom   22712   \n",
       "7192   537000 2010-03-12 15:32:00   0.0        NaN  United Kingdom   21414   \n",
       "7193   537001 2010-03-12 15:33:00   0.0        NaN  United Kingdom   21653   \n",
       "7195   537003 2010-03-12 15:33:00   0.0        NaN  United Kingdom   85126   \n",
       "\n",
       "     ProdDescr  Qta  QtaPositive  SalePositive  BasketIDTypeA  BasketIDTypeC  \\\n",
       "4347       NaN  -38            0             0              0              0   \n",
       "7188       NaN  -20            0             0              0              0   \n",
       "7192       NaN  -22            0             0              0              0   \n",
       "7193       NaN   -6            0             0              0              0   \n",
       "7195       NaN   -2            0             0              0              0   \n",
       "\n",
       "      BasketIDTypeStd NewBasketID  ProdSaleQta  AbsProdSaleQta  SaleNull  \\\n",
       "4347                1      536764         -0.0             0.0         1   \n",
       "7188                1      536996         -0.0             0.0         1   \n",
       "7192                1      537000         -0.0             0.0         1   \n",
       "7193                1      537001         -0.0             0.0         1   \n",
       "7195                1      537003         -0.0             0.0         1   \n",
       "\n",
       "      CustomerIDNull  \n",
       "4347               1  \n",
       "7188               1  \n",
       "7192               1  \n",
       "7193               1  \n",
       "7195               1  "
      ]
     },
     "execution_count": 64,
     "metadata": {},
     "output_type": "execute_result"
    }
   ],
   "source": [
    "neg_not_c = df_expl.loc[(df_expl[\"Qta\"] < 0) & (df_expl[\"BasketIDTypeC\"] == 0)]\n",
    "neg_not_c.head()"
   ]
  },
  {
   "cell_type": "markdown",
   "metadata": {},
   "source": [
    "Let's check if the trend of Sale equal 0 continues throughout the subset of records."
   ]
  },
  {
   "cell_type": "code",
   "execution_count": 65,
   "metadata": {},
   "outputs": [
    {
     "data": {
      "text/plain": [
       "count    668.0\n",
       "mean       0.0\n",
       "std        0.0\n",
       "min        0.0\n",
       "25%        0.0\n",
       "50%        0.0\n",
       "75%        0.0\n",
       "max        0.0\n",
       "Name: Sale, dtype: float64"
      ]
     },
     "execution_count": 65,
     "metadata": {},
     "output_type": "execute_result"
    }
   ],
   "source": [
    "neg_not_c[\"Sale\"].describe()"
   ]
  },
  {
   "cell_type": "markdown",
   "metadata": {},
   "source": [
    "It does.  \n",
    "Let's check if all CustomerIDs in the subset are Null."
   ]
  },
  {
   "cell_type": "code",
   "execution_count": 66,
   "metadata": {},
   "outputs": [
    {
     "data": {
      "text/plain": [
       "count    668.0\n",
       "mean       1.0\n",
       "std        0.0\n",
       "min        1.0\n",
       "25%        1.0\n",
       "50%        1.0\n",
       "75%        1.0\n",
       "max        1.0\n",
       "Name: CustomerIDNull, dtype: float64"
      ]
     },
     "execution_count": 66,
     "metadata": {},
     "output_type": "execute_result"
    }
   ],
   "source": [
    "neg_not_c.describe()[\"CustomerIDNull\"]"
   ]
  },
  {
   "cell_type": "markdown",
   "metadata": {},
   "source": [
    "They are all Null, as can be deduced by the min value.  \n",
    "All entries not of type C and with a negative Qta have a Sale value equal to 0 and a CustomerID null.  "
   ]
  },
  {
   "cell_type": "markdown",
   "metadata": {},
   "source": [
    "#### Regarding the intersection between ProdID entries with positive and negative Qtas"
   ]
  },
  {
   "cell_type": "code",
   "execution_count": 67,
   "metadata": {},
   "outputs": [
    {
     "name": "stdout",
     "output_type": "stream",
     "text": [
      "0.568146618482189\n",
      "0.9653508771929824\n"
     ]
    }
   ],
   "source": [
    "set_neg = set(df.loc[df[\"Qta\"] < 0, \"ProdID\"])\n",
    "set_pos = set(df.loc[df[\"Qta\"] > 0, \"ProdID\"])\n",
    "inter_list = list(set_pos & set_neg) #Intersection\n",
    "\n",
    "print(len(inter_list)/len(set_pos))\n",
    "print(len(inter_list)/len(set_neg))"
   ]
  },
  {
   "cell_type": "code",
   "execution_count": 68,
   "metadata": {},
   "outputs": [
    {
     "name": "stdout",
     "output_type": "stream",
     "text": [
      "0.5186903137789904\n",
      "0.9901041666666667\n"
     ]
    }
   ],
   "source": [
    "set_neg = set(df.loc[(df[\"Qta\"] < 0) & (df[\"CustomerID\"].notna()), \"ProdID\"])\n",
    "set_pos = set(df.loc[(df[\"Qta\"] > 0) & (df[\"CustomerID\"].notna()), \"ProdID\"])\n",
    "inter_list = list(set_pos & set_neg)\n",
    "print(len(inter_list)/len(set_pos))\n",
    "print(len(inter_list)/len(set_neg))"
   ]
  },
  {
   "cell_type": "markdown",
   "metadata": {},
   "source": [
    "In both cases there are some values of ProdID present in a particular subset of the dataset that are not present in the other.  \n",
    "Result needed to justify decision in customer features."
   ]
  },
  {
   "cell_type": "markdown",
   "metadata": {},
   "source": [
    "# Task 1.2: Data preparation"
   ]
  },
  {
   "cell_type": "code",
   "execution_count": 69,
   "metadata": {},
   "outputs": [],
   "source": [
    "orig_df = df.copy() #Just in case"
   ]
  },
  {
   "cell_type": "markdown",
   "metadata": {},
   "source": [
    "## Missing values"
   ]
  },
  {
   "cell_type": "code",
   "execution_count": 70,
   "metadata": {},
   "outputs": [
    {
     "data": {
      "text/html": [
       "<div>\n",
       "<style scoped>\n",
       "    .dataframe tbody tr th:only-of-type {\n",
       "        vertical-align: middle;\n",
       "    }\n",
       "\n",
       "    .dataframe tbody tr th {\n",
       "        vertical-align: top;\n",
       "    }\n",
       "\n",
       "    .dataframe thead th {\n",
       "        text-align: right;\n",
       "    }\n",
       "</style>\n",
       "<table border=\"1\" class=\"dataframe\">\n",
       "  <thead>\n",
       "    <tr style=\"text-align: right;\">\n",
       "      <th></th>\n",
       "      <th>BasketID</th>\n",
       "      <th>BasketDate</th>\n",
       "      <th>Sale</th>\n",
       "      <th>CustomerID</th>\n",
       "      <th>CustomerCountry</th>\n",
       "      <th>ProdID</th>\n",
       "      <th>ProdDescr</th>\n",
       "      <th>Qta</th>\n",
       "    </tr>\n",
       "  </thead>\n",
       "  <tbody>\n",
       "    <tr>\n",
       "      <th>0</th>\n",
       "      <td>536365</td>\n",
       "      <td>2010-01-12 08:26:00</td>\n",
       "      <td>2.55</td>\n",
       "      <td>17850</td>\n",
       "      <td>United Kingdom</td>\n",
       "      <td>85123A</td>\n",
       "      <td>WHITE HANGING HEART T-LIGHT HOLDER</td>\n",
       "      <td>6</td>\n",
       "    </tr>\n",
       "    <tr>\n",
       "      <th>1</th>\n",
       "      <td>536365</td>\n",
       "      <td>2010-01-12 08:26:00</td>\n",
       "      <td>3.39</td>\n",
       "      <td>17850</td>\n",
       "      <td>United Kingdom</td>\n",
       "      <td>71053</td>\n",
       "      <td>WHITE METAL LANTERN</td>\n",
       "      <td>6</td>\n",
       "    </tr>\n",
       "    <tr>\n",
       "      <th>2</th>\n",
       "      <td>536365</td>\n",
       "      <td>2010-01-12 08:26:00</td>\n",
       "      <td>2.75</td>\n",
       "      <td>17850</td>\n",
       "      <td>United Kingdom</td>\n",
       "      <td>84406B</td>\n",
       "      <td>CREAM CUPID HEARTS COAT HANGER</td>\n",
       "      <td>8</td>\n",
       "    </tr>\n",
       "    <tr>\n",
       "      <th>3</th>\n",
       "      <td>536365</td>\n",
       "      <td>2010-01-12 08:26:00</td>\n",
       "      <td>3.39</td>\n",
       "      <td>17850</td>\n",
       "      <td>United Kingdom</td>\n",
       "      <td>84029G</td>\n",
       "      <td>KNITTED UNION FLAG HOT WATER BOTTLE</td>\n",
       "      <td>6</td>\n",
       "    </tr>\n",
       "    <tr>\n",
       "      <th>4</th>\n",
       "      <td>536365</td>\n",
       "      <td>2010-01-12 08:26:00</td>\n",
       "      <td>3.39</td>\n",
       "      <td>17850</td>\n",
       "      <td>United Kingdom</td>\n",
       "      <td>84029E</td>\n",
       "      <td>RED WOOLLY HOTTIE WHITE HEART.</td>\n",
       "      <td>6</td>\n",
       "    </tr>\n",
       "  </tbody>\n",
       "</table>\n",
       "</div>"
      ],
      "text/plain": [
       "  BasketID          BasketDate  Sale CustomerID CustomerCountry  ProdID  \\\n",
       "0   536365 2010-01-12 08:26:00  2.55      17850  United Kingdom  85123A   \n",
       "1   536365 2010-01-12 08:26:00  3.39      17850  United Kingdom   71053   \n",
       "2   536365 2010-01-12 08:26:00  2.75      17850  United Kingdom  84406B   \n",
       "3   536365 2010-01-12 08:26:00  3.39      17850  United Kingdom  84029G   \n",
       "4   536365 2010-01-12 08:26:00  3.39      17850  United Kingdom  84029E   \n",
       "\n",
       "                             ProdDescr  Qta  \n",
       "0   WHITE HANGING HEART T-LIGHT HOLDER    6  \n",
       "1                  WHITE METAL LANTERN    6  \n",
       "2       CREAM CUPID HEARTS COAT HANGER    8  \n",
       "3  KNITTED UNION FLAG HOT WATER BOTTLE    6  \n",
       "4       RED WOOLLY HOTTIE WHITE HEART.    6  "
      ]
     },
     "execution_count": 70,
     "metadata": {},
     "output_type": "execute_result"
    }
   ],
   "source": [
    "df.head()"
   ]
  },
  {
   "cell_type": "code",
   "execution_count": 71,
   "metadata": {},
   "outputs": [
    {
     "name": "stdout",
     "output_type": "stream",
     "text": [
      "Number of records with a missing Sale value: 1279\n",
      "Number of unique ProdID of records with a missing Sale value: 911\n"
     ]
    }
   ],
   "source": [
    "missing_df = df.loc[df[\"Sale\"] == 0]\n",
    "print(f\"Number of records with a missing Sale value: {missing_df.shape[0]}\")\n",
    "print(f\"Number of unique ProdID of records with a missing Sale value: {len(missing_df['ProdID'].unique())}\")"
   ]
  },
  {
   "cell_type": "code",
   "execution_count": 72,
   "metadata": {},
   "outputs": [],
   "source": [
    "fill_df = df.copy()\n",
    "fill_df.loc[fill_df[\"Sale\"] == 0, \"Sale\"] = np.NaN\n",
    "\n",
    "fill_group = fill_df.groupby([\"ProdID\"])\\\n",
    "        .apply(lambda x: x[\"Sale\"].fillna(x.loc[x[\"Sale\"].notna(), \"Sale\"].median()))\n",
    "\n",
    "fill_df[\"Sale\"] = fill_group.droplevel(\"ProdID\")"
   ]
  },
  {
   "cell_type": "markdown",
   "metadata": {},
   "source": [
    "We used Data Segmentation to separate the dataset into different groups depending on the ProdID and then we used the median of the non-null Sale entries to fill the missing values.  \n",
    "We used the median instead of the mean in order to be less susceptible to outliers."
   ]
  },
  {
   "cell_type": "code",
   "execution_count": 73,
   "metadata": {},
   "outputs": [
    {
     "name": "stdout",
     "output_type": "stream",
     "text": [
      "Number of records with missing Sale value after fill: 71\n"
     ]
    }
   ],
   "source": [
    "still_missing_df = fill_df.loc[fill_df['Sale'].isna()]\n",
    "print(f\"Number of records with missing Sale value after fill: {still_missing_df.shape[0]}\")"
   ]
  },
  {
   "cell_type": "markdown",
   "metadata": {},
   "source": [
    "A small percentage of the entries cannot have its missing value replaced using data segmentation since the only entries with those particular ProdIDs lack a non-null Sale value.  "
   ]
  },
  {
   "cell_type": "code",
   "execution_count": 74,
   "metadata": {},
   "outputs": [
    {
     "data": {
      "text/html": [
       "<div>\n",
       "<style scoped>\n",
       "    .dataframe tbody tr th:only-of-type {\n",
       "        vertical-align: middle;\n",
       "    }\n",
       "\n",
       "    .dataframe tbody tr th {\n",
       "        vertical-align: top;\n",
       "    }\n",
       "\n",
       "    .dataframe thead th {\n",
       "        text-align: right;\n",
       "    }\n",
       "</style>\n",
       "<table border=\"1\" class=\"dataframe\">\n",
       "  <thead>\n",
       "    <tr style=\"text-align: right;\">\n",
       "      <th></th>\n",
       "      <th>Sale</th>\n",
       "      <th>Qta</th>\n",
       "      <th>QtaPositive</th>\n",
       "      <th>SalePositive</th>\n",
       "      <th>BasketIDTypeA</th>\n",
       "      <th>BasketIDTypeC</th>\n",
       "      <th>BasketIDTypeStd</th>\n",
       "      <th>ProdSaleQta</th>\n",
       "      <th>AbsProdSaleQta</th>\n",
       "      <th>SaleNull</th>\n",
       "      <th>CustomerIDNull</th>\n",
       "    </tr>\n",
       "  </thead>\n",
       "  <tbody>\n",
       "    <tr>\n",
       "      <th>count</th>\n",
       "      <td>71.0</td>\n",
       "      <td>71.000000</td>\n",
       "      <td>71.000000</td>\n",
       "      <td>71.0</td>\n",
       "      <td>71.0</td>\n",
       "      <td>71.0</td>\n",
       "      <td>71.0</td>\n",
       "      <td>71.0</td>\n",
       "      <td>71.0</td>\n",
       "      <td>71.0</td>\n",
       "      <td>71.0</td>\n",
       "    </tr>\n",
       "    <tr>\n",
       "      <th>mean</th>\n",
       "      <td>0.0</td>\n",
       "      <td>-57.887324</td>\n",
       "      <td>0.140845</td>\n",
       "      <td>0.0</td>\n",
       "      <td>0.0</td>\n",
       "      <td>0.0</td>\n",
       "      <td>1.0</td>\n",
       "      <td>0.0</td>\n",
       "      <td>0.0</td>\n",
       "      <td>1.0</td>\n",
       "      <td>1.0</td>\n",
       "    </tr>\n",
       "    <tr>\n",
       "      <th>std</th>\n",
       "      <td>0.0</td>\n",
       "      <td>372.433639</td>\n",
       "      <td>0.350338</td>\n",
       "      <td>0.0</td>\n",
       "      <td>0.0</td>\n",
       "      <td>0.0</td>\n",
       "      <td>0.0</td>\n",
       "      <td>0.0</td>\n",
       "      <td>0.0</td>\n",
       "      <td>0.0</td>\n",
       "      <td>0.0</td>\n",
       "    </tr>\n",
       "    <tr>\n",
       "      <th>min</th>\n",
       "      <td>0.0</td>\n",
       "      <td>-2376.000000</td>\n",
       "      <td>0.000000</td>\n",
       "      <td>0.0</td>\n",
       "      <td>0.0</td>\n",
       "      <td>0.0</td>\n",
       "      <td>1.0</td>\n",
       "      <td>0.0</td>\n",
       "      <td>0.0</td>\n",
       "      <td>1.0</td>\n",
       "      <td>1.0</td>\n",
       "    </tr>\n",
       "    <tr>\n",
       "      <th>25%</th>\n",
       "      <td>0.0</td>\n",
       "      <td>-18.000000</td>\n",
       "      <td>0.000000</td>\n",
       "      <td>0.0</td>\n",
       "      <td>0.0</td>\n",
       "      <td>0.0</td>\n",
       "      <td>1.0</td>\n",
       "      <td>-0.0</td>\n",
       "      <td>0.0</td>\n",
       "      <td>1.0</td>\n",
       "      <td>1.0</td>\n",
       "    </tr>\n",
       "    <tr>\n",
       "      <th>50%</th>\n",
       "      <td>0.0</td>\n",
       "      <td>-6.000000</td>\n",
       "      <td>0.000000</td>\n",
       "      <td>0.0</td>\n",
       "      <td>0.0</td>\n",
       "      <td>0.0</td>\n",
       "      <td>1.0</td>\n",
       "      <td>0.0</td>\n",
       "      <td>0.0</td>\n",
       "      <td>1.0</td>\n",
       "      <td>1.0</td>\n",
       "    </tr>\n",
       "    <tr>\n",
       "      <th>75%</th>\n",
       "      <td>0.0</td>\n",
       "      <td>-1.000000</td>\n",
       "      <td>0.000000</td>\n",
       "      <td>0.0</td>\n",
       "      <td>0.0</td>\n",
       "      <td>0.0</td>\n",
       "      <td>1.0</td>\n",
       "      <td>-0.0</td>\n",
       "      <td>0.0</td>\n",
       "      <td>1.0</td>\n",
       "      <td>1.0</td>\n",
       "    </tr>\n",
       "    <tr>\n",
       "      <th>max</th>\n",
       "      <td>0.0</td>\n",
       "      <td>1287.000000</td>\n",
       "      <td>1.000000</td>\n",
       "      <td>0.0</td>\n",
       "      <td>0.0</td>\n",
       "      <td>0.0</td>\n",
       "      <td>1.0</td>\n",
       "      <td>0.0</td>\n",
       "      <td>0.0</td>\n",
       "      <td>1.0</td>\n",
       "      <td>1.0</td>\n",
       "    </tr>\n",
       "  </tbody>\n",
       "</table>\n",
       "</div>"
      ],
      "text/plain": [
       "       Sale          Qta  QtaPositive  SalePositive  BasketIDTypeA  \\\n",
       "count  71.0    71.000000    71.000000          71.0           71.0   \n",
       "mean    0.0   -57.887324     0.140845           0.0            0.0   \n",
       "std     0.0   372.433639     0.350338           0.0            0.0   \n",
       "min     0.0 -2376.000000     0.000000           0.0            0.0   \n",
       "25%     0.0   -18.000000     0.000000           0.0            0.0   \n",
       "50%     0.0    -6.000000     0.000000           0.0            0.0   \n",
       "75%     0.0    -1.000000     0.000000           0.0            0.0   \n",
       "max     0.0  1287.000000     1.000000           0.0            0.0   \n",
       "\n",
       "       BasketIDTypeC  BasketIDTypeStd  ProdSaleQta  AbsProdSaleQta  SaleNull  \\\n",
       "count           71.0             71.0         71.0            71.0      71.0   \n",
       "mean             0.0              1.0          0.0             0.0       1.0   \n",
       "std              0.0              0.0          0.0             0.0       0.0   \n",
       "min              0.0              1.0          0.0             0.0       1.0   \n",
       "25%              0.0              1.0         -0.0             0.0       1.0   \n",
       "50%              0.0              1.0          0.0             0.0       1.0   \n",
       "75%              0.0              1.0         -0.0             0.0       1.0   \n",
       "max              0.0              1.0          0.0             0.0       1.0   \n",
       "\n",
       "       CustomerIDNull  \n",
       "count            71.0  \n",
       "mean              1.0  \n",
       "std               0.0  \n",
       "min               1.0  \n",
       "25%               1.0  \n",
       "50%               1.0  \n",
       "75%               1.0  \n",
       "max               1.0  "
      ]
     },
     "execution_count": 74,
     "metadata": {},
     "output_type": "execute_result"
    }
   ],
   "source": [
    "df_expl.loc[still_missing_df.index].describe()"
   ]
  },
  {
   "cell_type": "markdown",
   "metadata": {},
   "source": [
    "All these entries are missing a CustomerID."
   ]
  },
  {
   "cell_type": "code",
   "execution_count": 75,
   "metadata": {},
   "outputs": [],
   "source": [
    "df = fill_df"
   ]
  },
  {
   "cell_type": "markdown",
   "metadata": {},
   "source": [
    "## Data cleanup "
   ]
  },
  {
   "cell_type": "code",
   "execution_count": 76,
   "metadata": {},
   "outputs": [],
   "source": [
    "df = df.drop(still_missing_df.index)"
   ]
  },
  {
   "cell_type": "markdown",
   "metadata": {},
   "source": [
    "Remove all entries still without a Sale value in order to allow for clustering.  \n",
    "There shouldn't be a problem with this decision, given that we are removing about 70 records from the dataset."
   ]
  },
  {
   "cell_type": "markdown",
   "metadata": {},
   "source": [
    "(Pointless for now since the customer features consider only CustomerID non-null entries)"
   ]
  },
  {
   "cell_type": "markdown",
   "metadata": {},
   "source": [
    "Remove type A BasketID entries since, as noted above, they don't specify a CustomerID and are concerned with the grocery store chain debt."
   ]
  },
  {
   "cell_type": "code",
   "execution_count": 77,
   "metadata": {},
   "outputs": [],
   "source": [
    "#df = df.drop(df.loc[df[\"BasketID\"].str.get(0) == \"A\"].index)"
   ]
  },
  {
   "cell_type": "markdown",
   "metadata": {},
   "source": [
    "Remove records with negative Qta that do not reference a type C BasketID since they do not reference any CustomerID.  \n",
    "Now all records with negative Qta are of type C."
   ]
  },
  {
   "cell_type": "code",
   "execution_count": 78,
   "metadata": {},
   "outputs": [],
   "source": [
    "#df = df.drop(df.loc[(df[\"BasketID\"].str.get(0) != \"C\") & (df[\"Qta\"] < 0)].index)"
   ]
  },
  {
   "cell_type": "markdown",
   "metadata": {},
   "source": [
    "Since we don't seem to have a way to retrieve the CustomerID in case it is missing let's delete all entries without CustomerID."
   ]
  },
  {
   "cell_type": "code",
   "execution_count": 79,
   "metadata": {},
   "outputs": [],
   "source": [
    "#df = df.drop(df.loc[df[\"CustomerID\"].isna()].index)"
   ]
  },
  {
   "cell_type": "markdown",
   "metadata": {},
   "source": [
    "## Outlier analysis\n",
    "Outliers in this dataset are expected to be found in the numerical attributes, therefore we will focus on Sale and Qta."
   ]
  },
  {
   "cell_type": "code",
   "execution_count": 80,
   "metadata": {},
   "outputs": [
    {
     "data": {
      "image/png": "[encoded data removed]",
      "text/plain": [
       "<Figure size 432x288 with 1 Axes>"
      ]
     },
     "metadata": {
      "needs_background": "light"
     },
     "output_type": "display_data"
    }
   ],
   "source": [
    "plt.scatter(df[\"Sale\"], df[\"Qta\"], color='g', marker='*', label='Standard')\n",
    "plt.xlabel(\"Sale\")\n",
    "plt.ylabel(\"Qta\")\n",
    "plt.show()"
   ]
  },
  {
   "cell_type": "markdown",
   "metadata": {},
   "source": [
    "### Statistical approach\n",
    "As seen in the respective sections the data doesn't seem to have a normal distribution.  \n",
    "They do however seem to have an exponential one. (TODO)"
   ]
  },
  {
   "cell_type": "markdown",
   "metadata": {},
   "source": [
    "### IQR approach"
   ]
  },
  {
   "cell_type": "code",
   "execution_count": 81,
   "metadata": {},
   "outputs": [],
   "source": [
    "Q1 = df.quantile(0.25)\n",
    "Q3 = df.quantile(0.75)\n",
    "IQR = Q3 - Q1\n",
    "right_whisker = Q3 + 1.5*IQR\n",
    "left_whisker = Q1 - 1.5*IQR"
   ]
  },
  {
   "cell_type": "code",
   "execution_count": 82,
   "metadata": {},
   "outputs": [
    {
     "name": "stdout",
     "output_type": "stream",
     "text": [
      "Qta 2.5-quantile: 1.0\n",
      "Qta 97.5-quantile: 60.0\n",
      "Sale 2.5-quantile: 0.39\n",
      "Sale 97.5-quantile: 12.75\n",
      "\n",
      "Left whisker: Sale    -2.5\n",
      "Qta    -15.5\n",
      "dtype: float64\n",
      "Right whisker: Sale     7.5\n",
      "Qta     28.5\n",
      "dtype: float64\n"
     ]
    }
   ],
   "source": [
    "print(f\"Qta 2.5-quantile: {df['Qta'].quantile(0.025)}\")\n",
    "print(f\"Qta 97.5-quantile: {df['Qta'].quantile(0.975)}\")\n",
    "print(f\"Sale 2.5-quantile: {df['Sale'].quantile(0.025)}\")\n",
    "print(f\"Sale 97.5-quantile: {df['Sale'].quantile(0.975)}\\n\")\n",
    "\n",
    "print(f\"Left whisker: {left_whisker}\")\n",
    "print(f\"Right whisker: {right_whisker}\")"
   ]
  },
  {
   "cell_type": "markdown",
   "metadata": {},
   "source": [
    "It seems, from the scatter plot and the quantiles, that by using the IQR approach we could lose interesting information that doesn't diverge all that much from the rest, both visually and numerically, for example we would lose any Sale value greater then 12.75 while we can see that there are many data points with a greater value that are not that different (ie 99-quantile of Sale = 16.95).  \n",
    "\n",
    "Note also that by removing the outliers in Qta with the IQR approach we will also remove all entries having a negative Qta.  \n",
    "We need to consider if that data is worth keeping.  \n",
    "The same concerns do not apply to Sale, as seen in the Sale section above."
   ]
  },
  {
   "cell_type": "code",
   "execution_count": 83,
   "metadata": {},
   "outputs": [
    {
     "name": "stdout",
     "output_type": "stream",
     "text": [
      "The number of total outliers in the dataset is: 73510\n"
     ]
    }
   ],
   "source": [
    "df_wo_out_iqr = df.copy()\n",
    "\n",
    "df_wo_out_iqr = df_wo_out_iqr.loc[(df_wo_out_iqr[\"Sale\"] >= left_whisker[\"Sale\"]) & (df_wo_out_iqr[\"Sale\"] <= right_whisker[\"Sale\"])]\n",
    "df_wo_out_iqr = df_wo_out_iqr.loc[(df_wo_out_iqr[\"Qta\"] >= left_whisker[\"Qta\"]) & (df_wo_out_iqr[\"Qta\"] <= right_whisker[\"Qta\"])]\n",
    "\n",
    "print(f'The number of total outliers in the dataset is: {df.shape[0]-df_wo_out_iqr.shape[0]}')"
   ]
  },
  {
   "cell_type": "markdown",
   "metadata": {},
   "source": [
    "With this approach we eliminate a significant amount of all the records."
   ]
  },
  {
   "cell_type": "markdown",
   "metadata": {},
   "source": [
    "### Clustering approach"
   ]
  },
  {
   "cell_type": "code",
   "execution_count": 84,
   "metadata": {},
   "outputs": [
    {
     "name": "stdout",
     "output_type": "stream",
     "text": [
      "471839\n",
      "7432\n"
     ]
    }
   ],
   "source": [
    "print(df.shape[0])\n",
    "print(df.drop_duplicates(subset=[\"Sale\", \"Qta\"]).shape[0])"
   ]
  },
  {
   "cell_type": "markdown",
   "metadata": {},
   "source": [
    "We can drastically reduce the number of elements to apply the clustering algorithm on by just removing duplicates."
   ]
  },
  {
   "cell_type": "code",
   "execution_count": 85,
   "metadata": {},
   "outputs": [],
   "source": [
    "cluster_df = df.drop_duplicates(subset=[\"Sale\", \"Qta\"]).copy()\n",
    "cluster_sample = cluster_df[[\"Sale\", \"Qta\"]].values"
   ]
  },
  {
   "cell_type": "code",
   "execution_count": 86,
   "metadata": {},
   "outputs": [],
   "source": [
    "scaler = StandardScaler()\n",
    "scaler.fit(cluster_sample)\n",
    "norm_sample = scaler.transform(cluster_sample)"
   ]
  },
  {
   "cell_type": "markdown",
   "metadata": {},
   "source": [
    "Let's first normalize the values."
   ]
  },
  {
   "cell_type": "code",
   "execution_count": 87,
   "metadata": {},
   "outputs": [
    {
     "name": "stdout",
     "output_type": "stream",
     "text": [
      "Number of outliers among the unique data points: 12\n"
     ]
    }
   ],
   "source": [
    "from sklearn.cluster import DBSCAN\n",
    "\n",
    "outlier_detection = DBSCAN(min_samples = 3, eps = 0.4) #4.3\n",
    "clusters = outlier_detection.fit_predict(norm_sample)\n",
    "print(f\"Number of outliers among the unique data points: {list(clusters).count(-1)}\")\n",
    "\n",
    "cluster_series = pd.Series(data=clusters, index=cluster_df.index)\n",
    "cluster_outliers = cluster_series.transform(lambda x: 1 if x == -1 else 0)\n",
    "\n",
    "cluster_df[\"Outlier\"] = cluster_outliers"
   ]
  },
  {
   "cell_type": "code",
   "execution_count": 88,
   "metadata": {},
   "outputs": [
    {
     "data": {
      "image/png": "[encoded data removed]",
      "text/plain": [
       "<Figure size 1440x360 with 2 Axes>"
      ]
     },
     "metadata": {
      "needs_background": "light"
     },
     "output_type": "display_data"
    }
   ],
   "source": [
    "outlier_df = cluster_df.loc[cluster_df[\"Outlier\"] == 1]\n",
    "\n",
    "fig = plt.figure(figsize=(20, 5)) \n",
    "fig_dims = (1, 2)\n",
    "fig.subplots_adjust(hspace=0.2, wspace=0.2)\n",
    "\n",
    "plt.subplot2grid(fig_dims, (0, 0))\n",
    "plt.title(\"Dataset with outliers\")\n",
    "plt.scatter(df[\"Sale\"], df[\"Qta\"], color=\"g\", marker='*', label='Standard')\n",
    "plt.xlabel(\"Sale\")\n",
    "plt.ylabel(\"Qta\")\n",
    "\n",
    "plt.subplot2grid(fig_dims, (0, 1))\n",
    "plt.title(\"Outliers\")\n",
    "plt.scatter(outlier_df[\"Sale\"], outlier_df[\"Qta\"], color=\"g\", marker='*', label='Standard')\n",
    "plt.xlabel(\"Sale\")\n",
    "plt.ylabel(\"Qta\")\n",
    "\n",
    "plt.show()"
   ]
  },
  {
   "cell_type": "markdown",
   "metadata": {},
   "source": [
    "This approach's result more closely matches our expectations of which data points are outliers.  \n",
    "(TODO: could be useful to also take into account BasketDate)"
   ]
  },
  {
   "cell_type": "code",
   "execution_count": 89,
   "metadata": {},
   "outputs": [
    {
     "name": "stdout",
     "output_type": "stream",
     "text": [
      "The number of total outliers in the dataset is: 13\n"
     ]
    }
   ],
   "source": [
    "outlier_tuples = outlier_df[[\"Sale\", \"Qta\"]].to_numpy()\n",
    "#A list consisting of the outlier couples (Sale,Qta)\n",
    "outlier_list = list(zip(outlier_df[\"Sale\"].to_numpy(), outlier_df[\"Qta\"].to_numpy()))\n",
    "\n",
    "df_wo_out_clustering = \\\n",
    "    df.groupby([\"Sale\", \"Qta\"]).filter(lambda x: not((x[\"Sale\"].to_numpy()[0], x[\"Qta\"].to_numpy()[0]) in outlier_list)).copy()\n",
    "\n",
    "print(f'The number of total outliers in the dataset is: {df.shape[0]-df_wo_out_clustering.shape[0]}')"
   ]
  },
  {
   "cell_type": "markdown",
   "metadata": {},
   "source": [
    "Remove all of the data points in which the couple (\"Sale\", \"Qta\") is included in the list of couples that identify outliers."
   ]
  },
  {
   "cell_type": "markdown",
   "metadata": {},
   "source": [
    "## Outlier removal\n",
    "Using the Clustering results."
   ]
  },
  {
   "cell_type": "code",
   "execution_count": 90,
   "metadata": {},
   "outputs": [],
   "source": [
    "df_wo_out = df_wo_out_clustering\n",
    "df_w_out = df"
   ]
  },
  {
   "cell_type": "markdown",
   "metadata": {},
   "source": [
    "We will keep both dataframes (with and without outliers) to compare the results."
   ]
  },
  {
   "cell_type": "markdown",
   "metadata": {},
   "source": [
    "## Customer features"
   ]
  },
  {
   "cell_type": "markdown",
   "metadata": {},
   "source": [
    "Let's define some new features to be used for customer analysis."
   ]
  },
  {
   "cell_type": "code",
   "execution_count": 91,
   "metadata": {},
   "outputs": [],
   "source": [
    "def add_features(dest_df, source_df):\n",
    "\n",
    "#Required features\n",
    "\n",
    "    #Modify the data frame locally\n",
    "    source_df = source_df.copy()\n",
    "    \n",
    "    #Additional useful data for features\n",
    "    source_df[\"DateYear\"] = source_df[\"BasketDate\"].dt.year\n",
    "    source_df[\"DateMonth\"] = source_df[\"BasketDate\"].dt.month\n",
    "    source_df[\"DateDay\"] = source_df[\"BasketDate\"].dt.day\n",
    "    source_df[\"DateWeekDay\"] = source_df[\"BasketDate\"].dt.weekday\n",
    "    \n",
    "    #Split the dataset into positive Qta and negative Qta in order to simplify notation\n",
    "    #Note 1: CustomerID null are filtered out by groupby.\n",
    "    pos_df = source_df.loc[source_df[\"Qta\"] > 0]\n",
    "    neg_df = source_df.loc[source_df[\"Qta\"] < 0]\n",
    "    \n",
    "    #Total number of items bought by customer\n",
    "    # Since we cannot create a clear association between the refunds and purchases,\n",
    "    #  we decided to not include the negative Qta entries (type C) in this feature.\n",
    "    # The negative Qtas will be considered in a separate feature. \n",
    "    IFeature = pos_df.groupby([\"CustomerID\"]).Qta.sum()\n",
    "    dest_df = dest_df.merge(IFeature, on=\"CustomerID\").rename(columns={\"Qta\":\"I\"})\n",
    "\n",
    "    #Total number of unique items bought by customer\n",
    "    #As seen in the Qta section, we need to limit the counting to the positive Qta entries,\n",
    "    # otherwise we also will count some entries for which there is no recorded purchase entry.\n",
    "    IuFeature = pos_df.groupby([\"CustomerID\"]).ProdID.nunique()\n",
    "    dest_df = dest_df.join(IuFeature, on=\"CustomerID\").rename(columns={\"ProdID\":\"Iu\"})\n",
    "\n",
    "    #Max number of item bought by customer across all shopping sessions\n",
    "    BasketIDQtaSum = pos_df.groupby([\"CustomerID\", \"BasketID\"]).Qta.sum()\n",
    "    ImaxFeature = BasketIDQtaSum.groupby([\"CustomerID\"]).max()\n",
    "    dest_df = dest_df.join(ImaxFeature, on=\"CustomerID\").rename(columns={\"Qta\":\"Imax\"})\n",
    "    \n",
    "    #The Shannon entropy on the purchasing behaviour of the customer: types of items bought\n",
    "    #Since we are assuming that the type C BasketID entries are a generic cost associated to a CustomerID,\n",
    "    # we can ignore them for the purpouse of computing the entropy since they might refer to a ProdID that cannot\n",
    "    # be bought Ie AMAZONFEE\n",
    "    \n",
    "    probSeriesGrouped = pos_df.groupby([\"CustomerID\"])\\\n",
    "            .apply(lambda x: x.groupby([\"ProdID\"])[\"Qta\"].sum()/x[\"Qta\"].sum())\n",
    "    logSeriesGrouped = np.log2(probSeriesGrouped)\n",
    "    ProdProbLogSeriesGrouped = -1 * probSeriesGrouped * logSeriesGrouped\n",
    "    EFeature = ProdProbLogSeriesGrouped.groupby([\"CustomerID\"]).sum()\n",
    "    EFeature = EFeature.fillna(0)\n",
    "    EFeature.name = \"Eproduct\"\n",
    "    dest_df = dest_df.join(EFeature, on=\"CustomerID\")\n",
    "\n",
    "#Additional features\n",
    "\n",
    "    #Average total revenue per month\n",
    "    #Revenue doesn't take into account the costs (negative Qta)\n",
    "    tot_revenue_cust = pos_df.groupby([\"CustomerID\"]).apply(lambda x: (x[\"Sale\"]*x[\"Qta\"]).sum())\n",
    "    n_month_cust = pos_df.groupby([\"CustomerID\"]).apply(lambda x: x.groupby([\"DateYear\", \"DateMonth\"]).ngroups)\n",
    "    AvgFeature = tot_revenue_cust/n_month_cust\n",
    "    AvgFeature.name = \"AvgRevenueMonth\"\n",
    "    dest_df = dest_df.join(AvgFeature, on=\"CustomerID\")\n",
    "    \n",
    "    #Average total costs per month\n",
    "    #Note: since the entries with costs are a small amount compared to all the others,\n",
    "    # some customers will have NaN as value. We will replace it with 0.\n",
    "    tot_costs_cust = neg_df.groupby([\"CustomerID\"]).apply(lambda x: (x[\"Sale\"]*x[\"Qta\"]).sum())\n",
    "    n_month_cust = neg_df.groupby([\"CustomerID\"]).apply(lambda x: x.groupby([\"DateYear\", \"DateMonth\"]).ngroups)\n",
    "    AvgFeature = (tot_costs_cust/n_month_cust).abs()\n",
    "    AvgFeature.name = \"AvgCostsMonth\"\n",
    "    dest_df = dest_df.join(AvgFeature, on=\"CustomerID\")\n",
    "    dest_df[\"AvgCostsMonth\"] = dest_df[\"AvgCostsMonth\"].fillna(0)\n",
    "\n",
    "    #Average customer shopping sessions per month\n",
    "    #We are interested in finding out about the habits of a customer and given the percentage\n",
    "    # of type C entries compared to standard ones it seems to us that costs are an unusual event\n",
    "    # rather than the norm. Therefore we exclude the type C entries from our definition of shopping session.\n",
    "    tot_sessions_cust = pos_df.groupby([\"CustomerID\"]).apply(lambda x: x[\"BasketID\"].nunique())\n",
    "    n_month_cust = pos_df.groupby([\"CustomerID\"]).apply(lambda x: x.groupby([\"DateYear\", \"DateMonth\"]).ngroups)\n",
    "    AvgFeature = tot_sessions_cust/n_month_cust\n",
    "    AvgFeature.name = \"AvgSessionsMonth\"\n",
    "    dest_df = dest_df.join(AvgFeature, on=\"CustomerID\")\n",
    "\n",
    "    #The Shannon entropy on the purchasing behaviour of the customer: days of the week of shopping\n",
    "    #Justification for type C entries same as for other entropy related feature.\n",
    "    probSeriesGrouped = pos_df.groupby([\"CustomerID\"])\\\n",
    "        .apply(lambda x: x.groupby([\"DateWeekDay\"])[\"BasketID\"].nunique()/x[\"BasketID\"].nunique())\n",
    "    logSeriesGrouped = np.log2(probSeriesGrouped)\n",
    "    ProdProbLogSeriesGrouped = -1 * probSeriesGrouped * logSeriesGrouped\n",
    "    EFeature = ProdProbLogSeriesGrouped.groupby([\"CustomerID\"]).sum()\n",
    "    EFeature.name = \"Eweekday\"\n",
    "    dest_df = dest_df.join(EFeature, on=\"CustomerID\")\n",
    "    \n",
    "    return dest_df"
   ]
  },
  {
   "cell_type": "markdown",
   "metadata": {},
   "source": [
    "Apply the new features to both the dataset with and without outliers."
   ]
  },
  {
   "cell_type": "code",
   "execution_count": 92,
   "metadata": {},
   "outputs": [],
   "source": [
    "unq_cust_id = df_w_out[\"CustomerID\"].sort_values().unique()[0:-1] #Remove NaN value, last value\n",
    "cust_df_w_out = pd.DataFrame(data=unq_cust_id, columns=[\"CustomerID\"]) #Dataframe containing customer features with outliers\n",
    "\n",
    "unq_cust_id = df_wo_out[\"CustomerID\"].sort_values().unique()[0:-1] #Remove NaN value, last value\n",
    "cust_df_wo_out = pd.DataFrame(data=unq_cust_id, columns=[\"CustomerID\"]) #Dataframe containing customer features without outliers\n",
    "\n",
    "cust_df_w_out[\"CustomerID\"] = cust_df_w_out[\"CustomerID\"].astype(\"object\")\n",
    "cust_df_wo_out[\"CustomerID\"] = cust_df_wo_out[\"CustomerID\"].astype(\"object\")\n",
    "\n",
    "cust_df_w_out = add_features(cust_df_w_out, df_w_out)\n",
    "cust_df_wo_out = add_features(cust_df_wo_out, df_wo_out)"
   ]
  },
  {
   "cell_type": "markdown",
   "metadata": {},
   "source": [
    "## Feature analysis"
   ]
  },
  {
   "cell_type": "markdown",
   "metadata": {},
   "source": [
    "### General"
   ]
  },
  {
   "cell_type": "code",
   "execution_count": 93,
   "metadata": {},
   "outputs": [
    {
     "data": {
      "text/html": [
       "<div>\n",
       "<style scoped>\n",
       "    .dataframe tbody tr th:only-of-type {\n",
       "        vertical-align: middle;\n",
       "    }\n",
       "\n",
       "    .dataframe tbody tr th {\n",
       "        vertical-align: top;\n",
       "    }\n",
       "\n",
       "    .dataframe thead th {\n",
       "        text-align: right;\n",
       "    }\n",
       "</style>\n",
       "<table border=\"1\" class=\"dataframe\">\n",
       "  <thead>\n",
       "    <tr style=\"text-align: right;\">\n",
       "      <th></th>\n",
       "      <th>I</th>\n",
       "      <th>Iu</th>\n",
       "      <th>Imax</th>\n",
       "      <th>Eproduct</th>\n",
       "      <th>AvgRevenueMonth</th>\n",
       "      <th>AvgCostsMonth</th>\n",
       "      <th>AvgSessionsMonth</th>\n",
       "      <th>Eweekday</th>\n",
       "    </tr>\n",
       "  </thead>\n",
       "  <tbody>\n",
       "    <tr>\n",
       "      <th>count</th>\n",
       "      <td>4339.000000</td>\n",
       "      <td>4339.000000</td>\n",
       "      <td>4339.000000</td>\n",
       "      <td>4339.000000</td>\n",
       "      <td>4339.000000</td>\n",
       "      <td>4339.000000</td>\n",
       "      <td>4339.000000</td>\n",
       "      <td>4339.000000</td>\n",
       "    </tr>\n",
       "    <tr>\n",
       "      <th>mean</th>\n",
       "      <td>1194.214566</td>\n",
       "      <td>61.489283</td>\n",
       "      <td>407.251901</td>\n",
       "      <td>4.462857</td>\n",
       "      <td>534.889846</td>\n",
       "      <td>98.944054</td>\n",
       "      <td>1.215579</td>\n",
       "      <td>0.934523</td>\n",
       "    </tr>\n",
       "    <tr>\n",
       "      <th>std</th>\n",
       "      <td>5055.603014</td>\n",
       "      <td>85.363900</td>\n",
       "      <td>1802.902037</td>\n",
       "      <td>1.661554</td>\n",
       "      <td>2039.584922</td>\n",
       "      <td>2900.936743</td>\n",
       "      <td>0.542591</td>\n",
       "      <td>0.862787</td>\n",
       "    </tr>\n",
       "    <tr>\n",
       "      <th>min</th>\n",
       "      <td>1.000000</td>\n",
       "      <td>1.000000</td>\n",
       "      <td>1.000000</td>\n",
       "      <td>0.000000</td>\n",
       "      <td>3.450000</td>\n",
       "      <td>0.000000</td>\n",
       "      <td>1.000000</td>\n",
       "      <td>0.000000</td>\n",
       "    </tr>\n",
       "    <tr>\n",
       "      <th>25%</th>\n",
       "      <td>160.000000</td>\n",
       "      <td>16.000000</td>\n",
       "      <td>121.000000</td>\n",
       "      <td>3.452072</td>\n",
       "      <td>196.605000</td>\n",
       "      <td>0.000000</td>\n",
       "      <td>1.000000</td>\n",
       "      <td>0.000000</td>\n",
       "    </tr>\n",
       "    <tr>\n",
       "      <th>50%</th>\n",
       "      <td>379.000000</td>\n",
       "      <td>35.000000</td>\n",
       "      <td>225.000000</td>\n",
       "      <td>4.593659</td>\n",
       "      <td>327.473333</td>\n",
       "      <td>0.000000</td>\n",
       "      <td>1.000000</td>\n",
       "      <td>1.000000</td>\n",
       "    </tr>\n",
       "    <tr>\n",
       "      <th>75%</th>\n",
       "      <td>993.000000</td>\n",
       "      <td>77.000000</td>\n",
       "      <td>408.000000</td>\n",
       "      <td>5.639521</td>\n",
       "      <td>520.664444</td>\n",
       "      <td>12.500000</td>\n",
       "      <td>1.285714</td>\n",
       "      <td>1.584963</td>\n",
       "    </tr>\n",
       "    <tr>\n",
       "      <th>max</th>\n",
       "      <td>197491.000000</td>\n",
       "      <td>1787.000000</td>\n",
       "      <td>80995.000000</td>\n",
       "      <td>9.575731</td>\n",
       "      <td>84236.250000</td>\n",
       "      <td>168469.600000</td>\n",
       "      <td>17.000000</td>\n",
       "      <td>2.770951</td>\n",
       "    </tr>\n",
       "  </tbody>\n",
       "</table>\n",
       "</div>"
      ],
      "text/plain": [
       "                   I           Iu          Imax     Eproduct  AvgRevenueMonth  \\\n",
       "count    4339.000000  4339.000000   4339.000000  4339.000000      4339.000000   \n",
       "mean     1194.214566    61.489283    407.251901     4.462857       534.889846   \n",
       "std      5055.603014    85.363900   1802.902037     1.661554      2039.584922   \n",
       "min         1.000000     1.000000      1.000000     0.000000         3.450000   \n",
       "25%       160.000000    16.000000    121.000000     3.452072       196.605000   \n",
       "50%       379.000000    35.000000    225.000000     4.593659       327.473333   \n",
       "75%       993.000000    77.000000    408.000000     5.639521       520.664444   \n",
       "max    197491.000000  1787.000000  80995.000000     9.575731     84236.250000   \n",
       "\n",
       "       AvgCostsMonth  AvgSessionsMonth     Eweekday  \n",
       "count    4339.000000       4339.000000  4339.000000  \n",
       "mean       98.944054          1.215579     0.934523  \n",
       "std      2900.936743          0.542591     0.862787  \n",
       "min         0.000000          1.000000     0.000000  \n",
       "25%         0.000000          1.000000     0.000000  \n",
       "50%         0.000000          1.000000     1.000000  \n",
       "75%        12.500000          1.285714     1.584963  \n",
       "max    168469.600000         17.000000     2.770951  "
      ]
     },
     "execution_count": 93,
     "metadata": {},
     "output_type": "execute_result"
    }
   ],
   "source": [
    "cust_df_w_out.describe()"
   ]
  },
  {
   "cell_type": "code",
   "execution_count": 94,
   "metadata": {},
   "outputs": [
    {
     "data": {
      "text/html": [
       "<div>\n",
       "<style scoped>\n",
       "    .dataframe tbody tr th:only-of-type {\n",
       "        vertical-align: middle;\n",
       "    }\n",
       "\n",
       "    .dataframe tbody tr th {\n",
       "        vertical-align: top;\n",
       "    }\n",
       "\n",
       "    .dataframe thead th {\n",
       "        text-align: right;\n",
       "    }\n",
       "</style>\n",
       "<table border=\"1\" class=\"dataframe\">\n",
       "  <thead>\n",
       "    <tr style=\"text-align: right;\">\n",
       "      <th></th>\n",
       "      <th>I</th>\n",
       "      <th>Iu</th>\n",
       "      <th>Imax</th>\n",
       "      <th>Eproduct</th>\n",
       "      <th>AvgRevenueMonth</th>\n",
       "      <th>AvgCostsMonth</th>\n",
       "      <th>AvgSessionsMonth</th>\n",
       "      <th>Eweekday</th>\n",
       "    </tr>\n",
       "  </thead>\n",
       "  <tbody>\n",
       "    <tr>\n",
       "      <th>count</th>\n",
       "      <td>4337.000000</td>\n",
       "      <td>4337.000000</td>\n",
       "      <td>4337.000000</td>\n",
       "      <td>4337.000000</td>\n",
       "      <td>4337.000000</td>\n",
       "      <td>4337.000000</td>\n",
       "      <td>4337.000000</td>\n",
       "      <td>4337.000000</td>\n",
       "    </tr>\n",
       "    <tr>\n",
       "      <th>mean</th>\n",
       "      <td>1156.086465</td>\n",
       "      <td>61.516947</td>\n",
       "      <td>368.761356</td>\n",
       "      <td>4.465145</td>\n",
       "      <td>495.460247</td>\n",
       "      <td>33.331891</td>\n",
       "      <td>1.215678</td>\n",
       "      <td>0.934723</td>\n",
       "    </tr>\n",
       "    <tr>\n",
       "      <th>std</th>\n",
       "      <td>4779.292580</td>\n",
       "      <td>85.373856</td>\n",
       "      <td>680.013081</td>\n",
       "      <td>1.658619</td>\n",
       "      <td>1079.814724</td>\n",
       "      <td>390.933961</td>\n",
       "      <td>0.542696</td>\n",
       "      <td>0.862869</td>\n",
       "    </tr>\n",
       "    <tr>\n",
       "      <th>min</th>\n",
       "      <td>1.000000</td>\n",
       "      <td>1.000000</td>\n",
       "      <td>1.000000</td>\n",
       "      <td>0.000000</td>\n",
       "      <td>2.900000</td>\n",
       "      <td>0.000000</td>\n",
       "      <td>1.000000</td>\n",
       "      <td>0.000000</td>\n",
       "    </tr>\n",
       "    <tr>\n",
       "      <th>25%</th>\n",
       "      <td>160.000000</td>\n",
       "      <td>16.000000</td>\n",
       "      <td>121.000000</td>\n",
       "      <td>3.453489</td>\n",
       "      <td>196.302000</td>\n",
       "      <td>0.000000</td>\n",
       "      <td>1.000000</td>\n",
       "      <td>0.000000</td>\n",
       "    </tr>\n",
       "    <tr>\n",
       "      <th>50%</th>\n",
       "      <td>379.000000</td>\n",
       "      <td>35.000000</td>\n",
       "      <td>224.000000</td>\n",
       "      <td>4.595984</td>\n",
       "      <td>327.300000</td>\n",
       "      <td>0.000000</td>\n",
       "      <td>1.000000</td>\n",
       "      <td>1.000000</td>\n",
       "    </tr>\n",
       "    <tr>\n",
       "      <th>75%</th>\n",
       "      <td>991.000000</td>\n",
       "      <td>77.000000</td>\n",
       "      <td>408.000000</td>\n",
       "      <td>5.640302</td>\n",
       "      <td>520.126667</td>\n",
       "      <td>12.450000</td>\n",
       "      <td>1.285714</td>\n",
       "      <td>1.584963</td>\n",
       "    </tr>\n",
       "    <tr>\n",
       "      <th>max</th>\n",
       "      <td>197491.000000</td>\n",
       "      <td>1787.000000</td>\n",
       "      <td>15049.000000</td>\n",
       "      <td>9.575731</td>\n",
       "      <td>39916.500000</td>\n",
       "      <td>22998.400000</td>\n",
       "      <td>17.000000</td>\n",
       "      <td>2.770951</td>\n",
       "    </tr>\n",
       "  </tbody>\n",
       "</table>\n",
       "</div>"
      ],
      "text/plain": [
       "                   I           Iu          Imax     Eproduct  AvgRevenueMonth  \\\n",
       "count    4337.000000  4337.000000   4337.000000  4337.000000      4337.000000   \n",
       "mean     1156.086465    61.516947    368.761356     4.465145       495.460247   \n",
       "std      4779.292580    85.373856    680.013081     1.658619      1079.814724   \n",
       "min         1.000000     1.000000      1.000000     0.000000         2.900000   \n",
       "25%       160.000000    16.000000    121.000000     3.453489       196.302000   \n",
       "50%       379.000000    35.000000    224.000000     4.595984       327.300000   \n",
       "75%       991.000000    77.000000    408.000000     5.640302       520.126667   \n",
       "max    197491.000000  1787.000000  15049.000000     9.575731     39916.500000   \n",
       "\n",
       "       AvgCostsMonth  AvgSessionsMonth     Eweekday  \n",
       "count    4337.000000       4337.000000  4337.000000  \n",
       "mean       33.331891          1.215678     0.934723  \n",
       "std       390.933961          0.542696     0.862869  \n",
       "min         0.000000          1.000000     0.000000  \n",
       "25%         0.000000          1.000000     0.000000  \n",
       "50%         0.000000          1.000000     1.000000  \n",
       "75%        12.450000          1.285714     1.584963  \n",
       "max     22998.400000         17.000000     2.770951  "
      ]
     },
     "execution_count": 94,
     "metadata": {},
     "output_type": "execute_result"
    }
   ],
   "source": [
    "cust_df_wo_out.describe()"
   ]
  },
  {
   "cell_type": "code",
   "execution_count": 95,
   "metadata": {},
   "outputs": [
    {
     "data": {
      "image/png": "[encoded data removed]",
      "text/plain": [
       "<Figure size 720x720 with 64 Axes>"
      ]
     },
     "metadata": {
      "needs_background": "light"
     },
     "output_type": "display_data"
    }
   ],
   "source": [
    "pd.plotting.scatter_matrix(cust_df_w_out, figsize=(10,10))\n",
    "plt.show()"
   ]
  },
  {
   "cell_type": "code",
   "execution_count": 96,
   "metadata": {},
   "outputs": [
    {
     "data": {
      "image/png": "[encoded data removed]",
      "text/plain": [
       "<Figure size 720x720 with 64 Axes>"
      ]
     },
     "metadata": {
      "needs_background": "light"
     },
     "output_type": "display_data"
    }
   ],
   "source": [
    "pd.plotting.scatter_matrix(cust_df_wo_out, figsize=(10,10))\n",
    "plt.show()"
   ]
  },
  {
   "cell_type": "markdown",
   "metadata": {},
   "source": [
    "Interestingly enough Eproduct seems to follow a normal distribution in both situations."
   ]
  },
  {
   "cell_type": "markdown",
   "metadata": {},
   "source": [
    "### Correlations"
   ]
  },
  {
   "cell_type": "code",
   "execution_count": 97,
   "metadata": {},
   "outputs": [
    {
     "data": {
      "text/html": [
       "<div>\n",
       "<style scoped>\n",
       "    .dataframe tbody tr th:only-of-type {\n",
       "        vertical-align: middle;\n",
       "    }\n",
       "\n",
       "    .dataframe tbody tr th {\n",
       "        vertical-align: top;\n",
       "    }\n",
       "\n",
       "    .dataframe thead th {\n",
       "        text-align: right;\n",
       "    }\n",
       "</style>\n",
       "<table border=\"1\" class=\"dataframe\">\n",
       "  <thead>\n",
       "    <tr style=\"text-align: right;\">\n",
       "      <th></th>\n",
       "      <th>I</th>\n",
       "      <th>Iu</th>\n",
       "      <th>Imax</th>\n",
       "      <th>Eproduct</th>\n",
       "      <th>AvgRevenueMonth</th>\n",
       "      <th>AvgCostsMonth</th>\n",
       "      <th>AvgSessionsMonth</th>\n",
       "      <th>Eweekday</th>\n",
       "    </tr>\n",
       "  </thead>\n",
       "  <tbody>\n",
       "    <tr>\n",
       "      <th>I</th>\n",
       "      <td>1.000000</td>\n",
       "      <td>0.000000</td>\n",
       "      <td>0.579503</td>\n",
       "      <td>0.000000</td>\n",
       "      <td>0.581485</td>\n",
       "      <td>0.000000</td>\n",
       "      <td>0.0</td>\n",
       "      <td>0.000000</td>\n",
       "    </tr>\n",
       "    <tr>\n",
       "      <th>Iu</th>\n",
       "      <td>0.000000</td>\n",
       "      <td>1.000000</td>\n",
       "      <td>0.000000</td>\n",
       "      <td>0.677307</td>\n",
       "      <td>0.000000</td>\n",
       "      <td>0.000000</td>\n",
       "      <td>0.0</td>\n",
       "      <td>0.000000</td>\n",
       "    </tr>\n",
       "    <tr>\n",
       "      <th>Imax</th>\n",
       "      <td>0.579503</td>\n",
       "      <td>0.000000</td>\n",
       "      <td>1.000000</td>\n",
       "      <td>0.000000</td>\n",
       "      <td>0.916144</td>\n",
       "      <td>0.864564</td>\n",
       "      <td>0.0</td>\n",
       "      <td>0.000000</td>\n",
       "    </tr>\n",
       "    <tr>\n",
       "      <th>Eproduct</th>\n",
       "      <td>0.000000</td>\n",
       "      <td>0.677307</td>\n",
       "      <td>0.000000</td>\n",
       "      <td>1.000000</td>\n",
       "      <td>0.000000</td>\n",
       "      <td>0.000000</td>\n",
       "      <td>0.0</td>\n",
       "      <td>0.526303</td>\n",
       "    </tr>\n",
       "    <tr>\n",
       "      <th>AvgRevenueMonth</th>\n",
       "      <td>0.581485</td>\n",
       "      <td>0.000000</td>\n",
       "      <td>0.916144</td>\n",
       "      <td>0.000000</td>\n",
       "      <td>1.000000</td>\n",
       "      <td>0.868869</td>\n",
       "      <td>0.0</td>\n",
       "      <td>0.000000</td>\n",
       "    </tr>\n",
       "    <tr>\n",
       "      <th>AvgCostsMonth</th>\n",
       "      <td>0.000000</td>\n",
       "      <td>0.000000</td>\n",
       "      <td>0.864564</td>\n",
       "      <td>0.000000</td>\n",
       "      <td>0.868869</td>\n",
       "      <td>1.000000</td>\n",
       "      <td>0.0</td>\n",
       "      <td>0.000000</td>\n",
       "    </tr>\n",
       "    <tr>\n",
       "      <th>AvgSessionsMonth</th>\n",
       "      <td>0.000000</td>\n",
       "      <td>0.000000</td>\n",
       "      <td>0.000000</td>\n",
       "      <td>0.000000</td>\n",
       "      <td>0.000000</td>\n",
       "      <td>0.000000</td>\n",
       "      <td>1.0</td>\n",
       "      <td>0.000000</td>\n",
       "    </tr>\n",
       "    <tr>\n",
       "      <th>Eweekday</th>\n",
       "      <td>0.000000</td>\n",
       "      <td>0.000000</td>\n",
       "      <td>0.000000</td>\n",
       "      <td>0.526303</td>\n",
       "      <td>0.000000</td>\n",
       "      <td>0.000000</td>\n",
       "      <td>0.0</td>\n",
       "      <td>1.000000</td>\n",
       "    </tr>\n",
       "  </tbody>\n",
       "</table>\n",
       "</div>"
      ],
      "text/plain": [
       "                         I        Iu      Imax  Eproduct  AvgRevenueMonth  \\\n",
       "I                 1.000000  0.000000  0.579503  0.000000         0.581485   \n",
       "Iu                0.000000  1.000000  0.000000  0.677307         0.000000   \n",
       "Imax              0.579503  0.000000  1.000000  0.000000         0.916144   \n",
       "Eproduct          0.000000  0.677307  0.000000  1.000000         0.000000   \n",
       "AvgRevenueMonth   0.581485  0.000000  0.916144  0.000000         1.000000   \n",
       "AvgCostsMonth     0.000000  0.000000  0.864564  0.000000         0.868869   \n",
       "AvgSessionsMonth  0.000000  0.000000  0.000000  0.000000         0.000000   \n",
       "Eweekday          0.000000  0.000000  0.000000  0.526303         0.000000   \n",
       "\n",
       "                  AvgCostsMonth  AvgSessionsMonth  Eweekday  \n",
       "I                      0.000000               0.0  0.000000  \n",
       "Iu                     0.000000               0.0  0.000000  \n",
       "Imax                   0.864564               0.0  0.000000  \n",
       "Eproduct               0.000000               0.0  0.526303  \n",
       "AvgRevenueMonth        0.868869               0.0  0.000000  \n",
       "AvgCostsMonth          1.000000               0.0  0.000000  \n",
       "AvgSessionsMonth       0.000000               1.0  0.000000  \n",
       "Eweekday               0.000000               0.0  1.000000  "
      ]
     },
     "execution_count": 97,
     "metadata": {},
     "output_type": "execute_result"
    }
   ],
   "source": [
    "#Display correlations that have an absolute value greater than threshold\n",
    "corr_w_out = cust_df_w_out.corr()\n",
    "\n",
    "threshold = 0.5\n",
    "\n",
    "for col in corr_w_out.columns:\n",
    "    corr_w_out[col] = corr_w_out[col].transform(lambda x: x if abs(x)>threshold else 0)\n",
    "\n",
    "corr_w_out"
   ]
  },
  {
   "cell_type": "markdown",
   "metadata": {},
   "source": [
    "Considering the outliers, we have a strong correlation between the maximum number of items bought in a single order by a customer and the average revenue per month.  \n",
    "Other potentially interesting correlations are the ones between the average revenue and average costs, and between Imax and average costs.  \n",
    "Note however that keeping these features with high correlations can be detrimental for the task of clustering."
   ]
  },
  {
   "cell_type": "code",
   "execution_count": 98,
   "metadata": {},
   "outputs": [
    {
     "data": {
      "text/html": [
       "<div>\n",
       "<style scoped>\n",
       "    .dataframe tbody tr th:only-of-type {\n",
       "        vertical-align: middle;\n",
       "    }\n",
       "\n",
       "    .dataframe tbody tr th {\n",
       "        vertical-align: top;\n",
       "    }\n",
       "\n",
       "    .dataframe thead th {\n",
       "        text-align: right;\n",
       "    }\n",
       "</style>\n",
       "<table border=\"1\" class=\"dataframe\">\n",
       "  <thead>\n",
       "    <tr style=\"text-align: right;\">\n",
       "      <th></th>\n",
       "      <th>I</th>\n",
       "      <th>Iu</th>\n",
       "      <th>Imax</th>\n",
       "      <th>Eproduct</th>\n",
       "      <th>AvgRevenueMonth</th>\n",
       "      <th>AvgCostsMonth</th>\n",
       "      <th>AvgSessionsMonth</th>\n",
       "      <th>Eweekday</th>\n",
       "    </tr>\n",
       "  </thead>\n",
       "  <tbody>\n",
       "    <tr>\n",
       "      <th>I</th>\n",
       "      <td>1.000000</td>\n",
       "      <td>0.00000</td>\n",
       "      <td>0.776989</td>\n",
       "      <td>0.000000</td>\n",
       "      <td>0.608341</td>\n",
       "      <td>0.0</td>\n",
       "      <td>0.0</td>\n",
       "      <td>0.000000</td>\n",
       "    </tr>\n",
       "    <tr>\n",
       "      <th>Iu</th>\n",
       "      <td>0.000000</td>\n",
       "      <td>1.00000</td>\n",
       "      <td>0.000000</td>\n",
       "      <td>0.677770</td>\n",
       "      <td>0.000000</td>\n",
       "      <td>0.0</td>\n",
       "      <td>0.0</td>\n",
       "      <td>0.000000</td>\n",
       "    </tr>\n",
       "    <tr>\n",
       "      <th>Imax</th>\n",
       "      <td>0.776989</td>\n",
       "      <td>0.00000</td>\n",
       "      <td>1.000000</td>\n",
       "      <td>0.000000</td>\n",
       "      <td>0.653974</td>\n",
       "      <td>0.0</td>\n",
       "      <td>0.0</td>\n",
       "      <td>0.000000</td>\n",
       "    </tr>\n",
       "    <tr>\n",
       "      <th>Eproduct</th>\n",
       "      <td>0.000000</td>\n",
       "      <td>0.67777</td>\n",
       "      <td>0.000000</td>\n",
       "      <td>1.000000</td>\n",
       "      <td>0.000000</td>\n",
       "      <td>0.0</td>\n",
       "      <td>0.0</td>\n",
       "      <td>0.526652</td>\n",
       "    </tr>\n",
       "    <tr>\n",
       "      <th>AvgRevenueMonth</th>\n",
       "      <td>0.608341</td>\n",
       "      <td>0.00000</td>\n",
       "      <td>0.653974</td>\n",
       "      <td>0.000000</td>\n",
       "      <td>1.000000</td>\n",
       "      <td>0.0</td>\n",
       "      <td>0.0</td>\n",
       "      <td>0.000000</td>\n",
       "    </tr>\n",
       "    <tr>\n",
       "      <th>AvgCostsMonth</th>\n",
       "      <td>0.000000</td>\n",
       "      <td>0.00000</td>\n",
       "      <td>0.000000</td>\n",
       "      <td>0.000000</td>\n",
       "      <td>0.000000</td>\n",
       "      <td>1.0</td>\n",
       "      <td>0.0</td>\n",
       "      <td>0.000000</td>\n",
       "    </tr>\n",
       "    <tr>\n",
       "      <th>AvgSessionsMonth</th>\n",
       "      <td>0.000000</td>\n",
       "      <td>0.00000</td>\n",
       "      <td>0.000000</td>\n",
       "      <td>0.000000</td>\n",
       "      <td>0.000000</td>\n",
       "      <td>0.0</td>\n",
       "      <td>1.0</td>\n",
       "      <td>0.000000</td>\n",
       "    </tr>\n",
       "    <tr>\n",
       "      <th>Eweekday</th>\n",
       "      <td>0.000000</td>\n",
       "      <td>0.00000</td>\n",
       "      <td>0.000000</td>\n",
       "      <td>0.526652</td>\n",
       "      <td>0.000000</td>\n",
       "      <td>0.0</td>\n",
       "      <td>0.0</td>\n",
       "      <td>1.000000</td>\n",
       "    </tr>\n",
       "  </tbody>\n",
       "</table>\n",
       "</div>"
      ],
      "text/plain": [
       "                         I       Iu      Imax  Eproduct  AvgRevenueMonth  \\\n",
       "I                 1.000000  0.00000  0.776989  0.000000         0.608341   \n",
       "Iu                0.000000  1.00000  0.000000  0.677770         0.000000   \n",
       "Imax              0.776989  0.00000  1.000000  0.000000         0.653974   \n",
       "Eproduct          0.000000  0.67777  0.000000  1.000000         0.000000   \n",
       "AvgRevenueMonth   0.608341  0.00000  0.653974  0.000000         1.000000   \n",
       "AvgCostsMonth     0.000000  0.00000  0.000000  0.000000         0.000000   \n",
       "AvgSessionsMonth  0.000000  0.00000  0.000000  0.000000         0.000000   \n",
       "Eweekday          0.000000  0.00000  0.000000  0.526652         0.000000   \n",
       "\n",
       "                  AvgCostsMonth  AvgSessionsMonth  Eweekday  \n",
       "I                           0.0               0.0  0.000000  \n",
       "Iu                          0.0               0.0  0.000000  \n",
       "Imax                        0.0               0.0  0.000000  \n",
       "Eproduct                    0.0               0.0  0.526652  \n",
       "AvgRevenueMonth             0.0               0.0  0.000000  \n",
       "AvgCostsMonth               1.0               0.0  0.000000  \n",
       "AvgSessionsMonth            0.0               1.0  0.000000  \n",
       "Eweekday                    0.0               0.0  1.000000  "
      ]
     },
     "execution_count": 98,
     "metadata": {},
     "output_type": "execute_result"
    }
   ],
   "source": [
    "#Display correlations that have an absolute value greater than threshold\n",
    "corr_wo_out = cust_df_wo_out.corr()\n",
    "\n",
    "threshold = 0.5\n",
    "\n",
    "for col in corr_wo_out.columns:\n",
    "    corr_wo_out[col] = corr_wo_out[col].transform(lambda x: x if abs(x)>threshold else 0)\n",
    "\n",
    "corr_wo_out"
   ]
  },
  {
   "cell_type": "markdown",
   "metadata": {},
   "source": [
    "It seems that there is a significant correlation between the max number of items bought and the average expenditure per month of the customer.  \n",
    "This could suggest to us that the customers with the biggest expenditures tend to buy more items per session (further analysis required). (TODO)  \n",
    "The other significant correlations don't seem particularly interesting."
   ]
  },
  {
   "cell_type": "code",
   "execution_count": 99,
   "metadata": {},
   "outputs": [
    {
     "name": "stdout",
     "output_type": "stream",
     "text": [
      "Difference between the correlation matrices (with and without outliers)\n"
     ]
    },
    {
     "data": {
      "text/html": [
       "<div>\n",
       "<style scoped>\n",
       "    .dataframe tbody tr th:only-of-type {\n",
       "        vertical-align: middle;\n",
       "    }\n",
       "\n",
       "    .dataframe tbody tr th {\n",
       "        vertical-align: top;\n",
       "    }\n",
       "\n",
       "    .dataframe thead th {\n",
       "        text-align: right;\n",
       "    }\n",
       "</style>\n",
       "<table border=\"1\" class=\"dataframe\">\n",
       "  <thead>\n",
       "    <tr style=\"text-align: right;\">\n",
       "      <th></th>\n",
       "      <th>I</th>\n",
       "      <th>Iu</th>\n",
       "      <th>Imax</th>\n",
       "      <th>Eproduct</th>\n",
       "      <th>AvgRevenueMonth</th>\n",
       "      <th>AvgCostsMonth</th>\n",
       "      <th>AvgSessionsMonth</th>\n",
       "      <th>Eweekday</th>\n",
       "    </tr>\n",
       "  </thead>\n",
       "  <tbody>\n",
       "    <tr>\n",
       "      <th>I</th>\n",
       "      <td>0</td>\n",
       "      <td>0.000000</td>\n",
       "      <td>0.000000</td>\n",
       "      <td>0</td>\n",
       "      <td>0.000000</td>\n",
       "      <td>0.000000</td>\n",
       "      <td>0.00000</td>\n",
       "      <td>0</td>\n",
       "    </tr>\n",
       "    <tr>\n",
       "      <th>Iu</th>\n",
       "      <td>0</td>\n",
       "      <td>0.000000</td>\n",
       "      <td>0.217299</td>\n",
       "      <td>0</td>\n",
       "      <td>0.000000</td>\n",
       "      <td>0.000000</td>\n",
       "      <td>0.00000</td>\n",
       "      <td>0</td>\n",
       "    </tr>\n",
       "    <tr>\n",
       "      <th>Imax</th>\n",
       "      <td>0</td>\n",
       "      <td>0.217299</td>\n",
       "      <td>0.000000</td>\n",
       "      <td>0</td>\n",
       "      <td>0.262170</td>\n",
       "      <td>0.551901</td>\n",
       "      <td>0.20484</td>\n",
       "      <td>0</td>\n",
       "    </tr>\n",
       "    <tr>\n",
       "      <th>Eproduct</th>\n",
       "      <td>0</td>\n",
       "      <td>0.000000</td>\n",
       "      <td>0.000000</td>\n",
       "      <td>0</td>\n",
       "      <td>0.000000</td>\n",
       "      <td>0.000000</td>\n",
       "      <td>0.00000</td>\n",
       "      <td>0</td>\n",
       "    </tr>\n",
       "    <tr>\n",
       "      <th>AvgRevenueMonth</th>\n",
       "      <td>0</td>\n",
       "      <td>0.000000</td>\n",
       "      <td>0.262170</td>\n",
       "      <td>0</td>\n",
       "      <td>0.000000</td>\n",
       "      <td>0.456697</td>\n",
       "      <td>0.00000</td>\n",
       "      <td>0</td>\n",
       "    </tr>\n",
       "    <tr>\n",
       "      <th>AvgCostsMonth</th>\n",
       "      <td>0</td>\n",
       "      <td>0.000000</td>\n",
       "      <td>0.551901</td>\n",
       "      <td>0</td>\n",
       "      <td>0.456697</td>\n",
       "      <td>0.000000</td>\n",
       "      <td>0.00000</td>\n",
       "      <td>0</td>\n",
       "    </tr>\n",
       "    <tr>\n",
       "      <th>AvgSessionsMonth</th>\n",
       "      <td>0</td>\n",
       "      <td>0.000000</td>\n",
       "      <td>0.204840</td>\n",
       "      <td>0</td>\n",
       "      <td>0.000000</td>\n",
       "      <td>0.000000</td>\n",
       "      <td>0.00000</td>\n",
       "      <td>0</td>\n",
       "    </tr>\n",
       "    <tr>\n",
       "      <th>Eweekday</th>\n",
       "      <td>0</td>\n",
       "      <td>0.000000</td>\n",
       "      <td>0.000000</td>\n",
       "      <td>0</td>\n",
       "      <td>0.000000</td>\n",
       "      <td>0.000000</td>\n",
       "      <td>0.00000</td>\n",
       "      <td>0</td>\n",
       "    </tr>\n",
       "  </tbody>\n",
       "</table>\n",
       "</div>"
      ],
      "text/plain": [
       "                  I        Iu      Imax  Eproduct  AvgRevenueMonth  \\\n",
       "I                 0  0.000000  0.000000         0         0.000000   \n",
       "Iu                0  0.000000  0.217299         0         0.000000   \n",
       "Imax              0  0.217299  0.000000         0         0.262170   \n",
       "Eproduct          0  0.000000  0.000000         0         0.000000   \n",
       "AvgRevenueMonth   0  0.000000  0.262170         0         0.000000   \n",
       "AvgCostsMonth     0  0.000000  0.551901         0         0.456697   \n",
       "AvgSessionsMonth  0  0.000000  0.204840         0         0.000000   \n",
       "Eweekday          0  0.000000  0.000000         0         0.000000   \n",
       "\n",
       "                  AvgCostsMonth  AvgSessionsMonth  Eweekday  \n",
       "I                      0.000000           0.00000         0  \n",
       "Iu                     0.000000           0.00000         0  \n",
       "Imax                   0.551901           0.20484         0  \n",
       "Eproduct               0.000000           0.00000         0  \n",
       "AvgRevenueMonth        0.456697           0.00000         0  \n",
       "AvgCostsMonth          0.000000           0.00000         0  \n",
       "AvgSessionsMonth       0.000000           0.00000         0  \n",
       "Eweekday               0.000000           0.00000         0  "
      ]
     },
     "execution_count": 99,
     "metadata": {},
     "output_type": "execute_result"
    }
   ],
   "source": [
    "threshold = 0.2\n",
    "diff_corr = (cust_df_w_out.corr() - cust_df_wo_out.corr()).abs()\n",
    "\n",
    "for col in diff_corr.columns:\n",
    "    diff_corr[col] = diff_corr[col].transform(lambda x: x if x>threshold else 0)\n",
    "\n",
    "print(\"Difference between the correlation matrices (with and without outliers)\")\n",
    "diff_corr"
   ]
  },
  {
   "cell_type": "markdown",
   "metadata": {},
   "source": [
    "As noted in the Outlier analysis section, by using the dataset without outliers we lose almost all of the information concerning entries with negative Qta.  "
   ]
  },
  {
   "cell_type": "markdown",
   "metadata": {},
   "source": [
    "### Eproduct"
   ]
  },
  {
   "cell_type": "code",
   "execution_count": 100,
   "metadata": {},
   "outputs": [
    {
     "data": {
      "image/png": "[encoded data removed]",
      "text/plain": [
       "<Figure size 432x288 with 1 Axes>"
      ]
     },
     "metadata": {
      "needs_background": "light"
     },
     "output_type": "display_data"
    }
   ],
   "source": [
    "cust_df_w_out[\"Eproduct\"].hist()\n",
    "plt.show()"
   ]
  },
  {
   "cell_type": "markdown",
   "metadata": {},
   "source": [
    "Discretize the attribute?"
   ]
  },
  {
   "cell_type": "markdown",
   "metadata": {},
   "source": [
    "## Customer-related outliers analysis"
   ]
  },
  {
   "cell_type": "code",
   "execution_count": 101,
   "metadata": {},
   "outputs": [
    {
     "data": {
      "text/plain": [
       "array([-1, -1, -1, ..., -1, -1, -1])"
      ]
     },
     "execution_count": 101,
     "metadata": {},
     "output_type": "execute_result"
    }
   ],
   "source": [
    "from sklearn.cluster import DBSCAN\n",
    "\n",
    "scaler = StandardScaler()\n",
    "scaler.fit(cust_df_w_out.values)\n",
    "X = scaler.transform(cust_df_w_out.values)\n",
    "\n",
    "DBSCAN(eps=0.1, min_samples=2, algorithm='ball_tree').fit_predict(X)"
   ]
  },
  {
   "cell_type": "code",
   "execution_count": null,
   "metadata": {},
   "outputs": [],
   "source": []
  },
  {
   "cell_type": "markdown",
   "metadata": {},
   "source": [
    "## Remove customer related outliers"
   ]
  },
  {
   "cell_type": "code",
   "execution_count": 102,
   "metadata": {},
   "outputs": [
    {
     "ename": "NameError",
     "evalue": "name 'cust_df' is not defined",
     "output_type": "error",
     "traceback": [
      "\u001b[0;31m---------------------------------------------------------------------------\u001b[0m",
      "\u001b[0;31mNameError\u001b[0m                                 Traceback (most recent call last)",
      "\u001b[0;32m<ipython-input-102-24fbc67f8190>\u001b[0m in \u001b[0;36m<module>\u001b[0;34m\u001b[0m\n\u001b[0;32m----> 1\u001b[0;31m \u001b[0mQ1\u001b[0m \u001b[0;34m=\u001b[0m \u001b[0mcust_df\u001b[0m\u001b[0;34m.\u001b[0m\u001b[0mquantile\u001b[0m\u001b[0;34m(\u001b[0m\u001b[0;36m0.25\u001b[0m\u001b[0;34m)\u001b[0m\u001b[0;34m\u001b[0m\u001b[0;34m\u001b[0m\u001b[0m\n\u001b[0m\u001b[1;32m      2\u001b[0m \u001b[0mQ3\u001b[0m \u001b[0;34m=\u001b[0m \u001b[0mcust_df\u001b[0m\u001b[0;34m.\u001b[0m\u001b[0mquantile\u001b[0m\u001b[0;34m(\u001b[0m\u001b[0;36m0.75\u001b[0m\u001b[0;34m)\u001b[0m\u001b[0;34m\u001b[0m\u001b[0;34m\u001b[0m\u001b[0m\n\u001b[1;32m      3\u001b[0m \u001b[0mIQR\u001b[0m \u001b[0;34m=\u001b[0m \u001b[0mQ3\u001b[0m \u001b[0;34m-\u001b[0m \u001b[0mQ1\u001b[0m\u001b[0;34m\u001b[0m\u001b[0;34m\u001b[0m\u001b[0m\n",
      "\u001b[0;31mNameError\u001b[0m: name 'cust_df' is not defined"
     ]
    }
   ],
   "source": [
    "Q1 = cust_df.quantile(0.25)\n",
    "Q3 = cust_df.quantile(0.75)\n",
    "IQR = Q3 - Q1"
   ]
  },
  {
   "cell_type": "code",
   "execution_count": null,
   "metadata": {
    "scrolled": true
   },
   "outputs": [],
   "source": [
    "#fig_height = cust_df.columns.size\n",
    "#fig = plt.figure(figsize=(20, 30)) \n",
    "#fig_dims = (fig_height, 2)\n",
    "#fig.subplots_adjust(hspace=0.2, wspace=0.2)\n",
    "#index = 0\n",
    "\n",
    "for feature in cust_df.columns:\n",
    "    #plt.subplot2grid(fig_dims, (index, 0))\n",
    "    #cust_df.boxplot(feature)\n",
    "\n",
    "    cust_df = cust_df.loc[(cust_df[feature] >= Q1[feature] - 1.5*IQR[feature]) & (cust_df[feature] <= Q3[feature] + 1.5*IQR[feature])]\n",
    "    \n",
    "    #plt.subplot2grid(fig_dims, (index, 1))\n",
    "    #cust_df.boxplot(feature)\n",
    "    #index = index + 1\n",
    "    \n",
    "#plt.show()"
   ]
  },
  {
   "cell_type": "markdown",
   "metadata": {},
   "source": [
    "Final result"
   ]
  },
  {
   "cell_type": "code",
   "execution_count": null,
   "metadata": {},
   "outputs": [],
   "source": [
    "pd.plotting.scatter_matrix(cust_df, figsize=(10,10))\n",
    "plt.show()"
   ]
  },
  {
   "cell_type": "code",
   "execution_count": null,
   "metadata": {},
   "outputs": [],
   "source": [
    "cust_df.corr()"
   ]
  },
  {
   "cell_type": "markdown",
   "metadata": {},
   "source": [
    "The correlation between Iu and Eweekday is even stronger after removing the outliers.  \n",
    "In order to reduce the dimensionality of the data we will drop Eweekday given the strong similarity to Iu."
   ]
  },
  {
   "cell_type": "code",
   "execution_count": null,
   "metadata": {},
   "outputs": [],
   "source": [
    "cust_df = cust_df.drop(\"Eweekday\", axis=1)"
   ]
  },
  {
   "cell_type": "markdown",
   "metadata": {},
   "source": [
    "## Task end\n",
    "Save the customer features for the next task."
   ]
  },
  {
   "cell_type": "code",
   "execution_count": null,
   "metadata": {},
   "outputs": [],
   "source": [
    "cust_df_w_out.to_csv(\"customer_features.csv\", sep='\\t', index=False)"
   ]
  }
 ],
 "metadata": {
  "kernelspec": {
   "display_name": "Python 3",
   "language": "python",
   "name": "python3"
  },
  "language_info": {
   "codemirror_mode": {
    "name": "ipython",
    "version": 3
   },
   "file_extension": ".py",
   "mimetype": "text/x-python",
   "name": "python",
   "nbconvert_exporter": "python",
   "pygments_lexer": "ipython3",
   "version": "3.9.1"
  }
 },
 "nbformat": 4,
 "nbformat_minor": 4
}
